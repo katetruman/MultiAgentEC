{
 "cells": [
  {
   "cell_type": "markdown",
   "source": "[![View in Deepnote](https://deepnote.com/static/buttons/view-in-deepnote-white.svg)](https://deepnote.com/viewer/github/katetruman/MultiAgentEC/blob/master/Visualisation/VisualisationIndividualExpectations.ipynb)",
   "metadata": {
    "tags": [],
    "cell_id": "5e80fd64-3848-4e70-bd04-06815402f3b6",
    "deepnote_cell_type": "markdown"
   }
  },
  {
   "cell_type": "markdown",
   "source": "# Individual expectations and Visualisation example",
   "metadata": {
    "tags": [],
    "is_collapsed": false,
    "cell_id": "00001-4e665ef2-7fc7-42cd-ac77-5db0e673a3f8",
    "deepnote_cell_type": "text-cell-h1"
   }
  },
  {
   "cell_type": "markdown",
   "source": "This notebook explores expectations and a visualisation example related to our organ transplant scenario. If you have not yet done so, please refer to **AgentsAndEvents.ipynb** for important events and fluents used in this scenario, and **Expectations.ipynb** for a discussion of expectations in this context. Both of these notebooks are located in the parent repository, **MultipleAgentsEC**.",
   "metadata": {
    "tags": [],
    "deepnote_app_coordinates": {
     "x": 0,
     "y": 174,
     "w": 12,
     "h": 5
    },
    "cell_id": "00002-861d60e4-bb33-4ef3-a819-c7b17c8f533b",
    "deepnote_cell_type": "markdown"
   }
  },
  {
   "cell_type": "markdown",
   "source": "### Set up",
   "metadata": {
    "tags": [],
    "is_collapsed": false,
    "deepnote_app_coordinates": {
     "x": 0,
     "y": 0,
     "w": 12,
     "h": 5
    },
    "cell_id": "00003-4aaeb5f4-09c2-4ec0-b739-31036096db62",
    "deepnote_cell_type": "text-cell-h3"
   }
  },
  {
   "cell_type": "markdown",
   "source": "We need to set up our environment by loading in our event and fluent declarations from **dec:notation.pl** and **AE.pl**. The latter contains the code from **AgentsAndEvents.ipynb** the last time that notebook was run.\n\n```diff\n- IMPORTANT NOTE: you should run AgentsAndEvents.ipynb prior to running this notebook to ensure that AE.pl contains up to date predicates! You must run the notebook, not just update and save it.\n```",
   "metadata": {
    "tags": [],
    "deepnote_app_coordinates": {
     "x": 0,
     "y": 0,
     "w": 12,
     "h": 5
    },
    "cell_id": "00004-0840edb7-bd6b-4cd3-9af8-43cc40754a55",
    "deepnote_cell_type": "markdown"
   }
  },
  {
   "cell_type": "code",
   "metadata": {
    "tags": [],
    "deepnote_app_coordinates": {
     "x": 0,
     "y": 0,
     "w": 12,
     "h": 5
    },
    "deepnote_to_be_reexecuted": false,
    "source_hash": "932f14c0",
    "execution_start": 1646015022082,
    "execution_millis": 102,
    "cell_id": "00005-bdbe057e-eebd-4ba3-a9ad-552e3c181af2",
    "deepnote_cell_type": "code"
   },
   "source": "?- cd('~/work'), ['dec:notation'].\n?- initialiseDEC.\n?- retractall(happensAtNarrative(_,_)).\n?- ['AE'].",
   "execution_count": 1,
   "outputs": [
    {
     "name": "stdout",
     "text": "true.\nfalse.\ntrue.\ntrue.",
     "output_type": "stream"
    }
   ]
  },
  {
   "cell_type": "markdown",
   "source": "**Individual hospital agents may have expectations specific to a given scenario that do not fit into one of our other expectation categories. Examples of some organ transplant specific expectations are shown below. We will then visualise our scenario using Graphviz.**",
   "metadata": {
    "tags": [],
    "cell_id": "00006-f2c62944-7543-4494-8efb-56f3e0edc646",
    "deepnote_cell_type": "markdown"
   }
  },
  {
   "cell_type": "markdown",
   "source": "Otago hospital expects that once a request to add a patient to the organ waiting list has been accepted, they will not have to wait more than 25 time periods for a transplant:",
   "metadata": {
    "tags": [],
    "cell_id": "00007-fb3c8bd2-ea9e-4657-b247-b68c7c4b0d61",
    "deepnote_cell_type": "markdown"
   }
  },
  {
   "cell_type": "code",
   "metadata": {
    "tags": [],
    "deepnote_to_be_reexecuted": false,
    "source_hash": "f8050fa5",
    "execution_start": 1646015022188,
    "execution_millis": 47,
    "cell_id": "00008-798544e5-bfce-4441-9488-108059104675",
    "deepnote_cell_type": "code"
   },
   "source": "% File: maxWaitingTime.pl\ninitially(\"Otago\":exp_rule(happ(receive(monSys, waitAccept(ID))), within(and([happ(receive(Location, transplantOutcome(MatchID, _))), \ndonorFound(MatchID, ID, _, Location, _, _)]), 25), dependent, \n\"Individual\":\"Patients will not have to wait more than 25 time periods for a transplant. ID\":ID)).",
   "execution_count": 2,
   "outputs": [
    {
     "name": "stdout",
     "text": "",
     "output_type": "stream"
    }
   ]
  },
  {
   "cell_type": "markdown",
   "source": "Wellington hospital expects that waiting list add requests will not involve more than two organs per patient:",
   "metadata": {
    "tags": [],
    "cell_id": "00009-a1c92b32-6eb1-46c0-9cbd-5d5422b99b83",
    "deepnote_cell_type": "markdown"
   }
  },
  {
   "cell_type": "code",
   "metadata": {
    "tags": [],
    "deepnote_to_be_reexecuted": false,
    "source_hash": "f4da16d9",
    "execution_start": 1646015022275,
    "execution_millis": 2,
    "cell_id": "00010-8b66e002-8625-41af-9483-7c45c246cb42",
    "deepnote_cell_type": "code"
   },
   "source": "% File: maximumOrgans.pl\ninitially(\"Wellington\":exp_rule(happ(send(monSys, waitAddReq(ID, Organs, _))), and([condition(length(Organs, Len)), condition(Len =< 2)]), dependent, \n\"Individual\":\"Patients will not be added to the waiting list for more than 2 organs at once. ID\":ID)).",
   "execution_count": 3,
   "outputs": [
    {
     "name": "stdout",
     "text": "",
     "output_type": "stream"
    }
   ]
  },
  {
   "cell_type": "markdown",
   "source": "Auckland hospital expects that donor Offers will not be made for patients with cancer:",
   "metadata": {
    "tags": [],
    "cell_id": "00011-baa84e6f-fc8c-4b39-99f9-d06f80460b87",
    "deepnote_cell_type": "markdown"
   }
  },
  {
   "cell_type": "code",
   "metadata": {
    "tags": [],
    "deepnote_to_be_reexecuted": false,
    "source_hash": "a49adc76",
    "execution_start": 1646015022323,
    "execution_millis": 1,
    "cell_id": "00012-3ff6ff74-1656-48a0-bf97-16b8464f658c",
    "deepnote_cell_type": "code"
   },
   "source": "% File: noCancerOffers.pl\ninitially(\"Auckland\":exp_rule(happ(send(monSys, donorOffer(PatID, Organs, Details))), not(and([condition(member(condition:D, Details)), \ncondition(member(\"Cancer\", D))])), dependent, \"Individual\":\"Donor offers will not be made for patients diagnosed with cancer. ID\":PatID)).",
   "execution_count": 4,
   "outputs": [
    {
     "name": "stdout",
     "text": "",
     "output_type": "stream"
    }
   ]
  },
  {
   "cell_type": "markdown",
   "source": "Our test narrative is as follows:\n- At time period 1, Otago sends a waiting list add request for patient 101 to **monSys**.\n- At time period 3, Otago sends a waiting list add request for patient  to **monSys**.\n- At time period 5, Wellington sends a waiting list add request for 2 organs for a patient to **monSys**.\n- At time period 7, Wellington sends a waiting list add request for 3 organs for a patient to **monSys**.\n- At time period 9, Auckland sends a donor offer for a patient with cancer to **monSys**.\n- At time period 11, Auckland sends a donor offer for patient 202 to **monSys**.\n- At time period 13, **monSys** matches the donor offer from patient 202 from Auckland to waiting patient 102 from Otago.",
   "metadata": {
    "tags": [],
    "cell_id": "00013-ec529296-388b-428d-a819-4c9c77519dfc",
    "deepnote_cell_type": "markdown"
   }
  },
  {
   "cell_type": "code",
   "metadata": {
    "tags": [],
    "deepnote_to_be_reexecuted": false,
    "source_hash": "ecd572f6",
    "execution_start": 1646015022364,
    "execution_millis": 286416,
    "cell_id": "00014-88dca785-be6c-40bb-bf47-1812bd368e0d",
    "deepnote_cell_type": "code"
   },
   "source": "% File: narrative.pl\nhappensAtNarrative(\"Otago\":send(monSys, waitAddReq(101, [\"kidney\", \"liver\"], [bloodType:\"O\"])),1).\nhappensAtNarrative(\"Otago\":send(monSys, waitAddReq(102, [\"kidney\", \"heart\", \"liver\"], [bloodType:\"A\"])),3).\nhappensAtNarrative(\"Wellington\":send(monSys, waitAddReq(103, [\"heart\", \"pancreas\"], [bloodType:\"B\"])),5).\nhappensAtNarrative(\"Wellington\":send(monSys, waitAddReq(104, [\"heart\", \"pancreas\", \"lungs\"], [bloodType:\"AB\"])),7).\nhappensAtNarrative(\"Auckland\":send(monSys, donorOffer(201, [\"heart\"], [bloodType:\"A\", condition:[\"HIV\", \"Cancer\"]])), 9).\nhappensAtNarrative(\"Auckland\":send(monSys, donorOffer(202, [\"kidney\", \"liver\", \"pancreas\"], [bloodType:\"O\"])),11).\nhappensAtNarrative(monSys:match(701, \"Auckland\", 202, \"Otago\", 102, \"Wellington\", [\"kidney\", \"liver\"], []),13).\nhappensAtNarrative(\"Auckland\":send(monSys, acceptMatch(701)), 15).\nhappensAtNarrative(\"Wellington\":send(monSys, acceptMatch(701)), 15).\nhappensAtNarrative(\"Otago\":send(monSys, acceptMatch(701)), 15).\nhappensAtNarrative(\"Wellington\":transplant(701, success), 20).",
   "execution_count": 5,
   "outputs": [
    {
     "name": "stdout",
     "text": "",
     "output_type": "stream"
    }
   ]
  },
  {
   "cell_type": "code",
   "metadata": {
    "tags": [],
    "deepnote_to_be_reexecuted": false,
    "source_hash": "fee40dff",
    "execution_start": 1646015022365,
    "execution_millis": 1421,
    "cell_id": "00015-619ab313-a736-45ec-9b28-1bd07f047037",
    "deepnote_cell_type": "code"
   },
   "source": "?- run(30).",
   "execution_count": 6,
   "outputs": [
    {
     "name": "stdout",
     "text": "true.",
     "output_type": "stream"
    }
   ]
  },
  {
   "cell_type": "markdown",
   "source": "At time period 4, Otago is notified that their waiting list add request for patient 101 has been accepted. This creates the expectation that a donor match will be found for patient 101 within 25 time periods. Likewise, at time period 6 Otago is notified that their add request for patient 102 has been accepted, which creates another expectation.",
   "metadata": {
    "tags": [],
    "cell_id": "00016-e77e59a4-7eb1-4b09-a175-e1dc09b9739f",
    "deepnote_cell_type": "markdown"
   }
  },
  {
   "cell_type": "code",
   "metadata": {
    "tags": [],
    "deepnote_to_be_reexecuted": false,
    "source_hash": "98d08757",
    "execution_start": 1646015023792,
    "execution_millis": 30,
    "cell_id": "00017-c402df66-766f-4d29-9e13-c0fe2c1189a0",
    "deepnote_cell_type": "code"
   },
   "source": "?- T = 4, happensAt(\"Otago\", Event, T).\n?- T = 4, holdsAt(\"Otago\", exp(_,_,_,Condition,_,Message), T).\n?- T = 6, happensAt(\"Otago\", Event, T).\n?- T = 6, holdsAt(\"Otago\", exp(_,_,_,Condition,_,Message), T).",
   "execution_count": 7,
   "outputs": [
    {
     "name": "stdout",
     "text": "T = 4, Event = receive(monSys, waitAccept(101)) .\nT = 4, Condition = within(and([Functor(14504077,1,receive(_1758, transplantOutcome(_1764, _1766))), Functor(14639885,6,_1764,101,_1780,_1758,_1784,_1786)]), 25), Message = :(b'Individual', :(b'Patients will not have to wait more than 25 time periods for a transplant. ID', 101)) .\nT = 6, Event = receive(monSys, waitAccept(102)) .\nT = 6, Condition = within(and([Functor(14504077,1,receive(_1758, transplantOutcome(_1764, _1766))), Functor(14639885,6,_1764,101,_1780,_1758,_1784,_1786)]), 23), Message = :(b'Individual', :(b'Patients will not have to wait more than 25 time periods for a transplant. ID', 101)) ;\nT = 6, Condition = within(and([Functor(14504077,1,receive(_1758, transplantOutcome(_1764, _1766))), Functor(14639885,6,_1764,102,_1780,_1758,_1784,_1786)]), 25), Message = :(b'Individual', :(b'Patients will not have to wait more than 25 time periods for a transplant. ID', 102)) .",
     "output_type": "stream"
    }
   ]
  },
  {
   "cell_type": "markdown",
   "source": "At time period 5, Wellington sends a waiting list add request for a patient needing two organs. This fulfils the expectation that a waiting list add request will not be for more than 2 organs. At time period 7, Wellington sends a waiting list add request for a patient needing three organs, which violates the expectation.",
   "metadata": {
    "tags": [],
    "cell_id": "00018-6ff648f0-d46f-4be3-83d7-86d745c6a629",
    "deepnote_cell_type": "markdown"
   }
  },
  {
   "cell_type": "code",
   "metadata": {
    "tags": [],
    "deepnote_to_be_reexecuted": false,
    "source_hash": "ddf1b2a2",
    "execution_start": 1646015023883,
    "execution_millis": 287019,
    "cell_id": "00019-0e1f9311-2a7b-4c0b-aa63-5c5bb92635e3",
    "deepnote_cell_type": "code"
   },
   "source": "?- T = 5, happensAt(\"Wellington\", Event, T), Event = send(_, _).\n?- T = 5, happensAt(\"Wellington\", fulf(_ ,_, _, FulfCondition, _, Message), T).\n?- T = 7, happensAt(\"Wellington\", Event, T), Event = send(_,_).\n?- T = 7, happensAt(\"Wellington\", viol(_, _, _, ViolCondition, _, Message), T).",
   "execution_count": 8,
   "outputs": [
    {
     "name": "stdout",
     "text": "T = 5, Event = send(monSys, waitAddReq(103, [b'heart', b'pancreas'], [Functor(188685,2,bloodType,b'B')])) .\nT = 5, FulfCondition = and([Functor(14479501,1,length([b'heart', b'pancreas'], 2)), Functor(14479501,1,=<(2, 2))]), Message = :(b'Individual', :(b'Patients will not be added to the waiting list for more than 2 organs at once. ID', 103)) .\nT = 7, Event = send(monSys, waitAddReq(104, [b'heart', b'pancreas', b'lungs'], [Functor(188685,2,bloodType,b'AB')])) .\nT = 7, ViolCondition = and([Functor(14479501,1,length([b'heart', b'pancreas', b'lungs'], 3)), Functor(14479501,1,=<(3, 2))]), Message = :(b'Individual', :(b'Patients will not be added to the waiting list for more than 2 organs at once. ID', 104)) .",
     "output_type": "stream"
    }
   ]
  },
  {
   "cell_type": "markdown",
   "source": "When Auckland sends a donor offer for a patient with cancer at time period 9, it violates the relevant expectation. When Auckland sends a donor offer for a different patient who is not noted to have cancer at time period 11, the relevant expectation is fulfilled.",
   "metadata": {
    "tags": [],
    "cell_id": "00020-f378cea7-312c-4fc7-ad92-71a851d159a2",
    "deepnote_cell_type": "markdown"
   }
  },
  {
   "cell_type": "code",
   "metadata": {
    "tags": [],
    "deepnote_to_be_reexecuted": false,
    "source_hash": "bc8cf85a",
    "execution_start": 1646015023884,
    "execution_millis": 3,
    "cell_id": "00021-b6bf921f-2453-48ba-bdb5-25c452131d74",
    "deepnote_cell_type": "code"
   },
   "source": "?- T = 9, happensAt(\"Auckland\", Event, T), Event = send(_, _).\n?- T = 9, happensAt(\"Auckland\", viol(_, _, _, ViolCondition, _, Message), T).\n?- T = 11, happensAt(\"Auckland\", Event, T), Event = send(_, _).\n?- T = 11, happensAt(\"Auckland\", fulf(_, _, _, FulfCondition, _, Message), T).",
   "execution_count": 9,
   "outputs": [
    {
     "name": "stdout",
     "text": "T = 9, Event = send(monSys, donorOffer(201, [b'heart'], [Functor(188685,2,bloodType,b'A'), Functor(188685,2,condition,[b'HIV', b'Cancer'])])) .\nT = 9, ViolCondition = not(and([Functor(14479501,1,member(:(condition, [b'HIV', b'Cancer']), [Functor(188685,2,bloodType,b'A'), Functor(188685,2,condition,[b'HIV', b'Cancer'])])), Functor(14479501,1,member(b'Cancer', [b'HIV', b'Cancer']))])), Message = :(b'Individual', :(b'Donor offers will not be made for patients diagnosed with cancer. ID', 201)) .\nT = 11, Event = send(monSys, donorOffer(202, [b'kidney', b'liver', b'pancreas'], [Functor(188685,2,bloodType,b'O')])) .\nT = 11, FulfCondition = not(and([Functor(14479501,1,member(:(condition, [b'Cancer']), [Functor(188685,2,bloodType,b'O')])), Functor(14479501,1,member(b'Cancer', [b'Cancer']))])), Message = :(b'Individual', :(b'Donor offers will not be made for patients diagnosed with cancer. ID', 202)) .",
     "output_type": "stream"
    }
   ]
  },
  {
   "cell_type": "markdown",
   "source": "At time period 13, **monSys** matches the donor offer for patient 202 from Auckland to the waiting patient 102 from Otago, and specifies the transplant location as Wellington. This causes messages about the match to be sent to each of the three hospitals, which all send acceptance messages at time period 15. The transplant successfully takes place at time period 20, and at time period 21 Wellington sends a message to **monSys** and Otago and Auckland hospitals, notifying them of the transplant.",
   "metadata": {
    "tags": [],
    "cell_id": "00022-0b2f8645-db37-46df-aeed-590adccc2a40",
    "deepnote_cell_type": "markdown"
   }
  },
  {
   "cell_type": "code",
   "metadata": {
    "tags": [],
    "deepnote_to_be_reexecuted": false,
    "source_hash": "907411f3",
    "execution_start": 1646015023928,
    "execution_millis": 287042,
    "cell_id": "00023-cde1459c-932f-4dfb-a203-d966f92de45b",
    "deepnote_cell_type": "code"
   },
   "source": "?- T = 20, happensAt(\"Wellington\", Event, T).\n?- T = 21, happensAt(\"Wellington\", Event, T).",
   "execution_count": 10,
   "outputs": [
    {
     "name": "stdout",
     "text": "T = 20, Event = transplant(701, success) .\nT = 21, Event = send(b'Auckland', transplantOutcome(701, success)) ;\nT = 21, Event = send(b'Otago', transplantOutcome(701, success)) ;\nT = 21, Event = send(monSys, transplantOutcome(701, success)) .",
     "output_type": "stream"
    }
   ]
  },
  {
   "cell_type": "markdown",
   "source": "At time period 22, Otago receives the `transplantOutcome` notification, which fulfils its expectation that patient 102 will not have to wait more than 25 periods for an organ donation.",
   "metadata": {
    "tags": [],
    "cell_id": "00024-94188629-ecef-423f-a77d-bff35570bcdd",
    "deepnote_cell_type": "markdown"
   }
  },
  {
   "cell_type": "code",
   "metadata": {
    "tags": [],
    "deepnote_to_be_reexecuted": false,
    "source_hash": "40102908",
    "execution_start": 1646015023929,
    "execution_millis": 287010,
    "cell_id": "00025-b7444e30-7295-4398-9ce8-db5de03cd147",
    "deepnote_cell_type": "code"
   },
   "source": "?- T = 22, happensAt(\"Otago\", Event, T).",
   "execution_count": 11,
   "outputs": [
    {
     "name": "stdout",
     "text": "T = 22, Event = fulf(happ(receive(monSys, waitAccept(102))), within(and([Functor(14504077,1,receive(b'Wellington', transplantOutcome(701, success))), Functor(14639885,6,701,102,b'Auckland',b'Wellington',[b'kidney', b'liver'],[])]), 25), 6, within(and([Functor(14504077,1,receive(b'Wellington', transplantOutcome(701, success))), Functor(14639885,6,701,102,b'Auckland',b'Wellington',[b'kidney', b'liver'],[])]), 9), dependent, :(b'Individual', :(b'Patients will not have to wait more than 25 time periods for a transplant. ID', 102))) ;\nT = 22, Event = receive(b'Wellington', transplantOutcome(701, success)) .",
     "output_type": "stream"
    }
   ]
  },
  {
   "cell_type": "markdown",
   "source": "At time period 29, Otago's expectation that patient 101 will not have to wait more than 25 time periods from the wait list acceptance message for an organ donation is violated.",
   "metadata": {
    "tags": [],
    "cell_id": "00026-c0cf3a82-4940-4250-afa6-4d629e34cced",
    "deepnote_cell_type": "markdown"
   }
  },
  {
   "cell_type": "code",
   "metadata": {
    "tags": [],
    "deepnote_to_be_reexecuted": false,
    "source_hash": "c41c9525",
    "execution_start": 1646015023968,
    "execution_millis": 287011,
    "cell_id": "00027-7303ec94-0a2e-44ce-a338-4d0b222dd411",
    "deepnote_cell_type": "code"
   },
   "source": "?- happensAt(\"Otago\", viol(_, _, _, ViolCondition, _, Message), 29).",
   "execution_count": 12,
   "outputs": [
    {
     "name": "stdout",
     "text": "ViolCondition = within(and([Functor(14504077,1,receive(_1700, transplantOutcome(_1706, _1708))), Functor(14639885,6,_1706,101,_1722,_1700,_1726,_1728)]), 0), Message = :(b'Individual', :(b'Patients will not have to wait more than 25 time periods for a transplant. ID', 101)) .",
     "output_type": "stream"
    }
   ]
  },
  {
   "cell_type": "markdown",
   "source": "Note that the different agents were able to have different expectation rules which could be successfully trigger, violated or fulfilled by messages sent between the agents.",
   "metadata": {
    "tags": [],
    "cell_id": "00028-36d6dbb0-27aa-46f7-b03c-88fae47b9906",
    "deepnote_cell_type": "markdown"
   }
  },
  {
   "cell_type": "markdown",
   "source": "# Visualisation",
   "metadata": {
    "tags": [],
    "is_collapsed": false,
    "cell_id": "00029-6fd3b36f-e31a-4494-9255-65a9fbebcc17",
    "deepnote_cell_type": "text-cell-h1"
   }
  },
  {
   "cell_type": "markdown",
   "source": "We want to show that our prolog code can be used to produce visualisations. Note that the current code to enable visualisation is much longer than will be necessary once our kernel can be used to write output, rather than having to save query output.",
   "metadata": {
    "cell_id": "57c6f270-1d57-4f49-8699-d12a2d2ab0f1",
    "tags": [],
    "deepnote_cell_type": "markdown"
   }
  },
  {
   "cell_type": "markdown",
   "source": "Firstly, we declare some helper predicates. \n\n`allAgents/1` gives us all agents which have been declared at time zero, as well as **monSys**.\n`maxTime/1` tells us which time period is the last one for which we have fluents holding or events occurring.\n`visualisationLabel/3` contains reader friendly text strings describing different events / fluent and their arguments. The first argument is the event / fluent type, the second is a description of it, and the third argument is a list containing reader friendly names for each argument for the given event / fluent.",
   "metadata": {
    "cell_id": "3b73deef-21e8-4d35-9c52-f4eb7a0b090c",
    "tags": [],
    "deepnote_cell_type": "markdown"
   }
  },
  {
   "cell_type": "code",
   "metadata": {
    "tags": [],
    "deepnote_to_be_reexecuted": false,
    "source_hash": "1f4d2420",
    "execution_start": 1646015023969,
    "execution_millis": 10,
    "cell_id": "00030-a990cb56-4aa1-4775-9ce1-0de06afa081d",
    "deepnote_cell_type": "code"
   },
   "source": "% File: helperVisualisation.pl\ninitialAgents(AgentList):- findall(Agent, initially(monSys:agent(Agent)), AgentList).\nallAgents(AgentList):- initialAgents(InitialList), append(InitialList, [monSys], AgentList).\n\nmaxTime(Val):- findall(T, (holdsAt(_, _, T); happensAt(_,_,T)), TList), max_list(TList, Val).\n\nvisualisationLabel(waitAddReq, \"Waiting list add request\", [\"Patient ID\", \"organs\", \"details\"]).\nvisualisationLabel(waitAccept, \"waiting list acceptance\", [\"Patient ID\"]).\nvisualisationLabel(donorOffer, \"Donation offer\", [\"Patient ID\", \"organs\", \"details\"]).\nvisualisationLabel(acceptMatch, \"Match acceptance\", [\"Match ID\"]).\nvisualisationLabel(confirmedNotification, \"Match confirmation\", [\"Match ID\"]).\nvisualisationLabel(recipientFound, \"Recipient found notification\", [\"Match ID\", \"recipient ID\", \"donor hospital\", \"transplant location\", \n\"organs\", \"details\"]).\nvisualisationLabel(donorFound, \"Donor found notification\", [\"Match ID\", \"donor ID\", \"recipient hospital\", \"transplant location\", \n\"organs\", \"details\"]).\nvisualisationLabel(locationSelected, \"Transplant location selected\", [\"Match ID\", \"donor hospital\", \"recipient hospital\",\n\"organs\", \"details\"]).\nvisualisationLabel(confirmationMatch, \"Local match confirmation\", [\"Match ID\"]).\nvisualisationLabel(transplant, \"Transplant\", [\"Match ID\", \"outcome\"]).\nvisualisationLabel(transplantOutcome, \"Transplant outcome\", [\"Match ID\", \"outcome\"]).\nvisualisationLabel(match, \"Match\", [\"Match ID\", \"donor hospital\", \"donor ID\", \"recipient hospital\", \"recipient ID\", \"transplant location\", \"organs\", \"details\"]).\nvisualisationLabel(waiting, \"Waiting\", [\"Patient ID\", \"hospital\", \"organs\", \"details\", \"start time\"]).",
   "execution_count": 13,
   "outputs": [
    {
     "name": "stdout",
     "text": "",
     "output_type": "stream"
    }
   ]
  },
  {
   "cell_type": "markdown",
   "source": "We save the results from these helper predicates into the **VisualisationSupport.txt** file. ",
   "metadata": {
    "cell_id": "079d5818-f2bb-4c2c-bc8c-4355f41289a3",
    "tags": [],
    "deepnote_cell_type": "markdown"
   }
  },
  {
   "cell_type": "code",
   "metadata": {
    "tags": [],
    "deepnote_to_be_reexecuted": false,
    "source_hash": "51aa6b10",
    "execution_start": 1646015024018,
    "execution_millis": 3,
    "is_output_hidden": false,
    "cell_id": "00031-6cbb2041-cbaa-434e-b2bb-4b860ba57ef3",
    "deepnote_cell_type": "code"
   },
   "source": "% Output: VisualisationSupport.txt\n?- allAgents(Agents).\n?- maxTime(MaxTime).\n?- visualisationLabel(FluentName, FluentMessage, Arguments).",
   "execution_count": 14,
   "outputs": [
    {
     "name": "stdout",
     "text": "Agents = [ b'Otago', b'Christchurch', b'Wellington', b'Auckland', monSys ] .\nMaxTime = 30 .\nFluentName = waitAddReq, FluentMessage = b'Waiting list add request', Arguments = [ b'Patient ID', b'organs', b'details' ] ;\nFluentName = waitAccept, FluentMessage = b'waiting list acceptance', Arguments = [ b'Patient ID' ] ;\nFluentName = donorOffer, FluentMessage = b'Donation offer', Arguments = [ b'Patient ID', b'organs', b'details' ] ;\nFluentName = acceptMatch, FluentMessage = b'Match acceptance', Arguments = [ b'Match ID' ] ;\nFluentName = confirmedNotification, FluentMessage = b'Match confirmation', Arguments = [ b'Match ID' ] ;\nFluentName = recipientFound, FluentMessage = b'Recipient found notification', Arguments = [ b'Match ID', b'recipient ID', b'donor hospital', b'transplant location', b'organs', b'details' ] ;\nFluentName = donorFound, FluentMessage = b'Donor found notification', Arguments = [ b'Match ID', b'donor ID', b'recipient hospital', b'transplant location', b'organs', b'details' ] ;\nFluentName = locationSelected, FluentMessage = b'Transplant location selected', Arguments = [ b'Match ID', b'donor hospital', b'recipient hospital', b'organs', b'details' ] ;\nFluentName = confirmationMatch, FluentMessage = b'Local match confirmation', Arguments = [ b'Match ID' ] ;\nFluentName = transplant, FluentMessage = b'Transplant', Arguments = [ b'Match ID', b'outcome' ] ;\nFluentName = transplantOutcome, FluentMessage = b'Transplant outcome', Arguments = [ b'Match ID', b'outcome' ] ;\nFluentName = match, FluentMessage = b'Match', Arguments = [ b'Match ID', b'donor hospital', b'donor ID', b'recipient hospital', b'recipient ID', b'transplant location', b'organs', b'details' ] ;\nFluentName = waiting, FluentMessage = b'Waiting', Arguments = [ b'Patient ID', b'hospital', b'organs', b'details', b'start time' ] .",
     "output_type": "stream"
    }
   ]
  },
  {
   "cell_type": "markdown",
   "source": "We save the query output for events to **VisualisationEvents.txt**. Here, we use different argument names for the agents so that we can easily identify at the start of each line of output which type of event we are describing. While the output from this cell and other cells below is hidden in Deepnote for readibility, this formatting does not transfer to Github.",
   "metadata": {
    "cell_id": "3ad816a9-6c57-4cad-8f1e-c9cd82442a1b",
    "tags": [],
    "deepnote_cell_type": "markdown"
   }
  },
  {
   "cell_type": "code",
   "metadata": {
    "tags": [],
    "deepnote_to_be_reexecuted": false,
    "source_hash": "e0d4ed0c",
    "execution_start": 1646015024019,
    "execution_millis": 40,
    "is_output_hidden": true,
    "cell_id": "00032-15e77184-54ef-48f7-a8f5-afe0eb48e2b5",
    "deepnote_cell_type": "code"
   },
   "source": "% Output: VisualisationEvents.txt\n\n?- happensAt(SendAgent, Event, T), Event = send(_, _).\n?- happensAt(ReceiveAgent, Event, T), Event = receive(_, _).\n?- happensAt(ViolAgent, viol(_,_,_,_,_,Message), T).\n?- happensAt(FulfAgent, fulf(_,_,_,_,_,Message), T).\n?- happensAt(OtherAgent, Event, T), Event \\= send(_, _), Event \\= receive(_, _), Event \\= viol(_, _, _, _, _, _), Event \\= fulf(_, _, _, _, _, _).",
   "execution_count": 15,
   "outputs": [
    {
     "name": "stdout",
     "text": "SendAgent = b'Otago', Event = send(monSys, waitAddReq(101, [b'kidney', b'liver'], [Functor(188685,2,bloodType,b'O')])), T = 1 ;\nSendAgent = b'Otago', Event = send(monSys, waitAddReq(102, [b'kidney', b'heart', b'liver'], [Functor(188685,2,bloodType,b'A')])), T = 3 ;\nSendAgent = b'Wellington', Event = send(monSys, waitAddReq(103, [b'heart', b'pancreas'], [Functor(188685,2,bloodType,b'B')])), T = 5 ;\nSendAgent = b'Wellington', Event = send(monSys, waitAddReq(104, [b'heart', b'pancreas', b'lungs'], [Functor(188685,2,bloodType,b'AB')])), T = 7 ;\nSendAgent = b'Auckland', Event = send(monSys, donorOffer(201, [b'heart'], [Functor(188685,2,bloodType,b'A'), Functor(188685,2,condition,[b'HIV', b'Cancer'])])), T = 9 ;\nSendAgent = b'Auckland', Event = send(monSys, donorOffer(202, [b'kidney', b'liver', b'pancreas'], [Functor(188685,2,bloodType,b'O')])), T = 11 ;\nSendAgent = b'Auckland', Event = send(monSys, acceptMatch(701)), T = 15 ;\nSendAgent = b'Wellington', Event = send(monSys, acceptMatch(701)), T = 15 ;\nSendAgent = b'Otago', Event = send(monSys, acceptMatch(701)), T = 15 ;\nSendAgent = monSys, Event = send(b'Auckland', recipientFound(701, 202, b'Otago', b'Wellington', [b'kidney', b'liver'], [])), T = 14 ;\nSendAgent = monSys, Event = send(b'Otago', donorFound(701, 102, b'Auckland', b'Wellington', [b'kidney', b'liver'], [])), T = 14 ;\nSendAgent = monSys, Event = send(b'Wellington', locationSelected(701, b'Auckland', b'Otago', [b'kidney', b'liver'], [])), T = 14 ;\nSendAgent = monSys, Event = send(b'Auckland', confirmedNotification(701)), T = 17 ;\nSendAgent = monSys, Event = send(b'Otago', confirmedNotification(701)), T = 17 ;\nSendAgent = monSys, Event = send(b'Wellington', confirmedNotification(701)), T = 17 ;\nSendAgent = b'Wellington', Event = send(b'Auckland', transplantOutcome(701, success)), T = 21 ;\nSendAgent = b'Wellington', Event = send(b'Otago', transplantOutcome(701, success)), T = 21 ;\nSendAgent = b'Wellington', Event = send(monSys, transplantOutcome(701, success)), T = 21 ;\nSendAgent = monSys, Event = send(b'Otago', waitAccept(101)), T = 3 ;\nSendAgent = monSys, Event = send(b'Otago', waitAccept(102)), T = 5 ;\nSendAgent = monSys, Event = send(b'Wellington', waitAccept(103)), T = 7 ;\nSendAgent = monSys, Event = send(b'Wellington', waitAccept(104)), T = 9 .\nReceiveAgent = monSys, Event = receive(b'Otago', waitAddReq(101, [b'kidney', b'liver'], [Functor(188685,2,bloodType,b'O')])), T = 2 ;\nReceiveAgent = monSys, Event = receive(b'Otago', waitAddReq(102, [b'kidney', b'heart', b'liver'], [Functor(188685,2,bloodType,b'A')])), T = 4 ;\nReceiveAgent = monSys, Event = receive(b'Wellington', waitAddReq(103, [b'heart', b'pancreas'], [Functor(188685,2,bloodType,b'B')])), T = 6 ;\nReceiveAgent = monSys, Event = receive(b'Wellington', waitAddReq(104, [b'heart', b'pancreas', b'lungs'], [Functor(188685,2,bloodType,b'AB')])), T = 8 ;\nReceiveAgent = monSys, Event = receive(b'Auckland', donorOffer(201, [b'heart'], [Functor(188685,2,bloodType,b'A'), Functor(188685,2,condition,[b'HIV', b'Cancer'])])), T = 10 ;\nReceiveAgent = monSys, Event = receive(b'Auckland', donorOffer(202, [b'kidney', b'liver', b'pancreas'], [Functor(188685,2,bloodType,b'O')])), T = 12 ;\nReceiveAgent = monSys, Event = receive(b'Auckland', acceptMatch(701)), T = 16 ;\nReceiveAgent = monSys, Event = receive(b'Wellington', acceptMatch(701)), T = 16 ;\nReceiveAgent = monSys, Event = receive(b'Otago', acceptMatch(701)), T = 16 ;\nReceiveAgent = b'Auckland', Event = receive(monSys, recipientFound(701, 202, b'Otago', b'Wellington', [b'kidney', b'liver'], [])), T = 15 ;\nReceiveAgent = b'Otago', Event = receive(monSys, donorFound(701, 102, b'Auckland', b'Wellington', [b'kidney', b'liver'], [])), T = 15 ;\nReceiveAgent = b'Wellington', Event = receive(monSys, locationSelected(701, b'Auckland', b'Otago', [b'kidney', b'liver'], [])), T = 15 ;\nReceiveAgent = b'Auckland', Event = receive(monSys, confirmedNotification(701)), T = 18 ;\nReceiveAgent = b'Otago', Event = receive(monSys, confirmedNotification(701)), T = 18 ;\nReceiveAgent = b'Wellington', Event = receive(monSys, confirmedNotification(701)), T = 18 ;\nReceiveAgent = b'Auckland', Event = receive(b'Wellington', transplantOutcome(701, success)), T = 22 ;\nReceiveAgent = b'Otago', Event = receive(b'Wellington', transplantOutcome(701, success)), T = 22 ;\nReceiveAgent = monSys, Event = receive(b'Wellington', transplantOutcome(701, success)), T = 22 ;\nReceiveAgent = b'Otago', Event = receive(monSys, waitAccept(101)), T = 4 ;\nReceiveAgent = b'Otago', Event = receive(monSys, waitAccept(102)), T = 6 ;\nReceiveAgent = b'Wellington', Event = receive(monSys, waitAccept(103)), T = 8 ;\nReceiveAgent = b'Wellington', Event = receive(monSys, waitAccept(104)), T = 10 .\nViolAgent = b'Wellington', Message = :(b'Individual', :(b'Patients will not be added to the waiting list for more than 2 organs at once. ID', 104)), T = 7 ;\nViolAgent = b'Auckland', Message = :(b'Individual', :(b'Donor offers will not be made for patients diagnosed with cancer. ID', 201)), T = 9 ;\nViolAgent = b'Otago', Message = :(b'Individual', :(b'Patients will not have to wait more than 25 time periods for a transplant. ID', 101)), T = 29 .\nFulfAgent = b'Wellington', Message = :(b'Individual', :(b'Patients will not be added to the waiting list for more than 2 organs at once. ID', 103)), T = 5 ;\nFulfAgent = b'Auckland', Message = :(b'Individual', :(b'Donor offers will not be made for patients diagnosed with cancer. ID', 202)), T = 11 ;\nFulfAgent = b'Otago', Message = :(b'Individual', :(b'Patients will not have to wait more than 25 time periods for a transplant. ID', 102)), T = 22 .\nOtherAgent = monSys, Event = match(701, b'Auckland', 202, b'Otago', 102, b'Wellington', [b'kidney', b'liver'], []), T = 13 ;\nOtherAgent = b'Wellington', Event = transplant(701, success), T = 20 ;\nOtherAgent = monSys, Event = confirmationMatch(701), T = 16 .",
     "output_type": "stream"
    }
   ]
  },
  {
   "cell_type": "markdown",
   "source": "We also save the expectation rules that hold for our different agents. I have split the query into multiple time ranges to get around the current query length limit in the kernel. We would want to add the functionality to remove the query limit for certain cells so that it is guaranteed that all results are returned by a given query.",
   "metadata": {
    "cell_id": "54ac661d-3030-4f62-93ce-48a822fdd073",
    "tags": [],
    "deepnote_cell_type": "markdown"
   }
  },
  {
   "cell_type": "code",
   "metadata": {
    "tags": [],
    "deepnote_to_be_reexecuted": false,
    "source_hash": "e4b97510",
    "execution_start": 1646015024071,
    "execution_millis": 49,
    "cell_id": "00034-8987b934-97ae-456f-a749-770734e9e9cd",
    "is_output_hidden": true,
    "deepnote_cell_type": "code"
   },
   "source": "% Output: VisualisationRules.txt\n?- holdsAt(ExpRuleAgent, exp_rule(_, _, _, Message), T), 0 =< T, T =< 9.\n?- holdsAt(ExpRuleAgent, exp_rule(_, _, _, Message), T), 10 =< T, T =< 19.\n?- holdsAt(ExpRuleAgent, exp_rule(_, _, _, Message), T), 20 =< T, T =< 29.",
   "execution_count": 16,
   "outputs": [
    {
     "name": "stdout",
     "text": "ExpRuleAgent = b'Otago', Message = :(b'Individual', :(b'Patients will not have to wait more than 25 time periods for a transplant. ID', _1740)), T = 0 ;\nExpRuleAgent = b'Wellington', Message = :(b'Individual', :(b'Patients will not be added to the waiting list for more than 2 organs at once. ID', _1742)), T = 0 ;\nExpRuleAgent = b'Auckland', Message = :(b'Individual', :(b'Donor offers will not be made for patients diagnosed with cancer. ID', _1742)), T = 0 ;\nExpRuleAgent = b'Otago', Message = :(b'Individual', :(b'Patients will not have to wait more than 25 time periods for a transplant. ID', _1740)), T = 1 ;\nExpRuleAgent = b'Wellington', Message = :(b'Individual', :(b'Patients will not be added to the waiting list for more than 2 organs at once. ID', _1742)), T = 1 ;\nExpRuleAgent = b'Auckland', Message = :(b'Individual', :(b'Donor offers will not be made for patients diagnosed with cancer. ID', _1742)), T = 1 ;\nExpRuleAgent = b'Otago', Message = :(b'Individual', :(b'Patients will not have to wait more than 25 time periods for a transplant. ID', _1740)), T = 2 ;\nExpRuleAgent = b'Wellington', Message = :(b'Individual', :(b'Patients will not be added to the waiting list for more than 2 organs at once. ID', _1742)), T = 2 ;\nExpRuleAgent = b'Auckland', Message = :(b'Individual', :(b'Donor offers will not be made for patients diagnosed with cancer. ID', _1742)), T = 2 ;\nExpRuleAgent = b'Otago', Message = :(b'Individual', :(b'Patients will not have to wait more than 25 time periods for a transplant. ID', _1740)), T = 3 ;\nExpRuleAgent = b'Wellington', Message = :(b'Individual', :(b'Patients will not be added to the waiting list for more than 2 organs at once. ID', _1742)), T = 3 ;\nExpRuleAgent = b'Auckland', Message = :(b'Individual', :(b'Donor offers will not be made for patients diagnosed with cancer. ID', _1742)), T = 3 ;\nExpRuleAgent = b'Otago', Message = :(b'Individual', :(b'Patients will not have to wait more than 25 time periods for a transplant. ID', _1740)), T = 4 ;\nExpRuleAgent = b'Wellington', Message = :(b'Individual', :(b'Patients will not be added to the waiting list for more than 2 organs at once. ID', _1742)), T = 4 ;\nExpRuleAgent = b'Auckland', Message = :(b'Individual', :(b'Donor offers will not be made for patients diagnosed with cancer. ID', _1742)), T = 4 ;\nExpRuleAgent = b'Otago', Message = :(b'Individual', :(b'Patients will not have to wait more than 25 time periods for a transplant. ID', _1740)), T = 5 ;\nExpRuleAgent = b'Wellington', Message = :(b'Individual', :(b'Patients will not be added to the waiting list for more than 2 organs at once. ID', _1742)), T = 5 ;\nExpRuleAgent = b'Auckland', Message = :(b'Individual', :(b'Donor offers will not be made for patients diagnosed with cancer. ID', _1742)), T = 5 ;\nExpRuleAgent = b'Otago', Message = :(b'Individual', :(b'Patients will not have to wait more than 25 time periods for a transplant. ID', _1740)), T = 6 ;\nExpRuleAgent = b'Wellington', Message = :(b'Individual', :(b'Patients will not be added to the waiting list for more than 2 organs at once. ID', _1742)), T = 6 ;\nExpRuleAgent = b'Auckland', Message = :(b'Individual', :(b'Donor offers will not be made for patients diagnosed with cancer. ID', _1742)), T = 6 ;\nExpRuleAgent = b'Otago', Message = :(b'Individual', :(b'Patients will not have to wait more than 25 time periods for a transplant. ID', _1740)), T = 7 ;\nExpRuleAgent = b'Wellington', Message = :(b'Individual', :(b'Patients will not be added to the waiting list for more than 2 organs at once. ID', _1742)), T = 7 ;\nExpRuleAgent = b'Auckland', Message = :(b'Individual', :(b'Donor offers will not be made for patients diagnosed with cancer. ID', _1742)), T = 7 ;\nExpRuleAgent = b'Otago', Message = :(b'Individual', :(b'Patients will not have to wait more than 25 time periods for a transplant. ID', _1740)), T = 8 ;\nExpRuleAgent = b'Wellington', Message = :(b'Individual', :(b'Patients will not be added to the waiting list for more than 2 organs at once. ID', _1742)), T = 8 ;\nExpRuleAgent = b'Auckland', Message = :(b'Individual', :(b'Donor offers will not be made for patients diagnosed with cancer. ID', _1742)), T = 8 ;\nExpRuleAgent = b'Otago', Message = :(b'Individual', :(b'Patients will not have to wait more than 25 time periods for a transplant. ID', _1740)), T = 9 ;\nExpRuleAgent = b'Wellington', Message = :(b'Individual', :(b'Patients will not be added to the waiting list for more than 2 organs at once. ID', _1742)), T = 9 ;\nExpRuleAgent = b'Auckland', Message = :(b'Individual', :(b'Donor offers will not be made for patients diagnosed with cancer. ID', _1742)), T = 9 .\nExpRuleAgent = b'Otago', Message = :(b'Individual', :(b'Patients will not have to wait more than 25 time periods for a transplant. ID', _1742)), T = 10 ;\nExpRuleAgent = b'Wellington', Message = :(b'Individual', :(b'Patients will not be added to the waiting list for more than 2 organs at once. ID', _1744)), T = 10 ;\nExpRuleAgent = b'Auckland', Message = :(b'Individual', :(b'Donor offers will not be made for patients diagnosed with cancer. ID', _1744)), T = 10 ;\nExpRuleAgent = b'Otago', Message = :(b'Individual', :(b'Patients will not have to wait more than 25 time periods for a transplant. ID', _1742)), T = 11 ;\nExpRuleAgent = b'Wellington', Message = :(b'Individual', :(b'Patients will not be added to the waiting list for more than 2 organs at once. ID', _1744)), T = 11 ;\nExpRuleAgent = b'Auckland', Message = :(b'Individual', :(b'Donor offers will not be made for patients diagnosed with cancer. ID', _1744)), T = 11 ;\nExpRuleAgent = b'Otago', Message = :(b'Individual', :(b'Patients will not have to wait more than 25 time periods for a transplant. ID', _1742)), T = 12 ;\nExpRuleAgent = b'Wellington', Message = :(b'Individual', :(b'Patients will not be added to the waiting list for more than 2 organs at once. ID', _1744)), T = 12 ;\nExpRuleAgent = b'Auckland', Message = :(b'Individual', :(b'Donor offers will not be made for patients diagnosed with cancer. ID', _1744)), T = 12 ;\nExpRuleAgent = b'Otago', Message = :(b'Individual', :(b'Patients will not have to wait more than 25 time periods for a transplant. ID', _1742)), T = 13 ;\nExpRuleAgent = b'Wellington', Message = :(b'Individual', :(b'Patients will not be added to the waiting list for more than 2 organs at once. ID', _1744)), T = 13 ;\nExpRuleAgent = b'Auckland', Message = :(b'Individual', :(b'Donor offers will not be made for patients diagnosed with cancer. ID', _1744)), T = 13 ;\nExpRuleAgent = b'Otago', Message = :(b'Individual', :(b'Patients will not have to wait more than 25 time periods for a transplant. ID', _1742)), T = 14 ;\nExpRuleAgent = b'Wellington', Message = :(b'Individual', :(b'Patients will not be added to the waiting list for more than 2 organs at once. ID', _1744)), T = 14 ;\nExpRuleAgent = b'Auckland', Message = :(b'Individual', :(b'Donor offers will not be made for patients diagnosed with cancer. ID', _1744)), T = 14 ;\nExpRuleAgent = b'Otago', Message = :(b'Individual', :(b'Patients will not have to wait more than 25 time periods for a transplant. ID', _1742)), T = 15 ;\nExpRuleAgent = b'Wellington', Message = :(b'Individual', :(b'Patients will not be added to the waiting list for more than 2 organs at once. ID', _1744)), T = 15 ;\nExpRuleAgent = b'Auckland', Message = :(b'Individual', :(b'Donor offers will not be made for patients diagnosed with cancer. ID', _1744)), T = 15 ;\nExpRuleAgent = b'Otago', Message = :(b'Individual', :(b'Patients will not have to wait more than 25 time periods for a transplant. ID', _1742)), T = 16 ;\nExpRuleAgent = b'Wellington', Message = :(b'Individual', :(b'Patients will not be added to the waiting list for more than 2 organs at once. ID', _1744)), T = 16 ;\nExpRuleAgent = b'Auckland', Message = :(b'Individual', :(b'Donor offers will not be made for patients diagnosed with cancer. ID', _1744)), T = 16 ;\nExpRuleAgent = b'Otago', Message = :(b'Individual', :(b'Patients will not have to wait more than 25 time periods for a transplant. ID', _1742)), T = 17 ;\nExpRuleAgent = b'Wellington', Message = :(b'Individual', :(b'Patients will not be added to the waiting list for more than 2 organs at once. ID', _1744)), T = 17 ;\nExpRuleAgent = b'Auckland', Message = :(b'Individual', :(b'Donor offers will not be made for patients diagnosed with cancer. ID', _1744)), T = 17 ;\nExpRuleAgent = b'Otago', Message = :(b'Individual', :(b'Patients will not have to wait more than 25 time periods for a transplant. ID', _1742)), T = 18 ;\nExpRuleAgent = b'Wellington', Message = :(b'Individual', :(b'Patients will not be added to the waiting list for more than 2 organs at once. ID', _1744)), T = 18 ;\nExpRuleAgent = b'Auckland', Message = :(b'Individual', :(b'Donor offers will not be made for patients diagnosed with cancer. ID', _1744)), T = 18 ;\nExpRuleAgent = b'Otago', Message = :(b'Individual', :(b'Patients will not have to wait more than 25 time periods for a transplant. ID', _1742)), T = 19 ;\nExpRuleAgent = b'Wellington', Message = :(b'Individual', :(b'Patients will not be added to the waiting list for more than 2 organs at once. ID', _1744)), T = 19 ;\nExpRuleAgent = b'Auckland', Message = :(b'Individual', :(b'Donor offers will not be made for patients diagnosed with cancer. ID', _1744)), T = 19 .\nExpRuleAgent = b'Otago', Message = :(b'Individual', :(b'Patients will not have to wait more than 25 time periods for a transplant. ID', _1742)), T = 20 ;\nExpRuleAgent = b'Wellington', Message = :(b'Individual', :(b'Patients will not be added to the waiting list for more than 2 organs at once. ID', _1744)), T = 20 ;\nExpRuleAgent = b'Auckland', Message = :(b'Individual', :(b'Donor offers will not be made for patients diagnosed with cancer. ID', _1744)), T = 20 ;\nExpRuleAgent = b'Otago', Message = :(b'Individual', :(b'Patients will not have to wait more than 25 time periods for a transplant. ID', _1742)), T = 21 ;\nExpRuleAgent = b'Wellington', Message = :(b'Individual', :(b'Patients will not be added to the waiting list for more than 2 organs at once. ID', _1744)), T = 21 ;\nExpRuleAgent = b'Auckland', Message = :(b'Individual', :(b'Donor offers will not be made for patients diagnosed with cancer. ID', _1744)), T = 21 ;\nExpRuleAgent = b'Otago', Message = :(b'Individual', :(b'Patients will not have to wait more than 25 time periods for a transplant. ID', _1742)), T = 22 ;\nExpRuleAgent = b'Wellington', Message = :(b'Individual', :(b'Patients will not be added to the waiting list for more than 2 organs at once. ID', _1744)), T = 22 ;\nExpRuleAgent = b'Auckland', Message = :(b'Individual', :(b'Donor offers will not be made for patients diagnosed with cancer. ID', _1744)), T = 22 ;\nExpRuleAgent = b'Otago', Message = :(b'Individual', :(b'Patients will not have to wait more than 25 time periods for a transplant. ID', _1742)), T = 23 ;\nExpRuleAgent = b'Wellington', Message = :(b'Individual', :(b'Patients will not be added to the waiting list for more than 2 organs at once. ID', _1744)), T = 23 ;\nExpRuleAgent = b'Auckland', Message = :(b'Individual', :(b'Donor offers will not be made for patients diagnosed with cancer. ID', _1744)), T = 23 ;\nExpRuleAgent = b'Otago', Message = :(b'Individual', :(b'Patients will not have to wait more than 25 time periods for a transplant. ID', _1742)), T = 24 ;\nExpRuleAgent = b'Wellington', Message = :(b'Individual', :(b'Patients will not be added to the waiting list for more than 2 organs at once. ID', _1744)), T = 24 ;\nExpRuleAgent = b'Auckland', Message = :(b'Individual', :(b'Donor offers will not be made for patients diagnosed with cancer. ID', _1744)), T = 24 ;\nExpRuleAgent = b'Otago', Message = :(b'Individual', :(b'Patients will not have to wait more than 25 time periods for a transplant. ID', _1742)), T = 25 ;\nExpRuleAgent = b'Wellington', Message = :(b'Individual', :(b'Patients will not be added to the waiting list for more than 2 organs at once. ID', _1744)), T = 25 ;\nExpRuleAgent = b'Auckland', Message = :(b'Individual', :(b'Donor offers will not be made for patients diagnosed with cancer. ID', _1744)), T = 25 ;\nExpRuleAgent = b'Otago', Message = :(b'Individual', :(b'Patients will not have to wait more than 25 time periods for a transplant. ID', _1742)), T = 26 ;\nExpRuleAgent = b'Wellington', Message = :(b'Individual', :(b'Patients will not be added to the waiting list for more than 2 organs at once. ID', _1744)), T = 26 ;\nExpRuleAgent = b'Auckland', Message = :(b'Individual', :(b'Donor offers will not be made for patients diagnosed with cancer. ID', _1744)), T = 26 ;\nExpRuleAgent = b'Otago', Message = :(b'Individual', :(b'Patients will not have to wait more than 25 time periods for a transplant. ID', _1742)), T = 27 ;\nExpRuleAgent = b'Wellington', Message = :(b'Individual', :(b'Patients will not be added to the waiting list for more than 2 organs at once. ID', _1744)), T = 27 ;\nExpRuleAgent = b'Auckland', Message = :(b'Individual', :(b'Donor offers will not be made for patients diagnosed with cancer. ID', _1744)), T = 27 ;\nExpRuleAgent = b'Otago', Message = :(b'Individual', :(b'Patients will not have to wait more than 25 time periods for a transplant. ID', _1742)), T = 28 ;\nExpRuleAgent = b'Wellington', Message = :(b'Individual', :(b'Patients will not be added to the waiting list for more than 2 organs at once. ID', _1744)), T = 28 ;\nExpRuleAgent = b'Auckland', Message = :(b'Individual', :(b'Donor offers will not be made for patients diagnosed with cancer. ID', _1744)), T = 28 ;\nExpRuleAgent = b'Otago', Message = :(b'Individual', :(b'Patients will not have to wait more than 25 time periods for a transplant. ID', _1742)), T = 29 ;\nExpRuleAgent = b'Wellington', Message = :(b'Individual', :(b'Patients will not be added to the waiting list for more than 2 organs at once. ID', _1744)), T = 29 ;\nExpRuleAgent = b'Auckland', Message = :(b'Individual', :(b'Donor offers will not be made for patients diagnosed with cancer. ID', _1744)), T = 29 .",
     "output_type": "stream"
    }
   ]
  },
  {
   "cell_type": "markdown",
   "source": "We decide to also visualise `waiting/5` fluents, so must save the appropriate queries:",
   "metadata": {
    "cell_id": "d8396fd3-ebd3-40e6-9360-8f2d620cc361",
    "tags": [],
    "deepnote_cell_type": "markdown"
   }
  },
  {
   "cell_type": "code",
   "metadata": {
    "tags": [],
    "deepnote_to_be_reexecuted": false,
    "source_hash": "c97dfd68",
    "execution_start": 1646015024122,
    "execution_millis": 56,
    "is_output_hidden": true,
    "cell_id": "00033-5e61dd7d-1b32-4309-8834-ee9b5b510057",
    "deepnote_cell_type": "code"
   },
   "source": "% Output: VisualisationWaiting.txt\n?- holdsAt(FluentAgent, Fluent, T), Fluent = waiting(_,_,_,_,_), 0 =< T, T =< 9.\n?- holdsAt(FluentAgent, Fluent, T), Fluent = waiting(_,_,_,_,_), 10 =< T, T =< 19.\n?- holdsAt(FluentAgent, Fluent, T), Fluent = waiting(_,_,_,_,_), 20 =< T, T =< 29.",
   "execution_count": 17,
   "outputs": [
    {
     "name": "stdout",
     "text": "FluentAgent = monSys, Fluent = waiting(101, b'Otago', [b'kidney', b'liver'], [Functor(188685,2,bloodType,b'O')], 2), T = 3 ;\nFluentAgent = monSys, Fluent = waiting(101, b'Otago', [b'kidney', b'liver'], [Functor(188685,2,bloodType,b'O')], 2), T = 4 ;\nFluentAgent = monSys, Fluent = waiting(101, b'Otago', [b'kidney', b'liver'], [Functor(188685,2,bloodType,b'O')], 2), T = 5 ;\nFluentAgent = monSys, Fluent = waiting(102, b'Otago', [b'kidney', b'heart', b'liver'], [Functor(188685,2,bloodType,b'A')], 4), T = 5 ;\nFluentAgent = monSys, Fluent = waiting(101, b'Otago', [b'kidney', b'liver'], [Functor(188685,2,bloodType,b'O')], 2), T = 6 ;\nFluentAgent = monSys, Fluent = waiting(102, b'Otago', [b'kidney', b'heart', b'liver'], [Functor(188685,2,bloodType,b'A')], 4), T = 6 ;\nFluentAgent = monSys, Fluent = waiting(101, b'Otago', [b'kidney', b'liver'], [Functor(188685,2,bloodType,b'O')], 2), T = 7 ;\nFluentAgent = monSys, Fluent = waiting(102, b'Otago', [b'kidney', b'heart', b'liver'], [Functor(188685,2,bloodType,b'A')], 4), T = 7 ;\nFluentAgent = monSys, Fluent = waiting(103, b'Wellington', [b'heart', b'pancreas'], [Functor(188685,2,bloodType,b'B')], 6), T = 7 ;\nFluentAgent = monSys, Fluent = waiting(101, b'Otago', [b'kidney', b'liver'], [Functor(188685,2,bloodType,b'O')], 2), T = 8 ;\nFluentAgent = monSys, Fluent = waiting(102, b'Otago', [b'kidney', b'heart', b'liver'], [Functor(188685,2,bloodType,b'A')], 4), T = 8 ;\nFluentAgent = monSys, Fluent = waiting(103, b'Wellington', [b'heart', b'pancreas'], [Functor(188685,2,bloodType,b'B')], 6), T = 8 ;\nFluentAgent = monSys, Fluent = waiting(101, b'Otago', [b'kidney', b'liver'], [Functor(188685,2,bloodType,b'O')], 2), T = 9 ;\nFluentAgent = monSys, Fluent = waiting(102, b'Otago', [b'kidney', b'heart', b'liver'], [Functor(188685,2,bloodType,b'A')], 4), T = 9 ;\nFluentAgent = monSys, Fluent = waiting(103, b'Wellington', [b'heart', b'pancreas'], [Functor(188685,2,bloodType,b'B')], 6), T = 9 ;\nFluentAgent = monSys, Fluent = waiting(104, b'Wellington', [b'heart', b'pancreas', b'lungs'], [Functor(188685,2,bloodType,b'AB')], 8), T = 9 .\nFluentAgent = monSys, Fluent = waiting(101, b'Otago', [b'kidney', b'liver'], [Functor(188685,2,bloodType,b'O')], 2), T = 10 ;\nFluentAgent = monSys, Fluent = waiting(102, b'Otago', [b'kidney', b'heart', b'liver'], [Functor(188685,2,bloodType,b'A')], 4), T = 10 ;\nFluentAgent = monSys, Fluent = waiting(103, b'Wellington', [b'heart', b'pancreas'], [Functor(188685,2,bloodType,b'B')], 6), T = 10 ;\nFluentAgent = monSys, Fluent = waiting(104, b'Wellington', [b'heart', b'pancreas', b'lungs'], [Functor(188685,2,bloodType,b'AB')], 8), T = 10 ;\nFluentAgent = monSys, Fluent = waiting(101, b'Otago', [b'kidney', b'liver'], [Functor(188685,2,bloodType,b'O')], 2), T = 11 ;\nFluentAgent = monSys, Fluent = waiting(102, b'Otago', [b'kidney', b'heart', b'liver'], [Functor(188685,2,bloodType,b'A')], 4), T = 11 ;\nFluentAgent = monSys, Fluent = waiting(103, b'Wellington', [b'heart', b'pancreas'], [Functor(188685,2,bloodType,b'B')], 6), T = 11 ;\nFluentAgent = monSys, Fluent = waiting(104, b'Wellington', [b'heart', b'pancreas', b'lungs'], [Functor(188685,2,bloodType,b'AB')], 8), T = 11 ;\nFluentAgent = monSys, Fluent = waiting(101, b'Otago', [b'kidney', b'liver'], [Functor(188685,2,bloodType,b'O')], 2), T = 12 ;\nFluentAgent = monSys, Fluent = waiting(102, b'Otago', [b'kidney', b'heart', b'liver'], [Functor(188685,2,bloodType,b'A')], 4), T = 12 ;\nFluentAgent = monSys, Fluent = waiting(103, b'Wellington', [b'heart', b'pancreas'], [Functor(188685,2,bloodType,b'B')], 6), T = 12 ;\nFluentAgent = monSys, Fluent = waiting(104, b'Wellington', [b'heart', b'pancreas', b'lungs'], [Functor(188685,2,bloodType,b'AB')], 8), T = 12 ;\nFluentAgent = monSys, Fluent = waiting(101, b'Otago', [b'kidney', b'liver'], [Functor(188685,2,bloodType,b'O')], 2), T = 13 ;\nFluentAgent = monSys, Fluent = waiting(102, b'Otago', [b'kidney', b'heart', b'liver'], [Functor(188685,2,bloodType,b'A')], 4), T = 13 ;\nFluentAgent = monSys, Fluent = waiting(103, b'Wellington', [b'heart', b'pancreas'], [Functor(188685,2,bloodType,b'B')], 6), T = 13 ;\nFluentAgent = monSys, Fluent = waiting(104, b'Wellington', [b'heart', b'pancreas', b'lungs'], [Functor(188685,2,bloodType,b'AB')], 8), T = 13 ;\nFluentAgent = monSys, Fluent = waiting(101, b'Otago', [b'kidney', b'liver'], [Functor(188685,2,bloodType,b'O')], 2), T = 14 ;\nFluentAgent = monSys, Fluent = waiting(102, b'Otago', [b'kidney', b'heart', b'liver'], [Functor(188685,2,bloodType,b'A')], 4), T = 14 ;\nFluentAgent = monSys, Fluent = waiting(103, b'Wellington', [b'heart', b'pancreas'], [Functor(188685,2,bloodType,b'B')], 6), T = 14 ;\nFluentAgent = monSys, Fluent = waiting(104, b'Wellington', [b'heart', b'pancreas', b'lungs'], [Functor(188685,2,bloodType,b'AB')], 8), T = 14 ;\nFluentAgent = monSys, Fluent = waiting(101, b'Otago', [b'kidney', b'liver'], [Functor(188685,2,bloodType,b'O')], 2), T = 15 ;\nFluentAgent = monSys, Fluent = waiting(102, b'Otago', [b'kidney', b'heart', b'liver'], [Functor(188685,2,bloodType,b'A')], 4), T = 15 ;\nFluentAgent = monSys, Fluent = waiting(103, b'Wellington', [b'heart', b'pancreas'], [Functor(188685,2,bloodType,b'B')], 6), T = 15 ;\nFluentAgent = monSys, Fluent = waiting(104, b'Wellington', [b'heart', b'pancreas', b'lungs'], [Functor(188685,2,bloodType,b'AB')], 8), T = 15 ;\nFluentAgent = monSys, Fluent = waiting(101, b'Otago', [b'kidney', b'liver'], [Functor(188685,2,bloodType,b'O')], 2), T = 16 ;\nFluentAgent = monSys, Fluent = waiting(102, b'Otago', [b'kidney', b'heart', b'liver'], [Functor(188685,2,bloodType,b'A')], 4), T = 16 ;\nFluentAgent = monSys, Fluent = waiting(103, b'Wellington', [b'heart', b'pancreas'], [Functor(188685,2,bloodType,b'B')], 6), T = 16 ;\nFluentAgent = monSys, Fluent = waiting(104, b'Wellington', [b'heart', b'pancreas', b'lungs'], [Functor(188685,2,bloodType,b'AB')], 8), T = 16 ;\nFluentAgent = monSys, Fluent = waiting(101, b'Otago', [b'kidney', b'liver'], [Functor(188685,2,bloodType,b'O')], 2), T = 17 ;\nFluentAgent = monSys, Fluent = waiting(102, b'Otago', [b'kidney', b'heart', b'liver'], [Functor(188685,2,bloodType,b'A')], 4), T = 17 ;\nFluentAgent = monSys, Fluent = waiting(103, b'Wellington', [b'heart', b'pancreas'], [Functor(188685,2,bloodType,b'B')], 6), T = 17 ;\nFluentAgent = monSys, Fluent = waiting(104, b'Wellington', [b'heart', b'pancreas', b'lungs'], [Functor(188685,2,bloodType,b'AB')], 8), T = 17 ;\nFluentAgent = monSys, Fluent = waiting(101, b'Otago', [b'kidney', b'liver'], [Functor(188685,2,bloodType,b'O')], 2), T = 18 ;\nFluentAgent = monSys, Fluent = waiting(102, b'Otago', [b'kidney', b'heart', b'liver'], [Functor(188685,2,bloodType,b'A')], 4), T = 18 ;\nFluentAgent = monSys, Fluent = waiting(103, b'Wellington', [b'heart', b'pancreas'], [Functor(188685,2,bloodType,b'B')], 6), T = 18 ;\nFluentAgent = monSys, Fluent = waiting(104, b'Wellington', [b'heart', b'pancreas', b'lungs'], [Functor(188685,2,bloodType,b'AB')], 8), T = 18 ;\nFluentAgent = monSys, Fluent = waiting(101, b'Otago', [b'kidney', b'liver'], [Functor(188685,2,bloodType,b'O')], 2), T = 19 ;\nFluentAgent = monSys, Fluent = waiting(102, b'Otago', [b'kidney', b'heart', b'liver'], [Functor(188685,2,bloodType,b'A')], 4), T = 19 ;\nFluentAgent = monSys, Fluent = waiting(103, b'Wellington', [b'heart', b'pancreas'], [Functor(188685,2,bloodType,b'B')], 6), T = 19 ;\nFluentAgent = monSys, Fluent = waiting(104, b'Wellington', [b'heart', b'pancreas', b'lungs'], [Functor(188685,2,bloodType,b'AB')], 8), T = 19 .\nFluentAgent = monSys, Fluent = waiting(101, b'Otago', [b'kidney', b'liver'], [Functor(188685,2,bloodType,b'O')], 2), T = 20 ;\nFluentAgent = monSys, Fluent = waiting(102, b'Otago', [b'kidney', b'heart', b'liver'], [Functor(188685,2,bloodType,b'A')], 4), T = 20 ;\nFluentAgent = monSys, Fluent = waiting(103, b'Wellington', [b'heart', b'pancreas'], [Functor(188685,2,bloodType,b'B')], 6), T = 20 ;\nFluentAgent = monSys, Fluent = waiting(104, b'Wellington', [b'heart', b'pancreas', b'lungs'], [Functor(188685,2,bloodType,b'AB')], 8), T = 20 ;\nFluentAgent = monSys, Fluent = waiting(101, b'Otago', [b'kidney', b'liver'], [Functor(188685,2,bloodType,b'O')], 2), T = 21 ;\nFluentAgent = monSys, Fluent = waiting(102, b'Otago', [b'kidney', b'heart', b'liver'], [Functor(188685,2,bloodType,b'A')], 4), T = 21 ;\nFluentAgent = monSys, Fluent = waiting(103, b'Wellington', [b'heart', b'pancreas'], [Functor(188685,2,bloodType,b'B')], 6), T = 21 ;\nFluentAgent = monSys, Fluent = waiting(104, b'Wellington', [b'heart', b'pancreas', b'lungs'], [Functor(188685,2,bloodType,b'AB')], 8), T = 21 ;\nFluentAgent = monSys, Fluent = waiting(101, b'Otago', [b'kidney', b'liver'], [Functor(188685,2,bloodType,b'O')], 2), T = 22 ;\nFluentAgent = monSys, Fluent = waiting(102, b'Otago', [b'kidney', b'heart', b'liver'], [Functor(188685,2,bloodType,b'A')], 4), T = 22 ;\nFluentAgent = monSys, Fluent = waiting(103, b'Wellington', [b'heart', b'pancreas'], [Functor(188685,2,bloodType,b'B')], 6), T = 22 ;\nFluentAgent = monSys, Fluent = waiting(104, b'Wellington', [b'heart', b'pancreas', b'lungs'], [Functor(188685,2,bloodType,b'AB')], 8), T = 22 ;\nFluentAgent = monSys, Fluent = waiting(101, b'Otago', [b'kidney', b'liver'], [Functor(188685,2,bloodType,b'O')], 2), T = 23 ;\nFluentAgent = monSys, Fluent = waiting(103, b'Wellington', [b'heart', b'pancreas'], [Functor(188685,2,bloodType,b'B')], 6), T = 23 ;\nFluentAgent = monSys, Fluent = waiting(104, b'Wellington', [b'heart', b'pancreas', b'lungs'], [Functor(188685,2,bloodType,b'AB')], 8), T = 23 ;\nFluentAgent = monSys, Fluent = waiting(102, b'Otago', [b'heart'], [Functor(188685,2,bloodType,b'A')], 4), T = 23 ;\nFluentAgent = monSys, Fluent = waiting(101, b'Otago', [b'kidney', b'liver'], [Functor(188685,2,bloodType,b'O')], 2), T = 24 ;\nFluentAgent = monSys, Fluent = waiting(103, b'Wellington', [b'heart', b'pancreas'], [Functor(188685,2,bloodType,b'B')], 6), T = 24 ;\nFluentAgent = monSys, Fluent = waiting(104, b'Wellington', [b'heart', b'pancreas', b'lungs'], [Functor(188685,2,bloodType,b'AB')], 8), T = 24 ;\nFluentAgent = monSys, Fluent = waiting(102, b'Otago', [b'heart'], [Functor(188685,2,bloodType,b'A')], 4), T = 24 ;\nFluentAgent = monSys, Fluent = waiting(101, b'Otago', [b'kidney', b'liver'], [Functor(188685,2,bloodType,b'O')], 2), T = 25 ;\nFluentAgent = monSys, Fluent = waiting(103, b'Wellington', [b'heart', b'pancreas'], [Functor(188685,2,bloodType,b'B')], 6), T = 25 ;\nFluentAgent = monSys, Fluent = waiting(104, b'Wellington', [b'heart', b'pancreas', b'lungs'], [Functor(188685,2,bloodType,b'AB')], 8), T = 25 ;\nFluentAgent = monSys, Fluent = waiting(102, b'Otago', [b'heart'], [Functor(188685,2,bloodType,b'A')], 4), T = 25 ;\nFluentAgent = monSys, Fluent = waiting(101, b'Otago', [b'kidney', b'liver'], [Functor(188685,2,bloodType,b'O')], 2), T = 26 ;\nFluentAgent = monSys, Fluent = waiting(103, b'Wellington', [b'heart', b'pancreas'], [Functor(188685,2,bloodType,b'B')], 6), T = 26 ;\nFluentAgent = monSys, Fluent = waiting(104, b'Wellington', [b'heart', b'pancreas', b'lungs'], [Functor(188685,2,bloodType,b'AB')], 8), T = 26 ;\nFluentAgent = monSys, Fluent = waiting(102, b'Otago', [b'heart'], [Functor(188685,2,bloodType,b'A')], 4), T = 26 ;\nFluentAgent = monSys, Fluent = waiting(101, b'Otago', [b'kidney', b'liver'], [Functor(188685,2,bloodType,b'O')], 2), T = 27 ;\nFluentAgent = monSys, Fluent = waiting(103, b'Wellington', [b'heart', b'pancreas'], [Functor(188685,2,bloodType,b'B')], 6), T = 27 ;\nFluentAgent = monSys, Fluent = waiting(104, b'Wellington', [b'heart', b'pancreas', b'lungs'], [Functor(188685,2,bloodType,b'AB')], 8), T = 27 ;\nFluentAgent = monSys, Fluent = waiting(102, b'Otago', [b'heart'], [Functor(188685,2,bloodType,b'A')], 4), T = 27 ;\nFluentAgent = monSys, Fluent = waiting(101, b'Otago', [b'kidney', b'liver'], [Functor(188685,2,bloodType,b'O')], 2), T = 28 ;\nFluentAgent = monSys, Fluent = waiting(103, b'Wellington', [b'heart', b'pancreas'], [Functor(188685,2,bloodType,b'B')], 6), T = 28 ;\nFluentAgent = monSys, Fluent = waiting(104, b'Wellington', [b'heart', b'pancreas', b'lungs'], [Functor(188685,2,bloodType,b'AB')], 8), T = 28 ;\nFluentAgent = monSys, Fluent = waiting(102, b'Otago', [b'heart'], [Functor(188685,2,bloodType,b'A')], 4), T = 28 ;\nFluentAgent = monSys, Fluent = waiting(101, b'Otago', [b'kidney', b'liver'], [Functor(188685,2,bloodType,b'O')], 2), T = 29 ;\nFluentAgent = monSys, Fluent = waiting(103, b'Wellington', [b'heart', b'pancreas'], [Functor(188685,2,bloodType,b'B')], 6), T = 29 ;\nFluentAgent = monSys, Fluent = waiting(104, b'Wellington', [b'heart', b'pancreas', b'lungs'], [Functor(188685,2,bloodType,b'AB')], 8), T = 29 ;\nFluentAgent = monSys, Fluent = waiting(102, b'Otago', [b'heart'], [Functor(188685,2,bloodType,b'A')], 4), T = 29 .",
     "output_type": "stream"
    }
   ]
  },
  {
   "cell_type": "markdown",
   "source": "We will use Graphviz in Python to create our visualisation example. \n\nFirstly, we save the information from **VisualisationSupport.txt** into a support dictionary, using regex to extract the useful values, and we define an array to store our written descriptions of events and fluents. Our array **arr** has 3 dimensions - one for the given agent, one for each type of event / fluent we are interested in displaying, and one for the time period.",
   "metadata": {
    "cell_id": "2e131bf6-0fdd-42a6-a30d-2f0e6ba07b5b",
    "tags": [],
    "deepnote_cell_type": "markdown"
   }
  },
  {
   "cell_type": "code",
   "source": "% PYTHON\nfrom re import compile, search\nimport numpy as np\nfrom graphviz import Digraph\n\n# Create support dictionary with labels for fluents, events\nsupportDict = {}\nf1 = open(\"/work/output_files/VisualisationSupport.txt\", \"r\")\nlines = f1.readlines()\nf1.close()\nlineCount = 0\nfor line in lines:\n    # Find the agents to visualise\n    if lineCount == 0:\n        agents = line.strip(\"Agents = [ \").strip(\" ] .\\n\")\n        agents = compile(\"b'(.+?)'\").sub(\"\\g<1>\", agents).split(\", \")\n        print(agents)\n        firstLine = False\n    # Find maximum time period\n    elif lineCount == 1:\n        maxTime = int(compile(\"MaxTime = (\\d+) .\\n\").sub(\"\\g<1>\", line))\n    # Save supporting descriptions\n    else:\n        line = compile(\"FluentName = (.+), FluentMessage = (.+), Arguments = \\[ (.+) ] [.|;]\\n\").sub(\"\\g<1>;\\g<2>;\\g<3>\", line)\n        line = compile(\"b'(.+?)'[,|;][ ]*\").sub(\"\\g<1>;\", line)\n        line = compile(\"b'(.+?)'[ ]*\").sub(\"\\g<1>\", line)\n        supportDict[line[:line.index(\";\")]] = line[line.index(\";\")+1:]\n    lineCount += 1\nprint(supportDict)\n\n# Create a matrix to store all the written descriptions\narr = np.zeros((len(agents), 7,int(maxTime)+1), dtype=object)",
   "metadata": {
    "cell_id": "938dee3f-37e4-43cb-9c43-764308ee8f55",
    "tags": [],
    "deepnote_to_be_reexecuted": false,
    "source_hash": "39bdf71",
    "execution_start": 1646015024189,
    "execution_millis": 313,
    "deepnote_cell_type": "code"
   },
   "outputs": [
    {
     "name": "stdout",
     "text": "['Otago', 'Christchurch', 'Wellington', 'Auckland', 'monSys']\n{'waitAddReq': 'Waiting list add request;Patient ID;organs;details', 'waitAccept': 'waiting list acceptance;Patient ID', 'donorOffer': 'Donation offer;Patient ID;organs;details', 'acceptMatch': 'Match acceptance;Match ID', 'confirmedNotification': 'Match confirmation;Match ID', 'recipientFound': 'Recipient found notification;Match ID;recipient ID;donor hospital;transplant location;organs;details', 'donorFound': 'Donor found notification;Match ID;donor ID;recipient hospital;transplant location;organs;details', 'locationSelected': 'Transplant location selected;Match ID;donor hospital;recipient hospital;organs;details', 'confirmationMatch': 'Local match confirmation;Match ID', 'transplant': 'Transplant;Match ID;outcome', 'transplantOutcome': 'Transplant outcome;Match ID;outcome', 'match': 'Match;Match ID;donor hospital;donor ID;recipient hospital;recipient ID;transplant location;organs;details', 'waiting': 'Waiting;Patient ID;hospital;organs;details;start time'}",
     "output_type": "stream"
    }
   ],
   "execution_count": 18
  },
  {
   "cell_type": "markdown",
   "source": "The `extractArguments` method creates a list of arguments from some text output will still keeping bracketed information together.",
   "metadata": {
    "cell_id": "811c3c0e-703b-4442-914d-b8b03fb7a872",
    "tags": [],
    "deepnote_cell_type": "markdown"
   }
  },
  {
   "cell_type": "code",
   "source": "% PYTHON\n# Make list of arguments while still keeping arguments in brackets together\ndef extractArguments(contents):\n    squareBracket = 0\n    circleBracket = 0\n    value = \"\"\n    values = []\n    for char in contents:\n        if char == '[':\n            squareBracket += 1\n        elif char == ']':\n            squareBracket -= 1\n        elif char == \"(\":\n            circleBracket += 1\n        elif char == \")\":\n            circleBracket -= 1\n        elif char == \",\":\n            if circleBracket == 0 and squareBracket == 0:\n                values.append(value.strip(\" \"))\n                value = \"\"\n        else:\n            value += char\n    if contents[-1] != \",\":\n        values.append(value.strip(\" \"))\n    return values\n",
   "metadata": {
    "cell_id": "3ab68f27-dbf5-4d62-8e4e-f709c60e9e89",
    "tags": [],
    "deepnote_to_be_reexecuted": false,
    "source_hash": "e93ad0f1",
    "execution_start": 1646015024563,
    "execution_millis": 1,
    "deepnote_cell_type": "code"
   },
   "outputs": [
    {
     "name": "stdout",
     "text": "",
     "output_type": "stream"
    }
   ],
   "execution_count": 19
  },
  {
   "cell_type": "markdown",
   "source": "The `findLabel` method takes a previously saved message and formats it to fit in our agent boxes.",
   "metadata": {
    "cell_id": "8b9d8921-3b41-4f0c-83cc-86864bcf2833",
    "tags": [],
    "deepnote_cell_type": "markdown"
   }
  },
  {
   "cell_type": "code",
   "source": "% PYTHON\n\n\ndef findLabel(arr, agent, agents, typeIndex, time):\n    counter = 0\n    message = \"{\"\n    if arr[agents.index(agent), typeIndex, time] == 0:\n        return \"\"\n    for entry in arr[agents.index(agent), typeIndex, time]:\n        charCounter = 0\n        entryFormatted = \"\"\n        if agent == \"monSys\":\n            maxChar = 70\n        else:\n            maxChar = 40\n        for char in entry:\n            entryFormatted += char\n\n            if charCounter > maxChar and char == \" \":\n                entryFormatted += \"\\\\l\"\n                charCounter = 0\n            charCounter += 1\n        entryFormatted += \"\\\\l\"\n        message += \"<f\" + str(counter) + \">\" + entryFormatted + \"| \"\n        counter += 1\n    message = message[:-2]\n    message += \"}\"\n    return message",
   "metadata": {
    "cell_id": "53c22334-e6d4-49d3-b72f-a165764c4711",
    "tags": [],
    "deepnote_to_be_reexecuted": false,
    "source_hash": "4f51d67a",
    "execution_start": 1646015024564,
    "execution_millis": 45,
    "deepnote_cell_type": "code"
   },
   "outputs": [
    {
     "name": "stdout",
     "text": "",
     "output_type": "stream"
    }
   ],
   "execution_count": 20
  },
  {
   "cell_type": "markdown",
   "source": "Here, we save the saved output from events and fluents into our array, using regex to extract useful values, and then alternating variable arguments with their written descriptor in our saved messages.",
   "metadata": {
    "cell_id": "43b81a42-7b0b-4112-81ab-f1632fea0f59",
    "tags": [],
    "deepnote_cell_type": "markdown"
   }
  },
  {
   "cell_type": "code",
   "source": "% PYTHON\n\n# Read in output files with fluents, events of interest\nf = open(\"/work/output_files/VisualisationEvents.txt\", \"r\")\nlines = f.readlines()\nf.close()\nf = open(\"/work/output_files/VisualisationRules.txt\", \"r\")\nlines += f.readlines()\nf.close()\nf = open(\"/work/output_files/VisualisationWaiting.txt\", \"r\")\nlines += f.readlines()\nf.close()\n# Defined types\neventTypes = [\"send\", \"receive\", \"violation\", \"fulfilment\", \"other\", \"expectation rule\", \"fluent\"]\nfor line in lines:\n    # Simplify Deepnote formatting\n    line = compile('Functor\\([\\d]+,2,(.+?),(.+?)\\)').sub('\\g<1>:\\g<2>', line)\n    line = compile(\"b'(.+?)'\").sub(\"\\g<1>\", line)\n    firstArg = line.split(\" \")[0]\n    # Choose index for matrix\n    if firstArg == \"SendAgent\":\n        eIndex = 0\n    elif firstArg == \"ReceiveAgent\":\n        eIndex = 1\n    elif firstArg == \"ViolAgent\":\n        eIndex = 2\n    elif firstArg == \"FulfAgent\":\n        eIndex = 3\n    elif firstArg == \"ExpRuleAgent\":\n        eIndex = 5\n    elif firstArg == \"FluentAgent\":\n        eIndex = 6\n    else:\n        eIndex = 4\n    # If event or fluent is not a specific type\n    if eventTypes[eIndex] == \"other\" or eventTypes[eIndex] == \"fluent\":\n        # Extract arguments of interest\n        if eventTypes[eIndex] == \"fluent\":\n            line = compile('.+?Agent = (.+?), Fluent = (.+?)\\((.+?)\\), T = (.+?) [.|;]\\n').sub('\\g<1>;\\g<2>;\\g<3>;\\g<4>', line)\n        else:\n            line = compile('.+?Agent = (.+?), Event = (.+?)\\((.+?)\\), T = (.+?) [.|;]\\n').sub('\\g<1>;\\g<2>;\\g<3>;\\g<4>', line)\n        \n        lineSplit = line.split(\";\")\n        # Find current agent, time and message type\n        currentAgent = lineSplit[0]\n        currentTime = int(lineSplit[-1])\n        messageType = lineSplit[1]\n        # Process main fluent / event\n        contents = lineSplit[2]\n        values = extractArguments(contents)\n        argNames = supportDict[messageType].split(\";\")\n        message = argNames[0] + \". \"\n\n    if eventTypes[eIndex] == \"send\" or eventTypes[eIndex] == \"receive\":\n         # Extract arguments of interest\n        line = compile('.+?Agent = (.+?), Event = .+?\\((.+?), (.+?)\\), T = (.+?) [.|;]\\n').sub('\\g<1>;\\g<2>;\\g<3>;\\g<4>', line)\n        message = \"\"\n        if (eventTypes[eIndex] == \"send\"):\n            message = \"To: \" \n        elif (eventTypes[eIndex] == \"receive\"):\n            message = \"From: \"\n        lineSplit = line.split(\";\")\n        # Find current agent, time and message type\n        currentAgent = lineSplit[0]\n        currentTime = int(lineSplit[3])\n        contents = lineSplit[2]\n        # Process main fluent / event\n        messageType = contents[:contents.index('(')]\n        contents = contents[contents.index('(')+1:-1]\n        values = extractArguments(contents)\n        argNames = supportDict[messageType].split(\";\")\n        message += lineSplit[1] + \", \" + argNames[0] + \". \"\n\n    # Apply appropriate label to each argument\n    if eventTypes[eIndex] == \"send\" or eventTypes[eIndex] == \"receive\" or eventTypes[eIndex] == \"other\" or eventTypes[eIndex] == \"fluent\":\n        for pos in range(1, len(argNames)):\n            message += argNames[pos] + \": \" + values[pos-1]+ \", \"\n        message = message[:-2]\n        # Save in matrix\n        if arr[agents.index(currentAgent), eIndex, currentTime] == 0:\n            arr[agents.index(currentAgent), eIndex, currentTime] = [message]\n        else:\n            arr[agents.index(currentAgent), eIndex, currentTime].append(message)\n            \n    # If most of output is the rule message, save that for display        \n    elif eventTypes[eIndex] == \"fulfilment\" or eventTypes[eIndex] == \"violation\" or eventTypes[eIndex] == \"expectation rule\":\n        currentTime = int(line.split()[-2])\n        message = \"\"\n        if eventTypes[eIndex] == \"expectation rule\":\n            line = compile(\".+?Agent = (.+?), Message = :\\((.+?), :\\((.+) .+?, .+\\)\\), T = (.+?) [.|;]\\n\").sub('\\g<1> \\g<2> - \\g<3>', line)\n        else:\n            line = compile(\".+?Agent = (.+?), Message = :\\((.+?), :\\((.+?), (.+)\\)\\), T = .+?[;|.]\\n\").sub('\\g<1> \\g<2> - \\g<3> \\g<4>', line)\n        currentAgent = line.split()[0]\n        message = line[line.index(\" \")+1:]\n        if arr[agents.index(currentAgent), eIndex, currentTime] == 0:\n            arr[agents.index(currentAgent), eIndex, currentTime] = [message]\n        else:\n            arr[agents.index(currentAgent), eIndex, currentTime].append(message)",
   "metadata": {
    "cell_id": "0e1325c3-94b3-443f-8a6c-25c5d4b41a53",
    "tags": [],
    "deepnote_to_be_reexecuted": false,
    "source_hash": "bd8fa88",
    "execution_start": 1646015024608,
    "execution_millis": 47,
    "deepnote_cell_type": "code"
   },
   "outputs": [
    {
     "name": "stdout",
     "text": "",
     "output_type": "stream"
    }
   ],
   "execution_count": 21
  },
  {
   "cell_type": "markdown",
   "source": "We create a PNG file for each time period from zero up to our maximum time period. Each graph contains a cluster for each agent, and within a given agent, nodes are shown for events and fluents. Getting the layout of subclusters in graphviz can be somewhat challenging. Many further design tweaks are possible, and changes should be made, but this code gives us an idea of what can be produced. The PNGs are saved in the **Images** subfolder.",
   "metadata": {
    "cell_id": "4b4469fa-7498-4d53-a4c3-a7fc3019bcc2",
    "tags": [],
    "deepnote_cell_type": "markdown"
   }
  },
  {
   "cell_type": "code",
   "metadata": {
    "tags": [],
    "deepnote_to_be_reexecuted": false,
    "source_hash": "aba0bc28",
    "execution_start": 1646015024654,
    "execution_millis": 11527,
    "cell_id": "00037-93fe35bd-5a46-4476-807d-52622ca6f48e",
    "deepnote_cell_type": "code"
   },
   "source": "% PYTHON\n\nfor currentTime in range(maxTime):\n    g = Digraph(node_attr={'shape':'box', 'style': 'rounded,filled'})\n    g.graph_attr[\"label\"] = \"Example scenario. Time: \"+str(currentTime)\n    g.node_attr[\"shape\"] = \"box\"\n    g.node_attr[\"fontsize\"] = '13'\n    g.node_attr[\"style\"] = \"filled\"\n    g.format = 'png'\n    # We set the connections between clusters to be invisible so that they determine the layout without being visually distracting\n    g.edge_attr[\"style\"] = \"invis\"\n    pos = 0\n    previousNode1 = \"\"\n    previousNode0 = \"\"\n    # NOTE: the subgraph name needs to begin with 'cluster' (all lowercase)\n    #       so that Graphviz recognizes it as a special cluster subgraph\n    for agent in agents:\n        clusterName = \"cluster_\" + agent\n        with g.subgraph(name=clusterName) as agentGraph:\n            # Appearance\n            agentGraph.attr(shape='box', style= 'rounded,filled', color='#E8ECFB', label=agent, rankdir=\"LR\")\n            agentGraph.node_attr[\"fixedsize\"] = 'true'\n            if agent == \"monSys\":\n                agentGraph.node_attr[\"height\"] = '3'\n                agentGraph.node_attr[\"width\"] = '6'\n            else:\n                agentGraph.node_attr[\"height\"] = '2'\n                agentGraph.node_attr[\"width\"] = '4'\n            agentGraph.node_attr[\"style\"] = 'solid, filled'\n            agentGraph.node_attr[\"color\"] = \"black\"\n            agentGraph.node_attr[\"fillcolor\"] = \"#EEEEEE\"\n\n            # Subgraphs for each agent. Fulfilments, Violations, Rules, Other Events, Sent, Received.\n            with agentGraph.subgraph(name='cluster_Fulf') as fulf:\n                nodeName = agent + \"Fulf\"\n                nodeLabel = findLabel(arr, agent, agents, 3, currentTime)\n                fulf.attr(shape='box', style= 'rounded, filled', color='#CCDDAA', penwidth = '3', label='Fulfilments')\n                fulf.node(nodeName, label=nodeLabel, shape=\"record\")\n            \n            with agentGraph.subgraph(name='cluster_Viol') as viol:\n                nodeName = agent + \"Viol\"\n                nodeLabel = findLabel(arr, agent, agents, 2, currentTime)\n                viol.attr(shape='box', style= 'rounded, filled', color='#FFCCCC', penwidth = '3', label='Violations')\n                viol.node(nodeName, label=nodeLabel, shape=\"record\")\n\n            with agentGraph.subgraph(name='cluster_Rules') as rules:\n                nodeName = agent + \"Rules\"\n                nodeLabel = findLabel(arr, agent, agents, 5, currentTime)\n                rules.attr(shape='box', style= 'rounded, filled', color='#D9CCE3', penwidth = '3', label='Expectation rules')\n                rules.node(nodeName, label=nodeLabel, shape=\"record\")\n\n\n            with agentGraph.subgraph(name='cluster_Other') as another:\n                nodeLabel = findLabel(arr, agent, agents, 4, currentTime)\n                nodeName = agent + \"Other\"\n                another.attr(shape='box', style= 'rounded, filled', color='#D9CCE3', penwidth = '3', label='Other Events')\n                another.node(nodeName, label=nodeLabel, shape=\"record\")\n\n            with agentGraph.subgraph(name='cluster_Sent') as sent:\n                nodeName = agent + \"Sent\"\n                nodeLabel = findLabel(arr, agent, agents, 0, currentTime)\n                sent.attr(shape='box', style= 'rounded, filled', color='#D9CCE3', penwidth = '3', label='Sent')\n                sent.node(nodeName, label=nodeLabel, shape=\"record\")\n\n            with agentGraph.subgraph(name='cluster_Received') as received:\n                nodeName = agent + \"Received\"\n                nodeLabel = findLabel(arr, agent, agents, 1, currentTime)\n                received.attr(shape='box', style= 'rounded, filled', color='#D9CCE3', penwidth = '3', label='Received')\n                received.node(nodeName, label=nodeLabel, shape=\"record\")\n            \n            # Layout within each agent subgraph\n            agentGraph.edge_attr[\"style\"] = \"invis\"\n            agentGraph.edge(agent + \"Received\",agent + \"Sent\")\n            agentGraph.edge(agent + \"Fulf\",agent + \"Viol\")\n            agentGraph.edge(agent + \"Other\",agent + \"Rules\")\n\n            # Show waiting fluents for monSys\n            if agent == \"monSys\":\n                with agentGraph.subgraph(name='cluster_Wait') as wait:\n                    nodeName = agent + \"Wait\"\n                    nodeLabel = findLabel(arr, agent, agents, 6, currentTime)\n                    wait.attr(shape='box', style= 'rounded, filled', color='#D9CCE3', penwidth = '3', label='Wait List')\n                    wait.node(nodeName, label=nodeLabel, shape=\"record\")\n\n        # Control layout of agents\n            innerNode = agent + \"Sent\"\n        if agent != \"monSys\":\n            if (pos % 2 == 0 and previousNode0 != \"\"): \n                g.edge(innerNode,previousNode0)\n                previousNode0 = agent + \"Received\"\n            elif (pos % 2 == 1 and previousNode1 != \"\"):\n                g.edge(innerNode,previousNode1)\n            if pos % 2 == 0:\n                previousNode0 = agent + \"Received\"\n            else:\n                previousNode1 = agent + \"Received\"\n        pos = pos + 1\n    # Add monSys to the top \n    g.edge(\"monSysSent\",previousNode1)\n    g.edge(\"monSysViol\",previousNode0)\n    # Save to Images subfolder\n    if currentTime < 10:\n        fname = \"/work/Visualisation/Images/time-0\" + str(currentTime)\n    else:\n        fname = \"/work/Visualisation/Images/time-\" + str(currentTime)\n    g.render(filename=fname)",
   "execution_count": 22,
   "outputs": [
    {
     "name": "stdout",
     "text": "",
     "output_type": "stream"
    }
   ]
  },
  {
   "cell_type": "markdown",
   "source": "While each PNG shows the view for each of the agents, you can imagine that a given agent would only be able to view their own subgraph. It is possible to concatenate the PNGs into a GIF, or to use them in an image slider (not currently supported in Deepnote). All of the PNGs are available in the Images folder, with the PNG files for time periods 5, 7 and 11 shown below. The expectation rule message labels are used for fulfilments, violations and expectation rules, while the sent, received and wait list boxes make use of the labels defined in the `visualisationLabel/3` fluent.",
   "metadata": {
    "cell_id": "fa10ea41-0633-4e92-a084-881fef4aa3f5",
    "tags": [],
    "deepnote_cell_type": "markdown"
   }
  },
  {
   "cell_type": "markdown",
   "source": "<img src=\"https://github.com/katetruman/MultiAgentEC/blob/master/Visualisation/Images/time-05.png?raw=true\" width=\"2000\">",
   "metadata": {
    "cell_id": "6ca638ab-c31b-4d16-8fca-d4cc1e206607",
    "tags": [],
    "deepnote_cell_type": "markdown"
   }
  },
  {
   "cell_type": "markdown",
   "source": "------\n<img src=\"https://github.com/katetruman/MultiAgentEC/blob/master/Visualisation/Images/time-07.png?raw=true\" width=\"2000\">\n",
   "metadata": {
    "cell_id": "209aac1b-ba84-4048-8773-647a1d204a46",
    "tags": [],
    "deepnote_cell_type": "markdown"
   }
  },
  {
   "cell_type": "markdown",
   "source": "-----\n<img src=\"https://github.com/katetruman/MultiAgentEC/blob/master/Visualisation/Images/time-11.png?raw=true\" width=\"2000\">",
   "metadata": {
    "cell_id": "c8cb0a47-44dd-4326-9159-6bff84002632",
    "tags": [],
    "deepnote_cell_type": "markdown"
   }
  },
  {
   "cell_type": "markdown",
   "source": "<a style='text-decoration:none;line-height:16px;display:flex;color:#5B5B62;padding:10px;justify-content:end;' href='https://deepnote.com?utm_source=created-in-deepnote-cell&projectId=32f94018-a4da-40ef-8c9f-8983d73811c8' target=\"_blank\">\n<img alt='Created in deepnote.com' style='display:inline;max-height:16px;margin:0px;margin-right:7.5px;' src='data:image/svg+xml;base64,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' > </img>\nCreated in <span style='font-weight:600;margin-left:4px;'>Deepnote</span></a>",
   "metadata": {
    "tags": [],
    "created_in_deepnote_cell": true,
    "deepnote_cell_type": "markdown"
   }
  }
 ],
 "nbformat": 4,
 "nbformat_minor": 2,
 "metadata": {
  "orig_nbformat": 2,
  "deepnote": {
   "is_reactive": false
  },
  "deepnote_notebook_id": "d81db21e-159d-4ec6-99a1-87d5c23daa1d",
  "deepnote_execution_queue": [],
  "deepnote_app_layout": "article"
 }
}