{
 "cells": [
  {
   "cell_type": "markdown",
   "source": "# Using Jswipl",
   "metadata": {
    "cell_id": "26b3dc7f-8721-48bf-89e0-eb9f075bb79f",
    "tags": [],
    "is_collapsed": false,
    "deepnote_app_coordinates": {
     "x": 0,
     "y": 0,
     "w": 12,
     "h": 5
    },
    "deepnote_cell_type": "text-cell-h1"
   }
  },
  {
   "cell_type": "markdown",
   "source": "### Set up",
   "metadata": {
    "cell_id": "8bc7b697-156e-4cd3-8cba-7ad0188a3e26",
    "tags": [],
    "is_collapsed": false,
    "deepnote_app_coordinates": {
     "x": 0,
     "y": 0,
     "w": 12,
     "h": 5
    },
    "deepnote_cell_type": "text-cell-h3"
   }
  },
  {
   "cell_type": "markdown",
   "source": "We set our current working directory to **work** to ensure that files are saved to the correct location.",
   "metadata": {
    "cell_id": "5bf8794a-ba18-4cde-a28e-a57d1ea5f611",
    "tags": [],
    "deepnote_app_coordinates": {
     "x": 0,
     "y": 0,
     "w": 12,
     "h": 5
    },
    "deepnote_cell_type": "markdown"
   }
  },
  {
   "cell_type": "code",
   "source": "?- cd('~/work').",
   "metadata": {
    "cell_id": "f44ac5fd-e310-4b63-be61-2b7572937944",
    "tags": [],
    "deepnote_app_coordinates": {
     "x": 0,
     "y": 0,
     "w": 12,
     "h": 5
    },
    "deepnote_to_be_reexecuted": false,
    "source_hash": "6602be34",
    "execution_start": 1644537476832,
    "execution_millis": 37,
    "deepnote_cell_type": "code"
   },
   "outputs": [
    {
     "name": "stdout",
     "text": "true.",
     "output_type": "stream"
    }
   ],
   "execution_count": null
  },
  {
   "cell_type": "markdown",
   "source": "### Predicate cells",
   "metadata": {
    "cell_id": "ec47ff09-3023-47e3-be19-64f8b2f6d44c",
    "tags": [],
    "is_collapsed": false,
    "deepnote_app_coordinates": {
     "x": 0,
     "y": 0,
     "w": 12,
     "h": 5
    },
    "deepnote_cell_type": "text-cell-h3"
   }
  },
  {
   "cell_type": "markdown",
   "source": "Prolog predicates can be written in code blocks which must be headed with \"% File: [name].pl%. The predicates in a given code block will be written to the named file within the **consulted_cells** folder, and this file will be consulted to load your predicates.",
   "metadata": {
    "tags": [],
    "deepnote_app_coordinates": {
     "x": 0,
     "y": 0,
     "w": 12,
     "h": 5
    },
    "cell_id": "00053-df1d3667-ae78-4859-a0cc-78f6bffe86d2",
    "deepnote_cell_type": "markdown"
   }
  },
  {
   "cell_type": "code",
   "metadata": {
    "tags": [],
    "deepnote_app_coordinates": {
     "x": 0,
     "y": 0,
     "w": 12,
     "h": 5
    },
    "deepnote_to_be_reexecuted": false,
    "source_hash": "9c947149",
    "execution_start": 1644537476869,
    "execution_millis": 10,
    "cell_id": "00054-8740688e-70c8-4254-9551-c24bb42b21f6",
    "deepnote_cell_type": "code"
   },
   "source": "% File: testFile.pl\nstudent(kate).\nstudent(hayden).",
   "outputs": [
    {
     "name": "stdout",
     "text": "",
     "output_type": "stream"
    }
   ],
   "execution_count": null
  },
  {
   "cell_type": "markdown",
   "source": "### Queries",
   "metadata": {
    "cell_id": "9c1efa6c-bb29-4086-94a2-b820895ea54a",
    "tags": [],
    "is_collapsed": false,
    "deepnote_app_coordinates": {
     "x": 0,
     "y": 0,
     "w": 12,
     "h": 5
    },
    "deepnote_cell_type": "text-cell-h3"
   }
  },
  {
   "cell_type": "markdown",
   "source": "Queries must be prefaced with \"?-\", and queries must be located in separate code blocks to predicate declarations, although multiple predicate declarations or queries can be placed in the same code block. Note that the default limit for query output lines is 25. Only the first 25 results from a query will be shown, and you will not be warned if some of your results are hidden. If your query has produced a large number of output lines, try to restrict your query conditions further to produce a smaller amount of output per query.",
   "metadata": {
    "tags": [],
    "deepnote_app_coordinates": {
     "x": 0,
     "y": 0,
     "w": 12,
     "h": 5
    },
    "cell_id": "00055-76bd7c2c-8b5d-4c58-bc93-1e94e1a67e5c",
    "deepnote_cell_type": "markdown"
   }
  },
  {
   "cell_type": "code",
   "metadata": {
    "tags": [],
    "deepnote_app_coordinates": {
     "x": 0,
     "y": 0,
     "w": 12,
     "h": 5
    },
    "deepnote_to_be_reexecuted": false,
    "source_hash": "874e6405",
    "execution_start": 1644537476916,
    "execution_millis": 0,
    "cell_id": "00056-7df77363-5076-44f2-903c-a680d88a7875",
    "deepnote_cell_type": "code"
   },
   "source": "?- student(X).",
   "outputs": [
    {
     "name": "stdout",
     "text": "X = kate ;\nX = hayden .",
     "output_type": "stream"
    }
   ],
   "execution_count": null
  },
  {
   "cell_type": "markdown",
   "source": "### Repeated file names",
   "metadata": {
    "cell_id": "ceae09fe-8909-476d-adb0-523c35534c40",
    "tags": [],
    "is_collapsed": false,
    "deepnote_app_coordinates": {
     "x": 0,
     "y": 0,
     "w": 12,
     "h": 5
    },
    "deepnote_cell_type": "text-cell-h3"
   }
  },
  {
   "cell_type": "markdown",
   "source": "Note that re-using the same file name will result in your consult file being overwritten and your previous predicates will be lost:",
   "metadata": {
    "tags": [],
    "deepnote_app_coordinates": {
     "x": 0,
     "y": 0,
     "w": 12,
     "h": 5
    },
    "cell_id": "00057-0faeebce-e8bc-4592-9552-69a1f9a5dd9b",
    "deepnote_cell_type": "markdown"
   }
  },
  {
   "cell_type": "code",
   "metadata": {
    "tags": [],
    "deepnote_app_coordinates": {
     "x": 0,
     "y": 0,
     "w": 12,
     "h": 5
    },
    "deepnote_to_be_reexecuted": false,
    "source_hash": "34c141fe",
    "execution_start": 1644537476917,
    "execution_millis": 4,
    "cell_id": "00058-ec52b20d-6ed0-4fbf-bc2c-0c4fbae7493f",
    "deepnote_cell_type": "code"
   },
   "source": "% File: testFile.pl\nsubject(computerScience).\nsubject(dataScience).",
   "outputs": [
    {
     "name": "stdout",
     "text": "",
     "output_type": "stream"
    }
   ],
   "execution_count": null
  },
  {
   "cell_type": "code",
   "metadata": {
    "tags": [],
    "deepnote_app_coordinates": {
     "x": 0,
     "y": 0,
     "w": 12,
     "h": 5
    },
    "deepnote_to_be_reexecuted": false,
    "source_hash": "908a2d46",
    "execution_start": 1644537476918,
    "execution_millis": 0,
    "cell_id": "00059-8368c711-2291-4af9-afcf-a60f1bebe49e",
    "deepnote_cell_type": "code"
   },
   "source": "?- student(X).\n?- subject(Y).",
   "outputs": [
    {
     "name": "stdout",
     "text": "ERROR: Caused by: '  student(X)'. Returned: 'error(existence_error(procedure, /(student, 1)), context(/(pyrun, 2), _1654))'.\nY = computerScience ;\nY = dataScience .",
     "output_type": "stream"
    }
   ],
   "execution_count": null
  },
  {
   "cell_type": "markdown",
   "source": "### Unloading files",
   "metadata": {
    "cell_id": "829e39f5-88b6-404a-837f-4043928f1e86",
    "tags": [],
    "is_collapsed": false,
    "deepnote_app_coordinates": {
     "x": 0,
     "y": 0,
     "w": 12,
     "h": 5
    },
    "deepnote_cell_type": "text-cell-h3"
   }
  },
  {
   "cell_type": "markdown",
   "source": "If you wish to undo the effects of consulting a file, you can unload it. Note that if you change directories to do this, you should change directories back to the **work** folder, or any new cells you create to consult will be saved to the wrong directory, and you will not have access to your previously defined predicates from this directory.",
   "metadata": {
    "tags": [],
    "deepnote_app_coordinates": {
     "x": 0,
     "y": 0,
     "w": 12,
     "h": 5
    },
    "cell_id": "00060-f6257537-5eb0-4714-8608-98ac47dfde73",
    "deepnote_cell_type": "markdown"
   }
  },
  {
   "cell_type": "code",
   "metadata": {
    "tags": [],
    "deepnote_app_coordinates": {
     "x": 0,
     "y": 0,
     "w": 12,
     "h": 5
    },
    "deepnote_to_be_reexecuted": false,
    "source_hash": "cd4c6b7b",
    "execution_start": 1644537476922,
    "execution_millis": 3,
    "cell_id": "00061-e7f44818-4d90-49d1-be8a-def767c1d35b",
    "deepnote_cell_type": "code"
   },
   "source": "?- unload_file(\"consulted_cells/testFile.pl\").\n% Would also work:\n% cd('~/work/consulted_cells'), unload_file(\"testFile.pl\"), cd('~/work').\n?- subject(Y).",
   "outputs": [
    {
     "name": "stdout",
     "text": "true.\nfalse.",
     "output_type": "stream"
    }
   ],
   "execution_count": null
  },
  {
   "cell_type": "markdown",
   "source": "### Multi-file predicates",
   "metadata": {
    "cell_id": "11b71d87-8a97-4d2c-a06d-4f3a7b2a83e5",
    "tags": [],
    "is_collapsed": false,
    "deepnote_app_coordinates": {
     "x": 0,
     "y": 0,
     "w": 12,
     "h": 5
    },
    "deepnote_cell_type": "text-cell-h3"
   }
  },
  {
   "cell_type": "markdown",
   "source": "Note that if you split definitions for the same predicate over more than one cell, the predicate must be declared to be **multifile**, or each new cell which uses the predicate will overwrite the previous predicate definitions.",
   "metadata": {
    "cell_id": "1584c449-c95f-4830-9c76-e707a8dcc764",
    "tags": [],
    "deepnote_app_coordinates": {
     "x": 0,
     "y": 0,
     "w": 12,
     "h": 5
    },
    "deepnote_cell_type": "markdown"
   }
  },
  {
   "cell_type": "code",
   "source": "% File: weather1.pl\nweather(rainy).",
   "metadata": {
    "cell_id": "5e2b0fbc-818d-4332-8789-af90e5bf7a08",
    "tags": [],
    "deepnote_app_coordinates": {
     "x": 0,
     "y": 0,
     "w": 12,
     "h": 5
    },
    "deepnote_to_be_reexecuted": false,
    "source_hash": "a2a975f5",
    "execution_start": 1644537476931,
    "execution_millis": 20,
    "deepnote_cell_type": "code"
   },
   "outputs": [
    {
     "name": "stdout",
     "text": "",
     "output_type": "stream"
    }
   ],
   "execution_count": null
  },
  {
   "cell_type": "code",
   "source": "% File: weather2.pl\nweather(cloudy).",
   "metadata": {
    "cell_id": "adc881cd-bcb2-481e-a9ac-e53c3922b5ac",
    "tags": [],
    "deepnote_app_coordinates": {
     "x": 0,
     "y": 0,
     "w": 12,
     "h": 5
    },
    "deepnote_to_be_reexecuted": false,
    "source_hash": "2e6edf20",
    "execution_start": 1644537476948,
    "execution_millis": 10,
    "deepnote_cell_type": "code"
   },
   "outputs": [
    {
     "name": "stdout",
     "text": "",
     "output_type": "stream"
    }
   ],
   "execution_count": null
  },
  {
   "cell_type": "markdown",
   "source": "As both **weather1.pl** and **weather2.pl** declare *weather/1* predicates, the first cell's definition is overwritten.",
   "metadata": {
    "cell_id": "76cb4389-eacb-4b7b-8074-5c8ca8252c63",
    "tags": [],
    "deepnote_app_coordinates": {
     "x": 0,
     "y": 0,
     "w": 12,
     "h": 5
    },
    "deepnote_cell_type": "markdown"
   }
  },
  {
   "cell_type": "code",
   "source": "?- weather(W).",
   "metadata": {
    "cell_id": "c7306395-0375-4773-bf4e-548f93f59600",
    "tags": [],
    "deepnote_app_coordinates": {
     "x": 0,
     "y": 0,
     "w": 12,
     "h": 5
    },
    "deepnote_to_be_reexecuted": false,
    "source_hash": "49e8b0ec",
    "execution_start": 1644537476959,
    "execution_millis": 7,
    "deepnote_cell_type": "code"
   },
   "outputs": [
    {
     "name": "stdout",
     "text": "W = cloudy .",
     "output_type": "stream"
    }
   ],
   "execution_count": null
  },
  {
   "cell_type": "markdown",
   "source": "By declaring *temperature/1* to be multifile, we can split the use of this predicate over multiple cells.",
   "metadata": {
    "cell_id": "6b784dcf-2222-4d9b-8ec4-a1d5ac064efd",
    "tags": [],
    "deepnote_app_coordinates": {
     "x": 0,
     "y": 0,
     "w": 12,
     "h": 5
    },
    "deepnote_cell_type": "markdown"
   }
  },
  {
   "cell_type": "code",
   "source": "% File: temperature1.pl\n:- multifile temperature/1.\ntemperature(cold).",
   "metadata": {
    "cell_id": "d6333ed1-e162-4a54-82a8-41eaa93bfdea",
    "tags": [],
    "deepnote_app_coordinates": {
     "x": 0,
     "y": 0,
     "w": 12,
     "h": 5
    },
    "deepnote_to_be_reexecuted": false,
    "source_hash": "c7216d88",
    "execution_start": 1644537476999,
    "execution_millis": 6,
    "deepnote_cell_type": "code"
   },
   "outputs": [
    {
     "name": "stdout",
     "text": "",
     "output_type": "stream"
    }
   ],
   "execution_count": null
  },
  {
   "cell_type": "code",
   "source": "% File: temperature2.pl\ntemperature(warm).",
   "metadata": {
    "cell_id": "718e278d-95b8-4a23-88d1-85304936435b",
    "tags": [],
    "deepnote_app_coordinates": {
     "x": 0,
     "y": 0,
     "w": 12,
     "h": 5
    },
    "deepnote_to_be_reexecuted": false,
    "source_hash": "1a6c2c71",
    "execution_start": 1644537477000,
    "execution_millis": 5,
    "deepnote_cell_type": "code"
   },
   "outputs": [
    {
     "name": "stdout",
     "text": "",
     "output_type": "stream"
    }
   ],
   "execution_count": null
  },
  {
   "cell_type": "code",
   "source": "?- temperature(T).",
   "metadata": {
    "cell_id": "04c0d3b5-9d0d-4cf2-9715-a5ed385c53f2",
    "tags": [],
    "deepnote_app_coordinates": {
     "x": 0,
     "y": 0,
     "w": 12,
     "h": 5
    },
    "deepnote_to_be_reexecuted": false,
    "source_hash": "179ee3de",
    "execution_start": 1644537477001,
    "execution_millis": 6,
    "deepnote_cell_type": "code"
   },
   "outputs": [
    {
     "name": "stdout",
     "text": "T = cold ;\nT = warm .",
     "output_type": "stream"
    }
   ],
   "execution_count": null
  },
  {
   "cell_type": "markdown",
   "source": "### Consulting additional files",
   "metadata": {
    "cell_id": "6489172a-028a-4a52-8c28-6126bfcb4e74",
    "tags": [],
    "is_collapsed": false,
    "deepnote_app_coordinates": {
     "x": 0,
     "y": 0,
     "w": 12,
     "h": 5
    },
    "deepnote_cell_type": "text-cell-h3"
   }
  },
  {
   "cell_type": "markdown",
   "source": "You can also consult files which have been created separately to your notebook. For example, here we consult the **dec.pl** file which is saved in the **work** folder. We are then free to use any predicate definitions from **dec.pl**.",
   "metadata": {
    "cell_id": "2ab9c8ea-bff6-4b0d-9b32-4ab21110f592",
    "tags": [],
    "deepnote_app_coordinates": {
     "x": 0,
     "y": 0,
     "w": 12,
     "h": 5
    },
    "deepnote_cell_type": "markdown"
   }
  },
  {
   "cell_type": "code",
   "source": "?- cd('~/work'), ['dec'].",
   "metadata": {
    "cell_id": "aad71cf6-931e-4f9d-a6ab-ccb266aba0a7",
    "tags": [],
    "deepnote_app_coordinates": {
     "x": 0,
     "y": 0,
     "w": 12,
     "h": 5
    },
    "deepnote_to_be_reexecuted": false,
    "source_hash": "1c8fc5c6",
    "execution_start": 1644537477003,
    "execution_millis": 49,
    "deepnote_cell_type": "code"
   },
   "outputs": [
    {
     "name": "stdout",
     "text": "true.",
     "output_type": "stream"
    }
   ],
   "execution_count": null
  },
  {
   "cell_type": "markdown",
   "source": "### Python Support",
   "metadata": {
    "cell_id": "a3dcc421-e7da-4211-93ef-a4fe25f0ca1c",
    "tags": [],
    "is_collapsed": false,
    "deepnote_app_coordinates": {
     "x": 0,
     "y": 0,
     "w": 12,
     "h": 5
    },
    "deepnote_cell_type": "text-cell-h3"
   }
  },
  {
   "cell_type": "markdown",
   "source": "Code cells headed with \"% PYTHON\" can run Python.",
   "metadata": {
    "cell_id": "dc14cbdd-878f-4adb-80ae-8c1098fa1ac2",
    "tags": [],
    "deepnote_app_coordinates": {
     "x": 0,
     "y": 0,
     "w": 12,
     "h": 5
    },
    "deepnote_cell_type": "markdown"
   }
  },
  {
   "cell_type": "code",
   "source": "% PYTHON\na = 3\nprint(a)",
   "metadata": {
    "cell_id": "c369544e-bb84-4dd9-83c3-e648a8ba31f8",
    "tags": [],
    "deepnote_app_coordinates": {
     "x": 0,
     "y": 0,
     "w": 12,
     "h": 5
    },
    "deepnote_to_be_reexecuted": false,
    "source_hash": "d50622d4",
    "execution_start": 1644537477052,
    "execution_millis": 5,
    "deepnote_cell_type": "code"
   },
   "outputs": [
    {
     "name": "stdout",
     "text": "3",
     "output_type": "stream"
    }
   ],
   "execution_count": null
  },
  {
   "cell_type": "markdown",
   "source": "## Output",
   "metadata": {
    "cell_id": "0953f8a9-41a2-40f6-a001-fbb17ca8cc6f",
    "tags": [],
    "is_collapsed": false,
    "deepnote_app_coordinates": {
     "x": 0,
     "y": 0,
     "w": 12,
     "h": 5
    },
    "deepnote_cell_type": "text-cell-h2"
   }
  },
  {
   "cell_type": "markdown",
   "source": "You can save output from a query cell by using the header \"% Output: [fileName]\". The output will be saved to the specified file in the **output_files** folder. For example, we can save the results of the query below into **names.txt**. The query output is still shown in the notebook as well.",
   "metadata": {
    "cell_id": "9490ba1a-fb04-4b84-9609-56f7da8d0632",
    "tags": [],
    "deepnote_app_coordinates": {
     "x": 0,
     "y": 0,
     "w": 12,
     "h": 5
    },
    "deepnote_cell_type": "markdown"
   }
  },
  {
   "cell_type": "code",
   "source": "% File: nameDefinitions.pl\nname(kate).\nname(hayden).",
   "metadata": {
    "cell_id": "dabe609b-5af9-4f46-bd30-b1bc05e26db3",
    "tags": [],
    "deepnote_app_coordinates": {
     "x": 0,
     "y": 0,
     "w": 12,
     "h": 5
    },
    "deepnote_to_be_reexecuted": false,
    "source_hash": "26e85336",
    "execution_start": 1644537477053,
    "execution_millis": 4,
    "deepnote_cell_type": "code"
   },
   "outputs": [
    {
     "name": "stdout",
     "text": "",
     "output_type": "stream"
    }
   ],
   "execution_count": null
  },
  {
   "cell_type": "code",
   "source": "% Output: names.txt\n?- name(N).",
   "metadata": {
    "cell_id": "90b3d6fb-294f-408a-98d9-6b2c1e5c0eeb",
    "tags": [],
    "deepnote_app_coordinates": {
     "x": 0,
     "y": 0,
     "w": 12,
     "h": 5
    },
    "deepnote_to_be_reexecuted": false,
    "source_hash": "aa9794fb",
    "execution_start": 1644537477054,
    "execution_millis": 3,
    "deepnote_cell_type": "code"
   },
   "outputs": [
    {
     "name": "stdout",
     "text": "N = kate ;\nN = hayden .",
     "output_type": "stream"
    }
   ],
   "execution_count": null
  },
  {
   "cell_type": "markdown",
   "source": "We can print the contents of the **names.txt** file to show that the output has been saved successfully:",
   "metadata": {
    "cell_id": "fad4ee97-229c-483d-a0a9-4614987a216a",
    "tags": [],
    "deepnote_app_coordinates": {
     "x": 0,
     "y": 0,
     "w": 12,
     "h": 5
    },
    "deepnote_cell_type": "markdown"
   }
  },
  {
   "cell_type": "code",
   "source": "% PYTHON\nf = open('output_files/names.txt', 'r')\nfile_contents = f.read()\nf.close()\nprint(file_contents)",
   "metadata": {
    "cell_id": "889a9a29-aa3e-4658-8863-5c464dac73d9",
    "tags": [],
    "deepnote_app_coordinates": {
     "x": 0,
     "y": 0,
     "w": 12,
     "h": 5
    },
    "deepnote_to_be_reexecuted": false,
    "source_hash": "9932177d",
    "execution_start": 1644537477058,
    "execution_millis": 2,
    "deepnote_cell_type": "code"
   },
   "outputs": [
    {
     "name": "stdout",
     "text": "N = kate ;\nN = hayden .",
     "output_type": "stream"
    }
   ],
   "execution_count": null
  },
  {
   "cell_type": "markdown",
   "source": "Note that the contents of the **output_files** folder are automatically removed each time a notebook is run. If you wish to export your predicates from your notebook to another application, the contents of all your consult cells for the current notebook are saved to **allCells.pl** in the **output_files** folder. You therefore should not choose this file name for any other output you wish to save! See the current contents of **allCells.pl** below, which matches with all of the consult cells declared above.",
   "metadata": {
    "cell_id": "dae33311-009a-424c-8ea2-34a35d80df33",
    "tags": [],
    "deepnote_app_coordinates": {
     "x": 0,
     "y": 0,
     "w": 12,
     "h": 5
    },
    "deepnote_cell_type": "markdown"
   }
  },
  {
   "cell_type": "code",
   "source": "% PYTHON\nf = open('output_files/allCells.pl', 'r')\nfile_contents = f.read()\nf.close()\nprint(file_contents)",
   "metadata": {
    "cell_id": "945674ee-9317-48c5-86c3-00dca2c4a8c4",
    "tags": [],
    "deepnote_app_coordinates": {
     "x": 0,
     "y": 0,
     "w": 12,
     "h": 5
    },
    "deepnote_to_be_reexecuted": false,
    "source_hash": "365c116f",
    "execution_start": 1644537477061,
    "execution_millis": 37,
    "deepnote_cell_type": "code"
   },
   "outputs": [
    {
     "name": "stdout",
     "text": "% File: testFile.pl\nstudent(kate).\nstudent(hayden).\n\n% File: testFile.pl\nsubject(computerScience).\nsubject(dataScience).\n\n% File: weather1.pl\nweather(rainy).\n\n% File: weather2.pl\nweather(cloudy).\n\n% File: temperature1.pl\n:- multifile temperature/1.\ntemperature(cold).\n\n% File: temperature2.pl\ntemperature(warm).\n\n% File: nameDefinitions.pl\nname(kate).\nname(hayden).",
     "output_type": "stream"
    }
   ],
   "execution_count": null
  },
  {
   "cell_type": "markdown",
   "source": "### Warnings and Errors",
   "metadata": {
    "cell_id": "2090dc1d-ebbb-47f0-9730-ec92752390eb",
    "tags": [],
    "is_collapsed": false,
    "deepnote_app_coordinates": {
     "x": 0,
     "y": 0,
     "w": 12,
     "h": 5
    },
    "deepnote_cell_type": "text-cell-h3"
   }
  },
  {
   "cell_type": "markdown",
   "source": "Note that in its current state, this JSwipl kernel does not support warning messages or most error messages. In the cell below, there is a full stop missing at the end of the predicate declaration. When this cell is run, we are not given any indication that there is a problem with our code, yet when we query the contents of the *temperature/1* predicate, mild is not a listed argument. Likewise, leaving a full stop of the end of our query means that it cannot be executed, although we are not directly warned of this.",
   "metadata": {
    "cell_id": "71b1e272-1b27-4683-9c3d-70b2562db987",
    "tags": [],
    "deepnote_app_coordinates": {
     "x": 0,
     "y": 0,
     "w": 12,
     "h": 5
    },
    "deepnote_cell_type": "markdown"
   }
  },
  {
   "cell_type": "code",
   "source": "% File: invalid.pl\ntemperature(mild)",
   "metadata": {
    "cell_id": "98668750-30f7-46b3-996d-2bcea2cfb462",
    "tags": [],
    "deepnote_app_coordinates": {
     "x": 0,
     "y": 0,
     "w": 12,
     "h": 5
    },
    "deepnote_to_be_reexecuted": false,
    "source_hash": "715ef19b",
    "execution_start": 1644537477094,
    "execution_millis": 5,
    "deepnote_cell_type": "code"
   },
   "outputs": [
    {
     "name": "stdout",
     "text": "",
     "output_type": "stream"
    }
   ],
   "execution_count": null
  },
  {
   "cell_type": "code",
   "source": "?- temperature(X).",
   "metadata": {
    "cell_id": "4f5528f9-7a88-4f74-b30b-b2a12d8cd002",
    "tags": [],
    "deepnote_app_coordinates": {
     "x": 0,
     "y": 0,
     "w": 12,
     "h": 5
    },
    "deepnote_to_be_reexecuted": false,
    "source_hash": "1a6c22b0",
    "execution_start": 1644537477096,
    "execution_millis": 4,
    "deepnote_cell_type": "code"
   },
   "outputs": [
    {
     "name": "stdout",
     "text": "X = cold ;\nX = warm .",
     "output_type": "stream"
    }
   ],
   "execution_count": null
  },
  {
   "cell_type": "code",
   "source": "?- temperature(X)",
   "metadata": {
    "cell_id": "18012fb5-df6d-45c8-a707-445f446ef666",
    "tags": [],
    "deepnote_app_coordinates": {
     "x": 0,
     "y": 0,
     "w": 12,
     "h": 5
    },
    "deepnote_to_be_reexecuted": false,
    "source_hash": "c1df1c43",
    "execution_start": 1644537477096,
    "execution_millis": 4,
    "deepnote_cell_type": "code"
   },
   "outputs": [
    {
     "name": "stdout",
     "text": "",
     "output_type": "stream"
    }
   ],
   "execution_count": null
  },
  {
   "cell_type": "markdown",
   "source": "### Readability",
   "metadata": {
    "cell_id": "6abae21f-f0a0-4a6d-91b6-9abf59ec3e73",
    "tags": [],
    "is_collapsed": false,
    "deepnote_app_coordinates": {
     "x": 0,
     "y": 0,
     "w": 12,
     "h": 5
    },
    "deepnote_cell_type": "text-cell-h3"
   }
  },
  {
   "cell_type": "markdown",
   "source": "The Jswipl kernel is not supported to produce user readible output in all cases that would be handled by standard SWI Prolog. Using double quotation marks tends to produce the most readible output for arguments used within lists or colon separated values. Arguments entered as atoms or with single quotation marks are likely to be shown in an **Atom()** wrapper class for output. In the example below, only the double quoted argument (third in the list) is readible in the query output.",
   "metadata": {
    "cell_id": "d31ca2a4-6c2b-435d-b0eb-4f0b65f94542",
    "tags": [],
    "deepnote_app_coordinates": {
     "x": 0,
     "y": 0,
     "w": 12,
     "h": 5
    },
    "deepnote_cell_type": "markdown"
   }
  },
  {
   "cell_type": "code",
   "source": "% File: formatting.pl\ninformation(ethnicity:[pasifika]).\ninformation(ethnicity:['Pasifika']).\ninformation(ethnicity:[\"Pasifika\"]).",
   "metadata": {
    "cell_id": "fd3a92f5-0fec-4098-871b-f5bb759221cc",
    "tags": [],
    "deepnote_app_coordinates": {
     "x": 0,
     "y": 0,
     "w": 12,
     "h": 5
    },
    "deepnote_to_be_reexecuted": false,
    "source_hash": "7412df23",
    "execution_start": 1644537477102,
    "execution_millis": 10,
    "deepnote_cell_type": "code"
   },
   "outputs": [
    {
     "name": "stdout",
     "text": "",
     "output_type": "stream"
    }
   ],
   "execution_count": null
  },
  {
   "cell_type": "code",
   "source": "?- information(I).\n",
   "metadata": {
    "cell_id": "3f9d9419-5b0f-4344-a041-693e69a69d2c",
    "tags": [],
    "deepnote_app_coordinates": {
     "x": 0,
     "y": 0,
     "w": 12,
     "h": 5
    },
    "deepnote_to_be_reexecuted": false,
    "source_hash": "a809f4e",
    "execution_start": 1644537477147,
    "execution_millis": 5,
    "deepnote_cell_type": "code"
   },
   "outputs": [
    {
     "name": "stdout",
     "text": "I = :(ethnicity, [Atom('672773')]) ;\nI = :(ethnicity, [Atom('672901')]) ;\nI = :(ethnicity, [b'Pasifika']) .",
     "output_type": "stream"
    }
   ],
   "execution_count": null
  },
  {
   "cell_type": "markdown",
   "source": "### Special Characters",
   "metadata": {
    "cell_id": "8f94b568-2de0-4890-95d9-63bd50c86438",
    "tags": [],
    "is_collapsed": false,
    "deepnote_app_coordinates": {
     "x": 0,
     "y": 0,
     "w": 12,
     "h": 5
    },
    "deepnote_cell_type": "text-cell-h3"
   }
  },
  {
   "cell_type": "markdown",
   "source": "However, note that while double quoted arguments produce the most readible output in colon separated values, macrons and other special characters are better supported in atom or single quote form.",
   "metadata": {
    "cell_id": "812e1307-c15d-4fb4-a42d-8b411c74d532",
    "tags": [],
    "deepnote_app_coordinates": {
     "x": 0,
     "y": 0,
     "w": 12,
     "h": 5
    },
    "deepnote_cell_type": "markdown"
   }
  },
  {
   "cell_type": "code",
   "source": "% File: macronTest.pl\ninformation(ethnicity:[māori]).\ninformation(ethnicity:['Māori']).\ninformation(ethnicity:[\"Māori\"]).\nethnicity([māori]).\nethnicity(['Māori']).\nethnicity([\"Māori\"]).\ngerman(groß).\ngerman('groß').\ngerman(\"groß\").",
   "metadata": {
    "cell_id": "73482b1d-4bd3-40d1-81c4-1e376c0b44e7",
    "tags": [],
    "deepnote_app_coordinates": {
     "x": 0,
     "y": 0,
     "w": 12,
     "h": 5
    },
    "deepnote_to_be_reexecuted": false,
    "source_hash": "b6b1432b",
    "execution_start": 1644537477148,
    "execution_millis": 4,
    "deepnote_cell_type": "code"
   },
   "outputs": [
    {
     "name": "stdout",
     "text": "",
     "output_type": "stream"
    }
   ],
   "execution_count": null
  },
  {
   "cell_type": "code",
   "source": "?- information(I).\n?- ethnicity(E).\n?- german(G).",
   "metadata": {
    "cell_id": "c3a1620f-fae3-4649-a272-3fb59737814c",
    "tags": [],
    "deepnote_app_coordinates": {
     "x": 0,
     "y": 0,
     "w": 12,
     "h": 5
    },
    "deepnote_to_be_reexecuted": false,
    "source_hash": "fd955d49",
    "execution_start": 1644537477149,
    "execution_millis": 5,
    "deepnote_cell_type": "code"
   },
   "outputs": [
    {
     "name": "stdout",
     "text": "I = :(ethnicity, [Atom('674309')]) ;\nI = :(ethnicity, [Atom('674437')]) ;\nI = :(ethnicity, [b'M\\xc4\\x81ori']) .\nE = [ māori ] ;\nE = [ Māori ] ;\nE = [ b'M\\xc4\\x81ori' ] .\nG = groß ;\nG = groß ;\nG = b'gro\\xc3\\x9f' .",
     "output_type": "stream"
    }
   ],
   "execution_count": null
  },
  {
   "cell_type": "markdown",
   "source": "## Troubleshooting",
   "metadata": {
    "cell_id": "44cbba58-3a1d-417a-8424-8794481b8126",
    "tags": [],
    "is_collapsed": false,
    "deepnote_app_coordinates": {
     "x": 0,
     "y": 0,
     "w": 12,
     "h": 5
    },
    "deepnote_cell_type": "text-cell-h2"
   }
  },
  {
   "cell_type": "markdown",
   "source": "Help! My predicates don't show up when I run a basic query!\n\nTry the following:\n- Re-run the notebook.\n- Have you headed the cell you wish to consult with \"% File: [name].pl%?\n- Do all of the cells you wish to consult have unique names (provided you're not purposely overwriting cells!)\n- Check the *consulted_cells* folder for all of your named consult files.\n- Make sure any predicates used across multiple cells are declared to be multifile.\n- Check that your queries and consult files don't have any obvious syntax errors - think missing commas or full stops.\n- Try copying your code from **output_files/allCells.pl* into a local prolog file and consult it in standard [SWI Prolog](https://www.swi-prolog.org/Download.html).",
   "metadata": {
    "cell_id": "94f645c9-6853-48b6-ad9a-1e9aa59edd29",
    "tags": [],
    "deepnote_app_coordinates": {
     "x": 0,
     "y": 0,
     "w": 12,
     "h": 5
    },
    "deepnote_cell_type": "markdown"
   }
  },
  {
   "cell_type": "markdown",
   "source": "Help! My output isn't readible!\n\nSee the *Readability* and *Special Characters* sections above.",
   "metadata": {
    "cell_id": "ccf07e66-f6f0-4a95-afce-b39c4555788d",
    "tags": [],
    "deepnote_app_coordinates": {
     "x": 0,
     "y": 0,
     "w": 12,
     "h": 5
    },
    "deepnote_cell_type": "markdown"
   }
  },
  {
   "cell_type": "markdown",
   "source": "<a style='text-decoration:none;line-height:16px;display:flex;color:#5B5B62;padding:10px;justify-content:end;' href='https://deepnote.com?utm_source=created-in-deepnote-cell&projectId=1527cc64-36a2-4b35-bd8b-8d493ca554fa' target=\"_blank\">\n<img alt='Created in deepnote.com' style='display:inline;max-height:16px;margin:0px;margin-right:7.5px;' src='data:image/svg+xml;base64,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' > </img>\nCreated in <span style='font-weight:600;margin-left:4px;'>Deepnote</span></a>",
   "metadata": {
    "tags": [],
    "created_in_deepnote_cell": true,
    "deepnote_cell_type": "markdown"
   }
  }
 ],
 "nbformat": 4,
 "nbformat_minor": 2,
 "metadata": {
  "orig_nbformat": 2,
  "deepnote": {
   "is_reactive": false
  },
  "deepnote_notebook_id": "89d79fe0-03db-48ba-abee-bb9b499cefb8",
  "deepnote_execution_queue": [],
  "deepnote_app_layout": "article"
 }
}