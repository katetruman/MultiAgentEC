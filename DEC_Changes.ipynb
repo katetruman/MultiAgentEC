{
 "cells": [
  {
   "cell_type": "markdown",
   "source": "# Changes made to dec.pl",
   "metadata": {
    "cell_id": "85b1d84f-5b50-4b0d-8bef-528500a6838e",
    "tags": [],
    "is_collapsed": false,
    "deepnote_cell_height": 82,
    "deepnote_cell_type": "text-cell-h1"
   }
  },
  {
   "cell_type": "code",
   "metadata": {
    "cell_id": "958be371-9389-4a50-8321-c59328284fdf",
    "tags": [],
    "deepnote_to_be_reexecuted": false,
    "source_hash": "f83829da",
    "execution_start": 1645474439304,
    "execution_millis": 51,
    "deepnote_cell_height": 112,
    "deepnote_cell_type": "code"
   },
   "source": "?- cd('~/work'), ['dec:notation'].",
   "outputs": [
    {
     "name": "stdout",
     "text": "true.",
     "output_type": "stream"
    }
   ],
   "execution_count": null
  },
  {
   "cell_type": "markdown",
   "source": "This notebook details the changes I have made to the dec.pl file during the last ten weeks. (For changes made to the Deepnote kernel, see [using_jswipl.ipynb](using_jswipl.ipynb)).\n\nGeneral changes:\n- Adding an agent / actor argument\n- Derived fluents\n- Added a check for existing `holdsAtCached` fluents in the `tick/1` predicate to avoid duplicate `holdsAtCached` assertions.\n- Removed an obsolete clause declaring `holdsAtNoCache` fluents at T = -1.\n\n`Eval` related changes:\n- Provided support for the `or` operator in addition to the existing `and` operator\n- Added a `condition/1` predicate which allows logical conditions to be checked\n- Added to the `eventually`, `never`, `always` and `until` support in `eval` clauses, so that `within`, `withinNextStart`, `later`, `delay`, `before` and `preceded` can also be used.\n- Added support for adjustable expectation countdown times, using `within` as a test case.\n- Added support for expectations which are independent of the expectation rule which created them\n",
   "metadata": {
    "cell_id": "b14d92a2-cfb4-43bb-8f8d-4589fbc1a94f",
    "tags": [],
    "deepnote_cell_height": 603,
    "deepnote_cell_type": "markdown"
   }
  },
  {
   "cell_type": "markdown",
   "source": "### Actors",
   "metadata": {
    "cell_id": "34a2c359-1b29-4c6f-8308-c4089a52eafd",
    "tags": [],
    "is_collapsed": false,
    "deepnote_cell_height": 62,
    "deepnote_cell_type": "text-cell-h3"
   }
  },
  {
   "cell_type": "markdown",
   "source": "As discussed in the **AgentsAndEvents** notebook, predicates in **dec.pl** have been altered so that `happensAtNarrative`, `initially`, `initiates` and `terminates` predicates should have a first argument in the form `Agent:Event`, rather than simply `Event`. `HappensAt`, `holdsAt`, `holdsAtCached`, `releases`, `releasedAtCached`, `progress` and `label` take an additional Actor argument as the first parameter.\n\nFluents which hold and events which occur for one agent will not hold / occur for another agent unless explicitly stated, or inheritance rules are defined or the agent parameter is a free variable when the fluent / event is declared.\n\nFor example, we can declare that a `pressButton` event occurs for the `home` actor at time period 1. We can then check that the event and follow on fluent hold only for this actor:",
   "metadata": {
    "cell_id": "ee956bc8-c1bc-4450-aa66-ac96f811676e",
    "tags": [],
    "deepnote_cell_height": 190,
    "deepnote_cell_type": "markdown"
   }
  },
  {
   "cell_type": "code",
   "metadata": {
    "cell_id": "80f9df98-0739-45f9-a149-693a32352d04",
    "tags": [],
    "deepnote_to_be_reexecuted": false,
    "source_hash": "ae01ca81",
    "execution_start": 1645474439358,
    "execution_millis": 12,
    "deepnote_cell_height": 117,
    "deepnote_cell_type": "code"
   },
   "source": "% File: actorExample.pl\nhappensAtNarrative(home:pressButton(kitchen), 1).\ninitiates(home:pressButton(Room), lightOn(Room), _).",
   "outputs": [
    {
     "name": "stdout",
     "text": "",
     "output_type": "stream"
    }
   ],
   "execution_count": null
  },
  {
   "cell_type": "code",
   "metadata": {
    "cell_id": "4253bdc4-5077-4f52-8851-13c27d174d62",
    "tags": [],
    "deepnote_to_be_reexecuted": false,
    "source_hash": "3d572164",
    "execution_start": 1645474439373,
    "execution_millis": 9,
    "deepnote_cell_height": 264,
    "deepnote_cell_type": "code"
   },
   "source": "?- run(3).\n?- happensAt(Actor, Event, T).\n?- holdsAt(Actor, Fluent, 2).\n?- holdsAt(another, Fluent, 2).\n?- holdsAt(house, Fluent, 2).",
   "outputs": [
    {
     "name": "stdout",
     "text": "true.\nActor = home, Event = pressButton(kitchen), T = 1 .\nActor = home, Fluent = lightOn(kitchen) .\nfalse.\nfalse.",
     "output_type": "stream"
    }
   ],
   "execution_count": null
  },
  {
   "cell_type": "code",
   "metadata": {
    "cell_id": "55f2f4d5-8cc6-4c1c-81ed-fb0422517f51",
    "tags": [],
    "deepnote_to_be_reexecuted": false,
    "source_hash": "9a0bdbe",
    "execution_start": 1645474439423,
    "execution_millis": 6,
    "deepnote_cell_height": 188,
    "deepnote_cell_type": "code"
   },
   "source": "?- cd('~/work'), ['dec:notation'].\n?- initialiseDEC.\n?- retractall(happensAtNarrative(_,_)).",
   "outputs": [
    {
     "name": "stdout",
     "text": "true.\ntrue.\ntrue.",
     "output_type": "stream"
    }
   ],
   "execution_count": null
  },
  {
   "cell_type": "markdown",
   "source": "### Derived fluents",
   "metadata": {
    "cell_id": "532864a3-7f2f-45a4-9e25-d05f4e66985e",
    "tags": [],
    "is_collapsed": false,
    "deepnote_cell_height": 62,
    "deepnote_cell_type": "text-cell-h3"
   }
  },
  {
   "cell_type": "markdown",
   "source": "A **derived_fluent/1** predicate was introduced to support state constraints involving the same type of fluent in both the head and the body of the clause. This meant that strata operations were supported even if the fluent was not used in a `initially`, `initiates` or `terminates` clause. However, it no longer appears to be needed:\n\nWe declare some parent-child relationships to hold for the **familyTree** agent, and declare that parents are ancestors, and people who are the parents of ancestors are also ancestors (a state constraint involving `ancestor/2` in both the head and the body).",
   "metadata": {
    "cell_id": "c0ca2812-9f71-413a-8af3-ba5c5e036312",
    "tags": [],
    "deepnote_cell_height": 132,
    "deepnote_cell_type": "markdown"
   }
  },
  {
   "cell_type": "code",
   "metadata": {
    "cell_id": "eb8358c4-805b-4176-b16f-be9d4e02f528",
    "tags": [],
    "deepnote_to_be_reexecuted": false,
    "source_hash": "a8b459dc",
    "execution_start": 1645474439424,
    "execution_millis": 5,
    "deepnote_cell_height": 225,
    "deepnote_cell_type": "code"
   },
   "source": "% File: ancestors.pl\ninitiates(familyTree:addParent(Parent, Child), parent(Parent, Child),_).\nhappensAtNarrative(familyTree:addParent(anne, bob),1).\nhappensAtNarrative(familyTree:addParent(anne, charlotte),1).\nhappensAtNarrative(familyTree:addParent(bob, diana),1).\nhappensAtNarrative(familyTree:addParent(charlotte, ellie),1).\n\nholdsAt(familyTree, ancestor(Parent, Child), T):- holdsAt(familyTree, parent(Parent, Child), T).\nholdsAt(familyTree, ancestor(Elder, Younger), T):- holdsAt(familyTree, parent(Elder, Offspring),T), \nholdsAt(familyTree, ancestor(Offspring, Younger), T).",
   "outputs": [
    {
     "name": "stdout",
     "text": "",
     "output_type": "stream"
    }
   ],
   "execution_count": null
  },
  {
   "cell_type": "markdown",
   "source": "When we check the fluents which hold at a later time period, both our parent and reliant ancestor fluents hold correctly. We did not have to define `derived_fluent(ancestor/2)`.",
   "metadata": {
    "cell_id": "f87a4295-dcbe-4431-a36b-18cb52c93b06",
    "tags": [],
    "deepnote_cell_height": 52,
    "deepnote_cell_type": "markdown"
   }
  },
  {
   "cell_type": "code",
   "metadata": {
    "cell_id": "0cb97f02-d044-45b4-b088-80c82fb38682",
    "tags": [],
    "deepnote_to_be_reexecuted": false,
    "source_hash": "1648f5c1",
    "execution_start": 1645474439425,
    "execution_millis": 5,
    "deepnote_cell_height": 330,
    "deepnote_cell_type": "code"
   },
   "source": "?- run(10).\n?- holdsAt(familyTree, Fluent, 4).",
   "outputs": [
    {
     "name": "stdout",
     "text": "true.\nFluent = parent(anne, bob) ;\nFluent = parent(anne, charlotte) ;\nFluent = parent(bob, diana) ;\nFluent = parent(charlotte, ellie) ;\nFluent = ancestor(anne, bob) ;\nFluent = ancestor(anne, charlotte) ;\nFluent = ancestor(bob, diana) ;\nFluent = ancestor(charlotte, ellie) ;\nFluent = ancestor(anne, diana) ;\nFluent = ancestor(anne, ellie) .",
     "output_type": "stream"
    }
   ],
   "execution_count": null
  },
  {
   "cell_type": "markdown",
   "source": "## Changes made to eval",
   "metadata": {
    "cell_id": "8d117f68-97e7-4cc6-972b-1bd9a61ed62f",
    "tags": [],
    "is_collapsed": false,
    "deepnote_cell_height": 70,
    "deepnote_cell_type": "text-cell-h2"
   }
  },
  {
   "cell_type": "code",
   "metadata": {
    "cell_id": "faab1652-92da-48ea-b949-cbf665b1ec89",
    "tags": [],
    "deepnote_to_be_reexecuted": false,
    "source_hash": "9a0bdbe",
    "execution_start": 1645474439427,
    "execution_millis": 59,
    "deepnote_cell_height": 188,
    "deepnote_cell_type": "code"
   },
   "source": "?- cd('~/work'), ['dec:notation'].\n?- initialiseDEC.\n?- retractall(happensAtNarrative(_,_)).",
   "outputs": [
    {
     "name": "stdout",
     "text": "true.\ntrue.\ntrue.",
     "output_type": "stream"
    }
   ],
   "execution_count": null
  },
  {
   "cell_type": "markdown",
   "source": "The `eval/4` predicate contains the following parameters: **Actor**, **Expression**, **Time period**, **Boolean result**.\nWhile `eval/4` in its orginal form could be used to check an event happened at or a fluent held at a particular time, it was not possible to evaluate a logical expression using this predicate.\n\nBelow, we declare an example event, `pressButton(kitchen)` which occurs at time one for the agent `home`, and which initiates the fluent `lightOn(kitchen)`. We can then check whether these and other events happen or fluents hold at a given time period using `eval`.",
   "metadata": {
    "cell_id": "bbec758b-ade7-4d6f-b60e-0d40372d25cf",
    "tags": [],
    "deepnote_cell_height": 132,
    "deepnote_cell_type": "markdown"
   }
  },
  {
   "cell_type": "code",
   "metadata": {
    "cell_id": "0cb9f1b0-dc7b-4c24-ac2e-e1a157857596",
    "tags": [],
    "deepnote_to_be_reexecuted": false,
    "source_hash": "5037274d",
    "execution_start": 1645474439482,
    "execution_millis": 6,
    "deepnote_cell_height": 117,
    "deepnote_cell_type": "code"
   },
   "source": "% File: evalTest.pl\nhappensAtNarrative(home:pressButton(kitchen), 1).\ninitiates(home:pressButton(Room), lightOn(Room), _).",
   "outputs": [
    {
     "name": "stdout",
     "text": "",
     "output_type": "stream"
    }
   ],
   "execution_count": null
  },
  {
   "cell_type": "markdown",
   "source": "Note that if you are using multi-valued fluents, you should wrap them in brackets so that preference is applied to the colon when checking matching predicates. Here, we declare a carpet multi-valued fluent in brackets and a wallpaper fluent not wrapped in brackets.",
   "metadata": {
    "cell_id": "a8c94831-8ad7-47d0-a3ce-dd6bfc3f2c22",
    "tags": [],
    "deepnote_cell_type": "markdown"
   }
  },
  {
   "cell_type": "code",
   "metadata": {
    "cell_id": "7460918f-b6e6-49d1-b3c4-ef80890e59ae",
    "tags": [],
    "deepnote_to_be_reexecuted": false,
    "source_hash": "da5c05ac",
    "execution_start": 1645474439484,
    "execution_millis": 4,
    "deepnote_cell_type": "code"
   },
   "source": "% File: initiallyTest.pl\ninitially(home:wallPaper=\"Flowers\").\ninitially(home:(carpet=\"Green\")).",
   "outputs": [
    {
     "name": "stdout",
     "text": "",
     "output_type": "stream"
    }
   ],
   "execution_count": null
  },
  {
   "cell_type": "markdown",
   "source": "The events and fluents declared above correctly evaluate to true, while undefined events and fluents evaluate to false.",
   "metadata": {
    "cell_id": "ff172fac-390f-4890-b658-d20069289a6d",
    "tags": [],
    "deepnote_cell_type": "markdown"
   }
  },
  {
   "cell_type": "code",
   "metadata": {
    "cell_id": "d1364f77-1b84-4f53-96f8-42eb23d21131",
    "tags": [],
    "deepnote_to_be_reexecuted": false,
    "source_hash": "cb8935fb",
    "execution_start": 1645474439485,
    "execution_millis": 32,
    "deepnote_cell_height": 264,
    "deepnote_cell_type": "code"
   },
   "source": "?- run(50).\n?- eval(home, happ(pressButton(Room)), 1, Boolean).\n?- eval(home, happ(handStand), 1, Boolean).\n?- eval(home, lightOn(Room), 2, Boolean).\n?- eval(home, lightOff(Room), 2, Boolean).\n?- eval(house, happ(pressButton(Room)), 1, Boolean).",
   "outputs": [
    {
     "name": "stdout",
     "text": "true.\nRoom = kitchen, Boolean = true .\nBoolean = false .\nRoom = kitchen, Boolean = true .\nRoom = _1594, Boolean = false .\nRoom = _1596, Boolean = false .",
     "output_type": "stream"
    }
   ],
   "execution_count": null
  },
  {
   "cell_type": "markdown",
   "source": "Note that the carpet multi-valued fluent holds correctly at T = 0, while the wallpaper multi-valued fluent, which was not nested in brackets, is not produced by an `initially` query with the agent specified, and thus does not hold at T = 0.",
   "metadata": {
    "cell_id": "dad81388-243b-4fa4-80cb-5e7df9394b59",
    "tags": [],
    "deepnote_cell_type": "markdown"
   }
  },
  {
   "cell_type": "code",
   "metadata": {
    "cell_id": "10e60a25-caef-4bf0-a9ac-7fa1a87fb576",
    "tags": [],
    "deepnote_to_be_reexecuted": false,
    "source_hash": "5f4bbe58",
    "execution_start": 1645474439514,
    "execution_millis": 5,
    "deepnote_cell_type": "code"
   },
   "source": "?- initially(AgentWithFluent).\n?- initially(home:Fluent).\n?- holdsAt(home,Fluent, 0).",
   "outputs": [
    {
     "name": "stdout",
     "text": "AgentWithFluent = {':(home, wallPaper)': b'Flowers'} ;\nAgentWithFluent = :(home, =(carpet, b'Green')) .\nFluent = {'carpet': b'Green'} .\nFluent = {'carpet': b'Green'} .",
     "output_type": "stream"
    }
   ],
   "execution_count": null
  },
  {
   "cell_type": "markdown",
   "source": "### Logical conditions",
   "metadata": {
    "cell_id": "c2e99038-bd34-480f-8735-496ba0b3a857",
    "tags": [],
    "is_collapsed": false,
    "deepnote_cell_height": 62,
    "deepnote_cell_type": "text-cell-h3"
   }
  },
  {
   "cell_type": "markdown",
   "source": "A standard logical expression evaluates to false:",
   "metadata": {
    "cell_id": "aba23059-c97f-4252-b1c5-25296b4c2d72",
    "tags": [],
    "deepnote_cell_height": 52,
    "deepnote_cell_type": "markdown"
   }
  },
  {
   "cell_type": "code",
   "metadata": {
    "cell_id": "3218dc5f-1d2b-4b78-8f37-2dcfff52f989",
    "tags": [],
    "deepnote_to_be_reexecuted": false,
    "source_hash": "29940505",
    "execution_start": 1645474439515,
    "execution_millis": 465154,
    "deepnote_cell_height": 150,
    "deepnote_cell_type": "code"
   },
   "source": "?- eval(_, 1==1, _, Boolean).\n?- eval(_, 2==1, _, Boolean).",
   "outputs": [
    {
     "name": "stdout",
     "text": "Boolean = false .\nBoolean = false .",
     "output_type": "stream"
    }
   ],
   "execution_count": null
  },
  {
   "cell_type": "markdown",
   "source": "However, the following line of code was added to dec.pl, which means that logical expressions wrapped in `condition()` can be successfully evaluated:\n\n`eval(_, condition(X),_,Bool):- (X -> Bool = true ; Bool = false).`\n",
   "metadata": {
    "cell_id": "006271a2-5527-496f-9c77-26b9029b61c6",
    "tags": [],
    "deepnote_cell_height": 91,
    "deepnote_cell_type": "markdown"
   }
  },
  {
   "cell_type": "code",
   "metadata": {
    "cell_id": "272c848a-bfae-462b-af72-3bdb0776dda0",
    "tags": [],
    "deepnote_to_be_reexecuted": false,
    "source_hash": "1335debc",
    "execution_start": 1645474439521,
    "execution_millis": 465123,
    "deepnote_cell_height": 150,
    "deepnote_cell_type": "code"
   },
   "source": "?- eval(_, condition(1==1), _, Boolean).\n?- eval(_, condition(2==1), _, Boolean).",
   "outputs": [
    {
     "name": "stdout",
     "text": "Boolean = true .\nBoolean = false .",
     "output_type": "stream"
    }
   ],
   "execution_count": null
  },
  {
   "cell_type": "markdown",
   "source": "While an expression like `1 == 1` is not inherently very useful to check, adding support for the `condition` argument allows more logical conditions to be applied to an `eval` check. For example, we can check if the argument in our `pressButton` event is the kitchen:",
   "metadata": {
    "cell_id": "2eaadde5-4a95-42d1-9c7c-312fcbb13fde",
    "tags": [],
    "deepnote_cell_height": 74,
    "deepnote_cell_type": "markdown"
   }
  },
  {
   "cell_type": "code",
   "metadata": {
    "cell_id": "714b24a8-c55e-4c25-8077-0a8e9d17eeef",
    "tags": [],
    "deepnote_to_be_reexecuted": false,
    "source_hash": "1aa62590",
    "execution_start": 1645474439565,
    "execution_millis": 465128,
    "deepnote_cell_height": 168,
    "deepnote_cell_type": "code"
   },
   "source": "?- eval(home, and([happ(pressButton(Room)), condition(Room == kitchen)]), 1, Boolean).\n?- eval(home, and([happ(pressButton(Room)), condition(Room \\= kitchen)]), 1, Boolean).\n",
   "outputs": [
    {
     "name": "stdout",
     "text": "Room = kitchen, Boolean = true .\nRoom = kitchen, Boolean = false .",
     "output_type": "stream"
    }
   ],
   "execution_count": null
  },
  {
   "cell_type": "markdown",
   "source": "### Or operator",
   "metadata": {
    "cell_id": "fe61612e-fc99-4db9-9407-e0a00a527065",
    "tags": [],
    "is_collapsed": false,
    "deepnote_cell_height": 62,
    "deepnote_cell_type": "text-cell-h3"
   }
  },
  {
   "cell_type": "markdown",
   "source": "We are also now able to use the `or` operator in addition to the `and` operator in our `eval/4` clauses. This required creating `reduce_or/3` in the same style as `reduce_and/3` and applying `map_eval` to the results.",
   "metadata": {
    "cell_id": "58774370-1d8f-4c3f-9ee5-0bcb19e2e19e",
    "tags": [],
    "deepnote_cell_height": 74,
    "deepnote_cell_type": "markdown"
   }
  },
  {
   "cell_type": "code",
   "metadata": {
    "cell_id": "ad2209f8-c075-466d-92cb-25281f10dc6e",
    "tags": [],
    "deepnote_to_be_reexecuted": false,
    "source_hash": "1d0b0c7a",
    "execution_start": 1645474439565,
    "execution_millis": 2,
    "deepnote_cell_height": 226,
    "deepnote_cell_type": "code"
   },
   "source": "?- eval(_, and([condition(1==1), condition(2==1)]), _, Boolean).\n?- eval(_, or([condition(1==1), condition(2==1)]), _, Boolean).\n?- eval(_, or([condition(1==1), condition(2==2)]), _, Boolean).\n?- eval(_, or([condition(0==1), condition(1==2)]), _, Boolean).",
   "outputs": [
    {
     "name": "stdout",
     "text": "Boolean = false .\nBoolean = true .\nBoolean = true .\nBoolean = false .",
     "output_type": "stream"
    }
   ],
   "execution_count": null
  },
  {
   "cell_type": "markdown",
   "source": "Like `and`, `or` takes a list of conditions as an argument. We can successfully nest `and` and `or` operations:",
   "metadata": {
    "cell_id": "e069d159-244d-49f4-af1e-c68cceb744bb",
    "tags": [],
    "deepnote_cell_height": 52,
    "deepnote_cell_type": "markdown"
   }
  },
  {
   "cell_type": "code",
   "metadata": {
    "cell_id": "e19cab7a-1eb0-4444-9a69-058c5df54095",
    "tags": [],
    "deepnote_to_be_reexecuted": false,
    "source_hash": "3f02ff2c",
    "execution_start": 1645474439566,
    "execution_millis": 2,
    "deepnote_cell_height": 150,
    "deepnote_cell_type": "code"
   },
   "source": "?- eval(_, and([condition(1==1), or([condition(1==1)])]), _, Boolean).\n?- eval(_, and([condition(1==1), or([condition(2==1), condition(1=1)])]), _, Boolean).",
   "outputs": [
    {
     "name": "stdout",
     "text": "Boolean = true .\nBoolean = true .",
     "output_type": "stream"
    }
   ],
   "execution_count": null
  },
  {
   "cell_type": "markdown",
   "source": "### Extra temporal eval clauses",
   "metadata": {
    "cell_id": "8bc88103-03ba-4cba-bda1-68a22ca92d2e",
    "tags": [],
    "is_collapsed": false,
    "deepnote_cell_height": 62,
    "deepnote_cell_type": "text-cell-h3"
   }
  },
  {
   "cell_type": "markdown",
   "source": "The original version of dec.pl that I used had support for `next`, `until`, `never`, `always` and `eventually` conditions in `eval` statements, which meant that we could use these conditions in expectation rules. Now,`within`, `withinStartNext`, `later`, `delay`, `before` and `preceded` can also be used. Note that if the `preceded` clause checks for events occurring or fluents holding before T = 0, this will always produce a `false` result.\n\nCurrently, these clauses are set up to be fulfilled or violated at the end of the time range specified, rather than one time period later. For example, if we expect that an event B will occur within 3 time periods of event A, which occurs at time period 1, if event B does not occur at time period 1, 2, 3 or 4, the expectation will be violated at time period 4 rather than time period 5.\n\nIn order to exhibit these conditions, we reset out environment:",
   "metadata": {
    "cell_id": "927924ad-b2c1-48c6-8034-acd26b29147a",
    "tags": [],
    "deepnote_cell_height": 110,
    "deepnote_cell_type": "markdown"
   }
  },
  {
   "cell_type": "code",
   "metadata": {
    "cell_id": "9bda6ca4-ccb9-4f0d-909f-2f523c48ee0d",
    "tags": [],
    "deepnote_to_be_reexecuted": false,
    "source_hash": "bbe7a9f2",
    "execution_start": 1645474439594,
    "execution_millis": 465124,
    "deepnote_cell_height": 206,
    "deepnote_cell_type": "code"
   },
   "source": "?- cd('~/work'), ['dec:notation'].\n?- initialiseDEC.\n?- retractall(happensAtNarrative(_,_)).\n",
   "outputs": [
    {
     "name": "stdout",
     "text": "true.\ntrue.\ntrue.",
     "output_type": "stream"
    }
   ],
   "execution_count": null
  },
  {
   "cell_type": "markdown",
   "source": "To illustrate the use of these clauses, I will use a traffic light scenario:\n\n- A \"stop\" signal initiates the colour fluent to red, while a \"go\" signal initiates it to green and a \"slow\" signal initiates it to orange.\n\nThe expectation rules declared are as follows:\n- The traffic light will be green **within** 5 time periods of a stop event.\n- The traffic light will be orange within 7 time periods of a stop event, not counting the colour of the light when the stop event occurs (**withinStartNext**).\n- The traffic light will only get a \"go\" signal more than 2 time periods after a \"stop\" signal (expectation that a \"go\" signal will only occur **later** than 2 periods after the \"stop\" signal).\n- The traffic light will get a \"go\" signal exactly 3 time periods after a \"stop\" signal (**delay** expectation)\n- When a \"stop\" signal is received we expect that there will be a red light **before** an green light holds.\n- When a \"go\" signal occurs, it will have been **preceded** by a \"stop\" signal 3 time periods earlier.",
   "metadata": {
    "cell_id": "8ac84872-6b4b-4d5f-b78d-cc1e5c17939b",
    "tags": [],
    "deepnote_cell_height": 506,
    "deepnote_cell_type": "markdown"
   }
  },
  {
   "cell_type": "markdown",
   "source": "According to our narrative events, the traffic light receives a \"stop\" signal at time period one, a \"go\" signal at time period four and a \"slow\" signal at time period 7, and the light colour is initially orange. Note that as our `colour` fluent is multi-valued, it must be nested in brackets in our `initially` clause setting it to orange.",
   "metadata": {
    "cell_id": "feccd406-d022-4a06-8872-5d0e7196a5fe",
    "tags": [],
    "deepnote_cell_height": 52,
    "deepnote_cell_type": "markdown"
   }
  },
  {
   "cell_type": "code",
   "metadata": {
    "cell_id": "e989c42e-6d14-4f7e-bc06-bbad5ac32e3a",
    "tags": [],
    "deepnote_to_be_reexecuted": false,
    "source_hash": "77840a99",
    "execution_start": 1645474439595,
    "execution_millis": 5,
    "deepnote_cell_height": 423,
    "deepnote_cell_type": "code"
   },
   "source": "% File: trafficLightExample.pl\ninitiates(trafficLight:stop, colour=red, _).\ninitiates(trafficLight:go, colour=green, _).\ninitiates(trafficLight:slow, colour=orange, _).\n\ninitially(trafficLight:exp_rule(happ(stop), within(colour=green, 5), dependent, \n\"Traffic light will be green within 5 time periods of a stop event\")).\ninitially(trafficLight:exp_rule(happ(stop), withinStartNext(colour=orange, 7), dependent,\n\"Traffic light will be orange within 7 time periods of a stop event, not checking the current time period\")).\ninitially(trafficLight:exp_rule(happ(stop), later(happ(go), 2), dependent,\n\"Traffic light will get go signal more than 2 time periods after stop signal\")).\ninitially(trafficLight:exp_rule(happ(stop), delay(happ(go), 3), dependent, \n\"Traffic light will get go signal exactly 3 time periods after stop signal\")).\ninitially(trafficLight:exp_rule(happ(stop), before(colour=red, colour=green), dependent, \n\"On stop signal, red light will happen before green light\")).\n\ninitially(trafficLight:exp_rule(happ(go), preceded(happ(stop),3), dependent,\n\"On go signal, stop signal will have occurred 3 time periods earlier\")).\n\ninitially(trafficLight:(colour=orange)).\nhappensAtNarrative(trafficLight:stop, 1).\nhappensAtNarrative(trafficLight:go, 4).\nhappensAtNarrative(trafficLight:slow, 7).",
   "outputs": [
    {
     "name": "stdout",
     "text": "",
     "output_type": "stream"
    }
   ],
   "execution_count": null
  },
  {
   "cell_type": "code",
   "metadata": {
    "cell_id": "18ec0e41-d72c-4370-9ffd-d40fa36793e4",
    "tags": [],
    "deepnote_to_be_reexecuted": false,
    "source_hash": "4dd03e1b",
    "execution_start": 1645474439595,
    "execution_millis": 24,
    "deepnote_cell_height": 274,
    "deepnote_cell_type": "code"
   },
   "source": "?- run(15).",
   "outputs": [
    {
     "name": "stdout",
     "text": "true.",
     "output_type": "stream"
    }
   ],
   "execution_count": null
  },
  {
   "cell_type": "markdown",
   "source": "The **stop** event at time period one triggers five expectations. Note that although the traffic light is currently orange, it does not fulfil our expectation that the traffic light will be orange within 7 time periods of the stop event, as we do not check the current time period.",
   "metadata": {
    "cell_id": "5c4f4c9c-398c-491a-a222-51a5f04cd572",
    "tags": [],
    "deepnote_cell_height": 52,
    "deepnote_cell_type": "markdown"
   }
  },
  {
   "cell_type": "code",
   "metadata": {
    "cell_id": "a4fc6d2e-ac07-4335-bb46-c6d25329a389",
    "tags": [],
    "deepnote_to_be_reexecuted": false,
    "source_hash": "da948423",
    "execution_start": 1645474439622,
    "execution_millis": 11,
    "deepnote_cell_height": 210,
    "deepnote_cell_type": "code"
   },
   "source": "?- happensAt(trafficLight, Event, 1).\n?- holdsAt(trafficLight, colour=Colour, 1).\n?- holdsAt(trafficLight, exp(_, _, _, Outcome, _, Message), 1).\n",
   "outputs": [
    {
     "name": "stdout",
     "text": "Event = stop .\nColour = orange .\nOutcome = within(=(colour, green), 5), Message = b'Traffic light will be green within 5 time periods of a stop event' ;\nOutcome = withinStartNext(=(colour, orange), 7), Message = b'Traffic light will be orange within 7 time periods of a stop event, not checking the current time period' ;\nOutcome = later(happ(go), 2), Message = b'Traffic light will get go signal more than 2 time periods after stop signal' ;\nOutcome = delay(happ(go), 3), Message = b'Traffic light will get go signal exactly 3 time periods after stop signal' ;\nOutcome = before(=(colour, red), =(colour, green)), Message = b'On stop signal, red light will happen before green light' .",
     "output_type": "stream"
    }
   ],
   "execution_count": null
  },
  {
   "cell_type": "markdown",
   "source": "At T = 2, and T = 3, the countdown value for our `within`, `later` and `delay` expectations decrease by one each time. \n\nNote that at T = 2, our `withinStartNext` expectation has become a `within` expectation.",
   "metadata": {
    "cell_id": "bf2f55be-d3be-41f1-ac57-b7acb5b49809",
    "tags": [],
    "deepnote_cell_height": 52,
    "deepnote_cell_type": "markdown"
   }
  },
  {
   "cell_type": "code",
   "metadata": {
    "cell_id": "c3e6c9be-39ac-41df-9b7a-6d84623d8576",
    "tags": [],
    "deepnote_to_be_reexecuted": false,
    "source_hash": "eeb5880e",
    "execution_start": 1645474439635,
    "execution_millis": 8,
    "deepnote_cell_height": 328,
    "deepnote_cell_type": "code"
   },
   "source": "?- T = 2, holdsAt(trafficLight, exp(_, _, _, Outcome, _, Message), T).\n?- T = 3, holdsAt(trafficLight, exp(_, _, _, Outcome, _, Message), T).",
   "outputs": [
    {
     "name": "stdout",
     "text": "T = 2, Outcome = within(=(colour, green), 4), Message = b'Traffic light will be green within 5 time periods of a stop event' ;\nT = 2, Outcome = within(=(colour, orange), 6), Message = b'Traffic light will be orange within 7 time periods of a stop event, not checking the current time period' ;\nT = 2, Outcome = later(happ(go), 1), Message = b'Traffic light will get go signal more than 2 time periods after stop signal' ;\nT = 2, Outcome = delay(happ(go), 2), Message = b'Traffic light will get go signal exactly 3 time periods after stop signal' ;\nT = 2, Outcome = before(=(colour, red), =(colour, green)), Message = b'On stop signal, red light will happen before green light' .\nT = 3, Outcome = within(=(colour, green), 3), Message = b'Traffic light will be green within 5 time periods of a stop event' ;\nT = 3, Outcome = within(=(colour, orange), 5), Message = b'Traffic light will be orange within 7 time periods of a stop event, not checking the current time period' ;\nT = 3, Outcome = later(happ(go), 0), Message = b'Traffic light will get go signal more than 2 time periods after stop signal' ;\nT = 3, Outcome = delay(happ(go), 1), Message = b'Traffic light will get go signal exactly 3 time periods after stop signal' .",
     "output_type": "stream"
    }
   ],
   "execution_count": null
  },
  {
   "cell_type": "markdown",
   "source": "At time period 2, the light colour is red which fulfils our expectation that the light will be red before it is green.",
   "metadata": {
    "cell_id": "67f7f8e3-3460-4589-9917-c0b57d0cdd17",
    "tags": [],
    "deepnote_cell_type": "markdown"
   }
  },
  {
   "cell_type": "code",
   "metadata": {
    "cell_id": "4673d071-47e7-4e3b-a7a9-876c2f586d65",
    "tags": [],
    "deepnote_to_be_reexecuted": false,
    "source_hash": "53b4124e",
    "execution_start": 1645474439645,
    "execution_millis": 5,
    "deepnote_cell_type": "code"
   },
   "source": "?- holdsAt(trafficLight, colour=Colour, 2).\n?- happensAt(trafficLight, Event, 2).",
   "outputs": [
    {
     "name": "stdout",
     "text": "Colour = red .\nEvent = fulf(happ(stop), before(=(colour, red), =(colour, green)), 1, before(=(colour, red), =(colour, green)), dependent, b'On stop signal, red light will happen before green light') .",
     "output_type": "stream"
    }
   ],
   "execution_count": null
  },
  {
   "cell_type": "markdown",
   "source": "At time period three, the expectation that the traffic light will get a \"go\" signal `later` than 2 time periods after the \"stop\" signal is fulfilled, as a \"go\" signal event does not occur at time period 2 or 3.",
   "metadata": {
    "cell_id": "d0ceaff8-815a-4a8d-b7c3-b210f82b506a",
    "tags": [],
    "deepnote_cell_type": "markdown"
   }
  },
  {
   "cell_type": "code",
   "metadata": {
    "cell_id": "bfae7102-653d-4967-89e7-33098b75d403",
    "tags": [],
    "deepnote_to_be_reexecuted": false,
    "source_hash": "98155fe2",
    "execution_start": 1645474439696,
    "execution_millis": 1,
    "deepnote_cell_type": "code"
   },
   "source": "?- happensAt(trafficLight, Event, 3).",
   "outputs": [
    {
     "name": "stdout",
     "text": "Event = fulf(happ(stop), later(happ(go), 2), 1, later(happ(go), 0), dependent, b'Traffic light will get go signal more than 2 time periods after stop signal') .",
     "output_type": "stream"
    }
   ],
   "execution_count": null
  },
  {
   "cell_type": "markdown",
   "source": "At time period 4, the \"go\" signal occurs. This fulfils the expectations that the \"go\" signal will ocur 3 time periods after a \"stop\" signal and that a \"stop\" signal will preceed a \"go\" signal by 3 time periods.",
   "metadata": {
    "cell_id": "e072375f-549f-460c-a410-da18a1b653ba",
    "tags": [],
    "deepnote_cell_height": 96,
    "deepnote_cell_type": "markdown"
   }
  },
  {
   "cell_type": "code",
   "metadata": {
    "cell_id": "98d86f17-cec8-47a2-99e0-81302f18c3ee",
    "tags": [],
    "deepnote_to_be_reexecuted": false,
    "source_hash": "807f9d3e",
    "execution_start": 1645474439698,
    "execution_millis": 2,
    "deepnote_cell_height": 152,
    "deepnote_cell_type": "code"
   },
   "source": "?- happensAt(trafficLight, Event, 4).",
   "outputs": [
    {
     "name": "stdout",
     "text": "Event = go ;\nEvent = fulf(happ(stop), delay(happ(go), 3), 1, delay(happ(go), 0), dependent, b'Traffic light will get go signal exactly 3 time periods after stop signal') ;\nEvent = fulf(happ(go), preceded(happ(stop), 3), 4, preceded(happ(stop), 3), dependent, b'On go signal, stop signal will have occurred 3 time periods earlier') .",
     "output_type": "stream"
    }
   ],
   "execution_count": null
  },
  {
   "cell_type": "markdown",
   "source": "At time period 5, the light colour becomes green. This fulfils the expectations that the traffic light will be green within 5 time periods of a \"stop\" signal.",
   "metadata": {
    "cell_id": "2a290f6d-47be-47f4-9d55-d79029c77dfc",
    "tags": [],
    "deepnote_cell_height": 52,
    "deepnote_cell_type": "markdown"
   }
  },
  {
   "cell_type": "code",
   "metadata": {
    "cell_id": "d5912b54-b36e-491e-869e-82031e0ddaed",
    "tags": [],
    "deepnote_to_be_reexecuted": false,
    "source_hash": "cc24fb87",
    "execution_start": 1645474439698,
    "execution_millis": 31,
    "deepnote_cell_height": 174,
    "deepnote_cell_type": "code"
   },
   "source": "?- holdsAt(trafficLight, colour=Colour, 5).\n?- happensAt(trafficLight, Event, 5).",
   "outputs": [
    {
     "name": "stdout",
     "text": "Colour = green .\nEvent = fulf(happ(stop), within(=(colour, green), 5), 1, within(=(colour, green), 1), dependent, b'Traffic light will be green within 5 time periods of a stop event') .",
     "output_type": "stream"
    }
   ],
   "execution_count": null
  },
  {
   "cell_type": "markdown",
   "source": "At time period 7, the \"slow\" signal event occurs for the traffic light. This causes the colour of the traffic light to be orange at time period 8, which fulfils our expectation that the traffic light will be orange within 7 time periods of a \"stop\" signal event, not checking the time period that the \"stop\" signal occurs in.",
   "metadata": {
    "cell_id": "cad4c7b3-6524-408e-b240-0350cb9d82bb",
    "tags": [],
    "deepnote_cell_type": "markdown"
   }
  },
  {
   "cell_type": "code",
   "metadata": {
    "cell_id": "a8152a46-ea69-4091-9d46-19ea44aecf5f",
    "tags": [],
    "deepnote_to_be_reexecuted": false,
    "source_hash": "9bbe1842",
    "execution_start": 1645474439728,
    "execution_millis": 2,
    "deepnote_cell_type": "code"
   },
   "source": "?- T = 7, happensAt(trafficLight, Event, T).\n?- T = 8, holdsAt(trafficLight, colour=Colour, T).\n?- T = 8, happensAt(trafficLight, Event, T).",
   "outputs": [
    {
     "name": "stdout",
     "text": "T = 7, Event = slow .\nT = 8, Colour = orange .\nT = 8, Event = fulf(happ(stop), withinStartNext(=(colour, orange), 7), 1, within(=(colour, orange), 0), dependent, b'Traffic light will be orange within 7 time periods of a stop event, not checking the current time period') .",
     "output_type": "stream"
    }
   ],
   "execution_count": null
  },
  {
   "cell_type": "markdown",
   "source": "We will reset our environment to change our expectations and show how violations can occur. We retract all of our `initially/1` and `initiates/3` clauses.",
   "metadata": {
    "cell_id": "079df11f-c71e-46aa-ab28-730c0a26cbee",
    "tags": [],
    "deepnote_cell_height": 52,
    "deepnote_cell_type": "markdown"
   }
  },
  {
   "cell_type": "code",
   "metadata": {
    "cell_id": "2934e6a9-6d43-4486-8208-3eefb1759a43",
    "tags": [],
    "deepnote_to_be_reexecuted": false,
    "source_hash": "9a0bdbe",
    "execution_start": 1645474439728,
    "execution_millis": 4,
    "deepnote_cell_height": 188,
    "deepnote_cell_type": "code"
   },
   "source": "?- cd('~/work'), ['dec:notation'].\n?- initialiseDEC.\n?- retractall(happensAtNarrative(_,_)).",
   "outputs": [
    {
     "name": "stdout",
     "text": "true.\ntrue.\ntrue.",
     "output_type": "stream"
    }
   ],
   "execution_count": null
  },
  {
   "cell_type": "markdown",
   "source": "Our traffic light `initiates` clauses and narrative events remain the same, but our expectation rules have changed.\n\nThe expectation rules declared are now as follows:\n- The traffic light will be green **within** 2 time periods of a stop event.\n- The traffic light will be orange within 5 time periods of a stop event, not counting the colour of the light when the stop event occurs (**withinStartNext**).\n- The traffic light will only get a go signal more than 4 time periods after a stop signal (expectation that a go signal will only occur **later** than 4 periods after the stop signal).\n- The traffic light will get a \"go\" signal exactly 2 time periods after a stop signal (**delay** expectation)\n- When a \"stop\" signal is received we expect that there will be a green light **before** a red light holds.\n- When a \"go\" signal occurs, it will have been **preceded** by a \"stop\" signal 2 time periods earlier.",
   "metadata": {
    "cell_id": "7f22a5bd-cd10-4f6b-9b1a-bc7c59f4e541",
    "tags": [],
    "deepnote_cell_height": 238,
    "deepnote_cell_type": "markdown"
   }
  },
  {
   "cell_type": "code",
   "metadata": {
    "cell_id": "c4635cf1-268b-4e7b-a2ab-539bc82cbccd",
    "tags": [],
    "deepnote_to_be_reexecuted": false,
    "source_hash": "b92fb2f4",
    "execution_start": 1645474439732,
    "execution_millis": 10,
    "deepnote_cell_height": 405,
    "deepnote_cell_type": "code"
   },
   "source": "% File: trafficLightExample.pl\ninitiates(trafficLight:stop, colour=red, _).\ninitiates(trafficLight:go, colour=green, _).\ninitiates(trafficLight:slow, colour=orange).\n\ninitially(trafficLight:exp_rule(happ(stop), within(colour=green, 2), dependent, \n\"Traffic light will be green within 2 time periods of a stop event\")).\ninitially(trafficLight:exp_rule(happ(stop), withinStartNext(colour=orange, 5), dependent,\n\"Traffic light will be orange within 5 time periods of a stop event, not checking the current time period\")).\ninitially(trafficLight:exp_rule(happ(stop), later(happ(go), 4), dependent,\n\"Traffic light will get go signal more than 4 time periods after stop signal\")).\ninitially(trafficLight:exp_rule(happ(stop), delay(happ(go), 2), dependent, \n\"Traffic light will get go signal 2 time periods after stop signal\")).\ninitially(trafficLight:exp_rule(happ(stop), before(colour=green, colour=red), dependent, \n\"On stop signal, green light will then happen before red light\")).\ninitially(trafficLight:exp_rule(happ(go), preceded(happ(stop),2), dependent,\n\"On go signal, stop signal will have occurred 2 time periods earlier\")).\n\ninitially(trafficLight:(colour=orange)).\nhappensAtNarrative(trafficLight:stop, 1).\nhappensAtNarrative(trafficLight:go, 4).\nhappensAtNarrative(trafficLight:slow, 7).",
   "outputs": [
    {
     "name": "stdout",
     "text": "",
     "output_type": "stream"
    }
   ],
   "execution_count": null
  },
  {
   "cell_type": "markdown",
   "source": "The \"stop\" signal event at T = 1 triggers five expectations. Note that again, our withinStartNext expectation is not fulfiled at T = 1 even though the light is currently orange. ",
   "metadata": {
    "cell_id": "b3d5ea51-cdd5-4f3b-9319-6ee5da7bdf2c",
    "tags": [],
    "deepnote_cell_height": 52,
    "deepnote_cell_type": "markdown"
   }
  },
  {
   "cell_type": "code",
   "metadata": {
    "cell_id": "920bd860-a130-4394-b4fd-c0b7a3012741",
    "tags": [],
    "deepnote_to_be_reexecuted": false,
    "source_hash": "4d688f1c",
    "execution_start": 1645474439744,
    "execution_millis": 24,
    "deepnote_cell_height": 248,
    "deepnote_cell_type": "code"
   },
   "source": "?- run(10).\n?- holdsAt(trafficLight, colour=Colour, 1).\n?- happensAt(trafficLight, Event, 1).\n?- holdsAt(trafficLight, exp(_, _, _, Outcome, _, Message), 1).",
   "outputs": [
    {
     "name": "stdout",
     "text": "true.\nColour = orange .\nEvent = stop .\nOutcome = within(=(colour, green), 2), Message = b'Traffic light will be green within 2 time periods of a stop event' ;\nOutcome = withinStartNext(=(colour, orange), 5), Message = b'Traffic light will be orange within 5 time periods of a stop event, not checking the current time period' ;\nOutcome = later(happ(go), 4), Message = b'Traffic light will get go signal more than 4 time periods after stop signal' ;\nOutcome = delay(happ(go), 2), Message = b'Traffic light will get go signal 2 time periods after stop signal' ;\nOutcome = before(=(colour, green), =(colour, red)), Message = b'On stop signal, green light will then happen before red light' .",
     "output_type": "stream"
    }
   ],
   "execution_count": null
  },
  {
   "cell_type": "markdown",
   "source": "Again, we see that the countdown value decreases by one for each time period that passes. At time period 2, the traffic light becomes red which violates the expectation that the light will be green before it is red.",
   "metadata": {
    "cell_id": "f94bdfe6-3511-42b4-b64a-0899ab8286ed",
    "tags": [],
    "deepnote_cell_height": 74,
    "deepnote_cell_type": "markdown"
   }
  },
  {
   "cell_type": "code",
   "metadata": {
    "cell_id": "95f18d59-32cb-49cf-8262-a5d131d10b86",
    "tags": [],
    "deepnote_to_be_reexecuted": false,
    "source_hash": "f94a36a5",
    "execution_start": 1645474439770,
    "execution_millis": 8,
    "deepnote_cell_height": 332,
    "deepnote_cell_type": "code"
   },
   "source": "?- holdsAt(trafficLight, exp(_, _, _, Outcome, _, Message), 2).\n?- holdsAt(trafficLight, colour=Colour, 2).\n?- happensAt(trafficLight, Event, 2).",
   "outputs": [
    {
     "name": "stdout",
     "text": "Outcome = within(=(colour, green), 1), Message = b'Traffic light will be green within 2 time periods of a stop event' ;\nOutcome = within(=(colour, orange), 4), Message = b'Traffic light will be orange within 5 time periods of a stop event, not checking the current time period' ;\nOutcome = later(happ(go), 3), Message = b'Traffic light will get go signal more than 4 time periods after stop signal' ;\nOutcome = delay(happ(go), 1), Message = b'Traffic light will get go signal 2 time periods after stop signal' ;\nOutcome = before(=(colour, green), =(colour, red)), Message = b'On stop signal, green light will then happen before red light' .\nColour = red .\nEvent = viol(happ(stop), before(=(colour, green), =(colour, red)), 1, before(=(colour, green), =(colour, red)), dependent, b'On stop signal, green light will then happen before red light') .",
     "output_type": "stream"
    }
   ],
   "execution_count": null
  },
  {
   "cell_type": "markdown",
   "source": "At time period 3, the expectation that the traffic light will be green after 2 time periods of a \"stop\" signal event is violated, as the colour was not green at time period 2 or 3. The expectation that the traffic light will get a \"go\" signal event exactly 2 time periods after the stop signal (our `delay` expectation) is also violated.",
   "metadata": {
    "cell_id": "e247bfee-eb14-47a0-84e4-ae39886f7a79",
    "tags": [],
    "deepnote_cell_type": "markdown"
   }
  },
  {
   "cell_type": "code",
   "metadata": {
    "cell_id": "9fe4e475-b796-4091-a20a-89c1db470f66",
    "tags": [],
    "deepnote_to_be_reexecuted": false,
    "source_hash": "7a02123f",
    "execution_start": 1645474439805,
    "execution_millis": 4,
    "deepnote_cell_type": "code"
   },
   "source": "?- holdsAt(trafficLight, exp(_, _, _, Outcome, _, Message), 3).\n?- happensAt(trafficLight, Event, 3).",
   "outputs": [
    {
     "name": "stdout",
     "text": "Outcome = within(=(colour, green), 0), Message = b'Traffic light will be green within 2 time periods of a stop event' ;\nOutcome = within(=(colour, orange), 3), Message = b'Traffic light will be orange within 5 time periods of a stop event, not checking the current time period' ;\nOutcome = later(happ(go), 2), Message = b'Traffic light will get go signal more than 4 time periods after stop signal' ;\nOutcome = delay(happ(go), 0), Message = b'Traffic light will get go signal 2 time periods after stop signal' .\nEvent = viol(happ(stop), within(=(colour, green), 2), 1, within(=(colour, green), 0), dependent, b'Traffic light will be green within 2 time periods of a stop event') ;\nEvent = viol(happ(stop), delay(happ(go), 2), 1, delay(happ(go), 0), dependent, b'Traffic light will get go signal 2 time periods after stop signal') .",
     "output_type": "stream"
    }
   ],
   "execution_count": null
  },
  {
   "cell_type": "markdown",
   "source": "At time period 4, the expectation that the traffic light will get a \"go\" signal more than 4 time periods after a \"stop\" signal event is violated, as only 3 time periods have occurred since the \"stop\" signal event. The expectation that a \"stop\" signal will have preceded a \"go\" signal by exactly 2 time periods is also violated.",
   "metadata": {
    "cell_id": "45bdd495-b67b-4a04-87ca-41b27b403b7e",
    "tags": [],
    "deepnote_cell_height": 52,
    "deepnote_cell_type": "markdown"
   }
  },
  {
   "cell_type": "code",
   "metadata": {
    "cell_id": "ade75c5c-f552-4c6d-9b9b-25d48de5173f",
    "tags": [],
    "deepnote_to_be_reexecuted": false,
    "source_hash": "807f9d3e",
    "execution_start": 1645474439806,
    "execution_millis": 3,
    "deepnote_cell_height": 152,
    "deepnote_cell_type": "code"
   },
   "source": "?- happensAt(trafficLight, Event, 4).",
   "outputs": [
    {
     "name": "stdout",
     "text": "Event = go ;\nEvent = viol(happ(stop), later(happ(go), 4), 1, later(happ(go), 1), dependent, b'Traffic light will get go signal more than 4 time periods after stop signal') ;\nEvent = viol(happ(go), preceded(happ(stop), 2), 4, preceded(happ(stop), 2), dependent, b'On go signal, stop signal will have occurred 2 time periods earlier') .",
     "output_type": "stream"
    }
   ],
   "execution_count": null
  },
  {
   "cell_type": "markdown",
   "source": "At time period 6, our expectation that the light will become orange within 5 time periods of the \"stop\" signal, excluding the light colour at T = 1, is also violated.",
   "metadata": {
    "cell_id": "f4e8ae03-8a03-49fa-9202-05679d0800b7",
    "tags": [],
    "deepnote_cell_type": "markdown"
   }
  },
  {
   "cell_type": "code",
   "source": "?- happensAt(trafficLight, Event, 6).",
   "metadata": {
    "cell_id": "28083550-de93-490a-8967-7bab6d67c861",
    "tags": [],
    "deepnote_to_be_reexecuted": false,
    "source_hash": "18c732d1",
    "execution_start": 1645474439807,
    "execution_millis": 419351,
    "deepnote_cell_type": "code"
   },
   "outputs": [
    {
     "name": "stdout",
     "text": "Event = viol(happ(stop), withinStartNext(=(colour, orange), 5), 1, within(=(colour, orange), 0), dependent, b'Traffic light will be orange within 5 time periods of a stop event, not checking the current time period') .",
     "output_type": "stream"
    }
   ],
   "execution_count": null
  },
  {
   "cell_type": "markdown",
   "source": "### Adjustable and independent expectations",
   "metadata": {
    "cell_id": "f233d9ee-4dbf-4a38-b6bd-ee4790b036aa",
    "tags": [],
    "is_collapsed": false,
    "deepnote_cell_type": "text-cell-h3"
   }
  },
  {
   "cell_type": "markdown",
   "source": "These two changes to expectations are explained in the [Expectations notebook](https://github.com/katetruman/MultiAgentEC/blob/master/Expectations.ipynb). As the vast majority of expectations are likely to be dependent, it could be useful to allow a shorthand version of expectation rules without a status specified, although this would increase the already large number of different versions of `exp` fluents.\n\nNote that the `progress/2` fluent in **dec.pl** is now `progress/4`. The arguments are the **Actor**, **Residual Expectation**, **Progressed Expectation** and the **time period**. Specifying the time period allows us to create adjustable expectations based on other fluents.",
   "metadata": {
    "cell_id": "cec74415-ffbb-41d0-a1ac-28ff747d0781",
    "tags": [],
    "deepnote_cell_type": "markdown"
   }
  },
  {
   "cell_type": "markdown",
   "source": "<a style='text-decoration:none;line-height:16px;display:flex;color:#5B5B62;padding:10px;justify-content:end;' href='https://deepnote.com?utm_source=created-in-deepnote-cell&projectId=32f94018-a4da-40ef-8c9f-8983d73811c8' target=\"_blank\">\n<img alt='Created in deepnote.com' style='display:inline;max-height:16px;margin:0px;margin-right:7.5px;' src='data:image/svg+xml;base64,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' > </img>\nCreated in <span style='font-weight:600;margin-left:4px;'>Deepnote</span></a>",
   "metadata": {
    "tags": [],
    "created_in_deepnote_cell": true,
    "deepnote_cell_type": "markdown"
   }
  }
 ],
 "nbformat": 4,
 "nbformat_minor": 2,
 "metadata": {
  "orig_nbformat": 2,
  "deepnote": {
   "is_reactive": false
  },
  "deepnote_notebook_id": "75dc60c5-ddfb-4952-bc18-ca46c6d08ae1",
  "deepnote_execution_queue": []
 }
}