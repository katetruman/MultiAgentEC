{
 "cells": [
  {
   "cell_type": "markdown",
   "source": "### Set up",
   "metadata": {
    "cell_id": "7dcee8d6-bb41-4f79-a3ee-fbfebb516d57",
    "tags": [],
    "is_collapsed": false,
    "deepnote_cell_height": 62,
    "deepnote_cell_type": "text-cell-h3"
   }
  },
  {
   "cell_type": "code",
   "metadata": {
    "tags": [],
    "cell_id": "0808d0e9-0c6e-4965-9804-09574841b28a",
    "deepnote_to_be_reexecuted": false,
    "source_hash": "377780b8",
    "execution_start": 1644177082976,
    "execution_millis": 47,
    "deepnote_cell_height": 188,
    "deepnote_cell_type": "code"
   },
   "source": "?- cd('~/work'), ['dec'].\n?- initialiseDEC.\n?- retractall(happensAtNarrative(_,_)).",
   "execution_count": null,
   "outputs": [
    {
     "name": "stdout",
     "text": "true.\nfalse.\ntrue.",
     "output_type": "stream"
    }
   ]
  },
  {
   "cell_type": "markdown",
   "source": "## Termination of expectation rules and associated expectations",
   "metadata": {
    "cell_id": "3c9d304f-fb69-4bee-aa1f-a20ea0b8ff64",
    "tags": [],
    "is_collapsed": false,
    "deepnote_cell_height": 70,
    "deepnote_cell_type": "text-cell-h2"
   }
  },
  {
   "cell_type": "markdown",
   "source": "Expectation rules should be subject to change if necessary. Specific events can be used to initiate and terminate expectation rules. As expectation rules lead to expectations holding when their conditions have been fulfilled, we also want to specify how termination of an expectation rule will affect the associated expectations.\n\nFor example, we could have an expectation rule which states that all patients who had admitted to hospital will eventually be discharged. The expectation that a patient would eventually be discharged would be triggered when they were admitted, and fulfilled upon their dischargement. This expectation would not be fulfilled for any patients who passed away in hospital. At a point where multiple patients are currently in hospital and have not yet been discharged, our expectation rule may be terminated by an event. It must then be decided whether the expectation of eventual discharge should continue to be applied to existing patients, or removed from all current patients, in addition to not applying to future admissions.",
   "metadata": {
    "cell_id": "4e01fe41-cb69-4d9f-88b6-b1bcec25949f",
    "tags": [],
    "deepnote_cell_height": 176,
    "deepnote_cell_type": "markdown"
   }
  },
  {
   "cell_type": "markdown",
   "source": "### Example Expectation Rule (dependent)",
   "metadata": {
    "cell_id": "becf8d65-b34f-4730-92ec-6a2b092a96d3",
    "tags": [],
    "is_collapsed": false,
    "deepnote_cell_height": 62,
    "deepnote_cell_type": "text-cell-h3"
   }
  },
  {
   "cell_type": "markdown",
   "source": "We use an expectation rule with the form **exp_rule(Condition, Outcome, Status, Message))**. **Condition** refers to the triggering condition for the resulting expectation and **Outcome** is the state that needs to be reached for the expectation to be fulfilled. If **Status** is set to *independent*, then expectations resulting from our expectation will remain even if the expectation rule is deleted. **Message** is a more user friendly message describing the expectation rule. Currently, **Message** is used as a unique identifier to facilitate easier termination of expectation rules.\n\nIn our example expectation rule, we declare that the starting condition for our expectation is the admission of a patient, that the resulting expected outcome is that the patient will eventually be discharged, that the resulting expectations shall be dependent, and use the message \"Patients must eventually be discharged\" to describe the expectation rule.",
   "metadata": {
    "cell_id": "362f1350-ccfa-4177-aaee-7df9b9a13824",
    "tags": [],
    "deepnote_cell_height": 154,
    "deepnote_cell_type": "markdown"
   }
  },
  {
   "cell_type": "code",
   "metadata": {
    "cell_id": "7f804bb2-7f62-4a1d-99c7-27398add499d",
    "tags": [],
    "deepnote_to_be_reexecuted": false,
    "source_hash": "1c0d2576",
    "execution_start": 1644177083024,
    "execution_millis": 42,
    "deepnote_cell_height": 99,
    "deepnote_cell_type": "code"
   },
   "source": "% File: expectationRule.pl\ninitially(exp_rule(happ(admission(Patient)), eventually(happ(discharge(Patient))), dependent, \"Patients must eventually be discharged\")).",
   "execution_count": null,
   "outputs": [
    {
     "name": "stdout",
     "text": "",
     "output_type": "stream"
    }
   ]
  },
  {
   "cell_type": "markdown",
   "source": "### Example Rule Termination",
   "metadata": {
    "cell_id": "fcae3fd9-ddfb-44ee-bdc1-a895a0c9d84e",
    "tags": [],
    "is_collapsed": false,
    "deepnote_cell_height": 62,
    "deepnote_cell_type": "text-cell-h3"
   }
  },
  {
   "cell_type": "markdown",
   "source": "An **optionalDischarge** event can be used to terminate our expectation rule.",
   "metadata": {
    "cell_id": "c44b6eb6-8e6f-4c6e-96d1-c881c0b9a09f",
    "tags": [],
    "deepnote_cell_height": 52,
    "deepnote_cell_type": "markdown"
   }
  },
  {
   "cell_type": "code",
   "metadata": {
    "cell_id": "8fe500da-d7d8-4b4c-91a9-be41d72836b7",
    "tags": [],
    "deepnote_to_be_reexecuted": false,
    "source_hash": "574ea3ef",
    "execution_start": 1644177083064,
    "execution_millis": 8,
    "deepnote_cell_height": 99,
    "deepnote_cell_type": "code"
   },
   "source": "% File: expRuleTermination.pl\nterminates(optionalDischarge, exp_rule(_,_,_, \"Patients must eventually be discharged\"), _).",
   "execution_count": null,
   "outputs": [
    {
     "name": "stdout",
     "text": "",
     "output_type": "stream"
    }
   ]
  },
  {
   "cell_type": "markdown",
   "source": "### Example Narrative",
   "metadata": {
    "cell_id": "b563e33c-84a2-4edc-be03-11594d5357b6",
    "tags": [],
    "is_collapsed": false,
    "deepnote_cell_height": 62,
    "deepnote_cell_type": "text-cell-h3"
   }
  },
  {
   "cell_type": "markdown",
   "source": "Patient 123 is admitted at time period 1, while patients 124 and 125 are both admitted at time period 2. The **optionalDischarge** event occurs at time period 3. ",
   "metadata": {
    "cell_id": "e680c3ac-33de-4274-9e77-8392960d9b3f",
    "tags": [],
    "deepnote_cell_height": 52,
    "deepnote_cell_type": "markdown"
   }
  },
  {
   "cell_type": "code",
   "metadata": {
    "cell_id": "6e94df29-7688-486b-93e9-5f8f1aba09bf",
    "tags": [],
    "deepnote_to_be_reexecuted": false,
    "source_hash": "7eb87883",
    "execution_start": 1644177083065,
    "execution_millis": 7,
    "deepnote_cell_height": 153,
    "deepnote_cell_type": "code"
   },
   "source": "% File: narrative.pl\nhappensAtNarrative(admission(123),1).\nhappensAtNarrative(admission(124),2).\nhappensAtNarrative(admission(125),2).\nhappensAtNarrative(optionalDischarge, 3).",
   "execution_count": null,
   "outputs": [
    {
     "name": "stdout",
     "text": "",
     "output_type": "stream"
    }
   ]
  },
  {
   "cell_type": "markdown",
   "source": "At time period zero, we can see that our expectation rule holds.",
   "metadata": {
    "cell_id": "c1087ee8-b2bf-4082-b327-704eba2aae9a",
    "tags": [],
    "deepnote_cell_height": 52,
    "deepnote_cell_type": "markdown"
   }
  },
  {
   "cell_type": "code",
   "metadata": {
    "cell_id": "4beef6c0-2297-4f5a-ab83-52e3b21e4bf2",
    "tags": [],
    "deepnote_to_be_reexecuted": false,
    "source_hash": "34b70040",
    "execution_start": 1644177083070,
    "execution_millis": 5,
    "deepnote_cell_height": 150,
    "deepnote_cell_type": "code"
   },
   "source": "?- tick(0).\n?- holdsAt(H,0).",
   "execution_count": null,
   "outputs": [
    {
     "name": "stdout",
     "text": "true.\nH = exp_rule(happ(admission(_1674)), eventually(happ(discharge(_1674))), dependent, b'Patients must eventually be discharged') .",
     "output_type": "stream"
    }
   ]
  },
  {
   "cell_type": "markdown",
   "source": "At time period one, our expectation rule continues to hold. The expectation that Patient 123 will eventually be admitted also holds. The 6 argument expectation has been hidden for readibility.",
   "metadata": {
    "cell_id": "eda38016-69bd-48dd-b2c9-728b9b6b6755",
    "tags": [],
    "deepnote_cell_height": 52,
    "deepnote_cell_type": "markdown"
   }
  },
  {
   "cell_type": "code",
   "metadata": {
    "cell_id": "488a516c-3a29-4c74-9c95-7dd889af8f08",
    "tags": [],
    "deepnote_to_be_reexecuted": false,
    "source_hash": "1a9e9b",
    "execution_start": 1644177083075,
    "execution_millis": 7,
    "deepnote_cell_height": 246,
    "deepnote_cell_type": "code"
   },
   "source": "?- tick(1).\n?- happensAt(Event, 1).\n?- holdsAt(H,1), H \\= exp(_,_,_,_,_,_).\n?- holdsAt(exp_rule(_,_,_,Message),1).",
   "execution_count": null,
   "outputs": [
    {
     "name": "stdout",
     "text": "true.\nEvent = admission(123) .\nH = exp_rule(happ(admission(_1686)), eventually(happ(discharge(_1686))), dependent, b'Patients must eventually be discharged') ;\nH = exp(eventually(happ(discharge(123))), dependent, b'Patients must eventually be discharged') .\nMessage = b'Patients must eventually be discharged' .",
     "output_type": "stream"
    }
   ]
  },
  {
   "cell_type": "markdown",
   "source": "At time period two, we expect that all three patients will eventually be discharged. ",
   "metadata": {
    "cell_id": "903dd5c7-99bf-4494-b2a7-20f715667c90",
    "tags": [],
    "deepnote_cell_height": 52,
    "deepnote_cell_type": "markdown"
   }
  },
  {
   "cell_type": "code",
   "metadata": {
    "cell_id": "45dd21d5-8d7a-480a-90f9-a88931e3974d",
    "tags": [],
    "deepnote_to_be_reexecuted": false,
    "source_hash": "cbd0f17",
    "execution_start": 1644177083105,
    "execution_millis": 5,
    "deepnote_cell_height": 286,
    "deepnote_cell_type": "code"
   },
   "source": "?- tick(2).\n?- happensAt(Event, 2).\n?- holdsAt(H,2), H \\= exp(_,_,_,_,_,_).\n",
   "execution_count": null,
   "outputs": [
    {
     "name": "stdout",
     "text": "true.\nEvent = admission(124) ;\nEvent = admission(125) .\nH = exp_rule(happ(admission(_1686)), eventually(happ(discharge(_1686))), dependent, b'Patients must eventually be discharged') ;\nH = exp(eventually(happ(discharge(123))), dependent, b'Patients must eventually be discharged') ;\nH = exp(eventually(happ(discharge(124))), dependent, b'Patients must eventually be discharged') ;\nH = exp(eventually(happ(discharge(125))), dependent, b'Patients must eventually be discharged') .",
     "output_type": "stream"
    }
   ]
  },
  {
   "cell_type": "markdown",
   "source": "At time period three, the **optionalDischarge** event occurs. At this time period, the expectation rule and resulting expectations still hold.",
   "metadata": {
    "cell_id": "06dac086-0953-41c6-b7c3-331839757f28",
    "tags": [],
    "deepnote_cell_height": 52,
    "deepnote_cell_type": "markdown"
   }
  },
  {
   "cell_type": "code",
   "metadata": {
    "cell_id": "804ab9ab-370f-485f-99d1-a973f428f394",
    "tags": [],
    "deepnote_to_be_reexecuted": false,
    "source_hash": "2958edd4",
    "execution_start": 1644177083106,
    "execution_millis": 4,
    "deepnote_cell_height": 266,
    "deepnote_cell_type": "code"
   },
   "source": "?- tick(3).\n?- happensAt(Event, 3).\n?- holdsAt(H,3), H \\= exp(_,_,_,_,_,_).\n",
   "execution_count": null,
   "outputs": [
    {
     "name": "stdout",
     "text": "true.\nEvent = optionalDischarge .\nH = exp_rule(happ(admission(_1686)), eventually(happ(discharge(_1686))), dependent, b'Patients must eventually be discharged') ;\nH = exp(eventually(happ(discharge(123))), dependent, b'Patients must eventually be discharged') ;\nH = exp(eventually(happ(discharge(124))), dependent, b'Patients must eventually be discharged') ;\nH = exp(eventually(happ(discharge(125))), dependent, b'Patients must eventually be discharged') .",
     "output_type": "stream"
    }
   ]
  },
  {
   "cell_type": "markdown",
   "source": "At time period four, the expectation rule no longer holds, as it was terminated by the **optionalDischarge** event. As the status of the expectation rule was set to **dependent**, the expectations that patients 123, 124 and 125 will eventually be discharged also no longer exist.",
   "metadata": {
    "cell_id": "0906eb48-2ead-4241-bfc7-e0a465dae782",
    "tags": [],
    "deepnote_cell_height": 74,
    "deepnote_cell_type": "markdown"
   }
  },
  {
   "cell_type": "code",
   "metadata": {
    "cell_id": "719c4d77-528a-4261-b139-4de291110eb5",
    "tags": [],
    "deepnote_to_be_reexecuted": false,
    "source_hash": "91eee0b1",
    "execution_start": 1644177083107,
    "execution_millis": 7,
    "deepnote_cell_height": 206,
    "deepnote_cell_type": "code"
   },
   "source": "?- tick(4).\n?- happensAt(Event, 4).\n?- holdsAt(H,4).\n",
   "execution_count": null,
   "outputs": [
    {
     "name": "stdout",
     "text": "true.\nfalse.\nfalse.",
     "output_type": "stream"
    }
   ]
  },
  {
   "cell_type": "markdown",
   "source": "### Independent Expectation Scenario",
   "metadata": {
    "cell_id": "3240821c-3e28-4d35-a899-f28c6882a963",
    "tags": [],
    "is_collapsed": false,
    "deepnote_cell_height": 62,
    "deepnote_cell_type": "text-cell-h3"
   }
  },
  {
   "cell_type": "markdown",
   "source": "Let us instead consider a scenario in which the expectation are not dependent on their expectation rule. Note that the third argument of the new expectation rule is **independent** rather than **dependent**. We use the **newExpRule** event at time period five to initiate our new expectation rule. Patient 126 is admitted at time period six, and patients 127 and 128 are admitted at time period seven. Also at time period seven, the **optionalDischarge** event occurs which terminates our expectation rule.  ",
   "metadata": {
    "cell_id": "f0776b27-4423-4605-9e90-05a87f28c477",
    "tags": [],
    "deepnote_cell_height": 96,
    "deepnote_cell_type": "markdown"
   }
  },
  {
   "cell_type": "code",
   "metadata": {
    "cell_id": "22ce8718-bd4e-4630-bf43-a201f0b957b7",
    "tags": [],
    "deepnote_to_be_reexecuted": false,
    "source_hash": "b884ff97",
    "execution_start": 1644177083113,
    "execution_millis": 7,
    "deepnote_cell_height": 207,
    "deepnote_cell_type": "code"
   },
   "source": "% File: dependentScenario.pl\ninitiates(newExpRule(Condition,Outcome,Status,Message), exp_rule(Condition,Outcome,Status,Message),_).\nhappensAtNarrative(newExpRule(happ(admission(Patient)), eventually(happ(discharge(Patient))), independent, \n\"Patients must eventually be discharged\"),5).\nhappensAtNarrative(admission(126),6).\nhappensAtNarrative(admission(127),7).\nhappensAtNarrative(admission(128),7).\nhappensAtNarrative(optionalDischarge, 7).",
   "execution_count": null,
   "outputs": [
    {
     "name": "stdout",
     "text": "",
     "output_type": "stream"
    }
   ]
  },
  {
   "cell_type": "markdown",
   "source": "Our expectation rule holds from time period six onwards.",
   "metadata": {
    "cell_id": "33e11ed3-234f-4c04-8dd5-84ae1ba98be5",
    "tags": [],
    "deepnote_cell_height": 52,
    "deepnote_cell_type": "markdown"
   }
  },
  {
   "cell_type": "code",
   "metadata": {
    "cell_id": "2c4a5905-a03e-49fb-b288-12c6f93df5ad",
    "tags": [],
    "deepnote_to_be_reexecuted": false,
    "source_hash": "658675ff",
    "execution_start": 1644177083122,
    "execution_millis": 7,
    "deepnote_cell_height": 206,
    "deepnote_cell_type": "code"
   },
   "source": "?- tick(5).\n?- happensAt(Event, 5).\n?- holdsAt(H,5).\n",
   "execution_count": null,
   "outputs": [
    {
     "name": "stdout",
     "text": "true.\nEvent = newExpRule(happ(admission(_1620)), eventually(happ(discharge(_1620))), independent, b'Patients must eventually be discharged') .\nfalse.",
     "output_type": "stream"
    }
   ]
  },
  {
   "cell_type": "markdown",
   "source": "The expectation that patient 126 will eventually be discharged has been correctly triggered by the expectation rule.",
   "metadata": {
    "cell_id": "0b7716c9-6f11-4498-be89-ec74a751d2a2",
    "tags": [],
    "deepnote_cell_height": 52,
    "deepnote_cell_type": "markdown"
   }
  },
  {
   "cell_type": "code",
   "metadata": {
    "cell_id": "f2a11445-62a5-43d0-abb6-87fed1a1119c",
    "tags": [],
    "deepnote_to_be_reexecuted": false,
    "source_hash": "1400956f",
    "execution_start": 1644177083128,
    "execution_millis": 17,
    "deepnote_cell_height": 226,
    "deepnote_cell_type": "code"
   },
   "source": "?- tick(6).\n?- happensAt(Event, 6).\n?- holdsAt(H,6), H \\= exp(_,_,_,_,_,_).\n",
   "execution_count": null,
   "outputs": [
    {
     "name": "stdout",
     "text": "true.\nEvent = admission(126) .\nH = exp_rule(happ(admission(_1686)), eventually(happ(discharge(_1686))), independent, b'Patients must eventually be discharged') ;\nH = exp(eventually(happ(discharge(126))), independent, b'Patients must eventually be discharged') .",
     "output_type": "stream"
    }
   ]
  },
  {
   "cell_type": "markdown",
   "source": "Similarly, expectations also hold for patients 127 and 128 at time period seven. Also at this time period, the **optionalDischarge** event takes place.",
   "metadata": {
    "cell_id": "e03f32b9-277b-4cd9-ae5e-87ddc0a015c3",
    "tags": [],
    "deepnote_cell_height": 52,
    "deepnote_cell_type": "markdown"
   }
  },
  {
   "cell_type": "code",
   "metadata": {
    "cell_id": "55ee4fc1-c003-4793-955d-d251489033cb",
    "tags": [],
    "deepnote_to_be_reexecuted": false,
    "source_hash": "f26f2e64",
    "execution_start": 1644177083147,
    "execution_millis": 8,
    "deepnote_cell_height": 306,
    "deepnote_cell_type": "code"
   },
   "source": "?- tick(7).\n?- happensAt(Event, 7).\n?- holdsAt(H,7), H \\= exp(_,_,_,_,_,_).\n",
   "execution_count": null,
   "outputs": [
    {
     "name": "stdout",
     "text": "true.\nEvent = admission(127) ;\nEvent = admission(128) ;\nEvent = optionalDischarge .\nH = exp_rule(happ(admission(_1686)), eventually(happ(discharge(_1686))), independent, b'Patients must eventually be discharged') ;\nH = exp(eventually(happ(discharge(126))), independent, b'Patients must eventually be discharged') ;\nH = exp(eventually(happ(discharge(127))), independent, b'Patients must eventually be discharged') ;\nH = exp(eventually(happ(discharge(128))), independent, b'Patients must eventually be discharged') .",
     "output_type": "stream"
    }
   ]
  },
  {
   "cell_type": "markdown",
   "source": "At time period eight, our expectation rule no longer holds. However, because our expectations are independent of the rule, they continue to hold.",
   "metadata": {
    "cell_id": "ebc12e6f-4939-4824-b3a8-6de040f371e8",
    "tags": [],
    "deepnote_cell_height": 52,
    "deepnote_cell_type": "markdown"
   }
  },
  {
   "cell_type": "code",
   "metadata": {
    "cell_id": "957344a2-2999-48b0-9106-5547f9c595c6",
    "tags": [],
    "deepnote_to_be_reexecuted": false,
    "source_hash": "ca555ba0",
    "execution_start": 1644177083152,
    "execution_millis": 8,
    "deepnote_cell_height": 228,
    "deepnote_cell_type": "code"
   },
   "source": "?- tick(8).\n?- holdsAt(exp_rule(Condition,Outcome, Status, Message),8).\n?- holdsAt(H,8), H \\= exp(_,_,_,_,_,_).",
   "execution_count": null,
   "outputs": [
    {
     "name": "stdout",
     "text": "true.\nfalse.\nH = exp(eventually(happ(discharge(126))), independent, b'Patients must eventually be discharged') ;\nH = exp(eventually(happ(discharge(127))), independent, b'Patients must eventually be discharged') ;\nH = exp(eventually(happ(discharge(128))), independent, b'Patients must eventually be discharged') .",
     "output_type": "stream"
    }
   ]
  },
  {
   "cell_type": "markdown",
   "source": "So, we can set the status of expectation rules to independent or dependent in order to control whether expectations are terminated along with their parent expectation rule. A text message can be used to describe expectation rules in a more user friendly manner, and used to identify expectation rules.",
   "metadata": {
    "cell_id": "3116dd30-cd71-46ec-864e-dd84a0b6ea86",
    "tags": [],
    "deepnote_cell_height": 74,
    "deepnote_cell_type": "markdown"
   }
  },
  {
   "cell_type": "markdown",
   "source": "<a style='text-decoration:none;line-height:16px;display:flex;color:#5B5B62;padding:10px;justify-content:end;' href='https://deepnote.com?utm_source=created-in-deepnote-cell&projectId=32f94018-a4da-40ef-8c9f-8983d73811c8' target=\"_blank\">\n<img alt='Created in deepnote.com' style='display:inline;max-height:16px;margin:0px;margin-right:7.5px;' src='data:image/svg+xml;base64,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' > </img>\nCreated in <span style='font-weight:600;margin-left:4px;'>Deepnote</span></a>",
   "metadata": {
    "tags": [],
    "created_in_deepnote_cell": true,
    "deepnote_cell_type": "markdown"
   }
  }
 ],
 "nbformat": 4,
 "nbformat_minor": 2,
 "metadata": {
  "orig_nbformat": 2,
  "deepnote": {
   "is_reactive": false
  },
  "deepnote_notebook_id": "a5e7f29a-e296-4758-897e-7f43ed244254",
  "deepnote_execution_queue": []
 }
}