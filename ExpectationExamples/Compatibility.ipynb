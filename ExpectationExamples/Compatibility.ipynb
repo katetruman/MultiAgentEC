{
 "cells": [
  {
   "cell_type": "markdown",
   "source": "# Multi-hospital Organ Transplants",
   "metadata": {
    "tags": [],
    "is_collapsed": false,
    "deepnote_app_coordinates": {
     "x": 0,
     "y": null,
     "w": 12,
     "h": 5
    },
    "cell_id": "3efc42e8-3af8-4114-8b9c-f8f8b93d7d49",
    "deepnote_cell_type": "text-cell-h1"
   }
  },
  {
   "cell_type": "markdown",
   "source": "This notebook explores expectations related to our organ transplant scenario. If you have not yet done so, please refer to **AgentsAndEvents.ipynb** for important events and fluents used in this scenario, and **Expectations.ipynb** for a discussion of expectations in this context. Both of these notebooks are located in the parent directory, **MultipleAgents**.",
   "metadata": {
    "tags": [],
    "deepnote_app_coordinates": {
     "x": 0,
     "y": 174,
     "w": 12,
     "h": 5
    },
    "cell_id": "00001-8697aacc-a779-4ecb-bf69-2b32a392b352",
    "deepnote_cell_type": "markdown"
   }
  },
  {
   "cell_type": "markdown",
   "source": "### Set up",
   "metadata": {
    "tags": [],
    "is_collapsed": false,
    "deepnote_app_coordinates": {
     "x": 0,
     "y": 0,
     "w": 12,
     "h": 5
    },
    "cell_id": "00002-8ba776c4-55bd-4d1c-a2f4-139d41edbe89",
    "deepnote_cell_type": "text-cell-h3"
   }
  },
  {
   "cell_type": "markdown",
   "source": "We need to set up our environment by loading in our event and fluent declarations from **dec:notation.pl** and **AE.pl**. The latter contains the code from **AgentsAndEvents.ipynb** the last time that notebook was run.\n\n<font color='red'>IMPORTANT NOTE: you should run **AgentsAndEvents.ipynb** prior to running this notebook to ensure that **AE.pl** contains up to date predicates! You must run the notebook, not just update and save it.</font>",
   "metadata": {
    "tags": [],
    "deepnote_app_coordinates": {
     "x": 0,
     "y": 0,
     "w": 12,
     "h": 5
    },
    "cell_id": "00003-fa75de71-2cc3-44da-baee-845d23c33c63",
    "deepnote_cell_type": "markdown"
   }
  },
  {
   "cell_type": "code",
   "metadata": {
    "tags": [],
    "deepnote_app_coordinates": {
     "x": 0,
     "y": 0,
     "w": 12,
     "h": 5
    },
    "deepnote_to_be_reexecuted": false,
    "source_hash": "932f14c0",
    "execution_start": 1644804836950,
    "execution_millis": 62,
    "cell_id": "00004-44757523-d357-4191-b0ab-a904e58829f7",
    "deepnote_cell_type": "code"
   },
   "source": "?- cd('~/work'), ['dec:notation'].\n?- initialiseDEC.\n?- retractall(happensAtNarrative(_,_)).\n?- ['AE'].",
   "execution_count": 1,
   "outputs": [
    {
     "name": "stdout",
     "text": "true.\nfalse.\ntrue.\ntrue.",
     "output_type": "stream"
    }
   ]
  },
  {
   "cell_type": "markdown",
   "source": "## Compatibility / Suitability",
   "metadata": {
    "tags": [],
    "is_collapsed": false,
    "deepnote_app_coordinates": {
     "x": 0,
     "y": 0,
     "w": 12,
     "h": 5
    },
    "cell_id": "00005-5cf80cb8-5dcc-4a7f-8e32-1d700aa7b231",
    "deepnote_cell_type": "text-cell-h2"
   }
  },
  {
   "cell_type": "markdown",
   "source": "An agent may expect that when it requests a resource, and its request is matched to a resource offer from another agent, that the match is \"suitable\". In the organ transplant scenario, the recipient's hospital might expect that any organ offered to the recipient by the monitoring system is compatible with the recipient in terms of blood type, medical conditions and any other important factors. Similarly, the donor's hospital might expect that the recipient of their offered organ is a suitable recipient, such that the organ is not wasted. ",
   "metadata": {
    "cell_id": "e4d1178f-159b-45db-a9d5-da18f9ef51b4",
    "tags": [],
    "deepnote_cell_type": "markdown"
   }
  },
  {
   "cell_type": "markdown",
   "source": "### Compatibility rules",
   "metadata": {
    "cell_id": "45302a78-5696-4fe2-9a47-96af17f8fbb9",
    "tags": [],
    "is_collapsed": false,
    "deepnote_cell_type": "text-cell-h3"
   }
  },
  {
   "cell_type": "markdown",
   "source": "In order to simplify predicate rules, we declare a helper function which allows us to either select a singular argument or get arguments from a list",
   "metadata": {
    "cell_id": "cf49b927-1037-4b09-8b84-5a039b148a71",
    "tags": [],
    "deepnote_cell_type": "markdown"
   }
  },
  {
   "cell_type": "code",
   "source": "% File: extract.pl\nextract(Input, Result):- is_list(Input), member(Result, Input).\nextract(Input, Input):- \\+ is_list(Input).",
   "metadata": {
    "cell_id": "ceacbb03-fcbe-4e3f-afd2-ec0e73ee24e5",
    "tags": [],
    "deepnote_to_be_reexecuted": false,
    "source_hash": "a772849",
    "execution_start": 1644804837050,
    "execution_millis": 5,
    "deepnote_cell_type": "code"
   },
   "outputs": [
    {
     "name": "stdout",
     "text": "",
     "output_type": "stream"
    }
   ],
   "execution_count": 2
  },
  {
   "cell_type": "markdown",
   "source": "We can declare compatibility rules for matching an organ donor to a recipient. The *newCompatRule* is used to initiate new compatibility rules, while *newIncompatRule* initiates new incompatibility rules. Each terminates the opposing compatibility rule. This may require some tweaking if we wish opposing rules to cause a conflict violation rather than overwriting an earlier rule.\n\nFor donor-patient matching, we wish to differentiate between known compatibility or incompatibility and unknown compatibility. For instance, if we know that severe asthma makes lungs unsuitable for organ donation, but does not affect other organs, the compatibility of organs from a patient with severe asthma to a potential recipient should be treated differently to the compatibility of organs from a patient with Parkinson's disease, if the effect of this condition is not defined by any existing compatibility rules.\n\nCompatibility rules have the arguments *Type*, *Donor* and *Recipient*. *Type* refers to the type of compatibility rule - currently defined are *bloodType*, *disease*, and *ageOrgan*. *bloodType* involves comparing the blood type of the donor and recipient, *disease* the medical conditions of the two parties, and *ageOrgan* controls the compatibility between a donor's organ type and their age. *Donor* is generally made up of a singular term, while *Recipient* can be either a singular term or a list. Having *Recipient* as a list makes it easier to encode certain compatibility rules, particularly those concerning blood types.\n\nFor example, *compatRule(bloodType, \"B\", [\"B\", \"AB\"])* states that if the donor has blood type B, their organs can be donated to patients who have blood type B or AB. As the four types of blood are initially declared to be A, B, AB and O, we can then infer that such a donor cannot donate to patients with blood type A or O.\n\nAs our compatibility rules may change over time, they are encoded as fluents. An example in which compatibility rules change over time, is the suitability of organs from donors with Hepatitis B and C or HIV. In the past, these organs were not suitable for donation (except potentially to recipients already diagnosed with the disease). However, a recent study has shown that if recipients are given antiviral drugs, this can prevent them from getting the disease from an infected organ. \n\n(See https://www.npr.org/sections/health-shots/2019/04/03/709533047/hepatitis-c-not-a-barrier-for-organ-transplantation-study-finds.)\n\nBefore such a study is recognised by a medical institution, the hospital may have a compatibility rule stating that Hepatitis B, Hepatitis C and HIV patients cannot donate to recipients without the disease(s). Once such a study is approved, the hospital may wish to change the compatibility rule to state that such donations are acceptable provided that an appropriate antiviral drug treatment is undertaken by the recipient.",
   "metadata": {
    "cell_id": "b7b75dd0-8ee2-4321-b60b-f5b4bf4ccc5e",
    "tags": [],
    "deepnote_cell_type": "markdown"
   }
  },
  {
   "cell_type": "markdown",
   "source": "All of our agents may make use of compatibility rules (although not necessarily the same ones), so we declare our *initiates* and *terminates* clauses irrespective of the agent.",
   "metadata": {
    "cell_id": "720822a7-4b48-464b-ba50-e0f9df2f57db",
    "tags": [],
    "deepnote_cell_type": "markdown"
   }
  },
  {
   "cell_type": "code",
   "metadata": {
    "tags": [],
    "deepnote_app_coordinates": {
     "x": 0,
     "y": 0,
     "w": 12,
     "h": 5
    },
    "deepnote_to_be_reexecuted": false,
    "source_hash": "15291e9d",
    "execution_start": 1644804837051,
    "execution_millis": 4,
    "cell_id": "00020-8805cca7-b23e-4532-a7ae-ffcacb3eef45",
    "deepnote_cell_type": "code"
   },
   "source": "% File: compatabilityRules.pl\ninitiates(_:newCompatRule(Type, Donor, Recipient), compatRule(Type, Donor, Recipient),_).\nterminates(_:newIncompatRule(Type, Donor, Recipient), compatRule(Type, Donor, Recipient),_).\ninitiates(_:newIncompatRule(Type, Donor, Recipient), incompatRule(Type, Donor, Recipient),_).\nterminates(_:newCompatRule(Type, Donor, Recipient), incompatRule(Type, Donor, Recipient),_).",
   "execution_count": 3,
   "outputs": [
    {
     "name": "stdout",
     "text": "",
     "output_type": "stream"
    }
   ]
  },
  {
   "cell_type": "markdown",
   "source": "Currently, compatibility rules have been declared for organs, diseases, blood types, ages, and combinations of these categories. The organs used and age compatibility rules are based on information provided by *Organ Donation New Zealand*. \n\n(See https://www.donor.co.nz/facts-and-myths/.)\n\nBlood type compatibility is based on information from *UC Davis Health*. \n\n(See https://health.ucdavis.edu/transplant/livingkidneydonation/matching-and-compatibility.html.)\n\nWe set our initial compatibility rules to apply for *monSys*, as it can check whether a donor and a recipient are compatible when a match occurs. We declare *organs*, *diseases*, and *bloodTypes* fluents so that we are able to ascertain which category a particular property of a patient belongs to. While it may be unlikely that any new blood types are about to be discovered, given that the existing categories were determined over a century ago, it is best practice to design a system that can cope with changes if necessary. A possible way to achieve a new blood type may be a mutation, or widening our organ donation system to animal organ transplants.\n\nThe *ageOrgan* compatibility rules include an organ type, and either a two argument list or the argument *all*. *all* is interpreted to mean that donors of all ages can donate an organ of this type. If a list is used, the first value is the minimum age of the donor and the second value is the maximum age.\n\nWe also declare a disease compatibility rule stating that a donor and recipient are compatible if the donor and the recipient have the same disease (and the donor has no other diseases not present in the recipient).",
   "metadata": {
    "cell_id": "a920ffb6-66b7-440b-831b-838fdbae9ed2",
    "tags": [],
    "deepnote_cell_type": "markdown"
   }
  },
  {
   "cell_type": "code",
   "source": "% File: initialRules.pl\ninitially(monSys:organs([\"Heart\",\"Kidney\", \"Liver\",\"Lungs\", \"Pancreas\"])).\ninitially(monSys:diseases([\"HIV\", \"Hep-B\", \"Hep-C\", \"Cancer\", \"Severe Asthma\", \"Chronic Pulmonary Disease\"])).\ninitially(monSys:bloodTypes([\"A\", \"AB\", \"B\", \"O\"])).\n\ninitially(monSys:compatRule(bloodType, \"A\", [\"A\", \"AB\"])).\ninitially(monSys:compatRule(bloodType, \"B\", [\"B\", \"AB\"])).\ninitially(monSys:compatRule(bloodType, \"AB\", [\"AB\"])).\ninitially(monSys:compatRule(bloodType, \"O\",[\"A\",\"AB\",\"B\",\"O\"])).\ninitially(monSys:compatRule(ageOrgan, \"Heart\", [0, 65])).\ninitially(monSys:compatRule(ageOrgan, \"Lungs\", [0, 70])).\ninitially(monSys:compatRule(ageOrgan, \"Liver\", all)).\ninitially(monSys:compatRule(ageOrgan, \"Pancreas\", [0, 45])).\ninitially(monSys:compatRule(ageOrgan, \"Kidney\", all)).\ninitially(monSys:compatRule(disease,X, X)).\ninitially(monSys:incompatRule(diseaseOrgan, \"Heart Disease\", \"Liver\")).",
   "metadata": {
    "cell_id": "57c84c0a-f7dd-43e8-bfaa-6369018e0d3c",
    "tags": [],
    "deepnote_to_be_reexecuted": false,
    "source_hash": "c236ff2a",
    "execution_start": 1644804837053,
    "execution_millis": 9,
    "deepnote_cell_type": "code"
   },
   "outputs": [
    {
     "name": "stdout",
     "text": "",
     "output_type": "stream"
    }
   ],
   "execution_count": 4
  },
  {
   "cell_type": "markdown",
   "source": "From our compatibility rules, we wish to establish resulting compatibility fluents. These fluents do not have initiate or terminate clauses associated with them, and are based on the current compatibility rules.",
   "metadata": {
    "cell_id": "c013eb62-879c-46df-906c-e517c7b319d5",
    "tags": [],
    "deepnote_cell_type": "markdown"
   }
  },
  {
   "cell_type": "code",
   "source": "% File: resultingCompatibilities.pl\n\n% The donor and recipient blood types are compatible if the recipient blood type is a member of the recipient list for the donor compatibility rule.\nholdsAt(Agent, compat(bloodType, X, Y),T):- holdsAt(Agent, bloodTypes(BL),T), member(Y, BL), member(X, BL), holdsAt(Agent, compatRule(bloodType, L1, L2),T), \nextract(L1,X), extract(L2, Y).\n% Otherwise, they are incompatible.\nholdsAt(Agent, incompat(bloodType, X, Y),T):- \\+ holdsAt(Agent, compat(bloodType, X, Y),T).\n\n% A donor is within the acceptable age range for donating a particular organ if their age is between the minimum and maximum age specified,\n% or if donors of all ages are eligible.\nholdsAt(Agent, compat(ageOrgan, Disease, Age),T):- holdsAt(Agent, compatRule(ageOrgan, Diseases, Range),T), (Range = all; (Range = [Min, Max], Age =< Min, \nAge >= Max)), extract(Diseases, Disease).\n% Otherwise, they are not eligible.\nholdsAt(Agent, incompat(ageOrgan, Disease, Age),T):- \\+ holdsAt(Agent, compat(ageOrgan, Disease, Age),T).\n\n% General rule to status\nholdsAt(Agent, incompat(Type, X, Y),T):- holdsAt(Agent, incompatRule(Type, L1, L2),T), extract(L1,X), extract(L2,Y), Type \\= bloodType, Type \\= ageOrgan.\nholdsAt(Agent, compat(Type, X, Y),T):- holdsAt(Agent, compatRule(Type, L1, L2),T), extract(L1, X), extract(L2,Y), Type \\= bloodType, Type \\= ageOrgan.\n",
   "metadata": {
    "cell_id": "5ae92802-f37b-4427-b862-59252df1ff5d",
    "tags": [],
    "deepnote_to_be_reexecuted": false,
    "source_hash": "a851c89c",
    "execution_start": 1644804837064,
    "execution_millis": 9,
    "deepnote_cell_type": "code"
   },
   "outputs": [
    {
     "name": "stdout",
     "text": "",
     "output_type": "stream"
    }
   ],
   "execution_count": 5
  },
  {
   "cell_type": "code",
   "source": "happensAtNarrative(\"Otago\":send(monSys, waitAddReq(104, [\"heart\", \"lung\"], [bloodType:\"B\", dob:\"01/04/2015\", conditions:[\"Asthma\"]])),0).\n\nhappensAtNarrative(\"Wellington\": send(monSys, donorOffer(201, [heart, kidney, liver, lungs, pancreas], [bloodType:\"A\", dob:\"10/11/1978\", conditions:[\"HepC\"]])),3).\nhappensAtNarrative(monSys:match(701, \"Otago\", 104, \"Wellington\", 201, \"Auckland\", [\"heart\"], [donorCondition:\"HepC\"]),4).",
   "metadata": {
    "cell_id": "d06555df-aa70-4313-a39a-59d72adac5a4",
    "tags": [],
    "deepnote_to_be_reexecuted": false,
    "source_hash": "504d925e",
    "execution_start": 1644804837116,
    "execution_millis": 3,
    "deepnote_cell_type": "code"
   },
   "outputs": [
    {
     "name": "stdout",
     "text": "",
     "output_type": "stream"
    }
   ],
   "execution_count": 6
  },
  {
   "cell_type": "code",
   "source": "?- run(10).\n?- happensAt(monSys, Event, T).",
   "metadata": {
    "cell_id": "97b191c9-cdce-4b7a-a847-0f0f76fc14ef",
    "tags": [],
    "deepnote_to_be_reexecuted": false,
    "source_hash": "4ce83700",
    "execution_start": 1644804837117,
    "execution_millis": 45,
    "deepnote_cell_type": "code"
   },
   "outputs": [
    {
     "name": "stdout",
     "text": "true.\nEvent = match(701, b'Otago', 104, b'Wellington', 201, b'Auckland', [b'heart'], [Functor(188685,2,donorCondition,b'HepC')]), T = 4 ;\nEvent = receive(b'Otago', waitAddReq(104, [b'heart', b'lung'], [Functor(188685,2,bloodType,b'B'), Functor(188685,2,dob,b'01/04/2015'), Functor(188685,2,conditions,[b'Asthma'])])), T = 1 ;\nEvent = receive(b'Wellington', donorOffer(201, [Atom('679941'), Atom('680069'), Atom('680197'), Atom('680325'), Atom('680453')], [Functor(188685,2,bloodType,b'A'), Functor(188685,2,dob,b'10/11/1978'), Functor(188685,2,conditions,[b'HepC'])])), T = 4 ;\nEvent = send(b'Otago', waitAccept(104)), T = 2 ;\nEvent = send(b'Otago', recipientFound(701, 104, b'Wellington', b'Auckland', [b'heart'], [Functor(188685,2,donorCondition,b'HepC')])), T = 5 ;\nEvent = send(b'Wellington', donorFound(701, 201, b'Otago', b'Auckland', [b'heart'], [Functor(188685,2,donorCondition,b'HepC')])), T = 5 ;\nEvent = send(b'Auckland', locationSelected(701, b'Otago', b'Wellington', [b'heart'], [Functor(188685,2,donorCondition,b'HepC')])), T = 5 .",
     "output_type": "stream"
    }
   ],
   "execution_count": 7
  },
  {
   "cell_type": "code",
   "source": "initially(monSys:exp_rule(happ(receive(Hospital, donorOffer(ID, Organs, _))), \nwithin(or([happ(noMatch(Hospital, ID)), happ(match(_, Hospital, ID, _, _, _, Organs, _))]),1), \ndependent, \"Timely response\":\"A donation offer should be matched or refused in the next time period\"), _).",
   "metadata": {
    "cell_id": "934385ec-126f-4f9c-8efa-06621410c1c3",
    "tags": [],
    "deepnote_to_be_reexecuted": false,
    "source_hash": "a155897e",
    "execution_start": 1644804837161,
    "execution_millis": 44,
    "deepnote_cell_type": "code"
   },
   "outputs": [
    {
     "name": "stdout",
     "text": "",
     "output_type": "stream"
    }
   ],
   "execution_count": 8
  },
  {
   "cell_type": "markdown",
   "source": "<a style='text-decoration:none;line-height:16px;display:flex;color:#5B5B62;padding:10px;justify-content:end;' href='https://deepnote.com?utm_source=created-in-deepnote-cell&projectId=32f94018-a4da-40ef-8c9f-8983d73811c8' target=\"_blank\">\n<img alt='Created in deepnote.com' style='display:inline;max-height:16px;margin:0px;margin-right:7.5px;' src='data:image/svg+xml;base64,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' > </img>\nCreated in <span style='font-weight:600;margin-left:4px;'>Deepnote</span></a>",
   "metadata": {
    "tags": [],
    "created_in_deepnote_cell": true,
    "deepnote_cell_type": "markdown"
   }
  }
 ],
 "nbformat": 4,
 "nbformat_minor": 2,
 "metadata": {
  "orig_nbformat": 2,
  "deepnote": {
   "is_reactive": false
  },
  "deepnote_notebook_id": "b2ee308f-ecad-494c-8fd7-68ac5c1a44fd",
  "deepnote_execution_queue": [],
  "deepnote_app_layout": "article"
 }
}