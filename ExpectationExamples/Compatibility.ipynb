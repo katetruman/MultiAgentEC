{
 "cells": [
  {
   "cell_type": "markdown",
   "source": "# Multi-hospital Organ Transplants",
   "metadata": {
    "tags": [],
    "is_collapsed": false,
    "deepnote_app_coordinates": {
     "x": 0,
     "y": null,
     "w": 12,
     "h": 5
    },
    "cell_id": "3efc42e8-3af8-4114-8b9c-f8f8b93d7d49",
    "deepnote_cell_type": "text-cell-h1"
   }
  },
  {
   "cell_type": "markdown",
   "source": "This notebook explores expectations related to our organ transplant scenario. If you have not yet done so, please refer to **AgentsAndEvents.ipynb** for important events and fluents used in this scenario, and **Expectations.ipynb** for a discussion of expectations in this context. Both of these notebooks are located in the parent directory, **MultipleAgents**.",
   "metadata": {
    "tags": [],
    "deepnote_app_coordinates": {
     "x": 0,
     "y": 174,
     "w": 12,
     "h": 5
    },
    "cell_id": "00001-8697aacc-a779-4ecb-bf69-2b32a392b352",
    "deepnote_cell_type": "markdown"
   }
  },
  {
   "cell_type": "markdown",
   "source": "### Set up",
   "metadata": {
    "tags": [],
    "is_collapsed": false,
    "deepnote_app_coordinates": {
     "x": 0,
     "y": 0,
     "w": 12,
     "h": 5
    },
    "cell_id": "00002-8ba776c4-55bd-4d1c-a2f4-139d41edbe89",
    "deepnote_cell_type": "text-cell-h3"
   }
  },
  {
   "cell_type": "markdown",
   "source": "We need to set up our environment by loading in our event and fluent declarations from **dec:notation.pl** and **AE.pl**. The latter contains the code from **AgentsAndEvents.ipynb** the last time that notebook was run.\n\n<font color='red'>IMPORTANT NOTE: you should run **AgentsAndEvents.ipynb** prior to running this notebook to ensure that **AE.pl** contains up to date predicates! You must run the notebook, not just update and save it.</font>",
   "metadata": {
    "tags": [],
    "deepnote_app_coordinates": {
     "x": 0,
     "y": 0,
     "w": 12,
     "h": 5
    },
    "cell_id": "00003-fa75de71-2cc3-44da-baee-845d23c33c63",
    "deepnote_cell_type": "markdown"
   }
  },
  {
   "cell_type": "code",
   "metadata": {
    "tags": [],
    "deepnote_app_coordinates": {
     "x": 0,
     "y": 0,
     "w": 12,
     "h": 5
    },
    "deepnote_to_be_reexecuted": false,
    "source_hash": "932f14c0",
    "execution_start": 1644962150150,
    "execution_millis": 79,
    "cell_id": "00004-44757523-d357-4191-b0ab-a904e58829f7",
    "deepnote_cell_type": "code"
   },
   "source": "?- cd('~/work'), ['dec:notation'].\n?- initialiseDEC.\n?- retractall(happensAtNarrative(_,_)).\n?- ['AE'].",
   "execution_count": 1,
   "outputs": [
    {
     "name": "stdout",
     "text": "true.\nfalse.\ntrue.\ntrue.",
     "output_type": "stream"
    }
   ]
  },
  {
   "cell_type": "markdown",
   "source": "## Compatibility / Suitability",
   "metadata": {
    "tags": [],
    "is_collapsed": false,
    "deepnote_app_coordinates": {
     "x": 0,
     "y": 0,
     "w": 12,
     "h": 5
    },
    "cell_id": "00005-5cf80cb8-5dcc-4a7f-8e32-1d700aa7b231",
    "deepnote_cell_type": "text-cell-h2"
   }
  },
  {
   "cell_type": "markdown",
   "source": "<font color='red'> NB: This notebook is currently incomplete. Work needs to be done to allow for general incompatibility or compatibility fluent queries.</font>",
   "metadata": {
    "cell_id": "8fe2f468-8072-49f5-9d86-c0194c87f055",
    "tags": [],
    "deepnote_cell_type": "markdown"
   }
  },
  {
   "cell_type": "markdown",
   "source": "An agent may expect that when it requests a resource, and its request is matched to a resource offer from another agent, that the match is \"compatible\". In the organ transplant scenario, the recipient's hospital might expect that any organ offered to the recipient by the monitoring system is compatible with the recipient in terms of blood type, medical conditions and any other important factors. Similarly, the donor's hospital might expect that the recipient of their offered organ is a suitable recipient, such that the organ is not wasted. \n\nThere are two types of compatibility to consider here - the compatibility between the donor and the recipient, and compatibility between the type of organ and properties of either the recipient or the donor. An example of the former is whether the donor has a blood type suitable for the recipient. An example of the latter is whether the donor is too old to donate their heart. Note that this case does not consider any property of the recipient.",
   "metadata": {
    "cell_id": "e4d1178f-159b-45db-a9d5-da18f9ef51b4",
    "tags": [],
    "deepnote_cell_type": "markdown"
   }
  },
  {
   "cell_type": "markdown",
   "source": "### Compatibility fluents",
   "metadata": {
    "cell_id": "45302a78-5696-4fe2-9a47-96af17f8fbb9",
    "tags": [],
    "is_collapsed": false,
    "deepnote_cell_type": "text-cell-h3"
   }
  },
  {
   "cell_type": "markdown",
   "source": "We can declare compatibility (and incompatibility) rules for determining whether patients are suitable to be potential donors or recipients and for matching an organ donor to a recipient. The `newCompatRule` is used to initiate new compatibility rules, while `newIncompatRule` initiates new incompatibility rules. Each terminates the opposing compatibility rule. This may require some tweaking if we wish opposing rules to cause a conflict violation rather than overwriting an earlier rule.\n\nFor donor-patient matching, we wish to differentiate between known compatibility or incompatibility and unknown compatibility. For instance, if we know that severe asthma makes lungs unsuitable for organ donation, but does not affect other organs, the compatibility of organs from a patient with severe asthma to a potential recipient should be treated differently to the compatibility of organs from a patient with Parkinson's disease, if the effect of this condition is not defined by any existing compatibility rules.\n\nCompatibility rules have the arguments `Situation`, `Property1` and `Property2`. \n- `Situation` refers to the type of compatibility rule - `recipient`, `donor` or `transplant`. `recipient` and `donor` rules can be viewed as **suitability** rules. A `donor` rule states whether various properties of a potential donor make them suitable to donate. `donor` and `recipient` rules will only take into account the organ in question and details about the patient of interest, and will not rely on information about the other party. For example, we could have a `donor` rule stating that heart donors must not be aged over 65. This rule does not involve any details about a potential recipient. Likewise, a `recipient` rule states whether a recipient is eligible to receive a donation, without involving any details about the potential donor. A `transplant` rule combines properties of the donor and the recipient to determine whether the two parties are compatible for a donation. \n- *`Property1` and `Property2` each have the format `Type:Value` and detail two properties which we wish to check for compatibility. Examples of properties are blood type, age, medical condition and organ. In the `transplant` situation, `Property1` is a donor property and `Property2` is a recipient property.\n\nAs our compatibility rules may change over time, they are encoded as fluents. An example in which compatibility rules change over time, is the suitability of organs from donors with Hepatitis B and C or HIV. In the past, these organs were not suitable for donation (except potentially to recipients already diagnosed with the disease). However, a [recent study has shown](https://www.npr.org/sections/health-shots/2019/04/03/709533047/hepatitis-c-not-a-barrier-for-organ-transplantation-study-finds) that if recipients are given antiviral drugs, this can prevent them from getting the disease from an infected organ. \n\nBefore such a study is recognised by a medical institution, the hospital may have a compatibility rule stating that Hepatitis B, Hepatitis C and HIV patients cannot donate to recipients without the disease(s). Once such a study is approved, the hospital may wish to change the compatibility rule to state that such donations are acceptable provided that an appropriate antiviral drug treatment is undertaken by the recipient.",
   "metadata": {
    "cell_id": "b7b75dd0-8ee2-4321-b60b-f5b4bf4ccc5e",
    "tags": [],
    "deepnote_cell_type": "markdown"
   }
  },
  {
   "cell_type": "markdown",
   "source": "All of our agents may make use of compatibility rules (although not necessarily the same ones), so we declare our *initiates* and *terminates* clauses irrespective of the agent.",
   "metadata": {
    "cell_id": "720822a7-4b48-464b-ba50-e0f9df2f57db",
    "tags": [],
    "deepnote_cell_type": "markdown"
   }
  },
  {
   "cell_type": "code",
   "metadata": {
    "tags": [],
    "deepnote_app_coordinates": {
     "x": 0,
     "y": 0,
     "w": 12,
     "h": 5
    },
    "deepnote_to_be_reexecuted": false,
    "source_hash": "2539d377",
    "execution_start": 1644962150228,
    "execution_millis": 52,
    "cell_id": "00020-8805cca7-b23e-4532-a7ae-ffcacb3eef45",
    "deepnote_cell_type": "code"
   },
   "source": "% File: compatibilityRules.pl\ninitiates(_:newCompatRule(Situation, Property1, Property2), compatRule(Situation, Property1, Property2),_).\nterminates(_:newIncompatRule(Situation, Property1, Property2), compatRule(Situation, Property1, Property2),_).\ninitiates(_:newIncompatRule(Situation, Property1, Property2), incompatRule(Situation, Property1, Property2),_).\nterminates(_:newCompatRule(Situation, Property1, Property2), incompatRule(Situation, Property1, Property2),_).",
   "execution_count": 2,
   "outputs": [
    {
     "name": "stdout",
     "text": "",
     "output_type": "stream"
    }
   ]
  },
  {
   "cell_type": "markdown",
   "source": "### Example Rules",
   "metadata": {
    "cell_id": "09bba797-c0d7-47de-a390-2f4acded1fa9",
    "tags": [],
    "is_collapsed": false,
    "deepnote_cell_type": "text-cell-h3"
   }
  },
  {
   "cell_type": "markdown",
   "source": "We set our initial compatibility rules to apply for *monSys*, as it can check whether a donor and a recipient are compatible when a match occurs. Currently, compatibility rules have been declared for organs, medical conditions, blood types, ages, and combinations of these categories. The organs used and age compatibility rules are based on information from [Organ Donation New Zealand](https://www.donor.co.nz/facts-and-myths/). Blood type compatibility is based on information from [UC Davis Health](https://health.ucdavis.edu/transplant/livingkidneydonation/matching-and-compatibility.html.). We also declare a medical conditon compatibility rule stating that a donor and recipient are compatible if the donor and the recipient have the same condition (and the donor has no other conditions not present in the recipient).\n\nFor categorical properties, we want to know which values belong in our category. For example, when checking blood types, we want to know that we recognise types A, B, AB and O. The `propertyList/2` fluents have the arguments `Type` and `List`, where `Type` refers to the property category, such as `bloodType`, and `List` is a list of the recognised values of that type. For example, the recognised blood types are defined below:\n- `initially(monSys:propertyList(bloodType, [\"A\", \"AB\", \"B\", \"O\"])).`\n\nWhile it may be unlikely that any new blood types are about to be discovered, given that the existing categories were determined over a century ago, it is best practice to design a system that can cope with changes if necessary. A possible way to achieve a new blood type may be a mutation, or widening our organ donation system to animal organ transplants. This is why `propertyList/2` is a fluent and not a standard predicate.\n\nWhen we have defined the acceptable values of a property type, we are able to infer from compatibility rules when a property combination is incompatible, or likewise from an incompatibility rule we can infer compatible combinations. For example, `compatRule(transplant, bloodType:\"A\", bloodType:[\"A\", \"AB\"])` states that if the donor has blood type A, their organs can be donated to patients who have blood type A or AB. As the four types of blood are initially declared to be A, B, AB and O, we can then infer that such a donor cannot donate to patients with blood type B or O.\n\nOur compatibility rule properties have the format `Property:Value`. `Value` can be a single value or a list of values. Also supported is values with the form `(min:MinimumValue, max:MaximumValue)` for checking if a value is within a given range.",
   "metadata": {
    "cell_id": "a920ffb6-66b7-440b-831b-838fdbae9ed2",
    "tags": [],
    "deepnote_cell_type": "markdown"
   }
  },
  {
   "cell_type": "code",
   "metadata": {
    "cell_id": "57c84c0a-f7dd-43e8-bfaa-6369018e0d3c",
    "tags": [],
    "deepnote_to_be_reexecuted": false,
    "source_hash": "b7109fbf",
    "execution_start": 1644962150320,
    "execution_millis": 7,
    "deepnote_cell_type": "code"
   },
   "source": "% File: initialRules.pl\n% Recognised values in property categories\ninitially(monSys:propertyList(organ, [\"Heart\",\"Kidney\", \"Liver\",\"Lungs\", \"Pancreas\"])).\ninitially(monSys:propertyList(condition, [\"HIV\", \"Hep-B\", \"Hep-C\", \"Heart Disease\", \"Severe Asthma\", \"Chronic Pulmonary Disease\"])).\ninitially(monSys:propertyList(bloodType, [\"A\", \"AB\", \"B\", \"O\"])).\n% Compatibility rules for transplants\ninitially(monSys:compatRule(transplant, bloodType:\"A\", bloodType:[\"A\", \"AB\"])).\ninitially(monSys:compatRule(transplant, bloodType:\"B\", bloodType:[\"B\", \"AB\"])).\ninitially(monSys:compatRule(transplant, bloodType:\"AB\", bloodType:\"AB\")).\ninitially(monSys:compatRule(transplant, bloodType:\"O\", bloodType:[\"A\",\"AB\",\"B\",\"O\"])).\ninitially(monSys:compatRule(transplant, condition:X, condition:X)).\n% Suitability rules\ninitially(monSys:compatRule(donor, organ:\"Heart\", age:(min:0, max:65))).\ninitially(monSys:compatRule(donor, organ:\"Lungs\", age:(min:0, max:70))).\ninitially(monSys:compatRule(donor, organ:\"Liver\", age:_)).\ninitially(monSys:compatRule(donor, organ:\"Pancreas\", age:(min:0, max:45))).\ninitially(monSys:compatRule(donor, organ:\"Kidney\", age:_)).\n\ninitially(monSys:incompatRule(donor, organ:\"Liver\", condition:\"Heart Disease\")).",
   "execution_count": 3,
   "outputs": [
    {
     "name": "stdout",
     "text": "",
     "output_type": "stream"
    }
   ]
  },
  {
   "cell_type": "markdown",
   "source": "### Helper predicates",
   "metadata": {
    "cell_id": "6231dbd3-52c5-474b-af68-e4c8ac1e17db",
    "tags": [],
    "is_collapsed": false,
    "deepnote_cell_type": "text-cell-h3"
   }
  },
  {
   "cell_type": "markdown",
   "source": "In order to simplify predicate rules, we declare a helper function which allows us to either select a singular argument or get arguments from a list",
   "metadata": {
    "cell_id": "cf49b927-1037-4b09-8b84-5a039b148a71",
    "tags": [],
    "deepnote_cell_type": "markdown"
   }
  },
  {
   "cell_type": "code",
   "metadata": {
    "cell_id": "ceacbb03-fcbe-4e3f-afd2-ec0e73ee24e5",
    "tags": [],
    "deepnote_to_be_reexecuted": false,
    "source_hash": "a772849",
    "execution_start": 1644962150364,
    "execution_millis": 63471095,
    "deepnote_cell_type": "code"
   },
   "source": "% File: extract.pl\nextract(Input, Result):- is_list(Input), member(Result, Input).\nextract(Input, Input):- \\+ is_list(Input).",
   "execution_count": 4,
   "outputs": [
    {
     "name": "stdout",
     "text": "",
     "output_type": "stream"
    }
   ]
  },
  {
   "cell_type": "markdown",
   "source": "Some of our example compatibility rules use age ranges. In order to calculate the current age of a patient from their date of birth, we consult **date_time.pl**, which contains code from the **Date Time** package by Falco Nogatz (see https://github.com/fnogatz/date_time). The Deepnote kernel does not allow us to install this package using **pack_install/1**. Note that Deepnote uses UTC time, which is 13 hours behind New Zealand Daylight Time (September - April) and 12 hours behind New Zealand Standard Time (April - September). Hence, the current date used may be one day earlier than expected if the notebook is run before 1pm.",
   "metadata": {
    "cell_id": "c938a108-4db4-488f-a3a8-b1510c7f07c5",
    "tags": [],
    "deepnote_cell_type": "markdown"
   }
  },
  {
   "cell_type": "code",
   "metadata": {
    "cell_id": "d33a3343-8b91-44a0-b865-9054db0652ef",
    "tags": [],
    "deepnote_to_be_reexecuted": false,
    "source_hash": "dd5f8497",
    "execution_start": 1644962150366,
    "execution_millis": 15,
    "deepnote_cell_type": "code"
   },
   "source": "?- ['date_time'].",
   "execution_count": 5,
   "outputs": [
    {
     "name": "stdout",
     "text": "true.",
     "output_type": "stream"
    }
   ]
  },
  {
   "cell_type": "markdown",
   "source": "The **transform/2** predicate allows us to declare the linkage between properties without having to rewrite our compatibility rules when the format of patient information changes. The **transform** predicate uses the **convert/2** predicate to check if our property can be written in a different form. If a convert rule has been established for the input, the converted output is used by the transform predicate. Otherwise, the transform predicate produces the input without any changes.\n\nAs an example, we declare that dates of birth can be converted to ages using the **date_age/2** predicate from the Date Time pack:\n- `convert(dob:(Day, Month, Year), age:Age):- date_age(date(Year, Month, Day), Age).`\nIf hospitals changed to entering birth dates using American format, with Months first, then Days, then Years, we could make a small change to our convert rule to support this, rather than having to change multiple parts of our compatibility logic.",
   "metadata": {
    "cell_id": "6151cecb-71b5-432f-8b4c-43a506eff239",
    "tags": [],
    "deepnote_cell_type": "markdown"
   }
  },
  {
   "cell_type": "code",
   "metadata": {
    "cell_id": "ed31b5e8-0046-4ff6-bf52-a051e5ed2b2f",
    "tags": [],
    "deepnote_to_be_reexecuted": false,
    "source_hash": "a9650d4b",
    "execution_start": 1644962150384,
    "execution_millis": 41,
    "deepnote_cell_type": "code"
   },
   "source": "% File: transformations.pl\n% Dates of birth should be converted into ages based on the current date\nconvert(dob:(Day, Month, Year), age:Age):-  \\+ var(Day), \\+ var(Month), \\+ var(Year), date_age(date(Year, Month, Day), Age).\ntransform(X,Y):- convert(X,Y), !.\ntransform(X,X):- \\+ convert(X,_).",
   "execution_count": 6,
   "outputs": [
    {
     "name": "stdout",
     "text": "",
     "output_type": "stream"
    }
   ]
  },
  {
   "cell_type": "markdown",
   "source": "### Obtaining compatibility predicates from rules",
   "metadata": {
    "cell_id": "0d5a7017-64f9-44ed-b7d7-f40181d499e6",
    "tags": [],
    "is_collapsed": false,
    "deepnote_cell_type": "text-cell-h3"
   }
  },
  {
   "cell_type": "markdown",
   "source": "From our compatibility rules, we wish to establish resulting compatibility fluents. These fluents do not have `initiate` or `terminate` clauses associated with them, and are based on the current compatibility rules.\n\nIn order to find out if two properties are compatible in a given situation, we check to see whether the properties can be transformed into another form. We then check if there is a compatibility rule which involves the given property types. If one of our properties has a numerical value, we check that it is within the range specified in our compatibility rule. If our compatibility rule property is provided as a list, we check if the property that we are interested in is a member of that list.\n\nOnce we have established if `Property1` and `Property2` are compatible, we can determine that `Property1` is not compatible with any other properties of the same type as `Property2` which are not included in an appropriate compatibility rule. The same logic applies to using incompatibility rules to determine incompatible matches, and any remaining compatible matches.",
   "metadata": {
    "cell_id": "c013eb62-879c-46df-906c-e517c7b319d5",
    "tags": [],
    "deepnote_cell_type": "markdown"
   }
  },
  {
   "cell_type": "code",
   "metadata": {
    "cell_id": "b95a4740-6dcc-4ea1-9317-13be30091856",
    "tags": [],
    "deepnote_to_be_reexecuted": false,
    "source_hash": "e3f51d68",
    "execution_start": 1644962150424,
    "execution_millis": 55,
    "deepnote_cell_type": "code"
   },
   "source": "% File: resultingCompatibilities.pl\n\n% Compatibility from compatibility rules\nholdsAt(Agent, compat(Situation, Type1:Value1, Type2:Value2), T):- transform(Type1:Value1, Type1Convert:Value1Convert),  % transform properties if applicable\ntransform(Type2:Value2, Type2Convert:Value2Convert), \nholdsAt(Agent, compatRule(Situation, Type1Convert:RuleValue1, Type2Convert:RuleValue2),T),                   % applicable compatibility rule holds\n(\\+var(RuleValue1), (RuleValue1 = (min:Min, max:Max)) ->  \n(Value1Convert >= Min, Value1Convert =< Max); extract(RuleValue1, Value1Convert)),                           % Apply numerical range or extract from list\n(\\+var(RuleValue2), (RuleValue2 = (min:Min, max:Max)) ->  \n(Value2Convert >= Min, Value2Convert =< Max); extract(RuleValue2, Value2Convert)), !.                        % Repeat for property 2\n\n% Incompatibility from compatibility rules\nholdsAt(Agent, incompat(Situation, Type1:Value1, Type2:Value2), T):- \ntransform(Type1:Value1, Type1Convert:Value1Convert), transform(Type2:Value2, Type2Convert:Value2Convert),    % transform properties if applicable\nholdsAt(Agent, compatRule(Situation, Type1Convert:_, Type2Convert:_),T),                                     % check related compatibility rule exists\n\\+ holdsAt(Agent, incompatRule(Situation, Type1Convert:_, Type2Convert:_),T),                                % check there is no applicable incompatibility rule\n\\+ holdsAt(Agent, compat(Situation, Type1:Value1, Type2:Value2), T),                                         % check properties are not known to be compatible\n((holdsAt(Agent, propertyList(Type1Convert, List1), T), member(Value1Convert, List1)) ; number(Value1Convert)), % check property 1 category\n((holdsAt(Agent, propertyList(Type2Convert, List2), T),  member(Value2Convert, List2)); number(Value2Convert)), % check property 2 category\n!.                                               \n\n% Incompatibility from incompatibility rules\nholdsAt(Agent, incompat(Situation, Type1:Value1, Type2:Value2), T):- transform(Type1:Value1, Type1Convert:Value1Convert), % transform properties if applicable\ntransform(Type2:Value2, Type2Convert:Value2Convert), \nholdsAt(Agent, incompatRule(Situation, Type1Convert:RuleValue1, Type2Convert:RuleValue2),T),                 % applicable compatibility rule holds\n(\\+var(RuleValue1), (RuleValue1 = (min:Min, max:Max)) ->  \n(Value1Convert >= Min, Value1Convert =< Max); extract(RuleValue1, Value1Convert)),                           % Apply numerical range or extract from list\n(\\+var(RuleValue2), (RuleValue2 = (min:Min, max:Max)) ->  \n(Value2Convert >= Min, Value2Convert =< Max); extract(RuleValue2, Value2Convert)), !.                        % Repeat for property 2\n\n% Compatibility from incompatibility rules\n\nholdsAt(Agent, compat(Situation, Type1:Value1, Type2:Value2), T):- \ntransform(Type1:Value1, Type1Convert:Value1Convert), transform(Type2:Value2, Type2Convert:Value2Convert),    % transform properties if applicable\nholdsAt(Agent, incompatRule(Situation, Type1Convert:_, Type2Convert:_),T),                                   % check related incompatibility rule exists\n\\+ holdsAt(Agent, compatRule(Situation, Type1Convert:_, Type2Convert:_),T),                                  % check there is no applicable compatibility rule\n\\+ holdsAt(Agent, incompat(Situation, Type1:Value1, Type2:Value2), T),                                       % check properties are not known to be incompatible\n((holdsAt(Agent, propertyList(Type1Convert, List1), T), member(Value1Convert, List1)) ; number(Value1Convert)), % check property 1 category\n((holdsAt(Agent, propertyList(Type2Convert, List2), T),  member(Value2Convert, List2)); number(Value2Convert)), % check property 2 category\n!.                               ",
   "execution_count": 7,
   "outputs": [
    {
     "name": "stdout",
     "text": "",
     "output_type": "stream"
    }
   ]
  },
  {
   "cell_type": "markdown",
   "source": "### Example compatibilities",
   "metadata": {
    "cell_id": "3e427bfa-8e61-4ba0-9e93-3466073c069d",
    "tags": [],
    "is_collapsed": false,
    "deepnote_cell_type": "text-cell-h3"
   }
  },
  {
   "cell_type": "markdown",
   "source": "Let us consider some of the example compatibility rules listed above and illustrate how they enable compatibility checks.\n\nFirstly, recall the following statement, which sets the acceptable age range for heart donations to 0 - 65 years:\n\n`initially(monSys:compatRule(donor, organ:\"Heart\", age:(min:0, max:65))).`\n\nWe check whether three patients are of an acceptable age to donate a heart at time zero. The patients' dates of birth are 01/02/2005, 31/12/1972 and 13/02/1956.\nThe last patient is too old to donate their heart. This is confirmed when we check our **compat** fluent:",
   "metadata": {
    "cell_id": "af7311ce-a55a-4c5a-9b8c-a92ccaa47cc6",
    "tags": [],
    "deepnote_cell_type": "markdown"
   }
  },
  {
   "cell_type": "code",
   "metadata": {
    "cell_id": "7b5baabc-354a-438c-868a-1b26e1c5a7e4",
    "tags": [],
    "deepnote_to_be_reexecuted": false,
    "source_hash": "501bc716",
    "execution_start": 1644962150470,
    "execution_millis": 10,
    "deepnote_cell_type": "code"
   },
   "source": "?- holdsAt(monSys, compat(donor, organ:\"Heart\", dob:(1,2,2005)),0).\n?- holdsAt(monSys, compat(donor, organ:\"Heart\", dob:(31,12,1972)),0).\n?- holdsAt(monSys, compat(donor, organ:\"Heart\", dob:(13,2,1956)),0).",
   "execution_count": 8,
   "outputs": [
    {
     "name": "stdout",
     "text": "true.\ntrue.\nfalse.",
     "output_type": "stream"
    }
   ]
  },
  {
   "cell_type": "markdown",
   "source": "We can also check our **incompat** fluent which provides the opposing Boolean results:",
   "metadata": {
    "cell_id": "a8051c4e-0ebb-4059-949d-07afaae54902",
    "tags": [],
    "deepnote_cell_type": "markdown"
   }
  },
  {
   "cell_type": "code",
   "metadata": {
    "cell_id": "16a0ffa7-5154-4edc-8302-4bd6bf20f86f",
    "tags": [],
    "deepnote_to_be_reexecuted": false,
    "source_hash": "1bd1a9c6",
    "execution_start": 1644962150482,
    "execution_millis": 0,
    "deepnote_cell_type": "code"
   },
   "source": "?- holdsAt(monSys, incompat(donor, organ:\"Heart\", dob:(1,2,2005)),0).\n?- holdsAt(monSys, incompat(donor, organ:\"Heart\", dob:(31,12,1972)),0).\n?- holdsAt(monSys, incompat(donor, organ:\"Heart\", dob:(13,2,1956)),0).",
   "execution_count": 9,
   "outputs": [
    {
     "name": "stdout",
     "text": "false.\nfalse.\ntrue.",
     "output_type": "stream"
    }
   ]
  },
  {
   "cell_type": "markdown",
   "source": "Recall that we declared that donors with blood type A could only donate to recipients with blood type A or AB:",
   "metadata": {
    "cell_id": "00454ee1-cb39-4a0e-b661-dc60698780d1",
    "tags": [],
    "deepnote_cell_type": "markdown"
   }
  },
  {
   "cell_type": "code",
   "metadata": {
    "cell_id": "b042ede2-900d-42d6-9c98-2c7f629d210e",
    "tags": [],
    "deepnote_to_be_reexecuted": false,
    "source_hash": "545889f3",
    "execution_start": 1644962150510,
    "execution_millis": 63471132,
    "deepnote_cell_type": "code"
   },
   "source": "?- holdsAt(monSys, compat(transplant, bloodType:\"A\", bloodType:\"A\"), 0).\n?- holdsAt(monSys, compat(transplant, bloodType:\"A\", bloodType:\"AB\"), 0).\n?- holdsAt(monSys, compat(transplant, bloodType:\"A\", bloodType:\"B\"), 0).\n?- holdsAt(monSys, compat(transplant, bloodType:\"A\", bloodType:\"O\"), 0).",
   "execution_count": 10,
   "outputs": [
    {
     "name": "stdout",
     "text": "true.\ntrue.\nfalse.\nfalse.",
     "output_type": "stream"
    }
   ]
  },
  {
   "cell_type": "markdown",
   "source": "Recall that we set livers to be compatible with all of our recognised medical conditions, except heat disease, using the following line of code:\n\n`initially(monSys:incompatRule(donor, organ:\"Liver\", condition:\"Heart Disease\")).`\n\nAnd that the following conditions are recognised by **monSys**: HIV, Hep-B, Hep-C, Heart Disease, Severe Asthma, and Chronic Pulmonary Disease.\n\nAs \"Severe Asthma\" is on our recognised list of conditions, we find that it is compatible with liver donations, and heart disease is not:",
   "metadata": {
    "cell_id": "948ae56d-c477-4914-98e6-7b009704acc8",
    "tags": [],
    "deepnote_cell_type": "markdown"
   }
  },
  {
   "cell_type": "code",
   "metadata": {
    "cell_id": "b0d34307-58c9-42a9-843b-7651edf502e8",
    "tags": [],
    "deepnote_to_be_reexecuted": false,
    "source_hash": "a25f8427",
    "execution_start": 1644962150573,
    "execution_millis": 63471135,
    "deepnote_cell_type": "code"
   },
   "source": "?- holdsAt(monSys, compat(donor, organ:\"Liver\", condition:\"Severe Asthma\"), 0).\n?- holdsAt(monSys, compat(donor, organ:\"Liver\", condition:\"Heart Disease\"), 0).\n?- holdsAt(monSys, incompat(donor, organ:\"Liver\", condition:\"Severe Asthma\"), 0).\n?- holdsAt(monSys, incompat(donor, organ:\"Liver\", condition:\"Heart Disease\"), 0).",
   "execution_count": 11,
   "outputs": [
    {
     "name": "stdout",
     "text": "true.\nfalse.\nfalse.\ntrue.",
     "output_type": "stream"
    }
   ]
  },
  {
   "cell_type": "markdown",
   "source": "If we test a condition that we have not previously declared to be recognised by **monSys**, both compatibility and incompatibility checks return false, as its compatibility status with liver donation is unknown. Note that if a compatibility check returning false, does not necessarily mean incompatibility!",
   "metadata": {
    "cell_id": "095b68c4-af18-4e00-9727-190164eaa865",
    "tags": [],
    "deepnote_cell_type": "markdown"
   }
  },
  {
   "cell_type": "code",
   "metadata": {
    "cell_id": "c9162118-964f-416f-a51b-81394cf2c008",
    "tags": [],
    "deepnote_to_be_reexecuted": false,
    "source_hash": "6a4d8c4e",
    "execution_start": 1644962150574,
    "execution_millis": 63471149,
    "deepnote_cell_type": "code"
   },
   "source": "?- holdsAt(monSys, compat(donor, organ:\"Liver\", condition:\"made up disease\"), 0).\n?- holdsAt(monSys, incompat(donor, organ:\"Liver\", condition:\"made up disease\"), 0).",
   "execution_count": 12,
   "outputs": [
    {
     "name": "stdout",
     "text": "false.\nfalse.",
     "output_type": "stream"
    }
   ]
  },
  {
   "cell_type": "markdown",
   "source": "While the current predicates only allow us to check the compatibility of two properties at a time, this could be expanded to include far more complex rules.",
   "metadata": {
    "cell_id": "be6e8ad7-36b0-4ac5-acde-76369e45d9c5",
    "tags": [],
    "deepnote_cell_type": "markdown"
   }
  },
  {
   "cell_type": "markdown",
   "source": "### Example Narrative",
   "metadata": {
    "cell_id": "999c63d5-0a79-45ac-8617-ddebb4915257",
    "tags": [],
    "is_collapsed": false,
    "deepnote_cell_type": "text-cell-h3"
   }
  },
  {
   "cell_type": "markdown",
   "source": "Having exhibited the compatibility rules working for simple compatibility checks, we now wish to show that they function in our wider organ donation scenario.",
   "metadata": {
    "cell_id": "65c19aa0-a19a-4e03-9aeb-63c5cdcdfb37",
    "tags": [],
    "deepnote_cell_type": "markdown"
   }
  },
  {
   "cell_type": "markdown",
   "source": "At time period zero, Otago hospital sends a waiting list add request to **monSys** for patient 104. This patient is in need of a heart, has asthma, blood type B and was born on the 1st of April 2015.\n\nAt time period three, Wellington hospital sends a donation offer to **monSys** for patient 201. They have five organs suitable for donation, blood type A, have hepatitis C and were born on the 10th of November 1978.\n\nAt time period four, **monSys** matches the waiting list record for patient 104 from Otago to the donor offer from patient 201 from Wellington. Note that the donor and the recipient have incompatible blood types for a donation.",
   "metadata": {
    "cell_id": "d1de183e-e1c9-484f-a985-06f7b86d4c86",
    "tags": [],
    "deepnote_cell_type": "markdown"
   }
  },
  {
   "cell_type": "code",
   "metadata": {
    "cell_id": "d06555df-aa70-4313-a39a-59d72adac5a4",
    "tags": [],
    "deepnote_to_be_reexecuted": false,
    "source_hash": "c65e1c9e",
    "execution_start": 1644962150617,
    "execution_millis": 63471174,
    "deepnote_cell_type": "code"
   },
   "source": "% File: narrative.pl\nhappensAtNarrative(\"Otago\":send(monSys, waitAddReq(104, [\"heart\"], [bloodType:\"B\"])),0).\n% dob:(01,04,2015), condition:\"Asthma\"\n% dob:(10,11,1950), condition:\"HepC\"\nhappensAtNarrative(\"Wellington\": send(monSys, donorOffer(201, [heart, kidney, liver, lungs, pancreas], [bloodType:\"A\"])),3).\nhappensAtNarrative(monSys:match(701, \"Otago\", 104, \"Wellington\", 201, \"Auckland\", [\"heart\"], [donorCondition:\"HepC\"]),5).",
   "execution_count": 13,
   "outputs": [
    {
     "name": "stdout",
     "text": "",
     "output_type": "stream"
    }
   ]
  },
  {
   "cell_type": "markdown",
   "source": "We add an expectation rule stating that when a match is made, **monSys** expects that there will not be any properties of the donor and the recipient which are incompatible.",
   "metadata": {
    "cell_id": "73284506-8130-4499-9cf2-04447117afd8",
    "tags": [],
    "deepnote_cell_type": "markdown"
   }
  },
  {
   "cell_type": "code",
   "metadata": {
    "cell_id": "0b6728af-176e-4e2a-aa58-8f53809366d7",
    "tags": [],
    "deepnote_to_be_reexecuted": false,
    "source_hash": "7012c94",
    "execution_start": 1644962150618,
    "execution_millis": 63471164,
    "deepnote_cell_type": "code"
   },
   "source": "% File: compatibilityExpectations.pl\ninitially(monSys:exp_rule(and([happ(match(_, RecipientHospital, RecipientID, DonorHospital, DonorID, Location, Organs, Notes)), \nwaiting(RecipientID, RecipientHospital, RecipientOrgans, RecipientDetails, _), donorOffered(Hospital, DonorID, DonorOrgans, DonorDetails)]), \nnot((and([incompat(transplant, DonorProperty, RecipientProperty), condition(memberchk(DonorProperty, DonorDetails)), \ncondition(memberchk(RecipientProperty, RecipientDetails))]))), dependent, \"Matched donor and recipient are not incompatible\")).\n",
   "execution_count": 14,
   "outputs": [
    {
     "name": "stdout",
     "text": "",
     "output_type": "stream"
    }
   ]
  },
  {
   "cell_type": "markdown",
   "source": "## Discussion of incomplete functionality:",
   "metadata": {
    "cell_id": "d22775e2-a971-42a5-a8fd-bc99638891bd",
    "tags": [],
    "is_collapsed": false,
    "deepnote_cell_type": "text-cell-h2"
   }
  },
  {
   "cell_type": "markdown",
   "source": "At time period 5, the match occurs, but we find that currently, our expectation rule leads to a fulfilment occurring, even though the donor and the recipient's blood types are not compatible.",
   "metadata": {
    "cell_id": "7b33d766-bc62-4841-971f-03f71aaa1fb8",
    "tags": [],
    "deepnote_cell_type": "markdown"
   }
  },
  {
   "cell_type": "code",
   "metadata": {
    "cell_id": "d7ed4e98-8d07-4989-8a0a-a6ddc08143c3",
    "tags": [],
    "deepnote_to_be_reexecuted": false,
    "source_hash": "8a37e817",
    "execution_start": 1644962150660,
    "execution_millis": 38,
    "deepnote_cell_type": "code"
   },
   "source": "?- run(10).\n?- happensAt(monSys, Event, 5).",
   "execution_count": 15,
   "outputs": [
    {
     "name": "stdout",
     "text": "true.\nEvent = fulf(and([Functor(14512269,1,match(701, b'Otago', 104, b'Wellington', 201, b'Auckland', [b'heart'], [Functor(188685,2,donorCondition,b'HepC')])), Functor(14594701,5,104,b'Otago',[b'heart'],[Functor(188685,2,bloodType,b'B')],1), Functor(14631437,4,b'Wellington',201,[Atom('722053'), Atom('722181'), Atom('722309'), Atom('722437'), Atom('722565')],[Functor(188685,2,bloodType,b'A')])]), not(and([Functor(15270285,3,transplant,:(bloodType, b'A'),:(bloodType, b'B')), Functor(14487693,1,memberchk(:(bloodType, b'A'), [Functor(188685,2,bloodType,b'A')])), Functor(14487693,1,memberchk(:(bloodType, b'B'), [Functor(188685,2,bloodType,b'B')]))])), 5, not(and([Functor(15270285,3,transplant,:(bloodType, b'A'),:(bloodType, b'B')), Functor(14487693,1,memberchk(:(bloodType, b'A'), [Functor(188685,2,bloodType,b'A')])), Functor(14487693,1,memberchk(:(bloodType, b'B'), [Functor(188685,2,bloodType,b'B')]))])), dependent, b'Matched donor and recipient are not incompatible') ;\nEvent = match(701, b'Otago', 104, b'Wellington', 201, b'Auckland', [b'heart'], [Functor(188685,2,donorCondition,b'HepC')]) .",
     "output_type": "stream"
    }
   ]
  },
  {
   "cell_type": "markdown",
   "source": "This occurs because general compatibility or incompatibility queries, such as the one shown below, are not currently supported to list all compatibilities or incompatibilities. Note that even though we can directly check if blood types A and B are incompatible, if we ask for all combinations of known incompatible transplant properties, we do not get any results. This means that our expectation rule is unable to reliably check if incompatibility and compatibility fluents evaluate to true at a given time period.",
   "metadata": {
    "cell_id": "2f0dfaf5-23f9-43bf-baa8-6aad4901b9bd",
    "tags": [],
    "deepnote_cell_type": "markdown"
   }
  },
  {
   "cell_type": "code",
   "metadata": {
    "cell_id": "a7cdc53b-03e8-48f2-8ebc-1e161a688481",
    "tags": [],
    "deepnote_to_be_reexecuted": false,
    "source_hash": "f45a07ab",
    "execution_start": 1644962623384,
    "execution_millis": 285,
    "deepnote_cell_type": "code"
   },
   "source": "?- holdsAt(monSys, incompat(transplant, Property1, Property2), 5).\n?- holdsAt(monSys, incompat(transplant, bloodType:\"A\", bloodType:\"B\"), 5).",
   "execution_count": 24,
   "outputs": [
    {
     "name": "stdout",
     "text": "false.\ntrue.",
     "output_type": "stream"
    }
   ]
  },
  {
   "cell_type": "markdown",
   "source": "When we evaluate the `incompat` fluent directly, our expression correctly evaluates to false. However, when we use a variable argument, our expression evaluation is incorrect. ",
   "metadata": {
    "cell_id": "ca43b836-42a6-402d-b175-051c29c3e128",
    "tags": [],
    "deepnote_cell_type": "markdown"
   }
  },
  {
   "cell_type": "code",
   "source": "?- eval(monSys, not(incompat(transplant, bloodType:\"A\", bloodType:\"B\")), 5, Boolean).\n?- eval(monSys, not(and([member(Property, [bloodType:\"B\"]), incompat(transplant, bloodType:\"A\", Property)])), 5, Boolean).",
   "metadata": {
    "cell_id": "22766ab4-89d2-4fdb-8645-df1bb44c6fc3",
    "tags": [],
    "deepnote_to_be_reexecuted": false,
    "source_hash": "2e022994",
    "execution_start": 1644963435526,
    "execution_millis": 2618,
    "deepnote_cell_type": "code"
   },
   "outputs": [
    {
     "name": "stdout",
     "text": "Boolean = false .\nProperty = _1898, Boolean = true .",
     "output_type": "stream"
    }
   ],
   "execution_count": 31
  },
  {
   "cell_type": "markdown",
   "source": "Once this issue is addressed, we should be able to successfully incorporate compatibility and incompatibility fluents into expectations about donors, recipients and matches. As well as **monSys** expecting that the donor and the recipient are compatible, **monSys** or potentially individual hospitals could expect that either the donor or the recipient which are externally sourced are suitable to be involved in a transplant.",
   "metadata": {
    "cell_id": "b3f3a9a5-e92f-4c4d-8f64-f91c74276fcf",
    "tags": [],
    "deepnote_cell_type": "markdown"
   }
  },
  {
   "cell_type": "markdown",
   "source": "<a style='text-decoration:none;line-height:16px;display:flex;color:#5B5B62;padding:10px;justify-content:end;' href='https://deepnote.com?utm_source=created-in-deepnote-cell&projectId=32f94018-a4da-40ef-8c9f-8983d73811c8' target=\"_blank\">\n<img alt='Created in deepnote.com' style='display:inline;max-height:16px;margin:0px;margin-right:7.5px;' src='data:image/svg+xml;base64,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' > </img>\nCreated in <span style='font-weight:600;margin-left:4px;'>Deepnote</span></a>",
   "metadata": {
    "tags": [],
    "created_in_deepnote_cell": true,
    "deepnote_cell_type": "markdown"
   }
  }
 ],
 "nbformat": 4,
 "nbformat_minor": 2,
 "metadata": {
  "orig_nbformat": 2,
  "deepnote": {
   "is_reactive": false
  },
  "deepnote_notebook_id": "b2ee308f-ecad-494c-8fd7-68ac5c1a44fd",
  "deepnote_execution_queue": [],
  "deepnote_app_layout": "article"
 }
}