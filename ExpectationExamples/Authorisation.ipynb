{
 "cells": [
  {
   "cell_type": "markdown",
   "source": "# Multi-hospital Organ Transplants",
   "metadata": {
    "tags": [],
    "is_collapsed": false,
    "deepnote_app_coordinates": {
     "x": 0,
     "y": null,
     "w": 12,
     "h": 5
    },
    "cell_id": "61c1aee1-b82f-4b9e-b8ab-f4482bd4d22e",
    "deepnote_cell_type": "text-cell-h1"
   }
  },
  {
   "cell_type": "markdown",
   "source": "This notebook explores expectations related to our organ transplant scenario. If you have not yet done so, please refer to **AgentsAndEvents.ipynb** for important events and fluents used in this scenario, and **Expectations.ipynb** for a discussion of expectations in this context. Both of these notebooks are located in the parent repository, **MultipleAgentsEC**.",
   "metadata": {
    "tags": [],
    "deepnote_app_coordinates": {
     "x": 0,
     "y": 174,
     "w": 12,
     "h": 5
    },
    "cell_id": "00001-09293266-0f23-4852-a920-511b3ac7719d",
    "deepnote_cell_type": "markdown"
   }
  },
  {
   "cell_type": "markdown",
   "source": "### Set up",
   "metadata": {
    "tags": [],
    "is_collapsed": false,
    "deepnote_app_coordinates": {
     "x": 0,
     "y": 0,
     "w": 12,
     "h": 5
    },
    "cell_id": "00002-860d68fe-8921-40f8-a5e4-f55c587189b2",
    "deepnote_cell_type": "text-cell-h3"
   }
  },
  {
   "cell_type": "markdown",
   "source": "We need to set up our environment by loading in our event and fluent declarations from **dec:notation.pl** and **AE.pl**. The latter contains the code from **AgentsAndEvents.ipynb** the last time that notebook was run.\n\n```diff\n- IMPORTANT NOTE: you should run AgentsAndEvents.ipynb prior to running this notebook to ensure that AE.pl contains up to date predicates! You must run the notebook, not just update and save it.\n```",
   "metadata": {
    "tags": [],
    "deepnote_app_coordinates": {
     "x": 0,
     "y": 0,
     "w": 12,
     "h": 5
    },
    "cell_id": "00003-94f5e68d-2b5c-4cd4-8ceb-0dce05f2107d",
    "deepnote_cell_type": "markdown"
   }
  },
  {
   "cell_type": "code",
   "metadata": {
    "tags": [],
    "deepnote_app_coordinates": {
     "x": 0,
     "y": 0,
     "w": 12,
     "h": 5
    },
    "deepnote_to_be_reexecuted": false,
    "source_hash": "932f14c0",
    "execution_start": 1645072298576,
    "execution_millis": 549,
    "cell_id": "00004-cb3a11bc-98dd-4c9a-ac49-7626d4ed77f3",
    "deepnote_cell_type": "code"
   },
   "source": "?- cd('~/work'), ['dec:notation'].\n?- initialiseDEC.\n?- retractall(happensAtNarrative(_,_)).\n?- ['AE'].",
   "execution_count": 1,
   "outputs": [
    {
     "name": "stdout",
     "text": "true.\nfalse.\ntrue.\ntrue.",
     "output_type": "stream"
    }
   ]
  },
  {
   "cell_type": "markdown",
   "source": "# Authorisation",
   "metadata": {
    "cell_id": "0c5ff8e1-84d6-4abe-9108-b394985f82c9",
    "tags": [],
    "is_collapsed": false,
    "deepnote_cell_type": "text-cell-h1"
   }
  },
  {
   "cell_type": "markdown",
   "source": "An agent may expect that other agents that it interacts with will be authorised in some manner. Here, we declare that **monSys** expects that waiting list add requests and donation offers come from agents that **monSys** views to be registered hospitals, which are hospitals that were initially known to **monSys**.\n\nWe also declare that **monSys** expects that the transplant location specified in a match event is a hospital declared to be known by **monSys**.",
   "metadata": {
    "tags": [],
    "deepnote_app_coordinates": {
     "x": 0,
     "y": 0,
     "w": 12,
     "h": 5
    },
    "cell_id": "00011-b37c770d-7176-47a1-b8b1-21dd64b3c96d",
    "deepnote_cell_type": "markdown"
   }
  },
  {
   "cell_type": "code",
   "metadata": {
    "tags": [],
    "deepnote_app_coordinates": {
     "x": 0,
     "y": 138,
     "w": 12,
     "h": 5
    },
    "deepnote_to_be_reexecuted": false,
    "source_hash": "2a19b6ba",
    "execution_start": 1645072298676,
    "execution_millis": 513,
    "cell_id": "00012-098abd72-be6c-40cf-ac7a-0b2637d89e47",
    "deepnote_cell_type": "code"
   },
   "source": "% File: expAuthorisation.pl\n\n% Test expectation rule - hospital wait list requests should come from recognised agent.\ninitially(monSys:exp_rule(happ(receive(Hospital, waitAddReq(_, _, _))), agent(Hospital), dependent, \n\"Authorisation\":\"Wait list requests should come from recognised hospital\")).\ninitially(monSys:exp_rule(happ(receive(Hospital, donorOffer(PatID, Organs, Details))), agent(Hospital),\ndependent, \"Authorisation\":\"Donation offers should come from a recognised hospital\")).\n\ninitially(monSys:exp_rule(happ(match(_, _, _, _, _, Location, _, _)), agent(Location), dependent, \n\"Authorisation\":\"Transplant location should be a registered hospital\")).",
   "execution_count": 2,
   "outputs": [
    {
     "name": "stdout",
     "text": "",
     "output_type": "stream"
    }
   ]
  },
  {
   "cell_type": "markdown",
   "source": "",
   "metadata": {
    "cell_id": "0f1ae249-7a63-4076-a398-5b0220fcfce0",
    "tags": [],
    "deepnote_cell_type": "markdown"
   }
  },
  {
   "cell_type": "code",
   "metadata": {
    "tags": [],
    "deepnote_app_coordinates": {
     "x": 0,
     "y": 60,
     "w": 12,
     "h": 5
    },
    "deepnote_to_be_reexecuted": false,
    "source_hash": "b3899364",
    "execution_start": 1645072298677,
    "execution_millis": 512,
    "cell_id": "00007-50cfd4b2-a78f-4c64-b2d7-605dd48408b7",
    "deepnote_cell_type": "code"
   },
   "source": "% File: narrative.pl\n\nhappensAtNarrative(\"Otago\":send(monSys, waitAddReq(104, [\"heart\"], [bloodType:\"A\"])),0).\nhappensAtNarrative(\"Nelson\":send(monSys, waitAddReq(105, [\"liver\"], [bloodType:\"AB\", dob:(4,11,1950)])),4).\n\n\nhappensAtNarrative(\"Hamilton\": send(monSys, donorOffer(200, [lungs, pancreas], [bloodType:\"O\"])),6).\n\nhappensAtNarrative(\"Wellington\": send(monSys, donorOffer(201, [heart, kidney, liver, lungs, pancreas], [bloodType:\"A\"])),8).\n\nhappensAtNarrative(monSys:match(701, \"Wellington\", 201, \"Otago\", 104, \"Timaru\", [\"heart\"], []),10).\nhappensAtNarrative(monSys:match(701, \"Wellington\", 201, \"Otago\", 104, \"Auckland\", [\"heart\"], []),13).",
   "execution_count": 3,
   "outputs": [
    {
     "name": "stdout",
     "text": "",
     "output_type": "stream"
    }
   ]
  },
  {
   "cell_type": "markdown",
   "source": "We set up our environment for 20 time periods, so that we can query events and fluents in this time frame.",
   "metadata": {
    "cell_id": "2975e3d1-e779-4ac0-b536-8101066c7df0",
    "tags": [],
    "deepnote_cell_type": "markdown"
   }
  },
  {
   "cell_type": "code",
   "metadata": {
    "tags": [],
    "deepnote_app_coordinates": {
     "x": 0,
     "y": 0,
     "w": 12,
     "h": 5
    },
    "deepnote_to_be_reexecuted": false,
    "source_hash": "c481fdae",
    "execution_start": 1645072298678,
    "execution_millis": 514,
    "cell_id": "00019-7f5609c4-962c-4589-a558-349c8beec073",
    "deepnote_cell_type": "code"
   },
   "source": "?- run(20).",
   "execution_count": 4,
   "outputs": [
    {
     "name": "stdout",
     "text": "true.",
     "output_type": "stream"
    }
   ]
  },
  {
   "cell_type": "markdown",
   "source": "The hospitals that **monSys** recognises are Otago, Christchurch, Wellington and Auckland.",
   "metadata": {
    "cell_id": "a641f458-40b3-4127-ac1d-29684bd8f837",
    "tags": [],
    "deepnote_cell_type": "markdown"
   }
  },
  {
   "cell_type": "code",
   "source": "?- initially(monSys:agent(Hospital)).",
   "metadata": {
    "cell_id": "723c8f8f-4b16-4376-965f-ca14bb2cb823",
    "tags": [],
    "deepnote_to_be_reexecuted": false,
    "source_hash": "9a9159fe",
    "execution_start": 1645072299033,
    "execution_millis": 161,
    "deepnote_cell_type": "code"
   },
   "outputs": [
    {
     "name": "stdout",
     "text": "Hospital = b'Otago' ;\nHospital = b'Christchurch' ;\nHospital = b'Wellington' ;\nHospital = b'Auckland' .",
     "output_type": "stream"
    }
   ],
   "execution_count": 5
  },
  {
   "cell_type": "markdown",
   "source": "At time period 1, **monSys** receives the waiting list add request sent by Otago. The expectation that a request will come from a recognised hospital is fulfilled.",
   "metadata": {
    "cell_id": "8e0a8c35-569a-4e9d-ba52-e88f4fdce993",
    "tags": [],
    "deepnote_cell_type": "markdown"
   }
  },
  {
   "cell_type": "code",
   "metadata": {
    "tags": [],
    "deepnote_app_coordinates": {
     "x": 0,
     "y": 0,
     "w": 12,
     "h": 5
    },
    "deepnote_to_be_reexecuted": false,
    "source_hash": "d905d13a",
    "execution_start": 1645072299085,
    "execution_millis": 1,
    "cell_id": "00021-e603ff6d-ae44-4319-b1e4-5716bd9465d9",
    "deepnote_cell_type": "code"
   },
   "source": "?- happensAt(Hosp, Event, 1).\n",
   "execution_count": 6,
   "outputs": [
    {
     "name": "stdout",
     "text": "Hosp = monSys, Event = fulf(happ(receive(b'Otago', waitAddReq(104, [b'heart'], [Functor(188685,2,bloodType,b'A')]))), agent(b'Otago'), 1, agent(b'Otago'), dependent, :(b'Authorisation', b'Wait list requests should come from recognised hospital')) ;\nHosp = monSys, Event = receive(b'Otago', waitAddReq(104, [b'heart'], [Functor(188685,2,bloodType,b'A')])) .",
     "output_type": "stream"
    }
   ]
  },
  {
   "cell_type": "markdown",
   "source": "As there were no expectation violations caused by the waiting list add request, **monSys** automatically accepts the request and notifies Otago.",
   "metadata": {
    "cell_id": "c6aa5617-cc88-4788-bff7-cb6b168fa5d8",
    "tags": [],
    "deepnote_cell_type": "markdown"
   }
  },
  {
   "cell_type": "code",
   "source": "?- T = 2, happensAt(Hosp, Event, T).\n?- T = 3, happensAt(Hosp, Event, T).",
   "metadata": {
    "cell_id": "f63efa51-8d95-4a9e-9797-7616d7b71d4e",
    "tags": [],
    "deepnote_to_be_reexecuted": false,
    "source_hash": "32292408",
    "execution_start": 1645072299086,
    "execution_millis": 109,
    "deepnote_cell_type": "code"
   },
   "outputs": [
    {
     "name": "stdout",
     "text": "T = 2, Hosp = monSys, Event = send(b'Otago', waitAccept(104)) .\nT = 3, Hosp = b'Otago', Event = receive(monSys, waitAccept(104)) .",
     "output_type": "stream"
    }
   ],
   "execution_count": 7
  },
  {
   "cell_type": "markdown",
   "source": "At time period 5, **monSys** receives a waiting list add request from Nelson hospital. As Nelson is not a recognised hospital, this causes a violation of **monSys**' expectation that waiting list add requests will come from registered hospitals.",
   "metadata": {
    "cell_id": "ce87cfb5-c7cb-4f12-a66c-af4b73746093",
    "tags": [],
    "deepnote_cell_type": "markdown"
   }
  },
  {
   "cell_type": "code",
   "source": "?- happensAt(monSys, Event, 5).",
   "metadata": {
    "cell_id": "d96125aa-a82d-4816-bd7d-c3ecbb906edf",
    "tags": [],
    "deepnote_to_be_reexecuted": false,
    "source_hash": "f371ae01",
    "execution_start": 1645072299087,
    "execution_millis": 2,
    "deepnote_cell_type": "code"
   },
   "outputs": [
    {
     "name": "stdout",
     "text": "Event = viol(happ(receive(b'Nelson', waitAddReq(105, [b'liver'], [Functor(188685,2,bloodType,b'AB'), Functor(188685,2,dob,,(4, ,(11, 1950)))]))), agent(b'Nelson'), 5, agent(b'Nelson'), dependent, :(b'Authorisation', b'Wait list requests should come from recognised hospital')) ;\nEvent = receive(b'Nelson', waitAddReq(105, [b'liver'], [Functor(188685,2,bloodType,b'AB'), Functor(188685,2,dob,,(4, ,(11, 1950)))])) .",
     "output_type": "stream"
    }
   ],
   "execution_count": 8
  },
  {
   "cell_type": "markdown",
   "source": "Due to the violation, **monSys** sends a waiting list request rejection message to Nelson, telling Nelson that they are not authorised to perform such an action.",
   "metadata": {
    "cell_id": "45536af7-c08b-4144-a5f2-1be18f9c9411",
    "tags": [],
    "deepnote_cell_type": "markdown"
   }
  },
  {
   "cell_type": "code",
   "source": "?- happensAt(monSys, Event, 6).",
   "metadata": {
    "cell_id": "5c86f537-59f3-476a-a50a-cc029a59ab3f",
    "tags": [],
    "deepnote_to_be_reexecuted": false,
    "source_hash": "54490610",
    "execution_start": 1645072299089,
    "execution_millis": 107,
    "deepnote_cell_type": "code"
   },
   "outputs": [
    {
     "name": "stdout",
     "text": "Event = send(b'Nelson', waitReject(105, :(b'Authorisation', b'Wait list requests should come from recognised hospital'))) .",
     "output_type": "stream"
    }
   ],
   "execution_count": 9
  },
  {
   "cell_type": "markdown",
   "source": "At time period 7, **monSys** receives a donor offer from Hamilton hospital. This creates an authorisation violation.",
   "metadata": {
    "cell_id": "59e386ed-4b90-4add-9c71-e8dd11f584e2",
    "tags": [],
    "deepnote_cell_type": "markdown"
   }
  },
  {
   "cell_type": "code",
   "source": "?- happensAt(monSys, Event, 7).",
   "metadata": {
    "cell_id": "c983d35d-053e-438f-8bff-155df2bfcb2a",
    "tags": [],
    "deepnote_to_be_reexecuted": false,
    "source_hash": "c992e780",
    "execution_start": 1645072299106,
    "execution_millis": 50770,
    "deepnote_cell_type": "code"
   },
   "outputs": [
    {
     "name": "stdout",
     "text": "Event = viol(happ(receive(b'Hamilton', donorOffer(200, [Atom('672773'), Atom('672901')], [Functor(188685,2,bloodType,b'O')]))), agent(b'Hamilton'), 7, agent(b'Hamilton'), dependent, :(b'Authorisation', b'Donation offers should come from a recognised hospital')) ;\nEvent = receive(b'Hamilton', donorOffer(200, [Atom('672773'), Atom('672901')], [Functor(188685,2,bloodType,b'O')])) .",
     "output_type": "stream"
    }
   ],
   "execution_count": 10
  },
  {
   "cell_type": "markdown",
   "source": "At time period 9, **monSys** receives a donor offer from Wellington hospital, which creates an authorisation fulfilment.",
   "metadata": {
    "cell_id": "41dd63c8-3c22-48e1-add7-5a24b5b251ec",
    "tags": [],
    "deepnote_cell_type": "markdown"
   }
  },
  {
   "cell_type": "code",
   "source": "?- happensAt(monSys, Event, 9).",
   "metadata": {
    "cell_id": "cf40147d-2dcf-4bbb-8a6c-f3664475084e",
    "tags": [],
    "deepnote_to_be_reexecuted": false,
    "source_hash": "8d7dd863",
    "execution_start": 1645072443600,
    "execution_millis": 28,
    "deepnote_cell_type": "code"
   },
   "outputs": [
    {
     "name": "stdout",
     "text": "Event = fulf(happ(receive(b'Wellington', donorOffer(201, [Atom('673029'), Atom('673157'), Atom('673285'), Atom('672773'), Atom('672901')], [Functor(188685,2,bloodType,b'A')]))), agent(b'Wellington'), 9, agent(b'Wellington'), dependent, :(b'Authorisation', b'Donation offers should come from a recognised hospital')) ;\nEvent = receive(b'Wellington', donorOffer(201, [Atom('673029'), Atom('673157'), Atom('673285'), Atom('672773'), Atom('672901')], [Functor(188685,2,bloodType,b'A')])) .",
     "output_type": "stream"
    }
   ],
   "execution_count": 12
  },
  {
   "cell_type": "markdown",
   "source": "At time period 10, **monSys** matches a donor and recipient, and specifies the transplant location as Timaru. This creates an authorisation violation.",
   "metadata": {
    "cell_id": "661901e3-c34b-48cc-bbc5-d7b897ecc506",
    "tags": [],
    "deepnote_cell_type": "markdown"
   }
  },
  {
   "cell_type": "code",
   "source": "?- happensAt(monSys, Event, 10).",
   "metadata": {
    "cell_id": "2ec3e0e0-a019-4ed1-9381-b16bbe467023",
    "tags": [],
    "deepnote_to_be_reexecuted": false,
    "source_hash": "69593c24",
    "execution_start": 1645072513083,
    "execution_millis": 28,
    "deepnote_cell_type": "code"
   },
   "outputs": [
    {
     "name": "stdout",
     "text": "Event = viol(happ(match(701, b'Wellington', 201, b'Otago', 104, b'Timaru', [b'heart'], [])), agent(b'Timaru'), 10, agent(b'Timaru'), dependent, :(b'Authorisation', b'Transplant location should be a registered hospital')) ;\nEvent = match(701, b'Wellington', 201, b'Otago', 104, b'Timaru', [b'heart'], []) .",
     "output_type": "stream"
    }
   ],
   "execution_count": 14
  },
  {
   "cell_type": "markdown",
   "source": "At time period 10, **monSys** matches a donor and recipient. All hospitals specified in the match are registered, so this event creates an authorisation violation.",
   "metadata": {
    "cell_id": "7dcca3ca-5177-4398-b427-ac97eb045be1",
    "tags": [],
    "deepnote_cell_type": "markdown"
   }
  },
  {
   "cell_type": "code",
   "source": "?- happensAt(monSys, Event, 13).",
   "metadata": {
    "cell_id": "e3b471d9-58fc-4d54-9e46-b7b60ead5758",
    "tags": [],
    "deepnote_to_be_reexecuted": false,
    "source_hash": "a591cf98",
    "execution_start": 1645072576804,
    "execution_millis": 350,
    "deepnote_cell_type": "code"
   },
   "outputs": [
    {
     "name": "stdout",
     "text": "Event = fulf(happ(match(701, b'Wellington', 201, b'Otago', 104, b'Auckland', [b'heart'], [])), agent(b'Auckland'), 13, agent(b'Auckland'), dependent, :(b'Authorisation', b'Transplant location should be a registered hospital')) ;\nEvent = match(701, b'Wellington', 201, b'Otago', 104, b'Auckland', [b'heart'], []) .",
     "output_type": "stream"
    }
   ],
   "execution_count": 15
  },
  {
   "cell_type": "markdown",
   "source": "We can query all the violations which occur in our loaded time frame (25 time periods).",
   "metadata": {
    "cell_id": "7c4e333c-b3d5-458e-9fd0-483a1672186b",
    "tags": [],
    "deepnote_cell_type": "markdown"
   }
  },
  {
   "cell_type": "code",
   "source": "?- happensAt(Hospital, viol(_,_,_,_,_,Message), T).",
   "metadata": {
    "cell_id": "63f0b59b-3033-49ed-b9f2-f493cf79ba01",
    "tags": [],
    "deepnote_to_be_reexecuted": false,
    "source_hash": "c9869fb0",
    "execution_start": 1645072631267,
    "execution_millis": 5,
    "deepnote_cell_type": "code"
   },
   "outputs": [
    {
     "name": "stdout",
     "text": "Hospital = monSys, Message = :(b'Authorisation', b'Wait list requests should come from recognised hospital'), T = 5 ;\nHospital = monSys, Message = :(b'Authorisation', b'Donation offers should come from a recognised hospital'), T = 7 ;\nHospital = monSys, Message = :(b'Authorisation', b'Transplant location should be a registered hospital'), T = 10 .",
     "output_type": "stream"
    }
   ],
   "execution_count": 16
  },
  {
   "cell_type": "markdown",
   "source": "<a style='text-decoration:none;line-height:16px;display:flex;color:#5B5B62;padding:10px;justify-content:end;' href='https://deepnote.com?utm_source=created-in-deepnote-cell&projectId=32f94018-a4da-40ef-8c9f-8983d73811c8' target=\"_blank\">\n<img alt='Created in deepnote.com' style='display:inline;max-height:16px;margin:0px;margin-right:7.5px;' src='data:image/svg+xml;base64,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' > </img>\nCreated in <span style='font-weight:600;margin-left:4px;'>Deepnote</span></a>",
   "metadata": {
    "tags": [],
    "created_in_deepnote_cell": true,
    "deepnote_cell_type": "markdown"
   }
  }
 ],
 "nbformat": 4,
 "nbformat_minor": 2,
 "metadata": {
  "orig_nbformat": 2,
  "deepnote": {
   "is_reactive": false
  },
  "deepnote_notebook_id": "1750f714-7bc0-443d-8f85-581bd8a94fe3",
  "deepnote_execution_queue": [],
  "deepnote_app_layout": "article"
 }
}