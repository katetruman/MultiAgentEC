{
 "cells": [
  {
   "cell_type": "markdown",
   "source": "# Multi-hospital Organ Transplants",
   "metadata": {
    "tags": [],
    "is_collapsed": false,
    "deepnote_app_coordinates": {
     "x": 0,
     "y": null,
     "w": 12,
     "h": 5
    },
    "cell_id": "61c1aee1-b82f-4b9e-b8ab-f4482bd4d22e",
    "deepnote_cell_type": "text-cell-h1"
   }
  },
  {
   "cell_type": "markdown",
   "source": "This notebook explores expectations related to our organ transplant scenario. If you have not yet done so, please refer to **AgentsAndEvents.ipynb** for important events and fluents used in this scenario, and **Expectations.ipynb** for a discussion of expectations in this context. Both of these notebooks are located in the parent directory, **MultipleAgents**.",
   "metadata": {
    "tags": [],
    "deepnote_app_coordinates": {
     "x": 0,
     "y": 174,
     "w": 12,
     "h": 5
    },
    "cell_id": "00001-09293266-0f23-4852-a920-511b3ac7719d",
    "deepnote_cell_type": "markdown"
   }
  },
  {
   "cell_type": "markdown",
   "source": "### Set up",
   "metadata": {
    "tags": [],
    "is_collapsed": false,
    "deepnote_app_coordinates": {
     "x": 0,
     "y": 0,
     "w": 12,
     "h": 5
    },
    "cell_id": "00002-860d68fe-8921-40f8-a5e4-f55c587189b2",
    "deepnote_cell_type": "text-cell-h3"
   }
  },
  {
   "cell_type": "markdown",
   "source": "We need to set up our environment by loading in our event and fluent declarations from **dec:notation.pl** and **AE.pl**. The latter contains the code from **AgentsAndEvents.ipynb** the last time that notebook was run.\n\n```diff\n- IMPORTANT NOTE: you should run AgentsAndEvents.ipynb prior to running this notebook to ensure that AE.pl contains up to date predicates! You must run the notebook, not just update and save it.\n```",
   "metadata": {
    "tags": [],
    "deepnote_app_coordinates": {
     "x": 0,
     "y": 0,
     "w": 12,
     "h": 5
    },
    "cell_id": "00003-94f5e68d-2b5c-4cd4-8ceb-0dce05f2107d",
    "deepnote_cell_type": "markdown"
   }
  },
  {
   "cell_type": "code",
   "metadata": {
    "tags": [],
    "deepnote_app_coordinates": {
     "x": 0,
     "y": 0,
     "w": 12,
     "h": 5
    },
    "deepnote_to_be_reexecuted": false,
    "source_hash": "ca8fee20",
    "execution_start": 1644794382771,
    "execution_millis": 57,
    "cell_id": "00004-cb3a11bc-98dd-4c9a-ac49-7626d4ed77f3",
    "deepnote_cell_type": "code"
   },
   "source": "?- cd('~/work'), ['dec:notation'].\n?- initialiseDEC.\n?- retractall(happensAtNarrative(_,_)).\n?- ['AE'].",
   "execution_count": null,
   "outputs": [
    {
     "name": "stdout",
     "text": "true.\nfalse.\ntrue.\ntrue.\nX = :(monSys, agent(b'Otago')) ;\nX = :(monSys, agent(b'Christchurch')) ;\nX = :(monSys, agent(b'Wellington')) ;\nX = :(monSys, agent(b'Auckland')) .",
     "output_type": "stream"
    }
   ]
  },
  {
   "cell_type": "markdown",
   "source": "## Authorisation",
   "metadata": {
    "tags": [],
    "is_collapsed": false,
    "deepnote_app_coordinates": {
     "x": 0,
     "y": 0,
     "w": 12,
     "h": 5
    },
    "cell_id": "00005-08d6a8f6-6b29-413b-8218-5ed46daab831",
    "deepnote_cell_type": "text-cell-h2"
   }
  },
  {
   "cell_type": "markdown",
   "source": "An agent may expect that other agents that it interacts with will be authorised in some manner. Here, we declare that **monSys** expects that waiting list add requests and donation offers come from agents that **monSys** views to be registered hospitals.\n\nWe also declare that **monSys** expects that the transplant location specified in a match event is a hospital declared to be known by **monSys**.",
   "metadata": {
    "tags": [],
    "deepnote_app_coordinates": {
     "x": 0,
     "y": 0,
     "w": 12,
     "h": 5
    },
    "cell_id": "00011-b37c770d-7176-47a1-b8b1-21dd64b3c96d",
    "deepnote_cell_type": "markdown"
   }
  },
  {
   "cell_type": "code",
   "metadata": {
    "tags": [],
    "deepnote_app_coordinates": {
     "x": 0,
     "y": 138,
     "w": 12,
     "h": 5
    },
    "deepnote_to_be_reexecuted": false,
    "source_hash": "4fd1e882",
    "execution_start": 1644794382926,
    "execution_millis": 3,
    "cell_id": "00012-098abd72-be6c-40cf-ac7a-0b2637d89e47",
    "deepnote_cell_type": "code"
   },
   "source": "% File: expAuthorisation.pl\n\n% Test expectation rule - hospital wait list requests should come from recognised agent.\ninitially(monSys:exp_rule(happ(receive(Hospital, waitAddReq(_, _, _))), agent(Hospital), dependent, \n\"Authorisation\":\"Wait list requests should come from recognised hospital\")).\ninitially(monSys:exp_rule(happ(receive(Hospital, donorOffer(PatID, Organs, Details))), agent(Hospital),\ndependent, \"Authorisation\":\"Donation offers should come from a recognised hospital\")).\n\ninitially(monSys:exp_rule(happ(match(_, _, _, _, _, Location, _, _)), agent(Location), dependent, \n\"Authorisation\":\"Transplant location should be a registered hospital\")).",
   "execution_count": null,
   "outputs": [
    {
     "name": "stdout",
     "text": "",
     "output_type": "stream"
    }
   ]
  },
  {
   "cell_type": "code",
   "metadata": {
    "tags": [],
    "deepnote_app_coordinates": {
     "x": 0,
     "y": 60,
     "w": 12,
     "h": 5
    },
    "deepnote_to_be_reexecuted": false,
    "source_hash": "43095c85",
    "execution_start": 1644794382875,
    "execution_millis": 6,
    "cell_id": "00007-50cfd4b2-a78f-4c64-b2d7-605dd48408b7",
    "deepnote_cell_type": "code"
   },
   "source": "% File: waitListAdditions.pl\nhappensAtNarrative(\"Otago\":send(monSys, waitAddReq(101, [\"liver\", \"kidney\"], [sex:\"F\", \ndob:\"01/01/2000\"])),0).\nhappensAtNarrative(\"Otago\":send(monSys, waitAddReq(102, [\"heart\"], [sex:\"M\", dob:\"20/06/1930\", \nconditions:[\"LungCancer\"]])),1).\nhappensAtNarrative(\"Ashburton\":send(monSys, waitAddReq(103, [\"kidney\"], [sex:\"M\", dob:\"01/10/2022\"])),1).\nhappensAtNarrative(\"Otago\":send(monSys, waitAddReq(104, [\"heart\", \"lung\"], [sex:\"M\",dob:\"01/04/2025\", \nconditions:[\"HepC\"]])),2).\nhappensAtNarrative(\"Otago\":send(monSys, waitAddReq(105, [\"lung\"], [sex:\"F\", dob:\"01/04/2022\", \nconditions:[\"HepC\",\"Asthma\"]])),3).\n\n% Requests to remove a patient from the waiting list.\nhappensAtNarrative(\"Otago\":send(monSys, waitDelReq(101, \"Patient Death\")),2).",
   "execution_count": null,
   "outputs": [
    {
     "name": "stdout",
     "text": "",
     "output_type": "stream"
    }
   ]
  },
  {
   "cell_type": "code",
   "metadata": {
    "tags": [],
    "deepnote_app_coordinates": {
     "x": 0,
     "y": 90,
     "w": 12,
     "h": 5
    },
    "deepnote_to_be_reexecuted": false,
    "source_hash": "a1a08055",
    "execution_start": 1644794382877,
    "execution_millis": 4,
    "cell_id": "00008-bd91604a-908b-4f2a-811f-a39ace15b90c",
    "deepnote_cell_type": "code"
   },
   "source": "% File: donorOffers.pl\nhappensAtNarrative(\"Wellington\": send(monSys, donorOffer(201, [heart, kidney, liver, lungs, pancreas], \n[sex:\"M\", ethnicity:[\"Māori\"], dob:\"10/11/1978\", \nconditions:[\"HepC\"]])),2).",
   "execution_count": null,
   "outputs": [
    {
     "name": "stdout",
     "text": "",
     "output_type": "stream"
    }
   ]
  },
  {
   "cell_type": "code",
   "metadata": {
    "tags": [],
    "deepnote_app_coordinates": {
     "x": 0,
     "y": 102,
     "w": 12,
     "h": 5
    },
    "deepnote_to_be_reexecuted": false,
    "source_hash": "73efec0e",
    "execution_start": 1644794382878,
    "execution_millis": 932193,
    "cell_id": "00009-6100c16f-b5c4-42ea-ac17-c9867121ee17",
    "deepnote_cell_type": "code"
   },
   "source": "% File: organMatches.pl\nhappensAtNarrative(monSys:match(401, \"Wellington\", 201, \"Otago\", 102, \"Auckland\", [heart], \n[donorCondition:\"HepC\"]),4).\nhappensAtNarrative(monSys:match(402, \"Otago\", 102, \"Christchurch\", 16, \"Auckland\", [kidney, heart], \n[recDisease:\"Asthma\", patUrgency:3]),4).",
   "execution_count": null,
   "outputs": [
    {
     "name": "stdout",
     "text": "",
     "output_type": "stream"
    }
   ]
  },
  {
   "cell_type": "code",
   "metadata": {
    "tags": [],
    "deepnote_app_coordinates": {
     "x": 0,
     "y": 0,
     "w": 12,
     "h": 5
    },
    "deepnote_to_be_reexecuted": false,
    "source_hash": "73902127",
    "execution_start": 1644794382925,
    "execution_millis": 4,
    "cell_id": "00010-2df6e560-f9af-4164-9aa5-c47a916ca2a8",
    "deepnote_cell_type": "code"
   },
   "source": "?- run(10).\n?- happensAt(Hosp, Event, 0).\n?- happensAt(Hosp, Event, 1).\n?- causes(A,B, 0).",
   "execution_count": null,
   "outputs": [
    {
     "name": "stdout",
     "text": "true.\nHosp = b'Otago', Event = send(monSys, waitAddReq(101, [b'liver', b'kidney'], [Functor(188685,2,sex,b'F'), Functor(188685,2,dob,b'01/01/2000')])) .\nHosp = b'Otago', Event = send(monSys, waitAddReq(102, [b'heart'], [Functor(188685,2,sex,b'M'), Functor(188685,2,dob,b'20/06/1930'), Functor(188685,2,conditions,[b'LungCancer'])])) ;\nHosp = b'Ashburton', Event = send(monSys, waitAddReq(103, [b'kidney'], [Functor(188685,2,sex,b'M'), Functor(188685,2,dob,b'01/10/2022')])) ;\nHosp = monSys, Event = receive(b'Otago', waitAddReq(101, [b'liver', b'kidney'], [Functor(188685,2,sex,b'F'), Functor(188685,2,dob,b'01/01/2000')])) .\nA = :(_1620, send(_1626, _1628)), B = :(_1626, receive(_1620, _1628)) ;\nA = :(monSys, fulf(happ(receive(_1644, waitAddReq(_1650, _1652, _1654))), _1628, _1630, _1632, _1634, _1636)), B = :(monSys, send(_1644, waitAccept(_1650))) ;\nA = :(monSys, viol(happ(receive(_1644, waitAddReq(_1650, _1652, _1654))), _1628, _1630, _1632, _1634, _1636)), B = :(monSys, send(_1644, waitReject(_1650, _1636))) ;\nA = :(monSys, noMatch(_1626, _1628, _1630)), B = :(monSys, send(_1626, offerRejected(_1628, _1630))) ;\nA = :(monSys, match(_1626, _1628, _1630, _1632, _1634, _1636, _1638, _1640)), B = :(monSys, send(_1628, recipientFound(_1626, _1630, _1632, _1636, _1638, _1640))) ;\nA = :(monSys, match(_1626, _1628, _1630, _1632, _1634, _1636, _1638, _1640)), B = :(monSys, send(_1632, donorFound(_1626, _1634, _1628, _1636, _1638, _1640))) ;\nA = :(monSys, match(_1626, _1628, _1630, _1632, _1634, _1636, _1638, _1640)), B = :(monSys, send(_1636, locationSelected(_1626, _1628, _1632, _1638, _1640))) .",
     "output_type": "stream"
    }
   ]
  },
  {
   "cell_type": "markdown",
   "source": "An agent might expect that they are kept up to date on important information which is provided by other agents. In this case, **monSys** expects that the hospital which has added a patient to the organ waiting list will provide updates about the patient's information at least every 5 time periods, up until the patient is removed from the waiting list. \n\nIn reality, the maximum time allowed between patient updates might be 6 months, but for testing purposes, the time period is kept low here.",
   "metadata": {
    "tags": [],
    "deepnote_app_coordinates": {
     "x": 0,
     "y": 0,
     "w": 12,
     "h": 5
    },
    "cell_id": "00013-df6abf49-ee99-4c7f-9761-d75672c32f03",
    "deepnote_cell_type": "markdown"
   }
  },
  {
   "cell_type": "code",
   "metadata": {
    "tags": [],
    "deepnote_app_coordinates": {
     "x": 0,
     "y": 0,
     "w": 12,
     "h": 5
    },
    "deepnote_to_be_reexecuted": false,
    "source_hash": "2609055c",
    "execution_start": 1644794382927,
    "execution_millis": 10,
    "cell_id": "00014-56fbe3f4-e899-4223-b645-2257df033207",
    "deepnote_cell_type": "code"
   },
   "source": "% File: expWaitListUpdates.pl\n\n% MonSys expect that the relevant hospital will update a patient-s information or the patient will \n% be removed from the waiting list within 5 time periods of them being added or an update provided.\ninitially(monSys:exp_rule(or(happ(receive(Hospital, waitAddReq(ID,_,_))), happ(receive(Hospital, \nwaitUpdate(ID,_,_)))), within(or([happ(receive(Hospital, waitUpdate(ID,_,_))),\nnot(waiting(ID, Hospital, _))]),5), dependent, \n\"Regular updates\":\"A hospital will update a waiting recipient's information at least every 5 time periods\")).",
   "execution_count": null,
   "outputs": [
    {
     "name": "stdout",
     "text": "",
     "output_type": "stream"
    }
   ]
  },
  {
   "cell_type": "code",
   "metadata": {
    "tags": [],
    "deepnote_app_coordinates": {
     "x": 0,
     "y": 126,
     "w": 12,
     "h": 5
    },
    "deepnote_to_be_reexecuted": false,
    "source_hash": "8e483a18",
    "execution_start": 1644794382979,
    "execution_millis": 932182,
    "cell_id": "00015-2994293b-c76b-487b-b3a0-f0a357874156",
    "deepnote_cell_type": "code"
   },
   "source": "% File: donationExpectations.pl\n% Donation offer to match expectation\ninitially(monSys:exp_rule(happ(receive(Hospital, donorOffer(ID, Organs, _))), \nwithin(or([happ(noMatch(Hospital, ID)), happ(match(_, Hospital, ID, _, _, _, Organs, _))]),1), \ndependent, \"Timely response\":A donation offer should be matched or refused in the next time period\"), _).",
   "execution_count": null,
   "outputs": [
    {
     "name": "stdout",
     "text": "",
     "output_type": "stream"
    }
   ]
  },
  {
   "cell_type": "code",
   "metadata": {
    "tags": [],
    "deepnote_app_coordinates": {
     "x": 0,
     "y": 150,
     "w": 12,
     "h": 5
    },
    "deepnote_to_be_reexecuted": false,
    "source_hash": "39a4c59f",
    "execution_start": 1644794382980,
    "execution_millis": 3,
    "cell_id": "00016-27fe2485-92a4-4927-9ea9-fc26b66117d7",
    "deepnote_cell_type": "code"
   },
   "source": "% File: matchAcceptance.pl\ninitiates(monSys:receive(Hospital, acceptMatch(ID)), matchAccepted(Hospital,ID),_).\ninitially(monSys:exp_rule(happ(send(DonorHospital, recipientFound(MatchID, _, _, _, _, _))),\nwithin(happ(receive(DonorHospital, acceptMatch(MatchID))),3), dependent, \n\"Timely response\":\"A match offer should be accepted by the donor's hospital within 3 time periods\")).\ninitially(monSys:exp_rule(happ(send(RecipientHospital, donorFound(MatchID, _, _, _, _, _))),\nwithin(happ(receive(RecipientHospital, acceptMatch(MatchID))),3), dependent, \n\"Timely response\":\"A match offer should be accepted by the recipient's hospital within 3 time periods\")).\ninitially(monSys:exp_rule(happ(send(Location, locationSelected(MatchID, _, _, _, _))),\nwithin(happ(receive(Location, acceptMatch(MatchID))),3), dependent, \n\"Timely response\":\"A match offer should be accepted by the transplant location within 3 time periods\")).",
   "execution_count": null,
   "outputs": [
    {
     "name": "stdout",
     "text": "",
     "output_type": "stream"
    }
   ]
  },
  {
   "cell_type": "markdown",
   "source": "There are many cases where an agent instructs another agent to perform a given action, and wants to be informed of the outcome. \n\nHospitals and the monitoring system both want to receive updates on whether a transplant was successful. Individual hospitals may have expectations about the percentage of organs they donate which lead to successful transplants, or about knowing whether their own patient has been successfully treated. The monitoring system may have the capability to calculate system wide statistics on successful transplants, in which case it would expect to be notified whether transplants were successful.\n\nBelow, the expectation rules declared state that **monSys** and the donor and recipient hospitals will be notified of the transplant outcome within 5 time periods of the match being confirmed (for **monSys**) or within 5 time periods of being notified of the match confirmation (for the individual hospitals).",
   "metadata": {
    "tags": [],
    "deepnote_app_coordinates": {
     "x": 0,
     "y": 0,
     "w": 12,
     "h": 5
    },
    "cell_id": "00017-c54461ea-52fc-4413-bb26-f3a04f4626f0",
    "deepnote_cell_type": "markdown"
   }
  },
  {
   "cell_type": "code",
   "metadata": {
    "tags": [],
    "deepnote_app_coordinates": {
     "x": 0,
     "y": 168,
     "w": 12,
     "h": 5
    },
    "deepnote_to_be_reexecuted": false,
    "source_hash": "52adf3ce",
    "execution_start": 1644794382985,
    "execution_millis": 932116,
    "cell_id": "00018-25565637-4319-495d-acdb-776039262280",
    "deepnote_cell_type": "code"
   },
   "source": "% File: followUp.pl\ninitially(monSys:exp_rule(and([happ(confirmationMatch(ID)), role(Location, MatchID, transplant)]),\nwithin(happ(receive(Location, transplantOutcome(ID, _))),5),\ndependent,\"Outcome notification\":\"monSys will be notified of transplant outcome within X time periods\")).\n\ninitially(Agent:exp_rule(and([happ(receive(confirmationNotification(ID))), \nrole(Location, MatchID, transplant), self(Self), or([role(Self, matchID, donor), \nrole(Self, MatchID, recipient)])]), within(happ(receive(Location, transplantOutcome(ID, _))),5), dependent,\n\"Outcome notification\":\"The donor and recipient hospitals should be notified of transplant outcome within X time periods\")):- \nAgent \\= monSys.",
   "execution_count": null,
   "outputs": [
    {
     "name": "stdout",
     "text": "",
     "output_type": "stream"
    }
   ]
  },
  {
   "cell_type": "code",
   "metadata": {
    "tags": [],
    "deepnote_app_coordinates": {
     "x": 0,
     "y": 0,
     "w": 12,
     "h": 5
    },
    "deepnote_to_be_reexecuted": false,
    "source_hash": "b623e53d",
    "execution_start": 1644794383033,
    "execution_millis": 932112,
    "cell_id": "00019-7f5609c4-962c-4589-a558-349c8beec073",
    "deepnote_cell_type": "code"
   },
   "source": "",
   "execution_count": null,
   "outputs": [
    {
     "name": "stdout",
     "text": "",
     "output_type": "stream"
    }
   ]
  },
  {
   "cell_type": "code",
   "metadata": {
    "tags": [],
    "deepnote_app_coordinates": {
     "x": 0,
     "y": 144,
     "w": 12,
     "h": 5
    },
    "deepnote_to_be_reexecuted": false,
    "source_hash": "e7453497",
    "execution_start": 1644794383033,
    "execution_millis": 932068,
    "cell_id": "00020-5157e1f2-ad7d-4b77-877c-6052b41ec1c2",
    "deepnote_cell_type": "code"
   },
   "source": "% File: expIndividualMatch.pl\ninitially(\"Otago\":exp_rule(happ(receive(monSys, recipientFound(_, _, _, _, _, Notes))), \ncondition(member(patUrgency:3, Notes)), dependent, \"Individual\":Recipients of Otago donations should have urgency level 3\")).",
   "execution_count": null,
   "outputs": [
    {
     "name": "stdout",
     "text": "",
     "output_type": "stream"
    }
   ]
  },
  {
   "cell_type": "code",
   "metadata": {
    "tags": [],
    "deepnote_app_coordinates": {
     "x": 0,
     "y": 0,
     "w": 12,
     "h": 5
    },
    "deepnote_to_be_reexecuted": false,
    "source_hash": "b623e53d",
    "execution_start": 1644794383034,
    "execution_millis": 932071,
    "cell_id": "00021-e603ff6d-ae44-4319-b1e4-5716bd9465d9",
    "deepnote_cell_type": "code"
   },
   "source": "",
   "execution_count": null,
   "outputs": [
    {
     "name": "stdout",
     "text": "",
     "output_type": "stream"
    }
   ]
  },
  {
   "cell_type": "markdown",
   "source": "<a style='text-decoration:none;line-height:16px;display:flex;color:#5B5B62;padding:10px;justify-content:end;' href='https://deepnote.com?utm_source=created-in-deepnote-cell&projectId=32f94018-a4da-40ef-8c9f-8983d73811c8' target=\"_blank\">\n<img alt='Created in deepnote.com' style='display:inline;max-height:16px;margin:0px;margin-right:7.5px;' src='data:image/svg+xml;base64,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' > </img>\nCreated in <span style='font-weight:600;margin-left:4px;'>Deepnote</span></a>",
   "metadata": {
    "tags": [],
    "created_in_deepnote_cell": true,
    "deepnote_cell_type": "markdown"
   }
  }
 ],
 "nbformat": 4,
 "nbformat_minor": 2,
 "metadata": {
  "orig_nbformat": 2,
  "deepnote": {
   "is_reactive": false
  },
  "deepnote_notebook_id": "1750f714-7bc0-443d-8f85-581bd8a94fe3",
  "deepnote_execution_queue": [],
  "deepnote_app_layout": "article"
 }
}