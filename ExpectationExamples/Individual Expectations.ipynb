{
 "cells": [
  {
   "cell_type": "markdown",
   "source": "[![View in Deepnote](https://deepnote.com/static/buttons/view-in-deepnote-white.svg)](https://deepnote.com/viewer/github/katetruman/MultiAgentEC/blob/master/ExpectationExamples/Individual%20Expectations.ipynb)",
   "metadata": {
    "cell_id": "a8a48d6f-a284-4a05-af1e-b39ceb464e76",
    "tags": [],
    "deepnote_cell_type": "markdown"
   }
  },
  {
   "cell_type": "markdown",
   "source": "# Individual expectations",
   "metadata": {
    "cell_id": "0c5ff8e1-84d6-4abe-9108-b394985f82c9",
    "tags": [],
    "is_collapsed": false,
    "deepnote_cell_type": "text-cell-h1"
   }
  },
  {
   "cell_type": "markdown",
   "source": "This notebook explores expectations related to our organ transplant scenario. If you have not yet done so, please refer to **AgentsAndEvents.ipynb** for important events and fluents used in this scenario, and **Expectations.ipynb** for a discussion of expectations in this context. Both of these notebooks are located in the parent repository, **MultipleAgentsEC**.",
   "metadata": {
    "tags": [],
    "deepnote_app_coordinates": {
     "x": 0,
     "y": 174,
     "w": 12,
     "h": 5
    },
    "cell_id": "00001-09293266-0f23-4852-a920-511b3ac7719d",
    "deepnote_cell_type": "markdown"
   }
  },
  {
   "cell_type": "markdown",
   "source": "### Set up",
   "metadata": {
    "tags": [],
    "is_collapsed": false,
    "deepnote_app_coordinates": {
     "x": 0,
     "y": 0,
     "w": 12,
     "h": 5
    },
    "cell_id": "00002-860d68fe-8921-40f8-a5e4-f55c587189b2",
    "deepnote_cell_type": "text-cell-h3"
   }
  },
  {
   "cell_type": "markdown",
   "source": "We need to set up our environment by loading in our event and fluent declarations from **dec:notation.pl** and **AE.pl**. The latter contains the code from **AgentsAndEvents.ipynb** the last time that notebook was run.\n\n```diff\n- IMPORTANT NOTE: you should run AgentsAndEvents.ipynb prior to running this notebook to ensure that AE.pl contains up to date predicates! You must run the notebook, not just update and save it.\n```",
   "metadata": {
    "tags": [],
    "deepnote_app_coordinates": {
     "x": 0,
     "y": 0,
     "w": 12,
     "h": 5
    },
    "cell_id": "00003-94f5e68d-2b5c-4cd4-8ceb-0dce05f2107d",
    "deepnote_cell_type": "markdown"
   }
  },
  {
   "cell_type": "code",
   "metadata": {
    "tags": [],
    "deepnote_app_coordinates": {
     "x": 0,
     "y": 0,
     "w": 12,
     "h": 5
    },
    "deepnote_to_be_reexecuted": false,
    "source_hash": "932f14c0",
    "execution_start": 1645568042662,
    "execution_millis": 90,
    "cell_id": "00004-cb3a11bc-98dd-4c9a-ac49-7626d4ed77f3",
    "deepnote_cell_type": "code"
   },
   "source": "?- cd('~/work'), ['dec:notation'].\n?- initialiseDEC.\n?- retractall(happensAtNarrative(_,_)).\n?- ['AE'].",
   "execution_count": 1,
   "outputs": [
    {
     "name": "stdout",
     "text": "true.\nfalse.\ntrue.\ntrue.",
     "output_type": "stream"
    }
   ]
  },
  {
   "cell_type": "markdown",
   "source": "Individual hospital agents may have expectations specific to a given scenario that do not fit into one of our other expectation categories. Examples of some organ transplant specific expectations are shown below.",
   "metadata": {
    "cell_id": "5b09ff85-e5c9-4b52-81da-2d06e5713b60",
    "tags": [],
    "deepnote_cell_type": "markdown"
   }
  },
  {
   "cell_type": "markdown",
   "source": "Otago hospital expects that once a request to add a patient to the organ waiting list has been accepted, they will not have to wait more than 25 time periods for a transplant:",
   "metadata": {
    "cell_id": "626bc8be-55e2-4b0e-b01b-0f67c8d6ae34",
    "tags": [],
    "deepnote_cell_type": "markdown"
   }
  },
  {
   "cell_type": "code",
   "metadata": {
    "cell_id": "0ec52c49-063a-49a6-862b-b8dcb8139181",
    "tags": [],
    "deepnote_to_be_reexecuted": false,
    "source_hash": "9a7a5afa",
    "execution_start": 1645568042778,
    "execution_millis": 14,
    "deepnote_cell_type": "code"
   },
   "source": "% File: maxWaitingTime.pl\ninitially(\"Otago\":exp_rule(happ(receive(monSys, waitAccept(ID))), within(and([happ(receive(Location, transplantOutcome(MatchID, _))), \ndonorFound(MatchID, ID, _, Location, _, _)]), 25), dependent, \n\"Individual\":\"Patients will not have to wait more than 25 time periods for a transplant\")).",
   "execution_count": 2,
   "outputs": [
    {
     "name": "stdout",
     "text": "",
     "output_type": "stream"
    }
   ]
  },
  {
   "cell_type": "markdown",
   "source": "Wellington hospital expects that waiting list add requests will not involve more than two organs per patient:",
   "metadata": {
    "cell_id": "dbeb2c26-73a4-4c1a-b36a-e67cc6dee919",
    "tags": [],
    "deepnote_cell_type": "markdown"
   }
  },
  {
   "cell_type": "code",
   "metadata": {
    "cell_id": "8e7636d5-dd03-4519-92bd-d18145fce9de",
    "tags": [],
    "deepnote_to_be_reexecuted": false,
    "source_hash": "70aba403",
    "execution_start": 1645568042779,
    "execution_millis": 13,
    "deepnote_cell_type": "code"
   },
   "source": "% File: maximumOrgans.pl\ninitially(\"Wellington\":exp_rule(happ(send(monSys, waitAddReq(_, Organs, _))), and([condition(length(Organs, Len)), condition(Len =< 2)]), dependent, \n\"Individual\":\"Patients will not be added to the waiting list for more than 2 organs at once\")).",
   "execution_count": 3,
   "outputs": [
    {
     "name": "stdout",
     "text": "",
     "output_type": "stream"
    }
   ]
  },
  {
   "cell_type": "markdown",
   "source": "Auckland hospital expects that donor Offers will not be made for patients with cancer:",
   "metadata": {
    "cell_id": "a67bd756-d994-4774-9292-e5381f0124b8",
    "tags": [],
    "deepnote_cell_type": "markdown"
   }
  },
  {
   "cell_type": "code",
   "metadata": {
    "cell_id": "21d95eb0-2736-4825-aaec-8c1b1f940c9a",
    "tags": [],
    "deepnote_to_be_reexecuted": false,
    "source_hash": "c6064080",
    "execution_start": 1645568042781,
    "execution_millis": 15,
    "deepnote_cell_type": "code"
   },
   "source": "% File: noCancerOffers.pl\ninitially(\"Auckland\":exp_rule(happ(send(monSys, donorOffer(PatID, Organs, Details))), not(and([condition(member(condition:D, Details)), \ncondition(member(\"Cancer\", D))])), dependent, \"Individual\":\"Donor offers will not be made for patients diagnosed with cancer\")).",
   "execution_count": 4,
   "outputs": [
    {
     "name": "stdout",
     "text": "",
     "output_type": "stream"
    }
   ]
  },
  {
   "cell_type": "markdown",
   "source": "Our test narrative is as follows:\n- At time period 1, Otago sends a waiting list add request for patient 101 to **monSys**.\n- At time period 3, Otago sends a waiting list add request for patient  to **monSys**.\n- At time period 5, Wellington sends a waiting list add request for 2 organs for a patient to **monSys**.\n- At time period 7, Wellington sends a waiting list add request for 3 organs for a patient to **monSys**.\n- At time period 9, Auckland sends a donor offer for a patient with cancer to **monSys**.\n- At time period 11, Auckland sends a donor offer for patient 202 to **monSys**.\n- At time period 13, **monSys** matches the donor offer from patient 202 from Auckland to waiting patient 102 from Otago.",
   "metadata": {
    "cell_id": "7b7fb9f4-8fc0-450b-8187-99f2a51acaac",
    "tags": [],
    "deepnote_cell_type": "markdown"
   }
  },
  {
   "cell_type": "code",
   "metadata": {
    "cell_id": "e67df284-4975-4d8c-95e2-6714ed0fc841",
    "tags": [],
    "deepnote_to_be_reexecuted": false,
    "source_hash": "ecd572f6",
    "execution_start": 1645568042794,
    "execution_millis": 10,
    "deepnote_cell_type": "code"
   },
   "source": "% File: narrative.pl\nhappensAtNarrative(\"Otago\":send(monSys, waitAddReq(101, [\"kidney\", \"liver\"], [bloodType:\"O\"])),1).\nhappensAtNarrative(\"Otago\":send(monSys, waitAddReq(102, [\"kidney\", \"heart\", \"liver\"], [bloodType:\"A\"])),3).\nhappensAtNarrative(\"Wellington\":send(monSys, waitAddReq(103, [\"heart\", \"pancreas\"], [bloodType:\"B\"])),5).\nhappensAtNarrative(\"Wellington\":send(monSys, waitAddReq(104, [\"heart\", \"pancreas\", \"lungs\"], [bloodType:\"AB\"])),7).\nhappensAtNarrative(\"Auckland\":send(monSys, donorOffer(201, [\"heart\"], [bloodType:\"A\", condition:[\"HIV\", \"Cancer\"]])), 9).\nhappensAtNarrative(\"Auckland\":send(monSys, donorOffer(202, [\"kidney\", \"liver\", \"pancreas\"], [bloodType:\"O\"])),11).\nhappensAtNarrative(monSys:match(701, \"Auckland\", 202, \"Otago\", 102, \"Wellington\", [\"kidney\", \"liver\"], []),13).\nhappensAtNarrative(\"Auckland\":send(monSys, acceptMatch(701)), 15).\nhappensAtNarrative(\"Wellington\":send(monSys, acceptMatch(701)), 15).\nhappensAtNarrative(\"Otago\":send(monSys, acceptMatch(701)), 15).\nhappensAtNarrative(\"Wellington\":transplant(701, success), 20).",
   "execution_count": 5,
   "outputs": [
    {
     "name": "stdout",
     "text": "",
     "output_type": "stream"
    }
   ]
  },
  {
   "cell_type": "code",
   "metadata": {
    "cell_id": "ec0a3442-b3cd-4c9e-ba9c-b5eabf030c57",
    "tags": [],
    "deepnote_to_be_reexecuted": false,
    "source_hash": "fee40dff",
    "execution_start": 1645568042803,
    "execution_millis": 875,
    "deepnote_cell_type": "code"
   },
   "source": "?- run(30).",
   "execution_count": 6,
   "outputs": [
    {
     "name": "stdout",
     "text": "true.",
     "output_type": "stream"
    }
   ]
  },
  {
   "cell_type": "markdown",
   "source": "At time period 4, Otago is notified that their waiting list add request for patient 101 has been accepted. This creates the expectation that a donor match will be found for patient 101 within 25 time periods. Likewise, at time period 6 Otago is notified that their add request for patient 102 has been accepted, which creates another expectation.",
   "metadata": {
    "cell_id": "e529ce01-6285-42a9-9985-71b554ce10fc",
    "tags": [],
    "deepnote_cell_type": "markdown"
   }
  },
  {
   "cell_type": "code",
   "metadata": {
    "cell_id": "06a463a1-3da0-419c-9404-590d0269ccb2",
    "tags": [],
    "deepnote_to_be_reexecuted": false,
    "source_hash": "98d08757",
    "execution_start": 1645568043680,
    "execution_millis": 15,
    "deepnote_cell_type": "code"
   },
   "source": "?- T = 4, happensAt(\"Otago\", Event, T).\n?- T = 4, holdsAt(\"Otago\", exp(_,_,_,Condition,_,Message), T).\n?- T = 6, happensAt(\"Otago\", Event, T).\n?- T = 6, holdsAt(\"Otago\", exp(_,_,_,Condition,_,Message), T).",
   "execution_count": 7,
   "outputs": [
    {
     "name": "stdout",
     "text": "T = 4, Event = receive(monSys, waitAccept(101)) .\nT = 4, Condition = within(and([Functor(14504077,1,receive(_1758, transplantOutcome(_1764, _1766))), Functor(14639885,6,_1764,101,_1780,_1758,_1784,_1786)]), 25), Message = :(b'Individual', b'Patients will not have to wait more than 25 time periods for a transplant') .\nT = 6, Event = receive(monSys, waitAccept(102)) .\nT = 6, Condition = within(and([Functor(14504077,1,receive(_1758, transplantOutcome(_1764, _1766))), Functor(14639885,6,_1764,101,_1780,_1758,_1784,_1786)]), 23), Message = :(b'Individual', b'Patients will not have to wait more than 25 time periods for a transplant') ;\nT = 6, Condition = within(and([Functor(14504077,1,receive(_1758, transplantOutcome(_1764, _1766))), Functor(14639885,6,_1764,102,_1780,_1758,_1784,_1786)]), 25), Message = :(b'Individual', b'Patients will not have to wait more than 25 time periods for a transplant') .",
     "output_type": "stream"
    }
   ]
  },
  {
   "cell_type": "markdown",
   "source": "At time period 5, Wellington sends a waiting list add request for a patient needing two organs. This fulfils the expectation that a waiting list add request will not be for more than 2 organs. At time period 7, Wellington sends a waiting list add request for a patient needing three organs, which violates the expectation.",
   "metadata": {
    "cell_id": "76c1a748-22ee-4bc6-8cad-8432173cd2d4",
    "tags": [],
    "deepnote_cell_type": "markdown"
   }
  },
  {
   "cell_type": "code",
   "metadata": {
    "cell_id": "20c17b35-09a7-4088-8bea-6fdc41c6f124",
    "tags": [],
    "deepnote_to_be_reexecuted": false,
    "source_hash": "ddf1b2a2",
    "execution_start": 1645568043701,
    "execution_millis": 1,
    "deepnote_cell_type": "code"
   },
   "source": "?- T = 5, happensAt(\"Wellington\", Event, T), Event = send(_, _).\n?- T = 5, happensAt(\"Wellington\", fulf(_ ,_, _, FulfCondition, _, Message), T).\n?- T = 7, happensAt(\"Wellington\", Event, T), Event = send(_,_).\n?- T = 7, happensAt(\"Wellington\", viol(_, _, _, ViolCondition, _, Message), T).",
   "execution_count": 8,
   "outputs": [
    {
     "name": "stdout",
     "text": "T = 5, Event = send(monSys, waitAddReq(103, [b'heart', b'pancreas'], [Functor(188685,2,bloodType,b'B')])) .\nT = 5, FulfCondition = and([Functor(14479501,1,length([b'heart', b'pancreas'], 2)), Functor(14479501,1,=<(2, 2))]), Message = :(b'Individual', b'Patients will not be added to the waiting list for more than 2 organs at once') .\nT = 7, Event = send(monSys, waitAddReq(104, [b'heart', b'pancreas', b'lungs'], [Functor(188685,2,bloodType,b'AB')])) .\nT = 7, ViolCondition = and([Functor(14479501,1,length([b'heart', b'pancreas', b'lungs'], 3)), Functor(14479501,1,=<(3, 2))]), Message = :(b'Individual', b'Patients will not be added to the waiting list for more than 2 organs at once') .",
     "output_type": "stream"
    }
   ]
  },
  {
   "cell_type": "markdown",
   "source": "When Auckland sends a donor offer for a patient with cancer at time period 9, it violates the relevant expectation. When Auckland sends a donor offer for a different patient who is not noted to have cancer at time period 11, the relevant expectation is fulfilled.",
   "metadata": {
    "cell_id": "732331db-eda5-4f2d-b78d-c81a4a2f0ed9",
    "tags": [],
    "deepnote_cell_type": "markdown"
   }
  },
  {
   "cell_type": "code",
   "metadata": {
    "cell_id": "bdfffdda-e9a4-43e1-bc6e-758484aeef2d",
    "tags": [],
    "deepnote_to_be_reexecuted": false,
    "source_hash": "bc8cf85a",
    "execution_start": 1645568043755,
    "execution_millis": 6,
    "deepnote_cell_type": "code"
   },
   "source": "?- T = 9, happensAt(\"Auckland\", Event, T), Event = send(_, _).\n?- T = 9, happensAt(\"Auckland\", viol(_, _, _, ViolCondition, _, Message), T).\n?- T = 11, happensAt(\"Auckland\", Event, T), Event = send(_, _).\n?- T = 11, happensAt(\"Auckland\", fulf(_, _, _, FulfCondition, _, Message), T).",
   "execution_count": 9,
   "outputs": [
    {
     "name": "stdout",
     "text": "T = 9, Event = send(monSys, donorOffer(201, [b'heart'], [Functor(188685,2,bloodType,b'A'), Functor(188685,2,condition,[b'HIV', b'Cancer'])])) .\nT = 9, ViolCondition = not(and([Functor(14479501,1,member(:(condition, [b'HIV', b'Cancer']), [Functor(188685,2,bloodType,b'A'), Functor(188685,2,condition,[b'HIV', b'Cancer'])])), Functor(14479501,1,member(b'Cancer', [b'HIV', b'Cancer']))])), Message = :(b'Individual', b'Donor offers will not be made for patients diagnosed with cancer') .\nT = 11, Event = send(monSys, donorOffer(202, [b'kidney', b'liver', b'pancreas'], [Functor(188685,2,bloodType,b'O')])) .\nT = 11, FulfCondition = not(and([Functor(14479501,1,member(:(condition, [b'Cancer']), [Functor(188685,2,bloodType,b'O')])), Functor(14479501,1,member(b'Cancer', [b'Cancer']))])), Message = :(b'Individual', b'Donor offers will not be made for patients diagnosed with cancer') .",
     "output_type": "stream"
    }
   ]
  },
  {
   "cell_type": "markdown",
   "source": "At time period 13, **monSys** matches the donor offer for patient 202 from Auckland to the waiting patient 102 from Otago, and specifies the transplant location as Wellington. This causes messages about the match to be sent to each of the three hospitals, which all send acceptance messages at time period 15. The transplant successfully takes place at time period 20, and at time period 21 Wellington sends a message to **monSys** and Otago and Auckland hospitals, notifying them of the transplant.",
   "metadata": {
    "cell_id": "6b1dc908-f2ba-493e-84d3-41a8b4c8278e",
    "tags": [],
    "deepnote_cell_type": "markdown"
   }
  },
  {
   "cell_type": "code",
   "metadata": {
    "cell_id": "19f3e534-1fe5-41ee-a2d4-0ba373fd3b42",
    "tags": [],
    "deepnote_to_be_reexecuted": false,
    "source_hash": "907411f3",
    "execution_start": 1645568043756,
    "execution_millis": 5,
    "deepnote_cell_type": "code"
   },
   "source": "?- T = 20, happensAt(\"Wellington\", Event, T).\n?- T = 21, happensAt(\"Wellington\", Event, T).",
   "execution_count": 10,
   "outputs": [
    {
     "name": "stdout",
     "text": "T = 20, Event = transplant(701, success) .\nT = 21, Event = send(b'Auckland', transplantOutcome(701, success)) ;\nT = 21, Event = send(b'Otago', transplantOutcome(701, success)) ;\nT = 21, Event = send(monSys, transplantOutcome(701, success)) .",
     "output_type": "stream"
    }
   ]
  },
  {
   "cell_type": "markdown",
   "source": "At time period 22, Otago receives the `transplantOutcome` notification, which fulfils its expectation that patient 102 will not have to wait more than 25 periods for an organ donation.",
   "metadata": {
    "cell_id": "e4cfbf17-d6fb-4f74-a225-afe8a2128c95",
    "tags": [],
    "deepnote_cell_type": "markdown"
   }
  },
  {
   "cell_type": "code",
   "metadata": {
    "cell_id": "4726938d-a6c6-4e33-9ddb-0444e2df0487",
    "tags": [],
    "deepnote_to_be_reexecuted": false,
    "source_hash": "40102908",
    "execution_start": 1645568043757,
    "execution_millis": 1867098,
    "deepnote_cell_type": "code"
   },
   "source": "?- T = 22, happensAt(\"Otago\", Event, T).",
   "execution_count": 11,
   "outputs": [
    {
     "name": "stdout",
     "text": "T = 22, Event = fulf(happ(receive(monSys, waitAccept(102))), within(and([Functor(14504077,1,receive(b'Wellington', transplantOutcome(701, success))), Functor(14639885,6,701,102,b'Auckland',b'Wellington',[b'kidney', b'liver'],[])]), 25), 6, within(and([Functor(14504077,1,receive(b'Wellington', transplantOutcome(701, success))), Functor(14639885,6,701,102,b'Auckland',b'Wellington',[b'kidney', b'liver'],[])]), 9), dependent, :(b'Individual', b'Patients will not have to wait more than 25 time periods for a transplant')) ;\nT = 22, Event = receive(b'Wellington', transplantOutcome(701, success)) .",
     "output_type": "stream"
    }
   ]
  },
  {
   "cell_type": "markdown",
   "source": "At time period 29, Otago's expectation that patient 101 will not have to wait more than 25 time periods from the wait list acceptance message for an organ donation is violated.",
   "metadata": {
    "cell_id": "6e2c6467-ec5e-4b2c-95b9-5ce8827a3aee",
    "tags": [],
    "deepnote_cell_type": "markdown"
   }
  },
  {
   "cell_type": "code",
   "metadata": {
    "cell_id": "d7f526c5-c00a-47be-823c-011bf1b1b651",
    "tags": [],
    "deepnote_to_be_reexecuted": false,
    "source_hash": "c41c9525",
    "execution_start": 1645568043763,
    "execution_millis": 1,
    "deepnote_cell_type": "code"
   },
   "source": "?- happensAt(\"Otago\", viol(_, _, _, ViolCondition, _, Message), 29).",
   "execution_count": 12,
   "outputs": [
    {
     "name": "stdout",
     "text": "ViolCondition = within(and([Functor(14504077,1,receive(_1700, transplantOutcome(_1706, _1708))), Functor(14639885,6,_1706,101,_1722,_1700,_1726,_1728)]), 0), Message = :(b'Individual', b'Patients will not have to wait more than 25 time periods for a transplant') .",
     "output_type": "stream"
    }
   ]
  },
  {
   "cell_type": "markdown",
   "source": "Note that the different agents were able to have different expectation rules which could be successfully trigger, violated or fulfilled by messages sent between the agents.",
   "metadata": {
    "cell_id": "ebe8447e-9e99-4de6-9da8-1586d0dd7e3a",
    "tags": [],
    "deepnote_cell_type": "markdown"
   }
  },
  {
   "cell_type": "markdown",
   "source": "# Visualisation",
   "metadata": {
    "cell_id": "ca988a0f-b81c-47b5-82d5-e436469a8429",
    "tags": [],
    "is_collapsed": false,
    "deepnote_cell_type": "text-cell-h1"
   }
  },
  {
   "cell_type": "code",
   "source": "% File: helperVisualisation.pl\ninitialAgents(AgentList):- findall(Agent, initially(monSys:agent(Agent)), AgentList).\nallAgents(AgentList):- initialAgents(InitialList), append([monSys], InitialList, AgentList).\n\nvisualisationLabel(waitAddReq, \"Waiting list add request\", [\"patient ID\", \"organs\", \"details\"]).\nvisualisationLabel(waitAccept, \"waiting list acceptance\", [\"patient ID\"]).\nvisualisationLabel(donorOffer, \"Donation offer\", [\"patient ID\", \"organs\", \"details\"]).\nvisualisationLabel(acceptMatch, \"Match acceptance\", [\"match ID\"]).\nvisualisationLabel(confirmedNotification, \"Match confirmation\", [\"match ID\"]).\nvisualisationLabel(recipientFound, \"Recipient found notification\", [\"match ID\", \"recipient ID\", \"donor hospital\", \"transplant location\", \n\"organs\", \"details\"]).\nvisualisationLabel(donorFound, \"Donor found notification\", [\"match ID\", \"donor ID\", \"recipient hospital\", \"transplant location\", \n\"organs\", \"details\"]).\nvisualisationLabel(locationSelected, \"Transplant location selected\", [\"match ID\", \"donor hospital\", \"recipient hospital\",\n\"organs\", \"details\"])\nvisualisationLabel(transplantOutcome, \"Transplant outcome\", [\"match ID\", \"outcome\"]).\nvisualisationLabel(transplanted, \"Transplant\", [\"match ID\", \"outcome\"]).\nvisualisationLabel(waiting, \"Waiting\", [\"patient ID\", \"hospital\", \"organs\", \"details\", \"start time\"]).",
   "metadata": {
    "cell_id": "0aa358fb-9d3d-414d-9e41-5cb79c228c90",
    "tags": [],
    "deepnote_to_be_reexecuted": false,
    "source_hash": "40893e4b",
    "execution_start": 1645568043808,
    "execution_millis": 5,
    "deepnote_cell_type": "code"
   },
   "outputs": [
    {
     "name": "stdout",
     "text": "",
     "output_type": "stream"
    }
   ],
   "execution_count": 13
  },
  {
   "cell_type": "code",
   "source": "% Output: VisualisationSupport.txt\n?- allAgents(Agents).\n?- visualisationLabel(FluentName, FluentMessage, Arguments).",
   "metadata": {
    "cell_id": "8c032f3a-de5f-4191-9feb-7455a63cf994",
    "tags": [],
    "deepnote_to_be_reexecuted": false,
    "source_hash": "7ea1a1de",
    "execution_start": 1645568043854,
    "execution_millis": 21,
    "is_output_hidden": true,
    "deepnote_cell_type": "code"
   },
   "outputs": [
    {
     "name": "stdout",
     "text": "Agents = [ monSys, b'Otago', b'Christchurch', b'Wellington', b'Auckland' ] .\nFluentName = waitAddReq, FluentMessage = b'Waiting list add request', Arguments = [ b'patient ID', b'organs', b'details' ] ;\nFluentName = waitAccept, FluentMessage = b'waiting list acceptance', Arguments = [ b'patient ID' ] ;\nFluentName = donorOffer, FluentMessage = b'Donation offer', Arguments = [ b'patient ID', b'organs', b'details' ] ;\nFluentName = acceptMatch, FluentMessage = b'Match acceptance', Arguments = [ b'match ID' ] ;\nFluentName = confirmedNotification, FluentMessage = b'Match confirmation', Arguments = [ b'match ID' ] ;\nFluentName = recipientFound, FluentMessage = b'Recipient found notification', Arguments = [ b'match ID', b'recipient ID', b'donor hospital', b'transplant location', b'organs', b'details' ] ;\nFluentName = donorFound, FluentMessage = b'Donor found notification', Arguments = [ b'match ID', b'donor ID', b'recipient hospital', b'transplant location', b'organs', b'details' ] ;\nFluentName = transplanted, FluentMessage = b'Transplant', Arguments = [ b'match ID', b'outcome' ] ;\nFluentName = waiting, FluentMessage = b'Waiting', Arguments = [ b'patient ID', b'hospital', b'organs', b'details', b'start time' ] .",
     "output_type": "stream"
    }
   ],
   "execution_count": 16
  },
  {
   "cell_type": "code",
   "source": "% Output: VisualisationEvents.txt\n\n?- happensAt(SendAgent, Event, T), Event = send(_, _).\n?- happensAt(ReceiveAgent, Event, T), Event = receive(_, _).\n?- happensAt(ViolAgent, Event, T), Event = viol(_,_,_,_,_,_).\n?- happensAt(FulfAgent, Event, T), Event = fulf(_,_,_,_,_,_).\n?- happensAt(OtherAgent, Event, T), Event \\= send(_, _), Event \\= receive(_, _), Event \\= viol(_, _, _, _, _, _), Event \\= fulf(_, _, _, _, _, _).",
   "metadata": {
    "cell_id": "a0cb2ce0-1f01-41ef-b24e-84aff8d2443f",
    "tags": [],
    "deepnote_to_be_reexecuted": false,
    "source_hash": "9b85a5b7",
    "execution_start": 1645568043865,
    "execution_millis": 68,
    "is_output_hidden": true,
    "deepnote_cell_type": "code"
   },
   "outputs": [
    {
     "name": "stdout",
     "text": "SendAgent = b'Otago', Event = send(monSys, waitAddReq(101, [b'kidney', b'liver'], [Functor(188685,2,bloodType,b'O')])), T = 1 ;\nSendAgent = b'Otago', Event = send(monSys, waitAddReq(102, [b'kidney', b'heart', b'liver'], [Functor(188685,2,bloodType,b'A')])), T = 3 ;\nSendAgent = b'Wellington', Event = send(monSys, waitAddReq(103, [b'heart', b'pancreas'], [Functor(188685,2,bloodType,b'B')])), T = 5 ;\nSendAgent = b'Wellington', Event = send(monSys, waitAddReq(104, [b'heart', b'pancreas', b'lungs'], [Functor(188685,2,bloodType,b'AB')])), T = 7 ;\nSendAgent = b'Auckland', Event = send(monSys, donorOffer(201, [b'heart'], [Functor(188685,2,bloodType,b'A'), Functor(188685,2,condition,[b'HIV', b'Cancer'])])), T = 9 ;\nSendAgent = b'Auckland', Event = send(monSys, donorOffer(202, [b'kidney', b'liver', b'pancreas'], [Functor(188685,2,bloodType,b'O')])), T = 11 ;\nSendAgent = b'Auckland', Event = send(monSys, acceptMatch(701)), T = 15 ;\nSendAgent = b'Wellington', Event = send(monSys, acceptMatch(701)), T = 15 ;\nSendAgent = b'Otago', Event = send(monSys, acceptMatch(701)), T = 15 ;\nSendAgent = monSys, Event = send(b'Auckland', recipientFound(701, 202, b'Otago', b'Wellington', [b'kidney', b'liver'], [])), T = 14 ;\nSendAgent = monSys, Event = send(b'Otago', donorFound(701, 102, b'Auckland', b'Wellington', [b'kidney', b'liver'], [])), T = 14 ;\nSendAgent = monSys, Event = send(b'Wellington', locationSelected(701, b'Auckland', b'Otago', [b'kidney', b'liver'], [])), T = 14 ;\nSendAgent = monSys, Event = send(b'Auckland', confirmedNotification(701)), T = 17 ;\nSendAgent = monSys, Event = send(b'Otago', confirmedNotification(701)), T = 17 ;\nSendAgent = monSys, Event = send(b'Wellington', confirmedNotification(701)), T = 17 ;\nSendAgent = b'Wellington', Event = send(b'Auckland', transplantOutcome(701, success)), T = 21 ;\nSendAgent = b'Wellington', Event = send(b'Otago', transplantOutcome(701, success)), T = 21 ;\nSendAgent = b'Wellington', Event = send(monSys, transplantOutcome(701, success)), T = 21 ;\nSendAgent = monSys, Event = send(b'Otago', waitAccept(101)), T = 3 ;\nSendAgent = monSys, Event = send(b'Otago', waitAccept(102)), T = 5 ;\nSendAgent = monSys, Event = send(b'Wellington', waitAccept(103)), T = 7 ;\nSendAgent = monSys, Event = send(b'Wellington', waitAccept(104)), T = 9 .\nReceiveAgent = monSys, Event = receive(b'Otago', waitAddReq(101, [b'kidney', b'liver'], [Functor(188685,2,bloodType,b'O')])), T = 2 ;\nReceiveAgent = monSys, Event = receive(b'Otago', waitAddReq(102, [b'kidney', b'heart', b'liver'], [Functor(188685,2,bloodType,b'A')])), T = 4 ;\nReceiveAgent = monSys, Event = receive(b'Wellington', waitAddReq(103, [b'heart', b'pancreas'], [Functor(188685,2,bloodType,b'B')])), T = 6 ;\nReceiveAgent = monSys, Event = receive(b'Wellington', waitAddReq(104, [b'heart', b'pancreas', b'lungs'], [Functor(188685,2,bloodType,b'AB')])), T = 8 ;\nReceiveAgent = monSys, Event = receive(b'Auckland', donorOffer(201, [b'heart'], [Functor(188685,2,bloodType,b'A'), Functor(188685,2,condition,[b'HIV', b'Cancer'])])), T = 10 ;\nReceiveAgent = monSys, Event = receive(b'Auckland', donorOffer(202, [b'kidney', b'liver', b'pancreas'], [Functor(188685,2,bloodType,b'O')])), T = 12 ;\nReceiveAgent = monSys, Event = receive(b'Auckland', acceptMatch(701)), T = 16 ;\nReceiveAgent = monSys, Event = receive(b'Wellington', acceptMatch(701)), T = 16 ;\nReceiveAgent = monSys, Event = receive(b'Otago', acceptMatch(701)), T = 16 ;\nReceiveAgent = b'Auckland', Event = receive(monSys, recipientFound(701, 202, b'Otago', b'Wellington', [b'kidney', b'liver'], [])), T = 15 ;\nReceiveAgent = b'Otago', Event = receive(monSys, donorFound(701, 102, b'Auckland', b'Wellington', [b'kidney', b'liver'], [])), T = 15 ;\nReceiveAgent = b'Wellington', Event = receive(monSys, locationSelected(701, b'Auckland', b'Otago', [b'kidney', b'liver'], [])), T = 15 ;\nReceiveAgent = b'Auckland', Event = receive(monSys, confirmedNotification(701)), T = 18 ;\nReceiveAgent = b'Otago', Event = receive(monSys, confirmedNotification(701)), T = 18 ;\nReceiveAgent = b'Wellington', Event = receive(monSys, confirmedNotification(701)), T = 18 ;\nReceiveAgent = b'Auckland', Event = receive(b'Wellington', transplantOutcome(701, success)), T = 22 ;\nReceiveAgent = b'Otago', Event = receive(b'Wellington', transplantOutcome(701, success)), T = 22 ;\nReceiveAgent = monSys, Event = receive(b'Wellington', transplantOutcome(701, success)), T = 22 ;\nReceiveAgent = b'Otago', Event = receive(monSys, waitAccept(101)), T = 4 ;\nReceiveAgent = b'Otago', Event = receive(monSys, waitAccept(102)), T = 6 ;\nReceiveAgent = b'Wellington', Event = receive(monSys, waitAccept(103)), T = 8 ;\nReceiveAgent = b'Wellington', Event = receive(monSys, waitAccept(104)), T = 10 .\nViolAgent = b'Wellington', Event = viol(happ(send(monSys, waitAddReq(104, [b'heart', b'pancreas', b'lungs'], [Functor(188685,2,bloodType,b'AB')]))), and([Functor(14479501,1,length([b'heart', b'pancreas', b'lungs'], 3)), Functor(14479501,1,=<(3, 2))]), 7, and([Functor(14479501,1,length([b'heart', b'pancreas', b'lungs'], 3)), Functor(14479501,1,=<(3, 2))]), dependent, :(b'Individual', b'Patients will not be added to the waiting list for more than 2 organs at once')), T = 7 ;\nViolAgent = b'Auckland', Event = viol(happ(send(monSys, donorOffer(201, [b'heart'], [Functor(188685,2,bloodType,b'A'), Functor(188685,2,condition,[b'HIV', b'Cancer'])]))), not(and([Functor(14479501,1,member(:(condition, [b'HIV', b'Cancer']), [Functor(188685,2,bloodType,b'A'), Functor(188685,2,condition,[b'HIV', b'Cancer'])])), Functor(14479501,1,member(b'Cancer', [b'HIV', b'Cancer']))])), 9, not(and([Functor(14479501,1,member(:(condition, [b'HIV', b'Cancer']), [Functor(188685,2,bloodType,b'A'), Functor(188685,2,condition,[b'HIV', b'Cancer'])])), Functor(14479501,1,member(b'Cancer', [b'HIV', b'Cancer']))])), dependent, :(b'Individual', b'Donor offers will not be made for patients diagnosed with cancer')), T = 9 ;\nViolAgent = b'Otago', Event = viol(happ(receive(monSys, waitAccept(101))), within(and([Functor(14504077,1,receive(_1736, transplantOutcome(_1742, _1744))), Functor(14639885,6,_1742,101,_1758,_1736,_1762,_1764)]), 25), 4, within(and([Functor(14504077,1,receive(_1736, transplantOutcome(_1742, _1744))), Functor(14639885,6,_1742,101,_1758,_1736,_1762,_1764)]), 0), dependent, :(b'Individual', b'Patients will not have to wait more than 25 time periods for a transplant')), T = 29 .\nFulfAgent = b'Wellington', Event = fulf(happ(send(monSys, waitAddReq(103, [b'heart', b'pancreas'], [Functor(188685,2,bloodType,b'B')]))), and([Functor(14479501,1,length([b'heart', b'pancreas'], 2)), Functor(14479501,1,=<(2, 2))]), 5, and([Functor(14479501,1,length([b'heart', b'pancreas'], 2)), Functor(14479501,1,=<(2, 2))]), dependent, :(b'Individual', b'Patients will not be added to the waiting list for more than 2 organs at once')), T = 5 ;\nFulfAgent = b'Auckland', Event = fulf(happ(send(monSys, donorOffer(202, [b'kidney', b'liver', b'pancreas'], [Functor(188685,2,bloodType,b'O')]))), not(and([Functor(14479501,1,member(:(condition, [b'Cancer']), [Functor(188685,2,bloodType,b'O')])), Functor(14479501,1,member(b'Cancer', [b'Cancer']))])), 11, not(and([Functor(14479501,1,member(:(condition, [b'Cancer']), [Functor(188685,2,bloodType,b'O')])), Functor(14479501,1,member(b'Cancer', [b'Cancer']))])), dependent, :(b'Individual', b'Donor offers will not be made for patients diagnosed with cancer')), T = 11 ;\nFulfAgent = b'Otago', Event = fulf(happ(receive(monSys, waitAccept(102))), within(and([Functor(14504077,1,receive(b'Wellington', transplantOutcome(701, success))), Functor(14639885,6,701,102,b'Auckland',b'Wellington',[b'kidney', b'liver'],[])]), 25), 6, within(and([Functor(14504077,1,receive(b'Wellington', transplantOutcome(701, success))), Functor(14639885,6,701,102,b'Auckland',b'Wellington',[b'kidney', b'liver'],[])]), 9), dependent, :(b'Individual', b'Patients will not have to wait more than 25 time periods for a transplant')), T = 22 .\nOtherAgent = monSys, Event = match(701, b'Auckland', 202, b'Otago', 102, b'Wellington', [b'kidney', b'liver'], []), T = 13 ;\nOtherAgent = b'Wellington', Event = transplant(701, success), T = 20 ;\nOtherAgent = monSys, Event = confirmationMatch(701), T = 16 .",
     "output_type": "stream"
    }
   ],
   "execution_count": 17
  },
  {
   "cell_type": "code",
   "source": "% Output: \n?- holdsAt(FluentAgent, Fluent, T), Fluent = waiting(_,_,_,_,_), 0 =< T, T =< 9.\n?- holdsAt(FluentAgent, Fluent, T), Fluent = waiting(_,_,_,_,_), 10 =< T, T =< 19.\n?- holdsAt(FluentAgent, Fluent, T), Fluent = waiting(_,_,_,_,_), 20 =< T, T =< 29.",
   "metadata": {
    "cell_id": "764885c7-5985-47cd-ab1a-5e79a338d5bb",
    "tags": [],
    "deepnote_to_be_reexecuted": false,
    "source_hash": "99e6af0f",
    "execution_start": 1645568043829,
    "execution_millis": 29,
    "is_output_hidden": true,
    "deepnote_cell_type": "code"
   },
   "outputs": [
    {
     "name": "stdout",
     "text": "FluentAgent = monSys, Fluent = waiting(101, b'Otago', [b'kidney', b'liver'], [Functor(188685,2,bloodType,b'O')], 2), T = 3 ;\nFluentAgent = monSys, Fluent = waiting(101, b'Otago', [b'kidney', b'liver'], [Functor(188685,2,bloodType,b'O')], 2), T = 4 ;\nFluentAgent = monSys, Fluent = waiting(101, b'Otago', [b'kidney', b'liver'], [Functor(188685,2,bloodType,b'O')], 2), T = 5 ;\nFluentAgent = monSys, Fluent = waiting(102, b'Otago', [b'kidney', b'heart', b'liver'], [Functor(188685,2,bloodType,b'A')], 4), T = 5 ;\nFluentAgent = monSys, Fluent = waiting(101, b'Otago', [b'kidney', b'liver'], [Functor(188685,2,bloodType,b'O')], 2), T = 6 ;\nFluentAgent = monSys, Fluent = waiting(102, b'Otago', [b'kidney', b'heart', b'liver'], [Functor(188685,2,bloodType,b'A')], 4), T = 6 ;\nFluentAgent = monSys, Fluent = waiting(101, b'Otago', [b'kidney', b'liver'], [Functor(188685,2,bloodType,b'O')], 2), T = 7 ;\nFluentAgent = monSys, Fluent = waiting(102, b'Otago', [b'kidney', b'heart', b'liver'], [Functor(188685,2,bloodType,b'A')], 4), T = 7 ;\nFluentAgent = monSys, Fluent = waiting(103, b'Wellington', [b'heart', b'pancreas'], [Functor(188685,2,bloodType,b'B')], 6), T = 7 ;\nFluentAgent = monSys, Fluent = waiting(101, b'Otago', [b'kidney', b'liver'], [Functor(188685,2,bloodType,b'O')], 2), T = 8 ;\nFluentAgent = monSys, Fluent = waiting(102, b'Otago', [b'kidney', b'heart', b'liver'], [Functor(188685,2,bloodType,b'A')], 4), T = 8 ;\nFluentAgent = monSys, Fluent = waiting(103, b'Wellington', [b'heart', b'pancreas'], [Functor(188685,2,bloodType,b'B')], 6), T = 8 ;\nFluentAgent = monSys, Fluent = waiting(101, b'Otago', [b'kidney', b'liver'], [Functor(188685,2,bloodType,b'O')], 2), T = 9 ;\nFluentAgent = monSys, Fluent = waiting(102, b'Otago', [b'kidney', b'heart', b'liver'], [Functor(188685,2,bloodType,b'A')], 4), T = 9 ;\nFluentAgent = monSys, Fluent = waiting(103, b'Wellington', [b'heart', b'pancreas'], [Functor(188685,2,bloodType,b'B')], 6), T = 9 ;\nFluentAgent = monSys, Fluent = waiting(104, b'Wellington', [b'heart', b'pancreas', b'lungs'], [Functor(188685,2,bloodType,b'AB')], 8), T = 9 .\nFluentAgent = monSys, Fluent = waiting(101, b'Otago', [b'kidney', b'liver'], [Functor(188685,2,bloodType,b'O')], 2), T = 10 ;\nFluentAgent = monSys, Fluent = waiting(102, b'Otago', [b'kidney', b'heart', b'liver'], [Functor(188685,2,bloodType,b'A')], 4), T = 10 ;\nFluentAgent = monSys, Fluent = waiting(103, b'Wellington', [b'heart', b'pancreas'], [Functor(188685,2,bloodType,b'B')], 6), T = 10 ;\nFluentAgent = monSys, Fluent = waiting(104, b'Wellington', [b'heart', b'pancreas', b'lungs'], [Functor(188685,2,bloodType,b'AB')], 8), T = 10 ;\nFluentAgent = monSys, Fluent = waiting(101, b'Otago', [b'kidney', b'liver'], [Functor(188685,2,bloodType,b'O')], 2), T = 11 ;\nFluentAgent = monSys, Fluent = waiting(102, b'Otago', [b'kidney', b'heart', b'liver'], [Functor(188685,2,bloodType,b'A')], 4), T = 11 ;\nFluentAgent = monSys, Fluent = waiting(103, b'Wellington', [b'heart', b'pancreas'], [Functor(188685,2,bloodType,b'B')], 6), T = 11 ;\nFluentAgent = monSys, Fluent = waiting(104, b'Wellington', [b'heart', b'pancreas', b'lungs'], [Functor(188685,2,bloodType,b'AB')], 8), T = 11 ;\nFluentAgent = monSys, Fluent = waiting(101, b'Otago', [b'kidney', b'liver'], [Functor(188685,2,bloodType,b'O')], 2), T = 12 ;\nFluentAgent = monSys, Fluent = waiting(102, b'Otago', [b'kidney', b'heart', b'liver'], [Functor(188685,2,bloodType,b'A')], 4), T = 12 ;\nFluentAgent = monSys, Fluent = waiting(103, b'Wellington', [b'heart', b'pancreas'], [Functor(188685,2,bloodType,b'B')], 6), T = 12 ;\nFluentAgent = monSys, Fluent = waiting(104, b'Wellington', [b'heart', b'pancreas', b'lungs'], [Functor(188685,2,bloodType,b'AB')], 8), T = 12 ;\nFluentAgent = monSys, Fluent = waiting(101, b'Otago', [b'kidney', b'liver'], [Functor(188685,2,bloodType,b'O')], 2), T = 13 ;\nFluentAgent = monSys, Fluent = waiting(102, b'Otago', [b'kidney', b'heart', b'liver'], [Functor(188685,2,bloodType,b'A')], 4), T = 13 ;\nFluentAgent = monSys, Fluent = waiting(103, b'Wellington', [b'heart', b'pancreas'], [Functor(188685,2,bloodType,b'B')], 6), T = 13 ;\nFluentAgent = monSys, Fluent = waiting(104, b'Wellington', [b'heart', b'pancreas', b'lungs'], [Functor(188685,2,bloodType,b'AB')], 8), T = 13 ;\nFluentAgent = monSys, Fluent = waiting(101, b'Otago', [b'kidney', b'liver'], [Functor(188685,2,bloodType,b'O')], 2), T = 14 ;\nFluentAgent = monSys, Fluent = waiting(102, b'Otago', [b'kidney', b'heart', b'liver'], [Functor(188685,2,bloodType,b'A')], 4), T = 14 ;\nFluentAgent = monSys, Fluent = waiting(103, b'Wellington', [b'heart', b'pancreas'], [Functor(188685,2,bloodType,b'B')], 6), T = 14 ;\nFluentAgent = monSys, Fluent = waiting(104, b'Wellington', [b'heart', b'pancreas', b'lungs'], [Functor(188685,2,bloodType,b'AB')], 8), T = 14 ;\nFluentAgent = monSys, Fluent = waiting(101, b'Otago', [b'kidney', b'liver'], [Functor(188685,2,bloodType,b'O')], 2), T = 15 ;\nFluentAgent = monSys, Fluent = waiting(102, b'Otago', [b'kidney', b'heart', b'liver'], [Functor(188685,2,bloodType,b'A')], 4), T = 15 ;\nFluentAgent = monSys, Fluent = waiting(103, b'Wellington', [b'heart', b'pancreas'], [Functor(188685,2,bloodType,b'B')], 6), T = 15 ;\nFluentAgent = monSys, Fluent = waiting(104, b'Wellington', [b'heart', b'pancreas', b'lungs'], [Functor(188685,2,bloodType,b'AB')], 8), T = 15 ;\nFluentAgent = monSys, Fluent = waiting(101, b'Otago', [b'kidney', b'liver'], [Functor(188685,2,bloodType,b'O')], 2), T = 16 ;\nFluentAgent = monSys, Fluent = waiting(102, b'Otago', [b'kidney', b'heart', b'liver'], [Functor(188685,2,bloodType,b'A')], 4), T = 16 ;\nFluentAgent = monSys, Fluent = waiting(103, b'Wellington', [b'heart', b'pancreas'], [Functor(188685,2,bloodType,b'B')], 6), T = 16 ;\nFluentAgent = monSys, Fluent = waiting(104, b'Wellington', [b'heart', b'pancreas', b'lungs'], [Functor(188685,2,bloodType,b'AB')], 8), T = 16 ;\nFluentAgent = monSys, Fluent = waiting(101, b'Otago', [b'kidney', b'liver'], [Functor(188685,2,bloodType,b'O')], 2), T = 17 ;\nFluentAgent = monSys, Fluent = waiting(102, b'Otago', [b'kidney', b'heart', b'liver'], [Functor(188685,2,bloodType,b'A')], 4), T = 17 ;\nFluentAgent = monSys, Fluent = waiting(103, b'Wellington', [b'heart', b'pancreas'], [Functor(188685,2,bloodType,b'B')], 6), T = 17 ;\nFluentAgent = monSys, Fluent = waiting(104, b'Wellington', [b'heart', b'pancreas', b'lungs'], [Functor(188685,2,bloodType,b'AB')], 8), T = 17 ;\nFluentAgent = monSys, Fluent = waiting(101, b'Otago', [b'kidney', b'liver'], [Functor(188685,2,bloodType,b'O')], 2), T = 18 ;\nFluentAgent = monSys, Fluent = waiting(102, b'Otago', [b'kidney', b'heart', b'liver'], [Functor(188685,2,bloodType,b'A')], 4), T = 18 ;\nFluentAgent = monSys, Fluent = waiting(103, b'Wellington', [b'heart', b'pancreas'], [Functor(188685,2,bloodType,b'B')], 6), T = 18 ;\nFluentAgent = monSys, Fluent = waiting(104, b'Wellington', [b'heart', b'pancreas', b'lungs'], [Functor(188685,2,bloodType,b'AB')], 8), T = 18 ;\nFluentAgent = monSys, Fluent = waiting(101, b'Otago', [b'kidney', b'liver'], [Functor(188685,2,bloodType,b'O')], 2), T = 19 ;\nFluentAgent = monSys, Fluent = waiting(102, b'Otago', [b'kidney', b'heart', b'liver'], [Functor(188685,2,bloodType,b'A')], 4), T = 19 ;\nFluentAgent = monSys, Fluent = waiting(103, b'Wellington', [b'heart', b'pancreas'], [Functor(188685,2,bloodType,b'B')], 6), T = 19 ;\nFluentAgent = monSys, Fluent = waiting(104, b'Wellington', [b'heart', b'pancreas', b'lungs'], [Functor(188685,2,bloodType,b'AB')], 8), T = 19 .\nFluentAgent = monSys, Fluent = waiting(101, b'Otago', [b'kidney', b'liver'], [Functor(188685,2,bloodType,b'O')], 2), T = 20 ;\nFluentAgent = monSys, Fluent = waiting(102, b'Otago', [b'kidney', b'heart', b'liver'], [Functor(188685,2,bloodType,b'A')], 4), T = 20 ;\nFluentAgent = monSys, Fluent = waiting(103, b'Wellington', [b'heart', b'pancreas'], [Functor(188685,2,bloodType,b'B')], 6), T = 20 ;\nFluentAgent = monSys, Fluent = waiting(104, b'Wellington', [b'heart', b'pancreas', b'lungs'], [Functor(188685,2,bloodType,b'AB')], 8), T = 20 ;\nFluentAgent = monSys, Fluent = waiting(101, b'Otago', [b'kidney', b'liver'], [Functor(188685,2,bloodType,b'O')], 2), T = 21 ;\nFluentAgent = monSys, Fluent = waiting(102, b'Otago', [b'kidney', b'heart', b'liver'], [Functor(188685,2,bloodType,b'A')], 4), T = 21 ;\nFluentAgent = monSys, Fluent = waiting(103, b'Wellington', [b'heart', b'pancreas'], [Functor(188685,2,bloodType,b'B')], 6), T = 21 ;\nFluentAgent = monSys, Fluent = waiting(104, b'Wellington', [b'heart', b'pancreas', b'lungs'], [Functor(188685,2,bloodType,b'AB')], 8), T = 21 ;\nFluentAgent = monSys, Fluent = waiting(101, b'Otago', [b'kidney', b'liver'], [Functor(188685,2,bloodType,b'O')], 2), T = 22 ;\nFluentAgent = monSys, Fluent = waiting(102, b'Otago', [b'kidney', b'heart', b'liver'], [Functor(188685,2,bloodType,b'A')], 4), T = 22 ;\nFluentAgent = monSys, Fluent = waiting(103, b'Wellington', [b'heart', b'pancreas'], [Functor(188685,2,bloodType,b'B')], 6), T = 22 ;\nFluentAgent = monSys, Fluent = waiting(104, b'Wellington', [b'heart', b'pancreas', b'lungs'], [Functor(188685,2,bloodType,b'AB')], 8), T = 22 ;\nFluentAgent = monSys, Fluent = waiting(101, b'Otago', [b'kidney', b'liver'], [Functor(188685,2,bloodType,b'O')], 2), T = 23 ;\nFluentAgent = monSys, Fluent = waiting(103, b'Wellington', [b'heart', b'pancreas'], [Functor(188685,2,bloodType,b'B')], 6), T = 23 ;\nFluentAgent = monSys, Fluent = waiting(104, b'Wellington', [b'heart', b'pancreas', b'lungs'], [Functor(188685,2,bloodType,b'AB')], 8), T = 23 ;\nFluentAgent = monSys, Fluent = waiting(102, b'Otago', [b'heart'], [Functor(188685,2,bloodType,b'A')], 4), T = 23 ;\nFluentAgent = monSys, Fluent = waiting(101, b'Otago', [b'kidney', b'liver'], [Functor(188685,2,bloodType,b'O')], 2), T = 24 ;\nFluentAgent = monSys, Fluent = waiting(103, b'Wellington', [b'heart', b'pancreas'], [Functor(188685,2,bloodType,b'B')], 6), T = 24 ;\nFluentAgent = monSys, Fluent = waiting(104, b'Wellington', [b'heart', b'pancreas', b'lungs'], [Functor(188685,2,bloodType,b'AB')], 8), T = 24 ;\nFluentAgent = monSys, Fluent = waiting(102, b'Otago', [b'heart'], [Functor(188685,2,bloodType,b'A')], 4), T = 24 ;\nFluentAgent = monSys, Fluent = waiting(101, b'Otago', [b'kidney', b'liver'], [Functor(188685,2,bloodType,b'O')], 2), T = 25 ;\nFluentAgent = monSys, Fluent = waiting(103, b'Wellington', [b'heart', b'pancreas'], [Functor(188685,2,bloodType,b'B')], 6), T = 25 ;\nFluentAgent = monSys, Fluent = waiting(104, b'Wellington', [b'heart', b'pancreas', b'lungs'], [Functor(188685,2,bloodType,b'AB')], 8), T = 25 ;\nFluentAgent = monSys, Fluent = waiting(102, b'Otago', [b'heart'], [Functor(188685,2,bloodType,b'A')], 4), T = 25 ;\nFluentAgent = monSys, Fluent = waiting(101, b'Otago', [b'kidney', b'liver'], [Functor(188685,2,bloodType,b'O')], 2), T = 26 ;\nFluentAgent = monSys, Fluent = waiting(103, b'Wellington', [b'heart', b'pancreas'], [Functor(188685,2,bloodType,b'B')], 6), T = 26 ;\nFluentAgent = monSys, Fluent = waiting(104, b'Wellington', [b'heart', b'pancreas', b'lungs'], [Functor(188685,2,bloodType,b'AB')], 8), T = 26 ;\nFluentAgent = monSys, Fluent = waiting(102, b'Otago', [b'heart'], [Functor(188685,2,bloodType,b'A')], 4), T = 26 ;\nFluentAgent = monSys, Fluent = waiting(101, b'Otago', [b'kidney', b'liver'], [Functor(188685,2,bloodType,b'O')], 2), T = 27 ;\nFluentAgent = monSys, Fluent = waiting(103, b'Wellington', [b'heart', b'pancreas'], [Functor(188685,2,bloodType,b'B')], 6), T = 27 ;\nFluentAgent = monSys, Fluent = waiting(104, b'Wellington', [b'heart', b'pancreas', b'lungs'], [Functor(188685,2,bloodType,b'AB')], 8), T = 27 ;\nFluentAgent = monSys, Fluent = waiting(102, b'Otago', [b'heart'], [Functor(188685,2,bloodType,b'A')], 4), T = 27 ;\nFluentAgent = monSys, Fluent = waiting(101, b'Otago', [b'kidney', b'liver'], [Functor(188685,2,bloodType,b'O')], 2), T = 28 ;\nFluentAgent = monSys, Fluent = waiting(103, b'Wellington', [b'heart', b'pancreas'], [Functor(188685,2,bloodType,b'B')], 6), T = 28 ;\nFluentAgent = monSys, Fluent = waiting(104, b'Wellington', [b'heart', b'pancreas', b'lungs'], [Functor(188685,2,bloodType,b'AB')], 8), T = 28 ;\nFluentAgent = monSys, Fluent = waiting(102, b'Otago', [b'heart'], [Functor(188685,2,bloodType,b'A')], 4), T = 28 ;\nFluentAgent = monSys, Fluent = waiting(101, b'Otago', [b'kidney', b'liver'], [Functor(188685,2,bloodType,b'O')], 2), T = 29 ;\nFluentAgent = monSys, Fluent = waiting(103, b'Wellington', [b'heart', b'pancreas'], [Functor(188685,2,bloodType,b'B')], 6), T = 29 ;\nFluentAgent = monSys, Fluent = waiting(104, b'Wellington', [b'heart', b'pancreas', b'lungs'], [Functor(188685,2,bloodType,b'AB')], 8), T = 29 ;\nFluentAgent = monSys, Fluent = waiting(102, b'Otago', [b'heart'], [Functor(188685,2,bloodType,b'A')], 4), T = 29 .",
     "output_type": "stream"
    }
   ],
   "execution_count": 15
  },
  {
   "cell_type": "code",
   "source": "% PYTHON\n%f = open(\"/work/output_files/VisualisationEvents.txt\", \"r\")\n%text = f.read()\n%print(text)\n%f.close()",
   "metadata": {
    "cell_id": "a9c4f167-70e2-405a-85dc-ae010e3063d1",
    "tags": [],
    "deepnote_to_be_reexecuted": false,
    "source_hash": "112b35d5",
    "execution_start": 1645568043947,
    "execution_millis": 1,
    "deepnote_cell_type": "code"
   },
   "outputs": [
    {
     "name": "stdout",
     "text": "ERROR: Script gave error invalid syntax (<string>, line 1)",
     "output_type": "stream"
    }
   ],
   "execution_count": 19
  },
  {
   "cell_type": "markdown",
   "source": "<a style='text-decoration:none;line-height:16px;display:flex;color:#5B5B62;padding:10px;justify-content:end;' href='https://deepnote.com?utm_source=created-in-deepnote-cell&projectId=32f94018-a4da-40ef-8c9f-8983d73811c8' target=\"_blank\">\n<img alt='Created in deepnote.com' style='display:inline;max-height:16px;margin:0px;margin-right:7.5px;' src='data:image/svg+xml;base64,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' > </img>\nCreated in <span style='font-weight:600;margin-left:4px;'>Deepnote</span></a>",
   "metadata": {
    "tags": [],
    "created_in_deepnote_cell": true,
    "deepnote_cell_type": "markdown"
   }
  }
 ],
 "nbformat": 4,
 "nbformat_minor": 2,
 "metadata": {
  "orig_nbformat": 2,
  "deepnote": {
   "is_reactive": false
  },
  "deepnote_notebook_id": "1750f714-7bc0-443d-8f85-581bd8a94fe3",
  "deepnote_execution_queue": [],
  "deepnote_app_layout": "article"
 }
}