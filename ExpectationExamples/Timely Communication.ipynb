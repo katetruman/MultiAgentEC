{
 "cells": [
  {
   "cell_type": "markdown",
   "source": "# Multi-hospital Organ Transplants",
   "metadata": {
    "tags": [],
    "is_collapsed": false,
    "deepnote_app_coordinates": {
     "x": 0,
     "y": null,
     "w": 12,
     "h": 5
    },
    "cell_id": "978b29ba-1728-43d0-b2e1-fa9580a38238",
    "deepnote_cell_type": "text-cell-h1"
   }
  },
  {
   "cell_type": "markdown",
   "source": "This notebook explores expectations related to our organ transplant scenario. If you have not yet done so, please refer to **AgentsAndEvents.ipynb** for important events and fluents used in this scenario, and **Expectations.ipynb** for a discussion of expectations in this context. Both of these notebooks are located in the parent directory, **MultipleAgents**.",
   "metadata": {
    "tags": [],
    "deepnote_app_coordinates": {
     "x": 0,
     "y": 174,
     "w": 12,
     "h": 5
    },
    "cell_id": "00001-9087370b-4a70-42e4-90e1-07d6b35c7e87",
    "deepnote_cell_type": "markdown"
   }
  },
  {
   "cell_type": "markdown",
   "source": "### Set up",
   "metadata": {
    "tags": [],
    "is_collapsed": false,
    "deepnote_app_coordinates": {
     "x": 0,
     "y": 0,
     "w": 12,
     "h": 5
    },
    "cell_id": "00002-a7a3dd92-7c00-487a-a885-910b96af9e60",
    "deepnote_cell_type": "text-cell-h3"
   }
  },
  {
   "cell_type": "markdown",
   "source": "We need to set up our environment by loading in our event and fluent declarations from **dec:notation.pl** and **AE.pl**. The latter contains the code from **AgentsAndEvents.ipynb** the last time that notebook was run.\n\n```diff\n- IMPORTANT NOTE: you should run AgentsAndEvents.ipynb prior to running this notebook to ensure that AE.pl contains up to date predicates! You must run the notebook, not just update and save it.\n```",
   "metadata": {
    "tags": [],
    "deepnote_app_coordinates": {
     "x": 0,
     "y": 0,
     "w": 12,
     "h": 5
    },
    "cell_id": "00003-e4cb497a-1848-40c2-b564-a20e18001e0a",
    "deepnote_cell_type": "markdown"
   }
  },
  {
   "cell_type": "code",
   "metadata": {
    "tags": [],
    "deepnote_app_coordinates": {
     "x": 0,
     "y": 0,
     "w": 12,
     "h": 5
    },
    "deepnote_to_be_reexecuted": false,
    "source_hash": "932f14c0",
    "execution_start": 1645064442715,
    "execution_millis": 477,
    "cell_id": "00004-9659419a-5378-46fe-abe9-3541187380ec",
    "deepnote_cell_type": "code"
   },
   "source": "?- cd('~/work'), ['dec:notation'].\n?- initialiseDEC.\n?- retractall(happensAtNarrative(_,_)).\n?- ['AE'].",
   "execution_count": 1,
   "outputs": [
    {
     "name": "stdout",
     "text": "true.\nfalse.\ntrue.\ntrue.",
     "output_type": "stream"
    }
   ]
  },
  {
   "cell_type": "markdown",
   "source": "# Timely communication",
   "metadata": {
    "cell_id": "8e8aada3-4dc9-4325-8f11-1a27df5963a5",
    "tags": [],
    "is_collapsed": false,
    "deepnote_cell_type": "text-cell-h1"
   }
  },
  {
   "cell_type": "markdown",
   "source": "Both our individual hospitals and **monSys** may have expectations about timely communication with other agents. \n\nWhen agent A sends a message to agent B, agent A might expect that they will receive a response back from agent B within a certain time frame, whether a simple message of acknowledgement or a message containing new information. An agent may well wish to know that their message has been received and somehow processed by the desired recipient, and may also expect that communication chains will proceed in reasonable time. For instance, if **monSys** sends a request to a hospital, asking for a patient's medical history, and **monSys** needs the medical history before it can approve a patient for an organ transplant, **monSys** may want the medical history to be shared quite quickly, so there are no unnecessary delays. Reducing delays would both reduce the amount of backlog agents have to process, and is also particularly vital in our medical setting, where there is a risk that patients may become more unwell or pass away if they are forced to wait extended periods of time for appropriate medical treatment.\n\nWhen an agent relies on information provided by other agents, it might expect regular updates in order to be more confident that information used to make important decisions is not out of date.\n\nIf an agent's expectation about timely communication is violated, this could prompt the agent to send a follow up message to the agent that it is waiting on, asking for their earlier message to be addressed as soon as possible.\n\nExample expectation rules are created for different subcategories of \"Timely communicaton\" below. Narrative events are created at the end of the notebook to exhibit testing of these rules.",
   "metadata": {
    "cell_id": "542f2b3e-279e-41df-8dcd-c52f78393c3d",
    "tags": [],
    "deepnote_cell_type": "markdown"
   }
  },
  {
   "cell_type": "markdown",
   "source": "## Regular updates",
   "metadata": {
    "cell_id": "c7df93ff-0744-4a46-9182-fd018e212f44",
    "tags": [],
    "is_collapsed": false,
    "deepnote_cell_type": "text-cell-h2"
   }
  },
  {
   "cell_type": "markdown",
   "source": "An agent might expect that they are kept up to date on important information which is provided by other agents. In this case, **monSys** expects that the hospital which has added a patient to the organ waiting list will provide updates about the patient's information at least every 5 time periods, starting when the patient is accepted, up until the patient is removed from the waiting list. Note that while this is not currently encoded, we would also want to include a succesful transplant notification as a suitable event to fulfil our expectation. \n\nIn reality, the maximum time allowed between patient updates might be 6 months, but for testing purposes, the time period is kept low here.",
   "metadata": {
    "tags": [],
    "deepnote_app_coordinates": {
     "x": 0,
     "y": 0,
     "w": 12,
     "h": 5
    },
    "cell_id": "00012-f8961da5-950c-4a7d-b96a-58514cfd5207",
    "deepnote_cell_type": "markdown"
   }
  },
  {
   "cell_type": "code",
   "metadata": {
    "tags": [],
    "deepnote_app_coordinates": {
     "x": 0,
     "y": 0,
     "w": 12,
     "h": 5
    },
    "deepnote_to_be_reexecuted": false,
    "source_hash": "62976970",
    "execution_start": 1645064442766,
    "execution_millis": 435,
    "cell_id": "00013-0db91d05-2421-4eb9-bb4f-dd7587071637",
    "deepnote_cell_type": "code"
   },
   "source": "% File: expWaitListUpdates.pl\n\n% MonSys expect that the relevant hospital will update a patient's information or the patient will \n% be removed from the waiting list within 5 time periods of them being added or an update provided.\ninitially(monSys:exp_rule(or([happ(send(Hospital, waitAccept(ID))), happ(receive(Hospital, \nwaitUpdate(ID,_,_)))]), withinStartNext(or([happ(receive(Hospital, waitUpdate(ID,_,_))), \nhapp(receive(Hospital, waitDelReq(ID, _)))]), 5), dependent, \n\"Regular updates\":\"A hospital (not Otago) will update a waiting recipient's information at least every 5 time periods\")).\n",
   "execution_count": 2,
   "outputs": [
    {
     "name": "stdout",
     "text": "",
     "output_type": "stream"
    }
   ]
  },
  {
   "cell_type": "markdown",
   "source": "We can also apply further conditions to our expectation rule. We could tweak it to say that **monSys** expects updates from Otago Hospital every 3 time periods, and updates from other hospitals every time periods, as shown below. (Note that as the cell above and the cell below are assigned the same file name, the first cell is overwritten.) Perhaps **monSys** wants to keep a closer eye on patients from a newly established hospital, or one that has had past issues with record keeping. It would also be possible to encode different update timings for different organs, although this would begin to get more complicated if one waiting record is still used for a patient waiting for multiple organs.",
   "metadata": {
    "cell_id": "03c9b22d-c590-422c-9118-c34bc83ad7e0",
    "tags": [],
    "deepnote_cell_type": "markdown"
   }
  },
  {
   "cell_type": "code",
   "metadata": {
    "cell_id": "fe032739-39b3-46fb-86b5-04be1828db57",
    "tags": [],
    "deepnote_to_be_reexecuted": false,
    "source_hash": "301e5dac",
    "execution_start": 1645064442803,
    "execution_millis": 401,
    "deepnote_cell_type": "code"
   },
   "source": "% File: expWaitListUpdates.pl\n\n% MonSys expect that the Otago hospital will update a patient's information or the patient will \n% be removed from the waiting list within 3 time periods of them being added or an update provided.\ninitially(monSys:exp_rule(and([or([happ(send(Hospital, waitAccept(ID))), happ(receive(Hospital, \nwaitUpdate(ID,_,_)))]), (condition(Hospital == \"Otago\"))]), withinStartNext(or([happ(receive(Hospital, waitUpdate(ID,_,_))), \nhapp(receive(Hospital, waitDelReq(ID, _)))]), 3), dependent, \n\"Regular updates\":\"Otago will update a waiting recipient's information at least every 3 time periods\")).\n\n% MonSys expect that the relevant hospital will update a patient's information or the patient will \n% be removed from the waiting list within 5 time periods of them being added or an update provided.\ninitially(monSys:exp_rule(and([or([happ(send(Hospital, waitAccept(ID))), happ(receive(Hospital, \nwaitUpdate(ID,_,_)))]), (condition(Hospital \\= \"Otago\"))]), withinStartNext(or([happ(receive(Hospital, waitUpdate(ID,_,_))), \nhapp(receive(Hospital, waitDelReq(ID, _)))]), 5), dependent, \n\"Regular updates\":\"A hospital (not Otago) will update a waiting recipient's information at least every 5 time periods\")).\n",
   "execution_count": 3,
   "outputs": [
    {
     "name": "stdout",
     "text": "",
     "output_type": "stream"
    }
   ]
  },
  {
   "cell_type": "markdown",
   "source": "While updates could be used to add details of new medical tests performed on a patient, or correct past information entered in error, for simplicity, we declare the behaviour of wait list updates to simply overwrite the previous organ and detail information in a patient's waiting list record.",
   "metadata": {
    "cell_id": "e3681f41-fef6-4c16-abb2-180ac074a83e",
    "tags": [],
    "deepnote_cell_type": "markdown"
   }
  },
  {
   "cell_type": "code",
   "metadata": {
    "cell_id": "ed6e8c5f-1a16-446d-abc8-3170c4dba1ce",
    "tags": [],
    "deepnote_to_be_reexecuted": false,
    "source_hash": "3db6c67a",
    "execution_start": 1645064442804,
    "execution_millis": 402,
    "deepnote_cell_type": "code"
   },
   "source": "% File waitUpdate.pl\nterminates(monSys:receive(Hospital, waitUpdate(ID, _, _)), waiting(ID, Hospital, _, _, T1), T):- T1 < T.\ninitiates(monSys:receive(Hospital, waitUpdate(ID, Organs, Details)), waiting(ID, Hospital, Organs, Details, T1), T):- holdsAt(monSys, waiting(ID, Hospital, _, _, T1),T).",
   "execution_count": 4,
   "outputs": [
    {
     "name": "stdout",
     "text": "",
     "output_type": "stream"
    }
   ]
  },
  {
   "cell_type": "markdown",
   "source": "## Timely response / action",
   "metadata": {
    "cell_id": "55f9bc81-0522-4085-8501-e626bc21a437",
    "tags": [],
    "is_collapsed": false,
    "deepnote_cell_type": "text-cell-h2"
   }
  },
  {
   "cell_type": "markdown",
   "source": "Here **monSys** expects that once it receives a donation offer, the offer will be matched or a declaration that no match was found will be made at the next time period. Here, **monSys** is not expecting timely action from another hospital, but rather from whoever is in charge of making matches internally in **monSys**.",
   "metadata": {
    "cell_id": "274096f0-0259-4e8d-8d67-b1ae208327cc",
    "tags": [],
    "deepnote_cell_type": "markdown"
   }
  },
  {
   "cell_type": "code",
   "metadata": {
    "tags": [],
    "deepnote_app_coordinates": {
     "x": 0,
     "y": 126,
     "w": 12,
     "h": 5
    },
    "deepnote_to_be_reexecuted": false,
    "source_hash": "11d76169",
    "execution_start": 1645064442806,
    "execution_millis": 401,
    "cell_id": "00014-766f3309-2cfb-49bd-af33-0b492c838dd2",
    "deepnote_cell_type": "code"
   },
   "source": "% File: donationExpectations.pl\n% Donation offer to match expectation\ninitially(monSys:exp_rule(happ(receive(Hospital, donorOffer(ID, Organs, _))), \nwithin(or([happ(noMatch(Hospital, ID)), happ(match(_, Hospital, ID, _, _, _, _, _))]),1), \ndependent, \"Timely action\":\"A donation offer should be matched or a declaration of no match found will occur in the next time period\")).",
   "execution_count": 5,
   "outputs": [
    {
     "name": "stdout",
     "text": "",
     "output_type": "stream"
    }
   ]
  },
  {
   "cell_type": "markdown",
   "source": "**monSys** also expects that once it offers a match to the donor's hospital, the recipient's hospital, and the transplant location, **monSys** will receive a message within 3 time periods from each of these agents accepting the match.\n\nThis expectation could be altered to allow for match re-negotiations. For example, if the match included a suggested time for the transplant to take place, the hospitals could ask for a later time to allow for transport considerations or to reduce the load on a given hospital. The scenario could also be extended further to allow for acceptance under certain conditions. For instance, the recipient's hospital might accept the match on the condition that the donor returns a negative test for COVID 19. Fluents of this level of detail are not covered here.",
   "metadata": {
    "cell_id": "2dfb678c-6c57-4de2-817e-2c2820f7724d",
    "tags": [],
    "deepnote_cell_type": "markdown"
   }
  },
  {
   "cell_type": "code",
   "metadata": {
    "tags": [],
    "deepnote_app_coordinates": {
     "x": 0,
     "y": 150,
     "w": 12,
     "h": 5
    },
    "deepnote_to_be_reexecuted": false,
    "source_hash": "d19c9505",
    "execution_start": 1645064442845,
    "execution_millis": 363,
    "cell_id": "00015-a1d45582-e14a-479b-b89a-da8c3c9ba7e2",
    "deepnote_cell_type": "code"
   },
   "source": "% File: matchAcceptance.pl\ninitially(monSys:exp_rule(happ(send(DonorHospital, recipientFound(MatchID, _, _, _, _, _))),\nwithin(happ(receive(DonorHospital, acceptMatch(MatchID))),3), dependent, \n\"Timely response\":\"A match offer should be accepted by the donor's hospital within 3 time periods\")).\ninitially(monSys:exp_rule(happ(send(RecipientHospital, donorFound(MatchID, _, _, _, _, _))),\nwithin(happ(receive(RecipientHospital, acceptMatch(MatchID))),3), dependent, \n\"Timely response\":\"A match offer should be accepted by the recipient's hospital within 3 time periods\")).\ninitially(monSys:exp_rule(happ(send(Location, locationSelected(MatchID, _, _, _, _))),\nwithin(happ(receive(Location, acceptMatch(MatchID))),3), dependent, \n\"Timely response\":\"A match offer should be accepted by the transplant location within 3 time periods\")).",
   "execution_count": 6,
   "outputs": [
    {
     "name": "stdout",
     "text": "",
     "output_type": "stream"
    }
   ]
  },
  {
   "cell_type": "markdown",
   "source": "## Outcome notification",
   "metadata": {
    "cell_id": "c992a952-c7ee-4f4b-8d94-1bcda487e55f",
    "tags": [],
    "is_collapsed": false,
    "deepnote_cell_type": "text-cell-h2"
   }
  },
  {
   "cell_type": "markdown",
   "source": "There are many cases where an agent instructs another agent to perform a given action, and wants to be informed of the outcome. \n\nHospitals and the monitoring system both want to receive updates on whether a transplant was successful. Individual hospitals may have expectations about the percentage of organs they donate which lead to successful transplants, or about knowing whether their own patient has been successfully treated. The monitoring system may have the capability to calculate system wide statistics on successful transplants, in which case it would expect to be notified whether transplants were successful.\n\nBelow, the expectation rules declared state that **monSys** and the donor and recipient hospitals will be notified of the transplant outcome within 6 time periods of the match being confirmed (for **monSys**) or within 5 time periods of being notified of the match confirmation (for the individual hospitals). The latter expectation is declared for every hospital known to **monSys** at T = 0.",
   "metadata": {
    "tags": [],
    "deepnote_app_coordinates": {
     "x": 0,
     "y": 0,
     "w": 12,
     "h": 5
    },
    "cell_id": "00016-6785f7f8-f1bc-4347-ac4b-86c28792e494",
    "deepnote_cell_type": "markdown"
   }
  },
  {
   "cell_type": "code",
   "metadata": {
    "tags": [],
    "deepnote_app_coordinates": {
     "x": 0,
     "y": 168,
     "w": 12,
     "h": 5
    },
    "deepnote_to_be_reexecuted": false,
    "source_hash": "4a79fcf1",
    "execution_start": 1645064442846,
    "execution_millis": 362,
    "cell_id": "00017-ab23a14a-e8be-4aa1-8391-661f241afab9",
    "deepnote_cell_type": "code"
   },
   "source": "% File: followUp.pl\ninitially(monSys:exp_rule(and([happ(confirmationMatch(ID)), role(Location, ID, transplant)]),\nwithin(happ(receive(Location, transplantOutcome(ID, _))),6),\ndependent,\"Outcome notification\":\"monSys will be notified of transplant outcome within 6 time periods of confirmation of match\")).\ninitially(Agent:exp_rule(and([happ(receive(monSys, confirmedNotification(ID))), or([donorFound(ID, _, _, Location, _, _),\nrecipientFound(ID, _, _, Location, _, _)])]), within(happ(receive(Location, transplantOutcome(ID, _))),5), dependent,\n\"Outcome notification\":\"The donor and recipient hospitals should be notified of transplant outcome within 5 time periods of confirmation notification\")):- \ninitially(monSys:agent(Agent)).\n",
   "execution_count": 7,
   "outputs": [
    {
     "name": "stdout",
     "text": "",
     "output_type": "stream"
    }
   ]
  },
  {
   "cell_type": "markdown",
   "source": "## Test Narrative",
   "metadata": {
    "cell_id": "d73c83ad-f0d8-44b4-bc85-da7e3023d7f1",
    "tags": [],
    "is_collapsed": false,
    "deepnote_cell_type": "text-cell-h2"
   }
  },
  {
   "cell_type": "markdown",
   "source": "This narrative is set up to exhibit the behaviour of the expectation rules shown above.",
   "metadata": {
    "cell_id": "ef626f9f-647c-45da-8870-a1219c9965bb",
    "tags": [],
    "deepnote_cell_type": "markdown"
   }
  },
  {
   "cell_type": "markdown",
   "source": "At time period 0, Otago hospital sends a waiting list add request to **monSys** for patient 104. This patient is in need of a heart, and is blood type A.\n\nAt time period 4, Otago hospital sends a waiting list update to **monSys** for patient 104, which adds the information that the patient has asthma.\n\nAt time period 5, Christchurch hospital sends a waiting list add request for patient 105, who needs a liver and is blood type B.\n\nAt time period 7, Christchurch hospital sends a request asking that patient 105 be deleted from the waiting list, due to their death.\n\nAt time period 10, Wellington hospital sends a donation offer to **monSys** for patient 200. They have two organs suitable for donation, and are blood type A.\n\nAt time period 13, Wellington hospital sends a donation offer to **monSys** for patient 201. They have five organs suitable for donation, and are blood type A.\n\nAt time period 15, **monSys** matches the donor offer from patient 201 from Wellington to the waiting list record for patient 104 from Otago. The transplant location is Auckland and the organ being transplanted is a heart.\n\nAt time period 18, Auckland and Wellington hospital send messages to **monSys** accepting the match.\n\nAt time period 20, Otago hospital sends a message to **monSys** accepting the match.",
   "metadata": {
    "cell_id": "6626ea90-4bc8-4f64-b773-637cee416711",
    "tags": [],
    "deepnote_cell_type": "markdown"
   }
  },
  {
   "cell_type": "code",
   "metadata": {
    "tags": [],
    "deepnote_app_coordinates": {
     "x": 0,
     "y": 60,
     "w": 12,
     "h": 5
    },
    "deepnote_to_be_reexecuted": false,
    "source_hash": "a8dfcf87",
    "execution_start": 1645064442847,
    "execution_millis": 362,
    "cell_id": "00006-5e150f73-33f1-4cf6-ab8a-9b9d006a0d0d",
    "deepnote_cell_type": "code"
   },
   "source": "% File: narrative.pl\n\n\nhappensAtNarrative(\"Otago\":send(monSys, waitAddReq(104, [\"heart\"], [bloodType:\"A\"])),0).\nhappensAtNarrative(\"Otago\":send(monSys, waitUpdate(104, [\"heart\"], [bloodType:\"A\", condition:\"Asthma\"])), 4).\nhappensAtNarrative(\"Christchurch\":send(monSys, waitAddReq(105, [\"liver\"], [bloodType:\"B\"])),5).\nhappensAtNarrative(\"Christchurch\":send(monSys, waitDelReq(105, \"Patient Death\")), 7).\nhappensAtNarrative(\"Wellington\": send(monSys, donorOffer(200, [heart, kidney], [bloodType:\"A\"])),10).\nhappensAtNarrative(\"Wellington\": send(monSys, donorOffer(201, [heart, kidney, liver, lungs, pancreas], [bloodType:\"A\"])),13).\nhappensAtNarrative(monSys:match(701, \"Wellington\", 201, \"Otago\", 104, \"Auckland\", [\"heart\"], []),15).\nhappensAtNarrative(\"Wellington\":send(monSys, acceptMatch(701)), 18).\nhappensAtNarrative(\"Auckland\":send(monSys, acceptMatch(701)), 18).\nhappensAtNarrative(\"Otago\":send(monSys, acceptMatch(701)), 20).\n\nhappensAtNarrative(\"Auckland\":transplant(701, \"Success\"), 24).",
   "execution_count": 8,
   "outputs": [
    {
     "name": "stdout",
     "text": "",
     "output_type": "stream"
    }
   ]
  },
  {
   "cell_type": "markdown",
   "source": "We set up our environment for 35 time periods, so that we can query events and fluents in this time frame.",
   "metadata": {
    "cell_id": "14d5d645-c439-47ce-9caa-7f7fc9a803d4",
    "tags": [],
    "deepnote_cell_type": "markdown"
   }
  },
  {
   "cell_type": "code",
   "metadata": {
    "tags": [],
    "deepnote_app_coordinates": {
     "x": 0,
     "y": 0,
     "w": 12,
     "h": 5
    },
    "deepnote_to_be_reexecuted": false,
    "source_hash": "c8a2f7b5",
    "execution_start": 1645064442896,
    "execution_millis": 1465,
    "cell_id": "00009-6b2e8b1a-660f-48b2-b2d7-2f845a47c5dd",
    "deepnote_cell_type": "code"
   },
   "source": "?- run(35).",
   "execution_count": 9,
   "outputs": [
    {
     "name": "stdout",
     "text": "true.",
     "output_type": "stream"
    }
   ]
  },
  {
   "cell_type": "markdown",
   "source": "### Regular updates",
   "metadata": {
    "cell_id": "6c6d0659-369a-4582-a507-fdcf9522b009",
    "tags": [],
    "is_collapsed": false,
    "deepnote_cell_type": "text-cell-h3"
   }
  },
  {
   "cell_type": "markdown",
   "source": "At time period 1, **monSys** receives Otago's waiting list add request for patients 104.\nAt time period 2, **monSys** sends Otago a message notifying the hospital that patient 104 has been successfully added to the waiting list.\nAt time period 2, **monSys** expects that Otago will provide an update on patient 104 within 3 time periods.",
   "metadata": {
    "cell_id": "1ba1b3aa-d0c0-4d81-b1bc-3426bb5f168b",
    "tags": [],
    "deepnote_cell_type": "markdown"
   }
  },
  {
   "cell_type": "code",
   "metadata": {
    "cell_id": "736e0f83-a9ea-4dc7-9ab3-9a3000b62c96",
    "tags": [],
    "deepnote_to_be_reexecuted": false,
    "source_hash": "878cfc39",
    "execution_start": 1645064444363,
    "execution_millis": 18,
    "deepnote_cell_type": "code"
   },
   "source": "?- T = 1, happensAt(monSys, Event, T).\n?- T = 2, happensAt(monSys, Event, T).\n?- T= 2, holdsAt(monSys, exp(_,_,_,Condition,_,Message), T).\n",
   "execution_count": 10,
   "outputs": [
    {
     "name": "stdout",
     "text": "T = 1, Event = receive(b'Otago', waitAddReq(104, [b'heart'], [Functor(188685,2,bloodType,b'A')])) .\nT = 2, Event = send(b'Otago', waitAccept(104)) .\nT = 2, Condition = withinStartNext(or([Functor(14512269,1,receive(b'Otago', waitUpdate(104, _1850, _1852))), Functor(14512269,1,receive(b'Otago', waitDelReq(104, _1880)))]), 3), Message = :(b'Regular updates', b\"Otago will update a waiting recipient's information at least every 3 time periods\") .",
     "output_type": "stream"
    }
   ]
  },
  {
   "cell_type": "markdown",
   "source": "By time period 4, **monSys** expects that information for patient 104 will be updated before the next time period is up.",
   "metadata": {
    "cell_id": "0c7d15ae-162a-4915-85d1-07252ba95ba3",
    "tags": [],
    "deepnote_cell_type": "markdown"
   }
  },
  {
   "cell_type": "code",
   "metadata": {
    "cell_id": "772b7e72-aba8-4c62-8120-8cb55b324185",
    "tags": [],
    "deepnote_to_be_reexecuted": false,
    "source_hash": "858a24f3",
    "execution_start": 1645064444382,
    "execution_millis": 30320,
    "deepnote_cell_type": "code"
   },
   "source": "?- holdsAt(monSys, exp(_, _, _, within(_, TimeRemaining), _, Message), 4).",
   "execution_count": 11,
   "outputs": [
    {
     "name": "stdout",
     "text": "TimeRemaining = 1, Message = :(b'Regular updates', b\"Otago will update a waiting recipient's information at least every 3 time periods\") .",
     "output_type": "stream"
    }
   ]
  },
  {
   "cell_type": "markdown",
   "source": "At time period 5, **monSys** receives the waiting list update from Otago hospital for patient 104. **monSys**' expectation that an update will occur is fulfilled.",
   "metadata": {
    "cell_id": "35f36417-c1ce-48bc-b07b-c6fab8264c83",
    "tags": [],
    "deepnote_cell_type": "markdown"
   }
  },
  {
   "cell_type": "code",
   "metadata": {
    "cell_id": "e90e519d-0ce7-4332-97bc-e5e98b3e482e",
    "tags": [],
    "deepnote_to_be_reexecuted": false,
    "source_hash": "16ddd299",
    "execution_start": 1645064444398,
    "execution_millis": 30290,
    "deepnote_cell_type": "code"
   },
   "source": "?- happensAt(monSys, Event, 5), Event \\= fulf(_,_,_,_,_,_).\n?- happensAt(monSys, fulf(_, _, _, within(_, TimeRemaining), _, Message), 5).",
   "execution_count": 12,
   "outputs": [
    {
     "name": "stdout",
     "text": "Event = receive(b'Otago', waitUpdate(104, [b'heart'], [Functor(188685,2,bloodType,b'A'), Functor(188685,2,condition,b'Asthma')])) .\nTimeRemaining = 0, Message = :(b'Regular updates', b\"Otago will update a waiting recipient's information at least every 3 time periods\") .",
     "output_type": "stream"
    }
   ]
  },
  {
   "cell_type": "markdown",
   "source": "As a new update event has occurred, a new expectation is created which says that another update will occur within another 3 time periods or the patient will have been deleted from the waiting list.",
   "metadata": {
    "cell_id": "5274c833-b0f3-46d3-99b9-113f87e60b7a",
    "tags": [],
    "deepnote_cell_type": "markdown"
   }
  },
  {
   "cell_type": "code",
   "metadata": {
    "cell_id": "1dbb14e6-79e5-428a-a97c-cdbe1c90bace",
    "tags": [],
    "deepnote_to_be_reexecuted": false,
    "source_hash": "cba2fffc",
    "execution_start": 1645064444433,
    "execution_millis": 30296,
    "deepnote_cell_type": "code"
   },
   "source": "?- T= 5, holdsAt(monSys, exp(_,_,_,withinStartNext(Outcome, 3),_,Message), T).",
   "execution_count": 13,
   "outputs": [
    {
     "name": "stdout",
     "text": "T = 5, Outcome = or([Functor(14512269,1,receive(b'Otago', waitUpdate(104, _1934, _1936))), Functor(14512269,1,receive(b'Otago', waitDelReq(104, _1964)))]), Message = :(b'Regular updates', b\"Otago will update a waiting recipient's information at least every 3 time periods\") .",
     "output_type": "stream"
    }
   ]
  },
  {
   "cell_type": "markdown",
   "source": "At time period 5, the waiting list update has not yet been processed, however, by time period 6 the waiting list record has been updated:",
   "metadata": {
    "cell_id": "220014b3-9985-41f5-a474-1e2abdd26883",
    "tags": [],
    "deepnote_cell_type": "markdown"
   }
  },
  {
   "cell_type": "code",
   "metadata": {
    "cell_id": "b6da5f25-c22b-4481-90ad-478800530a76",
    "tags": [],
    "deepnote_to_be_reexecuted": false,
    "source_hash": "a37e9db5",
    "execution_start": 1645064444434,
    "execution_millis": 1,
    "deepnote_cell_type": "code"
   },
   "source": "?- T = 5, holdsAt(monSys, waiting(ID, Hospital, Organs, Details, Time), T).\n?- T = 6, holdsAt(monSys, waiting(ID, Hospital, Organs, Details, Time), T).",
   "execution_count": 14,
   "outputs": [
    {
     "name": "stdout",
     "text": "T = 5, ID = 104, Hospital = b'Otago', Organs = [ b'heart' ], Details = [ bloodType:b'A' ], Time = 1 .\nT = 6, ID = 104, Hospital = b'Otago', Organs = [ b'heart' ], Details = [ bloodType:b'A', condition:b'Asthma' ], Time = 1 .",
     "output_type": "stream"
    }
   ]
  },
  {
   "cell_type": "markdown",
   "source": "At time period 7, **monSys** accepts the waiting list add request for patient 105 from Christchurch. **monSys** expects that Christchurch hospital will provide an update on patient 105, or ask that they be removed from the list, within 5 time periods. (Recall that our expectation rules state that **monSys** expects updates within 3 time periods from Otago, and within 5 time periods from other hospitals.)",
   "metadata": {
    "cell_id": "b59d3493-0606-4863-908c-2028e074e3d0",
    "tags": [],
    "deepnote_cell_type": "markdown"
   }
  },
  {
   "cell_type": "code",
   "metadata": {
    "cell_id": "44f0bbb5-321a-462f-afad-779cea9383e5",
    "tags": [],
    "deepnote_to_be_reexecuted": false,
    "source_hash": "d3b49b2d",
    "execution_start": 1645064444435,
    "execution_millis": 1,
    "deepnote_cell_type": "code"
   },
   "source": "?- happensAt(monSys, Event, 7).\n?- holdsAt(monSys, exp(_,_,_,withinStartNext(Outcome, _),_,Message), 7).",
   "execution_count": 15,
   "outputs": [
    {
     "name": "stdout",
     "text": "Event = send(b'Christchurch', waitAccept(105)) .\nOutcome = or([Functor(14512269,1,receive(b'Christchurch', waitUpdate(105, _1868, _1870))), Functor(14512269,1,receive(b'Christchurch', waitDelReq(105, _1900)))]), Message = :(b'Regular updates', b\"A hospital (not Otago) will update a waiting recipient's information at least every 5 time periods\") .",
     "output_type": "stream"
    }
   ]
  },
  {
   "cell_type": "markdown",
   "source": "At time period 8, **monSys** receives the waiting list deletion request for patient 105, and as such, the expectation associated with patient 105's waiting fluent is fulfilled.",
   "metadata": {
    "cell_id": "f6b33c5b-94d0-4ae3-9f75-15ea5ad9bbe5",
    "tags": [],
    "deepnote_cell_type": "markdown"
   }
  },
  {
   "cell_type": "code",
   "metadata": {
    "cell_id": "be705485-08d3-4f14-ac4d-da45bda5b8f2",
    "tags": [],
    "deepnote_to_be_reexecuted": false,
    "source_hash": "fd02635f",
    "execution_start": 1645064444444,
    "execution_millis": 30297,
    "deepnote_cell_type": "code"
   },
   "source": "?- happensAt(monSys, receive(\"Christchurch\", Message), 8).\n?- happensAt(monSys, fulf(_,_,_, within(_, TimeRemaining),_, Message), 8).",
   "execution_count": 16,
   "outputs": [
    {
     "name": "stdout",
     "text": "Message = waitDelReq(105, b'Patient Death') .\nTimeRemaining = 4, Message = :(b'Regular updates', b\"A hospital (not Otago) will update a waiting recipient's information at least every 5 time periods\") .",
     "output_type": "stream"
    }
   ]
  },
  {
   "cell_type": "markdown",
   "source": "At time period 9, the waiting list record for patient 104 has not been updated in 4 time periods, so a violation occurs.",
   "metadata": {
    "cell_id": "b1297cf3-65b7-4f3c-99bb-8d9e2bbf7349",
    "tags": [],
    "deepnote_cell_type": "markdown"
   }
  },
  {
   "cell_type": "code",
   "metadata": {
    "cell_id": "92b4d073-399a-4a22-be91-361ea4032271",
    "tags": [],
    "deepnote_to_be_reexecuted": false,
    "source_hash": "8e2e4707",
    "execution_start": 1645064444483,
    "execution_millis": 30297,
    "deepnote_cell_type": "code"
   },
   "source": "?- T= 9, holdsAt(monSys, exp(_,_,_,within(_, TimeRemaining),_,Message), T).\n?- T = 9, happensAt(monSys, viol(_, _, _, _, _, Category:Message), T).",
   "execution_count": 17,
   "outputs": [
    {
     "name": "stdout",
     "text": "T = 9, TimeRemaining = -1, Message = :(b'Regular updates', b\"Otago will update a waiting recipient's information at least every 3 time periods\") .\nT = 9, Category = b'Regular updates', Message = b\"Otago will update a waiting recipient's information at least every 3 time periods\" .",
     "output_type": "stream"
    }
   ]
  },
  {
   "cell_type": "markdown",
   "source": "### Timely response / action",
   "metadata": {
    "cell_id": "1f120736-4f32-47d9-839d-870f3a0ec917",
    "tags": [],
    "is_collapsed": false,
    "deepnote_cell_type": "text-cell-h3"
   }
  },
  {
   "cell_type": "markdown",
   "source": "At time period 11, **monSys** receives the donor offer message from Wellington hospital for patient 200. This leads to the expectation that a `match` or a `noMatch` event will occur by the end of the next time period.",
   "metadata": {
    "cell_id": "b2e1d6df-8588-4b1c-8ba4-f2501d77085d",
    "tags": [],
    "deepnote_cell_type": "markdown"
   }
  },
  {
   "cell_type": "code",
   "metadata": {
    "cell_id": "1d2c4318-5aff-4641-932a-be96290a9db7",
    "tags": [],
    "deepnote_to_be_reexecuted": false,
    "source_hash": "f5b056ee",
    "execution_start": 1645064444484,
    "execution_millis": 30300,
    "deepnote_cell_type": "code"
   },
   "source": "?- happensAt(monSys, Event, 11).\n?- holdsAt(monSys, exp(_,_,_,within(_, TimeRemaining),_,Message), 11).",
   "execution_count": 18,
   "outputs": [
    {
     "name": "stdout",
     "text": "Event = receive(b'Wellington', donorOffer(200, [Atom('680197'), Atom('680325')], [Functor(188685,2,bloodType,b'A')])) .\nTimeRemaining = 1, Message = :(b'Timely action', b'A donation offer should be matched or a declaration of no match found will occur in the next time period') .",
     "output_type": "stream"
    }
   ]
  },
  {
   "cell_type": "markdown",
   "source": "There is neither a `match` or a `noMatch` event at time period 12, so at time period 13, this expectation is violated.",
   "metadata": {
    "cell_id": "af3416ec-1638-493f-9cc3-eeefa3c33608",
    "tags": [],
    "deepnote_cell_type": "markdown"
   }
  },
  {
   "cell_type": "code",
   "metadata": {
    "cell_id": "0e857c6d-2080-4e93-8365-23deb4e9fb79",
    "tags": [],
    "deepnote_to_be_reexecuted": false,
    "source_hash": "f70dbc2e",
    "execution_start": 1645064444484,
    "execution_millis": 30301,
    "deepnote_cell_type": "code"
   },
   "source": "?- T = 12, happensAt(monSys, Event, T).\n?- T = 13, happensAt(monSys, viol(_,_,_,within(_, TimeRemaining),_,ViolationMessage), T).",
   "execution_count": 19,
   "outputs": [
    {
     "name": "stdout",
     "text": "false.\nT = 13, TimeRemaining = -1, ViolationMessage = :(b'Timely action', b'A donation offer should be matched or a declaration of no match found will occur in the next time period') .",
     "output_type": "stream"
    }
   ]
  },
  {
   "cell_type": "markdown",
   "source": "At time period 14, **monSys** receives another donor offer message from Wellington hospital, this time for patient 201. At time period 15, a match event takes place with ID 701, which matches patient 201 from Wellington as a donor and patient 104 from Otago as a recipient, with the transplant location set to Auckland. The timely response expectation for our donor offer message is fulfilled.",
   "metadata": {
    "cell_id": "780fa178-9357-4f6d-aed7-7cba8404cc9c",
    "tags": [],
    "deepnote_cell_type": "markdown"
   }
  },
  {
   "cell_type": "code",
   "source": "?- T = 14, happensAt(monSys, Event, T).\n?- T = 15, happensAt(monSys, fulf(_,_,_,within(_, TimeRemaining), _, Message), T).",
   "metadata": {
    "cell_id": "de8d40b5-28e6-44ff-965b-bfe36ddeaeb5",
    "tags": [],
    "deepnote_to_be_reexecuted": false,
    "source_hash": "f1c2d2e3",
    "execution_start": 1645064444488,
    "execution_millis": 30304,
    "deepnote_cell_type": "code"
   },
   "outputs": [
    {
     "name": "stdout",
     "text": "T = 14, Event = receive(b'Wellington', donorOffer(201, [Atom('680197'), Atom('680325'), Atom('680453'), Atom('680581'), Atom('680709')], [Functor(188685,2,bloodType,b'A')])) .\nT = 15, TimeRemaining = 0, Message = :(b'Timely action', b'A donation offer should be matched or a declaration of no match found will occur in the next time period') .",
     "output_type": "stream"
    }
   ],
   "execution_count": 20
  },
  {
   "cell_type": "markdown",
   "source": "At time period 16, **monSys** automatically sends messages to the donor, recipient and transplant locations involved in match 701. This causes expectations about timely responses from each of the three hospitals to hold.",
   "metadata": {
    "cell_id": "4c905374-0f04-40a9-8d40-5db53706562d",
    "tags": [],
    "deepnote_cell_type": "markdown"
   }
  },
  {
   "cell_type": "code",
   "source": "?- happensAt(monSys, Event, 16).\n?- holdsAt(monSys, exp(_,_,_,within(_, TimeRemaining),_,Message), 16).",
   "metadata": {
    "cell_id": "4b645a56-ea1e-48c4-adab-ac8a27a4eb9a",
    "tags": [],
    "deepnote_to_be_reexecuted": false,
    "source_hash": "5e4e6624",
    "execution_start": 1645064444519,
    "execution_millis": 30306,
    "deepnote_cell_type": "code"
   },
   "outputs": [
    {
     "name": "stdout",
     "text": "Event = send(b'Wellington', recipientFound(701, 201, b'Otago', b'Auckland', [b'heart'], [])) ;\nEvent = send(b'Otago', donorFound(701, 104, b'Wellington', b'Auckland', [b'heart'], [])) ;\nEvent = send(b'Auckland', locationSelected(701, b'Wellington', b'Otago', [b'heart'], [])) .\nTimeRemaining = 3, Message = :(b'Timely response', b\"A match offer should be accepted by the donor's hospital within 3 time periods\") ;\nTimeRemaining = 3, Message = :(b'Timely response', b\"A match offer should be accepted by the recipient's hospital within 3 time periods\") ;\nTimeRemaining = 3, Message = :(b'Timely response', b'A match offer should be accepted by the transplant location within 3 time periods') .",
     "output_type": "stream"
    }
   ],
   "execution_count": 21
  },
  {
   "cell_type": "markdown",
   "source": "At time period 17, the hospitals receive the messages notifying them about a match.",
   "metadata": {
    "cell_id": "1001b956-9533-47fe-bfd6-349e91f00546",
    "tags": [],
    "deepnote_cell_type": "markdown"
   }
  },
  {
   "cell_type": "code",
   "source": "?- happensAt(Hospital, Event, 17).",
   "metadata": {
    "cell_id": "a8569d85-54ac-4180-a71e-62869e433aed",
    "tags": [],
    "deepnote_to_be_reexecuted": false,
    "source_hash": "640f4fc8",
    "execution_start": 1645064444520,
    "execution_millis": 3,
    "deepnote_cell_type": "code"
   },
   "outputs": [
    {
     "name": "stdout",
     "text": "Hospital = b'Wellington', Event = receive(monSys, recipientFound(701, 201, b'Otago', b'Auckland', [b'heart'], [])) ;\nHospital = b'Otago', Event = receive(monSys, donorFound(701, 104, b'Wellington', b'Auckland', [b'heart'], [])) ;\nHospital = b'Auckland', Event = receive(monSys, locationSelected(701, b'Wellington', b'Otago', [b'heart'], [])) .",
     "output_type": "stream"
    }
   ],
   "execution_count": 22
  },
  {
   "cell_type": "markdown",
   "source": "At time period 18, Auckland and Wellington hospital send messages to **monSys** accepting the match.",
   "metadata": {
    "cell_id": "e975396b-6985-450c-84d1-462843d8c261",
    "tags": [],
    "deepnote_cell_type": "markdown"
   }
  },
  {
   "cell_type": "code",
   "source": "?- happensAt(Hospital, Event, 18).",
   "metadata": {
    "cell_id": "462a9f85-754e-4231-bcaf-9747dcbc612f",
    "tags": [],
    "deepnote_to_be_reexecuted": false,
    "source_hash": "361d420f",
    "execution_start": 1645064444521,
    "execution_millis": 3,
    "deepnote_cell_type": "code"
   },
   "outputs": [
    {
     "name": "stdout",
     "text": "Hospital = b'Wellington', Event = send(monSys, acceptMatch(701)) ;\nHospital = b'Auckland', Event = send(monSys, acceptMatch(701)) .",
     "output_type": "stream"
    }
   ],
   "execution_count": 23
  },
  {
   "cell_type": "markdown",
   "source": "At time period 19, **monSys** receives the messages sent by Auckland and Wellington hospital, and so the match acceptance expectations relating to these two hospitals is fulfilled. ",
   "metadata": {
    "cell_id": "587aaa1a-2f4b-4440-be57-271e81ea69c8",
    "tags": [],
    "deepnote_cell_type": "markdown"
   }
  },
  {
   "cell_type": "code",
   "source": "?- happensAt(monSys, Event, 19), Event = receive(_,_).\n?- happensAt(monSys, fulf(_,_,_,within(_, TimeRemaining), _, Message), 19).",
   "metadata": {
    "cell_id": "bc428fce-58f7-4d07-bdfe-1a99ed38b4ca",
    "tags": [],
    "deepnote_to_be_reexecuted": false,
    "source_hash": "803558eb",
    "execution_start": 1645064444528,
    "execution_millis": 30285,
    "deepnote_cell_type": "code"
   },
   "outputs": [
    {
     "name": "stdout",
     "text": "Event = receive(b'Wellington', acceptMatch(701)) ;\nEvent = receive(b'Auckland', acceptMatch(701)) .\nTimeRemaining = 0, Message = :(b'Timely response', b\"A match offer should be accepted by the donor's hospital within 3 time periods\") ;\nTimeRemaining = 0, Message = :(b'Timely response', b'A match offer should be accepted by the transplant location within 3 time periods') .",
     "output_type": "stream"
    }
   ],
   "execution_count": 24
  },
  {
   "cell_type": "markdown",
   "source": "As **monSys** did not receive a match acceptance message from Otago hospital at time period 19, a violation occurs at time period 20. At time period 20, Otago sends the match acceptance message.",
   "metadata": {
    "cell_id": "a22d7a23-a54a-4674-a485-d4dfda79749b",
    "tags": [],
    "deepnote_cell_type": "markdown"
   }
  },
  {
   "cell_type": "code",
   "source": "?- happensAt(Hospital, viol(_,_,_,within(_, TimeRemaining), _, Message), 20).\n?- happensAt(Hospital, Event, 20), Event = send(_,_).",
   "metadata": {
    "cell_id": "f555ffd4-a06c-4061-860c-2947830f8d8a",
    "tags": [],
    "deepnote_to_be_reexecuted": false,
    "source_hash": "255b8189",
    "execution_start": 1645064444536,
    "execution_millis": 30292,
    "deepnote_cell_type": "code"
   },
   "outputs": [
    {
     "name": "stdout",
     "text": "Hospital = monSys, TimeRemaining = -1, Message = :(b'Timely response', b\"A match offer should be accepted by the recipient's hospital within 3 time periods\") .\nHospital = b'Otago', Event = send(monSys, acceptMatch(701)) .",
     "output_type": "stream"
    }
   ],
   "execution_count": 25
  },
  {
   "cell_type": "markdown",
   "source": "### Outcome notification",
   "metadata": {
    "cell_id": "27399b24-f33e-46f0-bd4d-3f788ecf4b0b",
    "tags": [],
    "is_collapsed": false,
    "deepnote_cell_type": "text-cell-h3"
   }
  },
  {
   "cell_type": "markdown",
   "source": "Otago's match acceptance message is received by **monSys** at time period 21. As all three hospitals involved in match 701 have now accepted it, the `confirmationMatch` event takes place. This creates the expectation for **monSys** that it will be notified of the transplant outcome within 6 time periods. At time period 22, **monSys** automatically sends confirmation notifications to the hospitals involved.",
   "metadata": {
    "cell_id": "45f72dd5-0628-4c48-bf6d-5021ca7c3f23",
    "tags": [],
    "deepnote_cell_type": "markdown"
   }
  },
  {
   "cell_type": "code",
   "source": "?- T = 21, happensAt(monSys, Event, T).\n?- T = 21, holdsAt(monSys, exp(_,_,_,within(_, TimeRemaining),_,Message), T).\n?- T = 22, happensAt(monSys, Event, T).\n",
   "metadata": {
    "cell_id": "60c64851-d9fa-4904-8c1a-f1d05ef038f7",
    "tags": [],
    "deepnote_to_be_reexecuted": false,
    "source_hash": "e4cf236d",
    "execution_start": 1645064444578,
    "execution_millis": 7,
    "deepnote_cell_type": "code"
   },
   "outputs": [
    {
     "name": "stdout",
     "text": "T = 21, Event = receive(b'Otago', acceptMatch(701)) ;\nT = 21, Event = confirmationMatch(701) .\nT = 21, TimeRemaining = 6, Message = :(b'Outcome notification', b'monSys will be notified of transplant outcome within 6 time periods of confirmation of match') .\nT = 22, Event = send(b'Wellington', confirmedNotification(701)) ;\nT = 22, Event = send(b'Otago', confirmedNotification(701)) ;\nT = 22, Event = send(b'Auckland', confirmedNotification(701)) .",
     "output_type": "stream"
    }
   ],
   "execution_count": 26
  },
  {
   "cell_type": "markdown",
   "source": "At time period 23, Wellington, Otago and Auckland hospitals receive `confirmedNotification` messages from **monSys**. For Wellington and Otago, this creates the expectation of an outcome notification from Auckland within 5 time periods.",
   "metadata": {
    "cell_id": "9c3e3ec9-50a5-4f49-b59a-23d82ec29d78",
    "tags": [],
    "deepnote_cell_type": "markdown"
   }
  },
  {
   "cell_type": "code",
   "source": "?- T = 23, happensAt(Hospital, Event, T).\n?- T = 23, holdsAt(Hospital, exp(_,_,_,within(_, TimeRemaining),_,Message), T), Hospital \\= monSys.\n",
   "metadata": {
    "cell_id": "46b264f2-e94a-4306-943c-ca1e2a59b491",
    "tags": [],
    "deepnote_to_be_reexecuted": false,
    "source_hash": "83746e5e",
    "execution_start": 1645064444580,
    "execution_millis": 5,
    "deepnote_cell_type": "code"
   },
   "outputs": [
    {
     "name": "stdout",
     "text": "T = 23, Hospital = b'Wellington', Event = receive(monSys, confirmedNotification(701)) ;\nT = 23, Hospital = b'Otago', Event = receive(monSys, confirmedNotification(701)) ;\nT = 23, Hospital = b'Auckland', Event = receive(monSys, confirmedNotification(701)) .\nT = 23, Hospital = b'Otago', TimeRemaining = 5, Message = :(b'Outcome notification', b'The donor and recipient hospitals should be notified of transplant outcome within 5 time periods of confirmation notification') ;\nT = 23, Hospital = b'Wellington', TimeRemaining = 5, Message = :(b'Outcome notification', b'The donor and recipient hospitals should be notified of transplant outcome within 5 time periods of confirmation notification') .",
     "output_type": "stream"
    }
   ],
   "execution_count": 27
  },
  {
   "cell_type": "markdown",
   "source": "At time period 24, the transplant successfully takes place at Auckland hospital. At time period 25, Auckland sends `transplantOutcome` messages to Otago, Wellington and **monSys**, notifying them of the transplant outcome. ",
   "metadata": {
    "cell_id": "a34869ad-1baf-46f4-8c58-0fd4303d3873",
    "tags": [],
    "deepnote_cell_type": "markdown"
   }
  },
  {
   "cell_type": "code",
   "source": "?- T = 24, happensAt(Hospital, Event, T).\n?- T = 25, happensAt(Hospital, Event, T).\n",
   "metadata": {
    "cell_id": "e088dd20-672c-4241-9a71-1eccff95e1ee",
    "tags": [],
    "deepnote_to_be_reexecuted": false,
    "source_hash": "70311dab",
    "execution_start": 1645064444581,
    "execution_millis": 5,
    "deepnote_cell_type": "code"
   },
   "outputs": [
    {
     "name": "stdout",
     "text": "T = 24, Hospital = b'Auckland', Event = transplant(701, b'Success') .\nT = 25, Hospital = b'Auckland', Event = send(b'Wellington', transplantOutcome(701, b'Success')) ;\nT = 25, Hospital = b'Auckland', Event = send(b'Otago', transplantOutcome(701, b'Success')) ;\nT = 25, Hospital = b'Auckland', Event = send(monSys, transplantOutcome(701, b'Success')) .",
     "output_type": "stream"
    }
   ],
   "execution_count": 28
  },
  {
   "cell_type": "markdown",
   "source": "At time period 26, **monSys**, Otago hospital and Wellington hospital receive the `transplantOutcome` messages, which fulfils each of their relevant expectations about an outcome notification.",
   "metadata": {
    "cell_id": "245dddc6-57e4-4a55-aba0-01fdf792daa3",
    "tags": [],
    "deepnote_cell_type": "markdown"
   }
  },
  {
   "cell_type": "code",
   "source": "?- happensAt(Hospital, Event, 26), Event = receive(_,_).\n?- happensAt(Hospital, fulf(_,_,_,within(_, TimeRemaining), _, Message), 26).",
   "metadata": {
    "cell_id": "5b592672-c184-4b5b-89fb-3bbe4fde1034",
    "tags": [],
    "deepnote_to_be_reexecuted": false,
    "source_hash": "b1eac639",
    "execution_start": 1645064444587,
    "execution_millis": 6,
    "deepnote_cell_type": "code"
   },
   "outputs": [
    {
     "name": "stdout",
     "text": "Hospital = b'Wellington', Event = receive(b'Auckland', transplantOutcome(701, b'Success')) ;\nHospital = b'Otago', Event = receive(b'Auckland', transplantOutcome(701, b'Success')) ;\nHospital = monSys, Event = receive(b'Auckland', transplantOutcome(701, b'Success')) .\nHospital = monSys, TimeRemaining = 1, Message = :(b'Outcome notification', b'monSys will be notified of transplant outcome within 6 time periods of confirmation of match') ;\nHospital = b'Otago', TimeRemaining = 2, Message = :(b'Outcome notification', b'The donor and recipient hospitals should be notified of transplant outcome within 5 time periods of confirmation notification') ;\nHospital = b'Wellington', TimeRemaining = 2, Message = :(b'Outcome notification', b'The donor and recipient hospitals should be notified of transplant outcome within 5 time periods of confirmation notification') .",
     "output_type": "stream"
    }
   ],
   "execution_count": 29
  },
  {
   "cell_type": "markdown",
   "source": "## All fulfilments and violations",
   "metadata": {
    "cell_id": "f20e2fde-a754-4503-beee-766e821be128",
    "tags": [],
    "is_collapsed": false,
    "deepnote_cell_type": "text-cell-h2"
   }
  },
  {
   "cell_type": "markdown",
   "source": "We can use queries to determine all fulfilments and violations which occured in our time period (recall that we ran the scenario for 35 time periods).",
   "metadata": {
    "cell_id": "bf3923f4-7969-4128-bed8-d49f5585d178",
    "tags": [],
    "deepnote_cell_type": "markdown"
   }
  },
  {
   "cell_type": "code",
   "source": "?- happensAt(monSys, fulf(_,_,_,_,_,FulfMessage), T).\n?- happensAt(monSys, viol(_,_,_,_,_,ViolMessage), T).",
   "metadata": {
    "cell_id": "cdfcc511-f387-4f0d-a1a5-ba81842c3a23",
    "tags": [],
    "deepnote_to_be_reexecuted": false,
    "source_hash": "42fc5477",
    "execution_start": 1645064444636,
    "execution_millis": 3,
    "deepnote_cell_type": "code"
   },
   "outputs": [
    {
     "name": "stdout",
     "text": "FulfMessage = :(b'Regular updates', b\"Otago will update a waiting recipient's information at least every 3 time periods\"), T = 5 ;\nFulfMessage = :(b'Regular updates', b\"A hospital (not Otago) will update a waiting recipient's information at least every 5 time periods\"), T = 8 ;\nFulfMessage = :(b'Timely action', b'A donation offer should be matched or a declaration of no match found will occur in the next time period'), T = 15 ;\nFulfMessage = :(b'Timely response', b\"A match offer should be accepted by the donor's hospital within 3 time periods\"), T = 19 ;\nFulfMessage = :(b'Timely response', b'A match offer should be accepted by the transplant location within 3 time periods'), T = 19 ;\nFulfMessage = :(b'Outcome notification', b'monSys will be notified of transplant outcome within 6 time periods of confirmation of match'), T = 26 .\nViolMessage = :(b'Regular updates', b\"Otago will update a waiting recipient's information at least every 3 time periods\"), T = 9 ;\nViolMessage = :(b'Timely action', b'A donation offer should be matched or a declaration of no match found will occur in the next time period'), T = 13 ;\nViolMessage = :(b'Timely response', b\"A match offer should be accepted by the recipient's hospital within 3 time periods\"), T = 20 .",
     "output_type": "stream"
    }
   ],
   "execution_count": 30
  },
  {
   "cell_type": "markdown",
   "source": "We can use the message categories to filter our fulfilments and violations. Here, we obtain fulfilments and violations which had a message category starting with the string \"Timely\":",
   "metadata": {
    "cell_id": "eb72af3c-3d2e-4566-b70c-df5176671e15",
    "tags": [],
    "deepnote_cell_type": "markdown"
   }
  },
  {
   "cell_type": "code",
   "source": "?- happensAt(monSys, fulf(_,_,_,_,_,FulfCategory:Message), T), string_concat(\"Timely\", _, FulfCategory).\n?- happensAt(monSys, viol(_,_,_,_,_,ViolCategory:Message), T), string_concat(\"Timely\", _, ViolCategory).",
   "metadata": {
    "cell_id": "9e1362ab-61f4-4aa3-9cf9-745b3481deed",
    "tags": [],
    "deepnote_to_be_reexecuted": false,
    "source_hash": "74b180d7",
    "execution_start": 1645064444638,
    "execution_millis": 1,
    "deepnote_cell_type": "code"
   },
   "outputs": [
    {
     "name": "stdout",
     "text": "FulfCategory = b'Timely action', Message = b'A donation offer should be matched or a declaration of no match found will occur in the next time period', T = 15 ;\nFulfCategory = b'Timely response', Message = b\"A match offer should be accepted by the donor's hospital within 3 time periods\", T = 19 ;\nFulfCategory = b'Timely response', Message = b'A match offer should be accepted by the transplant location within 3 time periods', T = 19 .\nViolCategory = b'Timely action', Message = b'A donation offer should be matched or a declaration of no match found will occur in the next time period', T = 13 ;\nViolCategory = b'Timely response', Message = b\"A match offer should be accepted by the recipient's hospital within 3 time periods\", T = 20 .",
     "output_type": "stream"
    }
   ],
   "execution_count": 31
  },
  {
   "cell_type": "markdown",
   "source": "<a style='text-decoration:none;line-height:16px;display:flex;color:#5B5B62;padding:10px;justify-content:end;' href='https://deepnote.com?utm_source=created-in-deepnote-cell&projectId=32f94018-a4da-40ef-8c9f-8983d73811c8' target=\"_blank\">\n<img alt='Created in deepnote.com' style='display:inline;max-height:16px;margin:0px;margin-right:7.5px;' src='data:image/svg+xml;base64,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' > </img>\nCreated in <span style='font-weight:600;margin-left:4px;'>Deepnote</span></a>",
   "metadata": {
    "tags": [],
    "created_in_deepnote_cell": true,
    "deepnote_cell_type": "markdown"
   }
  }
 ],
 "nbformat": 4,
 "nbformat_minor": 2,
 "metadata": {
  "orig_nbformat": 2,
  "deepnote": {
   "is_reactive": false
  },
  "deepnote_notebook_id": "fb656a8f-8392-46ca-b67d-5ed45293c254",
  "deepnote_execution_queue": [],
  "deepnote_app_layout": "article"
 }
}